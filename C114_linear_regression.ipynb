{
  "nbformat": 4,
  "nbformat_minor": 0,
  "metadata": {
    "colab": {
      "provenance": [],
      "include_colab_link": true
    },
    "kernelspec": {
      "name": "python3",
      "display_name": "Python 3"
    }
  },
  "cells": [
    {
      "cell_type": "markdown",
      "metadata": {
        "id": "view-in-github",
        "colab_type": "text"
      },
      "source": [
        "<a href=\"https://colab.research.google.com/github/Drashti-Naik/colab-python/blob/main/C114_linear_regression.ipynb\" target=\"_parent\"><img src=\"https://colab.research.google.com/assets/colab-badge.svg\" alt=\"Open In Colab\"/></a>"
      ]
    },
    {
      "cell_type": "markdown",
      "metadata": {
        "id": "iWwnaamS7kqB"
      },
      "source": [
        "# Linear Regression\n",
        "\n",
        "####**Class Description**\n",
        "Students learn about regression and write their own prediction\n",
        "algorithm.\n",
        "\n",
        "####**Goal**\n",
        "\n",
        "● Learn about regression\n",
        "\n",
        "● Write prediction algorithm to predict the weight of a person by\n",
        "given weight\n",
        "\n",
        "● Apply hit and trial method to find the proper values of slope\n",
        "and intercept of the line.\n",
        "\n",
        "C114: https://obj.whitehatjr.com/c7d0cc81-646a-4873-8d9a-4a59f5db89b7.pdf\n",
        "\n",
        "---\n",
        "\n",
        "\n",
        "\\\n",
        "Let's start by uploading the data first"
      ]
    },
    {
      "cell_type": "markdown",
      "metadata": {
        "id": "gf6QYKo3nntH"
      },
      "source": [
        "DATASET LINK: https://drive.google.com/file/d/1h7jvWAe6UvbShP_ovW72pXuJapzmY0mN/view?usp=sharing"
      ]
    },
    {
      "cell_type": "code",
      "metadata": {
        "id": "vzeuOk8pis-q",
        "colab": {
          "base_uri": "https://localhost:8080/",
          "height": 73
        },
        "outputId": "544adda5-a519-4b5a-bd9b-4095ffa026cc"
      },
      "source": [
        "#Uploading the csv\n",
        "from google.colab import files\n",
        "data_to_load = files.upload()"
      ],
      "execution_count": 1,
      "outputs": [
        {
          "output_type": "display_data",
          "data": {
            "text/plain": [
              "<IPython.core.display.HTML object>"
            ],
            "text/html": [
              "\n",
              "     <input type=\"file\" id=\"files-39dc90f2-38f4-4beb-86b5-c89e23e52f17\" name=\"files[]\" multiple disabled\n",
              "        style=\"border:none\" />\n",
              "     <output id=\"result-39dc90f2-38f4-4beb-86b5-c89e23e52f17\">\n",
              "      Upload widget is only available when the cell has been executed in the\n",
              "      current browser session. Please rerun this cell to enable.\n",
              "      </output>\n",
              "      <script>// Copyright 2017 Google LLC\n",
              "//\n",
              "// Licensed under the Apache License, Version 2.0 (the \"License\");\n",
              "// you may not use this file except in compliance with the License.\n",
              "// You may obtain a copy of the License at\n",
              "//\n",
              "//      http://www.apache.org/licenses/LICENSE-2.0\n",
              "//\n",
              "// Unless required by applicable law or agreed to in writing, software\n",
              "// distributed under the License is distributed on an \"AS IS\" BASIS,\n",
              "// WITHOUT WARRANTIES OR CONDITIONS OF ANY KIND, either express or implied.\n",
              "// See the License for the specific language governing permissions and\n",
              "// limitations under the License.\n",
              "\n",
              "/**\n",
              " * @fileoverview Helpers for google.colab Python module.\n",
              " */\n",
              "(function(scope) {\n",
              "function span(text, styleAttributes = {}) {\n",
              "  const element = document.createElement('span');\n",
              "  element.textContent = text;\n",
              "  for (const key of Object.keys(styleAttributes)) {\n",
              "    element.style[key] = styleAttributes[key];\n",
              "  }\n",
              "  return element;\n",
              "}\n",
              "\n",
              "// Max number of bytes which will be uploaded at a time.\n",
              "const MAX_PAYLOAD_SIZE = 100 * 1024;\n",
              "\n",
              "function _uploadFiles(inputId, outputId) {\n",
              "  const steps = uploadFilesStep(inputId, outputId);\n",
              "  const outputElement = document.getElementById(outputId);\n",
              "  // Cache steps on the outputElement to make it available for the next call\n",
              "  // to uploadFilesContinue from Python.\n",
              "  outputElement.steps = steps;\n",
              "\n",
              "  return _uploadFilesContinue(outputId);\n",
              "}\n",
              "\n",
              "// This is roughly an async generator (not supported in the browser yet),\n",
              "// where there are multiple asynchronous steps and the Python side is going\n",
              "// to poll for completion of each step.\n",
              "// This uses a Promise to block the python side on completion of each step,\n",
              "// then passes the result of the previous step as the input to the next step.\n",
              "function _uploadFilesContinue(outputId) {\n",
              "  const outputElement = document.getElementById(outputId);\n",
              "  const steps = outputElement.steps;\n",
              "\n",
              "  const next = steps.next(outputElement.lastPromiseValue);\n",
              "  return Promise.resolve(next.value.promise).then((value) => {\n",
              "    // Cache the last promise value to make it available to the next\n",
              "    // step of the generator.\n",
              "    outputElement.lastPromiseValue = value;\n",
              "    return next.value.response;\n",
              "  });\n",
              "}\n",
              "\n",
              "/**\n",
              " * Generator function which is called between each async step of the upload\n",
              " * process.\n",
              " * @param {string} inputId Element ID of the input file picker element.\n",
              " * @param {string} outputId Element ID of the output display.\n",
              " * @return {!Iterable<!Object>} Iterable of next steps.\n",
              " */\n",
              "function* uploadFilesStep(inputId, outputId) {\n",
              "  const inputElement = document.getElementById(inputId);\n",
              "  inputElement.disabled = false;\n",
              "\n",
              "  const outputElement = document.getElementById(outputId);\n",
              "  outputElement.innerHTML = '';\n",
              "\n",
              "  const pickedPromise = new Promise((resolve) => {\n",
              "    inputElement.addEventListener('change', (e) => {\n",
              "      resolve(e.target.files);\n",
              "    });\n",
              "  });\n",
              "\n",
              "  const cancel = document.createElement('button');\n",
              "  inputElement.parentElement.appendChild(cancel);\n",
              "  cancel.textContent = 'Cancel upload';\n",
              "  const cancelPromise = new Promise((resolve) => {\n",
              "    cancel.onclick = () => {\n",
              "      resolve(null);\n",
              "    };\n",
              "  });\n",
              "\n",
              "  // Wait for the user to pick the files.\n",
              "  const files = yield {\n",
              "    promise: Promise.race([pickedPromise, cancelPromise]),\n",
              "    response: {\n",
              "      action: 'starting',\n",
              "    }\n",
              "  };\n",
              "\n",
              "  cancel.remove();\n",
              "\n",
              "  // Disable the input element since further picks are not allowed.\n",
              "  inputElement.disabled = true;\n",
              "\n",
              "  if (!files) {\n",
              "    return {\n",
              "      response: {\n",
              "        action: 'complete',\n",
              "      }\n",
              "    };\n",
              "  }\n",
              "\n",
              "  for (const file of files) {\n",
              "    const li = document.createElement('li');\n",
              "    li.append(span(file.name, {fontWeight: 'bold'}));\n",
              "    li.append(span(\n",
              "        `(${file.type || 'n/a'}) - ${file.size} bytes, ` +\n",
              "        `last modified: ${\n",
              "            file.lastModifiedDate ? file.lastModifiedDate.toLocaleDateString() :\n",
              "                                    'n/a'} - `));\n",
              "    const percent = span('0% done');\n",
              "    li.appendChild(percent);\n",
              "\n",
              "    outputElement.appendChild(li);\n",
              "\n",
              "    const fileDataPromise = new Promise((resolve) => {\n",
              "      const reader = new FileReader();\n",
              "      reader.onload = (e) => {\n",
              "        resolve(e.target.result);\n",
              "      };\n",
              "      reader.readAsArrayBuffer(file);\n",
              "    });\n",
              "    // Wait for the data to be ready.\n",
              "    let fileData = yield {\n",
              "      promise: fileDataPromise,\n",
              "      response: {\n",
              "        action: 'continue',\n",
              "      }\n",
              "    };\n",
              "\n",
              "    // Use a chunked sending to avoid message size limits. See b/62115660.\n",
              "    let position = 0;\n",
              "    do {\n",
              "      const length = Math.min(fileData.byteLength - position, MAX_PAYLOAD_SIZE);\n",
              "      const chunk = new Uint8Array(fileData, position, length);\n",
              "      position += length;\n",
              "\n",
              "      const base64 = btoa(String.fromCharCode.apply(null, chunk));\n",
              "      yield {\n",
              "        response: {\n",
              "          action: 'append',\n",
              "          file: file.name,\n",
              "          data: base64,\n",
              "        },\n",
              "      };\n",
              "\n",
              "      let percentDone = fileData.byteLength === 0 ?\n",
              "          100 :\n",
              "          Math.round((position / fileData.byteLength) * 100);\n",
              "      percent.textContent = `${percentDone}% done`;\n",
              "\n",
              "    } while (position < fileData.byteLength);\n",
              "  }\n",
              "\n",
              "  // All done.\n",
              "  yield {\n",
              "    response: {\n",
              "      action: 'complete',\n",
              "    }\n",
              "  };\n",
              "}\n",
              "\n",
              "scope.google = scope.google || {};\n",
              "scope.google.colab = scope.google.colab || {};\n",
              "scope.google.colab._files = {\n",
              "  _uploadFiles,\n",
              "  _uploadFilesContinue,\n",
              "};\n",
              "})(self);\n",
              "</script> "
            ]
          },
          "metadata": {}
        },
        {
          "output_type": "stream",
          "name": "stdout",
          "text": [
            "Saving data.csv to data.csv\n"
          ]
        }
      ]
    },
    {
      "cell_type": "markdown",
      "metadata": {
        "id": "6XS1Lkf30t92"
      },
      "source": [
        "**Linear regression** **is a linear model, e.g. a model that assumes a linear relationship between the input variables (x) and the single output variable (y). More specifically, that y can be calculated from a linear combination of the input variables (x).**\n",
        "\n",
        "When there is a `single input variable (x)`, the method is referred to as `simple linear regression`. When there are `multiple input variables`, literature from statistics often refers to the method as `multiple linear regression`.\n",
        "\n",
        "Different techniques can be used to prepare or `train` the linear regression equation from data, the most common of which is called `Ordinary Least Squares`."
      ]
    },
    {
      "cell_type": "markdown",
      "metadata": {
        "id": "-SYRnYPu1Z5q"
      },
      "source": [
        "![image.png](data:image/png;base64,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)"
      ]
    },
    {
      "cell_type": "markdown",
      "metadata": {
        "id": "EXUQQvMc7wx_"
      },
      "source": [
        "Here, we have a data for the height and weight of some people. Let's plot this, with x-coordinate as the height and y-coordinate as the weight."
      ]
    },
    {
      "cell_type": "code",
      "metadata": {
        "id": "i5sSAJmXi3zR",
        "colab": {
          "base_uri": "https://localhost:8080/",
          "height": 206
        },
        "outputId": "7af0bc91-606b-4e6e-fcbc-5e32080130c9"
      },
      "source": [
        "import pandas as pd\n",
        "import plotly.express as px\n",
        "\n",
        "df = pd.read_csv(\"https://raw.githubusercontent.com/whitehatjr/datasets/master/data.csv\")\n",
        "\n",
        "df.head()"
      ],
      "execution_count": 2,
      "outputs": [
        {
          "output_type": "execute_result",
          "data": {
            "text/plain": [
              "   Weight  Height\n",
              "0    28.0  121.92\n",
              "1    28.1  124.46\n",
              "2    28.2  127.00\n",
              "3    28.3  129.54\n",
              "4    28.4  132.08"
            ],
            "text/html": [
              "\n",
              "  <div id=\"df-2ac94546-f89a-413d-afc5-779f65c50a0a\">\n",
              "    <div class=\"colab-df-container\">\n",
              "      <div>\n",
              "<style scoped>\n",
              "    .dataframe tbody tr th:only-of-type {\n",
              "        vertical-align: middle;\n",
              "    }\n",
              "\n",
              "    .dataframe tbody tr th {\n",
              "        vertical-align: top;\n",
              "    }\n",
              "\n",
              "    .dataframe thead th {\n",
              "        text-align: right;\n",
              "    }\n",
              "</style>\n",
              "<table border=\"1\" class=\"dataframe\">\n",
              "  <thead>\n",
              "    <tr style=\"text-align: right;\">\n",
              "      <th></th>\n",
              "      <th>Weight</th>\n",
              "      <th>Height</th>\n",
              "    </tr>\n",
              "  </thead>\n",
              "  <tbody>\n",
              "    <tr>\n",
              "      <th>0</th>\n",
              "      <td>28.0</td>\n",
              "      <td>121.92</td>\n",
              "    </tr>\n",
              "    <tr>\n",
              "      <th>1</th>\n",
              "      <td>28.1</td>\n",
              "      <td>124.46</td>\n",
              "    </tr>\n",
              "    <tr>\n",
              "      <th>2</th>\n",
              "      <td>28.2</td>\n",
              "      <td>127.00</td>\n",
              "    </tr>\n",
              "    <tr>\n",
              "      <th>3</th>\n",
              "      <td>28.3</td>\n",
              "      <td>129.54</td>\n",
              "    </tr>\n",
              "    <tr>\n",
              "      <th>4</th>\n",
              "      <td>28.4</td>\n",
              "      <td>132.08</td>\n",
              "    </tr>\n",
              "  </tbody>\n",
              "</table>\n",
              "</div>\n",
              "      <button class=\"colab-df-convert\" onclick=\"convertToInteractive('df-2ac94546-f89a-413d-afc5-779f65c50a0a')\"\n",
              "              title=\"Convert this dataframe to an interactive table.\"\n",
              "              style=\"display:none;\">\n",
              "        \n",
              "  <svg xmlns=\"http://www.w3.org/2000/svg\" height=\"24px\"viewBox=\"0 0 24 24\"\n",
              "       width=\"24px\">\n",
              "    <path d=\"M0 0h24v24H0V0z\" fill=\"none\"/>\n",
              "    <path d=\"M18.56 5.44l.94 2.06.94-2.06 2.06-.94-2.06-.94-.94-2.06-.94 2.06-2.06.94zm-11 1L8.5 8.5l.94-2.06 2.06-.94-2.06-.94L8.5 2.5l-.94 2.06-2.06.94zm10 10l.94 2.06.94-2.06 2.06-.94-2.06-.94-.94-2.06-.94 2.06-2.06.94z\"/><path d=\"M17.41 7.96l-1.37-1.37c-.4-.4-.92-.59-1.43-.59-.52 0-1.04.2-1.43.59L10.3 9.45l-7.72 7.72c-.78.78-.78 2.05 0 2.83L4 21.41c.39.39.9.59 1.41.59.51 0 1.02-.2 1.41-.59l7.78-7.78 2.81-2.81c.8-.78.8-2.07 0-2.86zM5.41 20L4 18.59l7.72-7.72 1.47 1.35L5.41 20z\"/>\n",
              "  </svg>\n",
              "      </button>\n",
              "      \n",
              "  <style>\n",
              "    .colab-df-container {\n",
              "      display:flex;\n",
              "      flex-wrap:wrap;\n",
              "      gap: 12px;\n",
              "    }\n",
              "\n",
              "    .colab-df-convert {\n",
              "      background-color: #E8F0FE;\n",
              "      border: none;\n",
              "      border-radius: 50%;\n",
              "      cursor: pointer;\n",
              "      display: none;\n",
              "      fill: #1967D2;\n",
              "      height: 32px;\n",
              "      padding: 0 0 0 0;\n",
              "      width: 32px;\n",
              "    }\n",
              "\n",
              "    .colab-df-convert:hover {\n",
              "      background-color: #E2EBFA;\n",
              "      box-shadow: 0px 1px 2px rgba(60, 64, 67, 0.3), 0px 1px 3px 1px rgba(60, 64, 67, 0.15);\n",
              "      fill: #174EA6;\n",
              "    }\n",
              "\n",
              "    [theme=dark] .colab-df-convert {\n",
              "      background-color: #3B4455;\n",
              "      fill: #D2E3FC;\n",
              "    }\n",
              "\n",
              "    [theme=dark] .colab-df-convert:hover {\n",
              "      background-color: #434B5C;\n",
              "      box-shadow: 0px 1px 3px 1px rgba(0, 0, 0, 0.15);\n",
              "      filter: drop-shadow(0px 1px 2px rgba(0, 0, 0, 0.3));\n",
              "      fill: #FFFFFF;\n",
              "    }\n",
              "  </style>\n",
              "\n",
              "      <script>\n",
              "        const buttonEl =\n",
              "          document.querySelector('#df-2ac94546-f89a-413d-afc5-779f65c50a0a button.colab-df-convert');\n",
              "        buttonEl.style.display =\n",
              "          google.colab.kernel.accessAllowed ? 'block' : 'none';\n",
              "\n",
              "        async function convertToInteractive(key) {\n",
              "          const element = document.querySelector('#df-2ac94546-f89a-413d-afc5-779f65c50a0a');\n",
              "          const dataTable =\n",
              "            await google.colab.kernel.invokeFunction('convertToInteractive',\n",
              "                                                     [key], {});\n",
              "          if (!dataTable) return;\n",
              "\n",
              "          const docLinkHtml = 'Like what you see? Visit the ' +\n",
              "            '<a target=\"_blank\" href=https://colab.research.google.com/notebooks/data_table.ipynb>data table notebook</a>'\n",
              "            + ' to learn more about interactive tables.';\n",
              "          element.innerHTML = '';\n",
              "          dataTable['output_type'] = 'display_data';\n",
              "          await google.colab.output.renderOutput(dataTable, element);\n",
              "          const docLink = document.createElement('div');\n",
              "          docLink.innerHTML = docLinkHtml;\n",
              "          element.appendChild(docLink);\n",
              "        }\n",
              "      </script>\n",
              "    </div>\n",
              "  </div>\n",
              "  "
            ]
          },
          "metadata": {},
          "execution_count": 2
        }
      ]
    },
    {
      "cell_type": "code",
      "metadata": {
        "id": "ZrP09Uxe9Z4h",
        "colab": {
          "base_uri": "https://localhost:8080/"
        },
        "outputId": "b9b47e3f-f703-4594-9df6-bc7a7ddbc99f"
      },
      "source": [
        "height=df[\"Height\"].to_list()\n",
        "weight=df[\"Weight\"].to_list()\n",
        "print(height)\n",
        "print(weight)"
      ],
      "execution_count": 3,
      "outputs": [
        {
          "output_type": "stream",
          "name": "stdout",
          "text": [
            "[121.92, 124.46, 127.0, 129.54, 132.08, 134.62, 137.16, 139.7, 142.24, 144.78, 147.32, 149.86, 152.4, 154.94, 157.48, 160.02, 162.56, 165.1, 167.64, 170.18, 172.72, 175.26, 177.8, 180.34, 182.88, 185.42, 187.96, 190.5, 193.04, 195.58, 198.12, 200.66, 203.2, 205.0, 208.0]\n",
            "[28.0, 28.1, 28.2, 28.3, 28.4, 28.5, 35.2, 37.6, 40.0, 42.6, 44.9, 47.6, 49.9, 52.6, 54.9, 57.6, 59.9, 62.6, 64.8, 67.6, 69.8, 72.6, 74.8, 77.5, 79.8, 82.5, 84.8, 87.5, 89.8, 92.5, 94.8, 97.5, 99.8, 102.5, 104.8]\n"
          ]
        }
      ]
    },
    {
      "cell_type": "code",
      "metadata": {
        "colab": {
          "base_uri": "https://localhost:8080/",
          "height": 542
        },
        "id": "vUV97LROzwRf",
        "outputId": "8ec23589-636e-47a6-ddac-86b4eda8bfad"
      },
      "source": [
        "#plot scatterplot betn two vaiables\n",
        "px.scatter(df,x=\"Height\",y=\"Weight\")"
      ],
      "execution_count": 4,
      "outputs": [
        {
          "output_type": "display_data",
          "data": {
            "text/html": [
              "<html>\n",
              "<head><meta charset=\"utf-8\" /></head>\n",
              "<body>\n",
              "    <div>            <script src=\"https://cdnjs.cloudflare.com/ajax/libs/mathjax/2.7.5/MathJax.js?config=TeX-AMS-MML_SVG\"></script><script type=\"text/javascript\">if (window.MathJax && window.MathJax.Hub && window.MathJax.Hub.Config) {window.MathJax.Hub.Config({SVG: {font: \"STIX-Web\"}});}</script>                <script type=\"text/javascript\">window.PlotlyConfig = {MathJaxConfig: 'local'};</script>\n",
              "        <script src=\"https://cdn.plot.ly/plotly-2.18.2.min.js\"></script>                <div id=\"b463ff3d-ac43-4e8b-8062-97301beb81ca\" class=\"plotly-graph-div\" style=\"height:525px; width:100%;\"></div>            <script type=\"text/javascript\">                                    window.PLOTLYENV=window.PLOTLYENV || {};                                    if (document.getElementById(\"b463ff3d-ac43-4e8b-8062-97301beb81ca\")) {                    Plotly.newPlot(                        \"b463ff3d-ac43-4e8b-8062-97301beb81ca\",                        [{\"hovertemplate\":\"Height=%{x}<br>Weight=%{y}<extra></extra>\",\"legendgroup\":\"\",\"marker\":{\"color\":\"#636efa\",\"symbol\":\"circle\"},\"mode\":\"markers\",\"name\":\"\",\"orientation\":\"v\",\"showlegend\":false,\"x\":[121.92,124.46,127.0,129.54,132.08,134.62,137.16,139.7,142.24,144.78,147.32,149.86,152.4,154.94,157.48,160.02,162.56,165.1,167.64,170.18,172.72,175.26,177.8,180.34,182.88,185.42,187.96,190.5,193.04,195.58,198.12,200.66,203.2,205.0,208.0],\"xaxis\":\"x\",\"y\":[28.0,28.1,28.2,28.3,28.4,28.5,35.2,37.6,40.0,42.6,44.9,47.6,49.9,52.6,54.9,57.6,59.9,62.6,64.8,67.6,69.8,72.6,74.8,77.5,79.8,82.5,84.8,87.5,89.8,92.5,94.8,97.5,99.8,102.5,104.8],\"yaxis\":\"y\",\"type\":\"scatter\"}],                        {\"template\":{\"data\":{\"histogram2dcontour\":[{\"type\":\"histogram2dcontour\",\"colorbar\":{\"outlinewidth\":0,\"ticks\":\"\"},\"colorscale\":[[0.0,\"#0d0887\"],[0.1111111111111111,\"#46039f\"],[0.2222222222222222,\"#7201a8\"],[0.3333333333333333,\"#9c179e\"],[0.4444444444444444,\"#bd3786\"],[0.5555555555555556,\"#d8576b\"],[0.6666666666666666,\"#ed7953\"],[0.7777777777777778,\"#fb9f3a\"],[0.8888888888888888,\"#fdca26\"],[1.0,\"#f0f921\"]]}],\"choropleth\":[{\"type\":\"choropleth\",\"colorbar\":{\"outlinewidth\":0,\"ticks\":\"\"}}],\"histogram2d\":[{\"type\":\"histogram2d\",\"colorbar\":{\"outlinewidth\":0,\"ticks\":\"\"},\"colorscale\":[[0.0,\"#0d0887\"],[0.1111111111111111,\"#46039f\"],[0.2222222222222222,\"#7201a8\"],[0.3333333333333333,\"#9c179e\"],[0.4444444444444444,\"#bd3786\"],[0.5555555555555556,\"#d8576b\"],[0.6666666666666666,\"#ed7953\"],[0.7777777777777778,\"#fb9f3a\"],[0.8888888888888888,\"#fdca26\"],[1.0,\"#f0f921\"]]}],\"heatmap\":[{\"type\":\"heatmap\",\"colorbar\":{\"outlinewidth\":0,\"ticks\":\"\"},\"colorscale\":[[0.0,\"#0d0887\"],[0.1111111111111111,\"#46039f\"],[0.2222222222222222,\"#7201a8\"],[0.3333333333333333,\"#9c179e\"],[0.4444444444444444,\"#bd3786\"],[0.5555555555555556,\"#d8576b\"],[0.6666666666666666,\"#ed7953\"],[0.7777777777777778,\"#fb9f3a\"],[0.8888888888888888,\"#fdca26\"],[1.0,\"#f0f921\"]]}],\"heatmapgl\":[{\"type\":\"heatmapgl\",\"colorbar\":{\"outlinewidth\":0,\"ticks\":\"\"},\"colorscale\":[[0.0,\"#0d0887\"],[0.1111111111111111,\"#46039f\"],[0.2222222222222222,\"#7201a8\"],[0.3333333333333333,\"#9c179e\"],[0.4444444444444444,\"#bd3786\"],[0.5555555555555556,\"#d8576b\"],[0.6666666666666666,\"#ed7953\"],[0.7777777777777778,\"#fb9f3a\"],[0.8888888888888888,\"#fdca26\"],[1.0,\"#f0f921\"]]}],\"contourcarpet\":[{\"type\":\"contourcarpet\",\"colorbar\":{\"outlinewidth\":0,\"ticks\":\"\"}}],\"contour\":[{\"type\":\"contour\",\"colorbar\":{\"outlinewidth\":0,\"ticks\":\"\"},\"colorscale\":[[0.0,\"#0d0887\"],[0.1111111111111111,\"#46039f\"],[0.2222222222222222,\"#7201a8\"],[0.3333333333333333,\"#9c179e\"],[0.4444444444444444,\"#bd3786\"],[0.5555555555555556,\"#d8576b\"],[0.6666666666666666,\"#ed7953\"],[0.7777777777777778,\"#fb9f3a\"],[0.8888888888888888,\"#fdca26\"],[1.0,\"#f0f921\"]]}],\"surface\":[{\"type\":\"surface\",\"colorbar\":{\"outlinewidth\":0,\"ticks\":\"\"},\"colorscale\":[[0.0,\"#0d0887\"],[0.1111111111111111,\"#46039f\"],[0.2222222222222222,\"#7201a8\"],[0.3333333333333333,\"#9c179e\"],[0.4444444444444444,\"#bd3786\"],[0.5555555555555556,\"#d8576b\"],[0.6666666666666666,\"#ed7953\"],[0.7777777777777778,\"#fb9f3a\"],[0.8888888888888888,\"#fdca26\"],[1.0,\"#f0f921\"]]}],\"mesh3d\":[{\"type\":\"mesh3d\",\"colorbar\":{\"outlinewidth\":0,\"ticks\":\"\"}}],\"scatter\":[{\"fillpattern\":{\"fillmode\":\"overlay\",\"size\":10,\"solidity\":0.2},\"type\":\"scatter\"}],\"parcoords\":[{\"type\":\"parcoords\",\"line\":{\"colorbar\":{\"outlinewidth\":0,\"ticks\":\"\"}}}],\"scatterpolargl\":[{\"type\":\"scatterpolargl\",\"marker\":{\"colorbar\":{\"outlinewidth\":0,\"ticks\":\"\"}}}],\"bar\":[{\"error_x\":{\"color\":\"#2a3f5f\"},\"error_y\":{\"color\":\"#2a3f5f\"},\"marker\":{\"line\":{\"color\":\"#E5ECF6\",\"width\":0.5},\"pattern\":{\"fillmode\":\"overlay\",\"size\":10,\"solidity\":0.2}},\"type\":\"bar\"}],\"scattergeo\":[{\"type\":\"scattergeo\",\"marker\":{\"colorbar\":{\"outlinewidth\":0,\"ticks\":\"\"}}}],\"scatterpolar\":[{\"type\":\"scatterpolar\",\"marker\":{\"colorbar\":{\"outlinewidth\":0,\"ticks\":\"\"}}}],\"histogram\":[{\"marker\":{\"pattern\":{\"fillmode\":\"overlay\",\"size\":10,\"solidity\":0.2}},\"type\":\"histogram\"}],\"scattergl\":[{\"type\":\"scattergl\",\"marker\":{\"colorbar\":{\"outlinewidth\":0,\"ticks\":\"\"}}}],\"scatter3d\":[{\"type\":\"scatter3d\",\"line\":{\"colorbar\":{\"outlinewidth\":0,\"ticks\":\"\"}},\"marker\":{\"colorbar\":{\"outlinewidth\":0,\"ticks\":\"\"}}}],\"scattermapbox\":[{\"type\":\"scattermapbox\",\"marker\":{\"colorbar\":{\"outlinewidth\":0,\"ticks\":\"\"}}}],\"scatterternary\":[{\"type\":\"scatterternary\",\"marker\":{\"colorbar\":{\"outlinewidth\":0,\"ticks\":\"\"}}}],\"scattercarpet\":[{\"type\":\"scattercarpet\",\"marker\":{\"colorbar\":{\"outlinewidth\":0,\"ticks\":\"\"}}}],\"carpet\":[{\"aaxis\":{\"endlinecolor\":\"#2a3f5f\",\"gridcolor\":\"white\",\"linecolor\":\"white\",\"minorgridcolor\":\"white\",\"startlinecolor\":\"#2a3f5f\"},\"baxis\":{\"endlinecolor\":\"#2a3f5f\",\"gridcolor\":\"white\",\"linecolor\":\"white\",\"minorgridcolor\":\"white\",\"startlinecolor\":\"#2a3f5f\"},\"type\":\"carpet\"}],\"table\":[{\"cells\":{\"fill\":{\"color\":\"#EBF0F8\"},\"line\":{\"color\":\"white\"}},\"header\":{\"fill\":{\"color\":\"#C8D4E3\"},\"line\":{\"color\":\"white\"}},\"type\":\"table\"}],\"barpolar\":[{\"marker\":{\"line\":{\"color\":\"#E5ECF6\",\"width\":0.5},\"pattern\":{\"fillmode\":\"overlay\",\"size\":10,\"solidity\":0.2}},\"type\":\"barpolar\"}],\"pie\":[{\"automargin\":true,\"type\":\"pie\"}]},\"layout\":{\"autotypenumbers\":\"strict\",\"colorway\":[\"#636efa\",\"#EF553B\",\"#00cc96\",\"#ab63fa\",\"#FFA15A\",\"#19d3f3\",\"#FF6692\",\"#B6E880\",\"#FF97FF\",\"#FECB52\"],\"font\":{\"color\":\"#2a3f5f\"},\"hovermode\":\"closest\",\"hoverlabel\":{\"align\":\"left\"},\"paper_bgcolor\":\"white\",\"plot_bgcolor\":\"#E5ECF6\",\"polar\":{\"bgcolor\":\"#E5ECF6\",\"angularaxis\":{\"gridcolor\":\"white\",\"linecolor\":\"white\",\"ticks\":\"\"},\"radialaxis\":{\"gridcolor\":\"white\",\"linecolor\":\"white\",\"ticks\":\"\"}},\"ternary\":{\"bgcolor\":\"#E5ECF6\",\"aaxis\":{\"gridcolor\":\"white\",\"linecolor\":\"white\",\"ticks\":\"\"},\"baxis\":{\"gridcolor\":\"white\",\"linecolor\":\"white\",\"ticks\":\"\"},\"caxis\":{\"gridcolor\":\"white\",\"linecolor\":\"white\",\"ticks\":\"\"}},\"coloraxis\":{\"colorbar\":{\"outlinewidth\":0,\"ticks\":\"\"}},\"colorscale\":{\"sequential\":[[0.0,\"#0d0887\"],[0.1111111111111111,\"#46039f\"],[0.2222222222222222,\"#7201a8\"],[0.3333333333333333,\"#9c179e\"],[0.4444444444444444,\"#bd3786\"],[0.5555555555555556,\"#d8576b\"],[0.6666666666666666,\"#ed7953\"],[0.7777777777777778,\"#fb9f3a\"],[0.8888888888888888,\"#fdca26\"],[1.0,\"#f0f921\"]],\"sequentialminus\":[[0.0,\"#0d0887\"],[0.1111111111111111,\"#46039f\"],[0.2222222222222222,\"#7201a8\"],[0.3333333333333333,\"#9c179e\"],[0.4444444444444444,\"#bd3786\"],[0.5555555555555556,\"#d8576b\"],[0.6666666666666666,\"#ed7953\"],[0.7777777777777778,\"#fb9f3a\"],[0.8888888888888888,\"#fdca26\"],[1.0,\"#f0f921\"]],\"diverging\":[[0,\"#8e0152\"],[0.1,\"#c51b7d\"],[0.2,\"#de77ae\"],[0.3,\"#f1b6da\"],[0.4,\"#fde0ef\"],[0.5,\"#f7f7f7\"],[0.6,\"#e6f5d0\"],[0.7,\"#b8e186\"],[0.8,\"#7fbc41\"],[0.9,\"#4d9221\"],[1,\"#276419\"]]},\"xaxis\":{\"gridcolor\":\"white\",\"linecolor\":\"white\",\"ticks\":\"\",\"title\":{\"standoff\":15},\"zerolinecolor\":\"white\",\"automargin\":true,\"zerolinewidth\":2},\"yaxis\":{\"gridcolor\":\"white\",\"linecolor\":\"white\",\"ticks\":\"\",\"title\":{\"standoff\":15},\"zerolinecolor\":\"white\",\"automargin\":true,\"zerolinewidth\":2},\"scene\":{\"xaxis\":{\"backgroundcolor\":\"#E5ECF6\",\"gridcolor\":\"white\",\"linecolor\":\"white\",\"showbackground\":true,\"ticks\":\"\",\"zerolinecolor\":\"white\",\"gridwidth\":2},\"yaxis\":{\"backgroundcolor\":\"#E5ECF6\",\"gridcolor\":\"white\",\"linecolor\":\"white\",\"showbackground\":true,\"ticks\":\"\",\"zerolinecolor\":\"white\",\"gridwidth\":2},\"zaxis\":{\"backgroundcolor\":\"#E5ECF6\",\"gridcolor\":\"white\",\"linecolor\":\"white\",\"showbackground\":true,\"ticks\":\"\",\"zerolinecolor\":\"white\",\"gridwidth\":2}},\"shapedefaults\":{\"line\":{\"color\":\"#2a3f5f\"}},\"annotationdefaults\":{\"arrowcolor\":\"#2a3f5f\",\"arrowhead\":0,\"arrowwidth\":1},\"geo\":{\"bgcolor\":\"white\",\"landcolor\":\"#E5ECF6\",\"subunitcolor\":\"white\",\"showland\":true,\"showlakes\":true,\"lakecolor\":\"white\"},\"title\":{\"x\":0.05},\"mapbox\":{\"style\":\"light\"}}},\"xaxis\":{\"anchor\":\"y\",\"domain\":[0.0,1.0],\"title\":{\"text\":\"Height\"}},\"yaxis\":{\"anchor\":\"x\",\"domain\":[0.0,1.0],\"title\":{\"text\":\"Weight\"}},\"legend\":{\"tracegroupgap\":0},\"margin\":{\"t\":60}},                        {\"responsive\": true}                    ).then(function(){\n",
              "                            \n",
              "var gd = document.getElementById('b463ff3d-ac43-4e8b-8062-97301beb81ca');\n",
              "var x = new MutationObserver(function (mutations, observer) {{\n",
              "        var display = window.getComputedStyle(gd).display;\n",
              "        if (!display || display === 'none') {{\n",
              "            console.log([gd, 'removed!']);\n",
              "            Plotly.purge(gd);\n",
              "            observer.disconnect();\n",
              "        }}\n",
              "}});\n",
              "\n",
              "// Listen for the removal of the full notebook cells\n",
              "var notebookContainer = gd.closest('#notebook-container');\n",
              "if (notebookContainer) {{\n",
              "    x.observe(notebookContainer, {childList: true});\n",
              "}}\n",
              "\n",
              "// Listen for the clearing of the current output cell\n",
              "var outputEl = gd.closest('.output');\n",
              "if (outputEl) {{\n",
              "    x.observe(outputEl, {childList: true});\n",
              "}}\n",
              "\n",
              "                        })                };                            </script>        </div>\n",
              "</body>\n",
              "</html>"
            ]
          },
          "metadata": {}
        }
      ]
    },
    {
      "cell_type": "markdown",
      "metadata": {
        "id": "QMtOn-x18BXR"
      },
      "source": [
        "Here we can see that both the height and the weight are related to each other. The more the height, the more the weight.\n",
        "\n",
        "\\\n",
        "Every line has a formula. The formula is as follows -\n",
        "\\\n",
        "```\n",
        "y = mx + c\n",
        "```\n",
        "Every line can be represented by an\n",
        "equation. The equation is as follows.\n",
        "\n",
        "\n",
        "---\n",
        "\n",
        "\n",
        "Here m = slope\n",
        "\n",
        "c =intercept on y -axis\n",
        "\n",
        "x = values of x\n",
        "\n",
        "\n",
        "---\n",
        "\n"
      ]
    },
    {
      "cell_type": "markdown",
      "metadata": {
        "id": "EXt3yqYE3GtC"
      },
      "source": [
        "**Let's use this formula to plot the line\n",
        "on the above graph.\n",
        "We know the values of x, we'll\n",
        "assume the values of slope and\n",
        "intercept. We'll be using the hit and\n",
        "trial method to plot. Hit and trial\n",
        "means to guess a solution and see if\n",
        "it's valid or not. We will do this until\n",
        "we get the proper values for slope\n",
        "and intercept.**"
      ]
    },
    {
      "cell_type": "code",
      "metadata": {
        "id": "VQdb4QAkjI0m",
        "colab": {
          "base_uri": "https://localhost:8080/",
          "height": 542
        },
        "outputId": "71e7ca5d-9de3-467d-844f-870fa5fe1fa0"
      },
      "source": [
        "m = 1\n",
        "c = 0\n",
        "y = []\n",
        "for x in height:\n",
        "  y_value = m*x + c\n",
        "  y.append(y_value)\n",
        "\n",
        "#Plotting the points\n",
        "fig = px.scatter(x=height, y=weight)\n",
        "fig.update_layout(shapes=[\n",
        "    dict(\n",
        "      type= 'line',\n",
        "      y0= min(y), y1= max(y),\n",
        "      x0= min(height), x1= max(height)\n",
        "    )\n",
        "])\n",
        "fig.show()"
      ],
      "execution_count": 5,
      "outputs": [
        {
          "output_type": "display_data",
          "data": {
            "text/html": [
              "<html>\n",
              "<head><meta charset=\"utf-8\" /></head>\n",
              "<body>\n",
              "    <div>            <script src=\"https://cdnjs.cloudflare.com/ajax/libs/mathjax/2.7.5/MathJax.js?config=TeX-AMS-MML_SVG\"></script><script type=\"text/javascript\">if (window.MathJax && window.MathJax.Hub && window.MathJax.Hub.Config) {window.MathJax.Hub.Config({SVG: {font: \"STIX-Web\"}});}</script>                <script type=\"text/javascript\">window.PlotlyConfig = {MathJaxConfig: 'local'};</script>\n",
              "        <script src=\"https://cdn.plot.ly/plotly-2.18.2.min.js\"></script>                <div id=\"2510e978-bcf7-435f-ba77-41df8e1f9f08\" class=\"plotly-graph-div\" style=\"height:525px; width:100%;\"></div>            <script type=\"text/javascript\">                                    window.PLOTLYENV=window.PLOTLYENV || {};                                    if (document.getElementById(\"2510e978-bcf7-435f-ba77-41df8e1f9f08\")) {                    Plotly.newPlot(                        \"2510e978-bcf7-435f-ba77-41df8e1f9f08\",                        [{\"hovertemplate\":\"x=%{x}<br>y=%{y}<extra></extra>\",\"legendgroup\":\"\",\"marker\":{\"color\":\"#636efa\",\"symbol\":\"circle\"},\"mode\":\"markers\",\"name\":\"\",\"orientation\":\"v\",\"showlegend\":false,\"x\":[121.92,124.46,127.0,129.54,132.08,134.62,137.16,139.7,142.24,144.78,147.32,149.86,152.4,154.94,157.48,160.02,162.56,165.1,167.64,170.18,172.72,175.26,177.8,180.34,182.88,185.42,187.96,190.5,193.04,195.58,198.12,200.66,203.2,205.0,208.0],\"xaxis\":\"x\",\"y\":[28.0,28.1,28.2,28.3,28.4,28.5,35.2,37.6,40.0,42.6,44.9,47.6,49.9,52.6,54.9,57.6,59.9,62.6,64.8,67.6,69.8,72.6,74.8,77.5,79.8,82.5,84.8,87.5,89.8,92.5,94.8,97.5,99.8,102.5,104.8],\"yaxis\":\"y\",\"type\":\"scatter\"}],                        {\"template\":{\"data\":{\"histogram2dcontour\":[{\"type\":\"histogram2dcontour\",\"colorbar\":{\"outlinewidth\":0,\"ticks\":\"\"},\"colorscale\":[[0.0,\"#0d0887\"],[0.1111111111111111,\"#46039f\"],[0.2222222222222222,\"#7201a8\"],[0.3333333333333333,\"#9c179e\"],[0.4444444444444444,\"#bd3786\"],[0.5555555555555556,\"#d8576b\"],[0.6666666666666666,\"#ed7953\"],[0.7777777777777778,\"#fb9f3a\"],[0.8888888888888888,\"#fdca26\"],[1.0,\"#f0f921\"]]}],\"choropleth\":[{\"type\":\"choropleth\",\"colorbar\":{\"outlinewidth\":0,\"ticks\":\"\"}}],\"histogram2d\":[{\"type\":\"histogram2d\",\"colorbar\":{\"outlinewidth\":0,\"ticks\":\"\"},\"colorscale\":[[0.0,\"#0d0887\"],[0.1111111111111111,\"#46039f\"],[0.2222222222222222,\"#7201a8\"],[0.3333333333333333,\"#9c179e\"],[0.4444444444444444,\"#bd3786\"],[0.5555555555555556,\"#d8576b\"],[0.6666666666666666,\"#ed7953\"],[0.7777777777777778,\"#fb9f3a\"],[0.8888888888888888,\"#fdca26\"],[1.0,\"#f0f921\"]]}],\"heatmap\":[{\"type\":\"heatmap\",\"colorbar\":{\"outlinewidth\":0,\"ticks\":\"\"},\"colorscale\":[[0.0,\"#0d0887\"],[0.1111111111111111,\"#46039f\"],[0.2222222222222222,\"#7201a8\"],[0.3333333333333333,\"#9c179e\"],[0.4444444444444444,\"#bd3786\"],[0.5555555555555556,\"#d8576b\"],[0.6666666666666666,\"#ed7953\"],[0.7777777777777778,\"#fb9f3a\"],[0.8888888888888888,\"#fdca26\"],[1.0,\"#f0f921\"]]}],\"heatmapgl\":[{\"type\":\"heatmapgl\",\"colorbar\":{\"outlinewidth\":0,\"ticks\":\"\"},\"colorscale\":[[0.0,\"#0d0887\"],[0.1111111111111111,\"#46039f\"],[0.2222222222222222,\"#7201a8\"],[0.3333333333333333,\"#9c179e\"],[0.4444444444444444,\"#bd3786\"],[0.5555555555555556,\"#d8576b\"],[0.6666666666666666,\"#ed7953\"],[0.7777777777777778,\"#fb9f3a\"],[0.8888888888888888,\"#fdca26\"],[1.0,\"#f0f921\"]]}],\"contourcarpet\":[{\"type\":\"contourcarpet\",\"colorbar\":{\"outlinewidth\":0,\"ticks\":\"\"}}],\"contour\":[{\"type\":\"contour\",\"colorbar\":{\"outlinewidth\":0,\"ticks\":\"\"},\"colorscale\":[[0.0,\"#0d0887\"],[0.1111111111111111,\"#46039f\"],[0.2222222222222222,\"#7201a8\"],[0.3333333333333333,\"#9c179e\"],[0.4444444444444444,\"#bd3786\"],[0.5555555555555556,\"#d8576b\"],[0.6666666666666666,\"#ed7953\"],[0.7777777777777778,\"#fb9f3a\"],[0.8888888888888888,\"#fdca26\"],[1.0,\"#f0f921\"]]}],\"surface\":[{\"type\":\"surface\",\"colorbar\":{\"outlinewidth\":0,\"ticks\":\"\"},\"colorscale\":[[0.0,\"#0d0887\"],[0.1111111111111111,\"#46039f\"],[0.2222222222222222,\"#7201a8\"],[0.3333333333333333,\"#9c179e\"],[0.4444444444444444,\"#bd3786\"],[0.5555555555555556,\"#d8576b\"],[0.6666666666666666,\"#ed7953\"],[0.7777777777777778,\"#fb9f3a\"],[0.8888888888888888,\"#fdca26\"],[1.0,\"#f0f921\"]]}],\"mesh3d\":[{\"type\":\"mesh3d\",\"colorbar\":{\"outlinewidth\":0,\"ticks\":\"\"}}],\"scatter\":[{\"fillpattern\":{\"fillmode\":\"overlay\",\"size\":10,\"solidity\":0.2},\"type\":\"scatter\"}],\"parcoords\":[{\"type\":\"parcoords\",\"line\":{\"colorbar\":{\"outlinewidth\":0,\"ticks\":\"\"}}}],\"scatterpolargl\":[{\"type\":\"scatterpolargl\",\"marker\":{\"colorbar\":{\"outlinewidth\":0,\"ticks\":\"\"}}}],\"bar\":[{\"error_x\":{\"color\":\"#2a3f5f\"},\"error_y\":{\"color\":\"#2a3f5f\"},\"marker\":{\"line\":{\"color\":\"#E5ECF6\",\"width\":0.5},\"pattern\":{\"fillmode\":\"overlay\",\"size\":10,\"solidity\":0.2}},\"type\":\"bar\"}],\"scattergeo\":[{\"type\":\"scattergeo\",\"marker\":{\"colorbar\":{\"outlinewidth\":0,\"ticks\":\"\"}}}],\"scatterpolar\":[{\"type\":\"scatterpolar\",\"marker\":{\"colorbar\":{\"outlinewidth\":0,\"ticks\":\"\"}}}],\"histogram\":[{\"marker\":{\"pattern\":{\"fillmode\":\"overlay\",\"size\":10,\"solidity\":0.2}},\"type\":\"histogram\"}],\"scattergl\":[{\"type\":\"scattergl\",\"marker\":{\"colorbar\":{\"outlinewidth\":0,\"ticks\":\"\"}}}],\"scatter3d\":[{\"type\":\"scatter3d\",\"line\":{\"colorbar\":{\"outlinewidth\":0,\"ticks\":\"\"}},\"marker\":{\"colorbar\":{\"outlinewidth\":0,\"ticks\":\"\"}}}],\"scattermapbox\":[{\"type\":\"scattermapbox\",\"marker\":{\"colorbar\":{\"outlinewidth\":0,\"ticks\":\"\"}}}],\"scatterternary\":[{\"type\":\"scatterternary\",\"marker\":{\"colorbar\":{\"outlinewidth\":0,\"ticks\":\"\"}}}],\"scattercarpet\":[{\"type\":\"scattercarpet\",\"marker\":{\"colorbar\":{\"outlinewidth\":0,\"ticks\":\"\"}}}],\"carpet\":[{\"aaxis\":{\"endlinecolor\":\"#2a3f5f\",\"gridcolor\":\"white\",\"linecolor\":\"white\",\"minorgridcolor\":\"white\",\"startlinecolor\":\"#2a3f5f\"},\"baxis\":{\"endlinecolor\":\"#2a3f5f\",\"gridcolor\":\"white\",\"linecolor\":\"white\",\"minorgridcolor\":\"white\",\"startlinecolor\":\"#2a3f5f\"},\"type\":\"carpet\"}],\"table\":[{\"cells\":{\"fill\":{\"color\":\"#EBF0F8\"},\"line\":{\"color\":\"white\"}},\"header\":{\"fill\":{\"color\":\"#C8D4E3\"},\"line\":{\"color\":\"white\"}},\"type\":\"table\"}],\"barpolar\":[{\"marker\":{\"line\":{\"color\":\"#E5ECF6\",\"width\":0.5},\"pattern\":{\"fillmode\":\"overlay\",\"size\":10,\"solidity\":0.2}},\"type\":\"barpolar\"}],\"pie\":[{\"automargin\":true,\"type\":\"pie\"}]},\"layout\":{\"autotypenumbers\":\"strict\",\"colorway\":[\"#636efa\",\"#EF553B\",\"#00cc96\",\"#ab63fa\",\"#FFA15A\",\"#19d3f3\",\"#FF6692\",\"#B6E880\",\"#FF97FF\",\"#FECB52\"],\"font\":{\"color\":\"#2a3f5f\"},\"hovermode\":\"closest\",\"hoverlabel\":{\"align\":\"left\"},\"paper_bgcolor\":\"white\",\"plot_bgcolor\":\"#E5ECF6\",\"polar\":{\"bgcolor\":\"#E5ECF6\",\"angularaxis\":{\"gridcolor\":\"white\",\"linecolor\":\"white\",\"ticks\":\"\"},\"radialaxis\":{\"gridcolor\":\"white\",\"linecolor\":\"white\",\"ticks\":\"\"}},\"ternary\":{\"bgcolor\":\"#E5ECF6\",\"aaxis\":{\"gridcolor\":\"white\",\"linecolor\":\"white\",\"ticks\":\"\"},\"baxis\":{\"gridcolor\":\"white\",\"linecolor\":\"white\",\"ticks\":\"\"},\"caxis\":{\"gridcolor\":\"white\",\"linecolor\":\"white\",\"ticks\":\"\"}},\"coloraxis\":{\"colorbar\":{\"outlinewidth\":0,\"ticks\":\"\"}},\"colorscale\":{\"sequential\":[[0.0,\"#0d0887\"],[0.1111111111111111,\"#46039f\"],[0.2222222222222222,\"#7201a8\"],[0.3333333333333333,\"#9c179e\"],[0.4444444444444444,\"#bd3786\"],[0.5555555555555556,\"#d8576b\"],[0.6666666666666666,\"#ed7953\"],[0.7777777777777778,\"#fb9f3a\"],[0.8888888888888888,\"#fdca26\"],[1.0,\"#f0f921\"]],\"sequentialminus\":[[0.0,\"#0d0887\"],[0.1111111111111111,\"#46039f\"],[0.2222222222222222,\"#7201a8\"],[0.3333333333333333,\"#9c179e\"],[0.4444444444444444,\"#bd3786\"],[0.5555555555555556,\"#d8576b\"],[0.6666666666666666,\"#ed7953\"],[0.7777777777777778,\"#fb9f3a\"],[0.8888888888888888,\"#fdca26\"],[1.0,\"#f0f921\"]],\"diverging\":[[0,\"#8e0152\"],[0.1,\"#c51b7d\"],[0.2,\"#de77ae\"],[0.3,\"#f1b6da\"],[0.4,\"#fde0ef\"],[0.5,\"#f7f7f7\"],[0.6,\"#e6f5d0\"],[0.7,\"#b8e186\"],[0.8,\"#7fbc41\"],[0.9,\"#4d9221\"],[1,\"#276419\"]]},\"xaxis\":{\"gridcolor\":\"white\",\"linecolor\":\"white\",\"ticks\":\"\",\"title\":{\"standoff\":15},\"zerolinecolor\":\"white\",\"automargin\":true,\"zerolinewidth\":2},\"yaxis\":{\"gridcolor\":\"white\",\"linecolor\":\"white\",\"ticks\":\"\",\"title\":{\"standoff\":15},\"zerolinecolor\":\"white\",\"automargin\":true,\"zerolinewidth\":2},\"scene\":{\"xaxis\":{\"backgroundcolor\":\"#E5ECF6\",\"gridcolor\":\"white\",\"linecolor\":\"white\",\"showbackground\":true,\"ticks\":\"\",\"zerolinecolor\":\"white\",\"gridwidth\":2},\"yaxis\":{\"backgroundcolor\":\"#E5ECF6\",\"gridcolor\":\"white\",\"linecolor\":\"white\",\"showbackground\":true,\"ticks\":\"\",\"zerolinecolor\":\"white\",\"gridwidth\":2},\"zaxis\":{\"backgroundcolor\":\"#E5ECF6\",\"gridcolor\":\"white\",\"linecolor\":\"white\",\"showbackground\":true,\"ticks\":\"\",\"zerolinecolor\":\"white\",\"gridwidth\":2}},\"shapedefaults\":{\"line\":{\"color\":\"#2a3f5f\"}},\"annotationdefaults\":{\"arrowcolor\":\"#2a3f5f\",\"arrowhead\":0,\"arrowwidth\":1},\"geo\":{\"bgcolor\":\"white\",\"landcolor\":\"#E5ECF6\",\"subunitcolor\":\"white\",\"showland\":true,\"showlakes\":true,\"lakecolor\":\"white\"},\"title\":{\"x\":0.05},\"mapbox\":{\"style\":\"light\"}}},\"xaxis\":{\"anchor\":\"y\",\"domain\":[0.0,1.0],\"title\":{\"text\":\"x\"}},\"yaxis\":{\"anchor\":\"x\",\"domain\":[0.0,1.0],\"title\":{\"text\":\"y\"}},\"legend\":{\"tracegroupgap\":0},\"margin\":{\"t\":60},\"shapes\":[{\"type\":\"line\",\"x0\":121.92,\"x1\":208.0,\"y0\":121.92,\"y1\":208.0}]},                        {\"responsive\": true}                    ).then(function(){\n",
              "                            \n",
              "var gd = document.getElementById('2510e978-bcf7-435f-ba77-41df8e1f9f08');\n",
              "var x = new MutationObserver(function (mutations, observer) {{\n",
              "        var display = window.getComputedStyle(gd).display;\n",
              "        if (!display || display === 'none') {{\n",
              "            console.log([gd, 'removed!']);\n",
              "            Plotly.purge(gd);\n",
              "            observer.disconnect();\n",
              "        }}\n",
              "}});\n",
              "\n",
              "// Listen for the removal of the full notebook cells\n",
              "var notebookContainer = gd.closest('#notebook-container');\n",
              "if (notebookContainer) {{\n",
              "    x.observe(notebookContainer, {childList: true});\n",
              "}}\n",
              "\n",
              "// Listen for the clearing of the current output cell\n",
              "var outputEl = gd.closest('.output');\n",
              "if (outputEl) {{\n",
              "    x.observe(outputEl, {childList: true});\n",
              "}}\n",
              "\n",
              "                        })                };                            </script>        </div>\n",
              "</body>\n",
              "</html>"
            ]
          },
          "metadata": {}
        }
      ]
    },
    {
      "cell_type": "markdown",
      "metadata": {
        "id": "F7DRN14v97HJ"
      },
      "source": [
        "Here, it looks like the line that we have taken is worlds apart. Let's try to change the values of M and C in such a way that this line fits well with the scatter plots."
      ]
    },
    {
      "cell_type": "code",
      "metadata": {
        "id": "s6TSLdYD9u9W",
        "colab": {
          "base_uri": "https://localhost:8080/",
          "height": 542
        },
        "outputId": "9b73a871-9f66-4732-fa52-ddf5239e83bf"
      },
      "source": [
        "m = 0.95\n",
        "c = -93\n",
        "y = []\n",
        "for x in height:\n",
        "  y_value = m*x + c\n",
        "  y.append(y_value)\n",
        "\n",
        "#Plotting the points\n",
        "fig = px.scatter(x=height, y=weight)\n",
        "fig.update_layout(shapes=[\n",
        "    dict(\n",
        "      type= 'line',\n",
        "      y0= min(y), y1= max(y),\n",
        "      x0= min(height), x1= max(height)\n",
        "    )\n",
        "])\n",
        "fig.show()"
      ],
      "execution_count": 6,
      "outputs": [
        {
          "output_type": "display_data",
          "data": {
            "text/html": [
              "<html>\n",
              "<head><meta charset=\"utf-8\" /></head>\n",
              "<body>\n",
              "    <div>            <script src=\"https://cdnjs.cloudflare.com/ajax/libs/mathjax/2.7.5/MathJax.js?config=TeX-AMS-MML_SVG\"></script><script type=\"text/javascript\">if (window.MathJax && window.MathJax.Hub && window.MathJax.Hub.Config) {window.MathJax.Hub.Config({SVG: {font: \"STIX-Web\"}});}</script>                <script type=\"text/javascript\">window.PlotlyConfig = {MathJaxConfig: 'local'};</script>\n",
              "        <script src=\"https://cdn.plot.ly/plotly-2.18.2.min.js\"></script>                <div id=\"753103cb-ee1f-4699-9a20-bf9e70c11753\" class=\"plotly-graph-div\" style=\"height:525px; width:100%;\"></div>            <script type=\"text/javascript\">                                    window.PLOTLYENV=window.PLOTLYENV || {};                                    if (document.getElementById(\"753103cb-ee1f-4699-9a20-bf9e70c11753\")) {                    Plotly.newPlot(                        \"753103cb-ee1f-4699-9a20-bf9e70c11753\",                        [{\"hovertemplate\":\"x=%{x}<br>y=%{y}<extra></extra>\",\"legendgroup\":\"\",\"marker\":{\"color\":\"#636efa\",\"symbol\":\"circle\"},\"mode\":\"markers\",\"name\":\"\",\"orientation\":\"v\",\"showlegend\":false,\"x\":[121.92,124.46,127.0,129.54,132.08,134.62,137.16,139.7,142.24,144.78,147.32,149.86,152.4,154.94,157.48,160.02,162.56,165.1,167.64,170.18,172.72,175.26,177.8,180.34,182.88,185.42,187.96,190.5,193.04,195.58,198.12,200.66,203.2,205.0,208.0],\"xaxis\":\"x\",\"y\":[28.0,28.1,28.2,28.3,28.4,28.5,35.2,37.6,40.0,42.6,44.9,47.6,49.9,52.6,54.9,57.6,59.9,62.6,64.8,67.6,69.8,72.6,74.8,77.5,79.8,82.5,84.8,87.5,89.8,92.5,94.8,97.5,99.8,102.5,104.8],\"yaxis\":\"y\",\"type\":\"scatter\"}],                        {\"template\":{\"data\":{\"histogram2dcontour\":[{\"type\":\"histogram2dcontour\",\"colorbar\":{\"outlinewidth\":0,\"ticks\":\"\"},\"colorscale\":[[0.0,\"#0d0887\"],[0.1111111111111111,\"#46039f\"],[0.2222222222222222,\"#7201a8\"],[0.3333333333333333,\"#9c179e\"],[0.4444444444444444,\"#bd3786\"],[0.5555555555555556,\"#d8576b\"],[0.6666666666666666,\"#ed7953\"],[0.7777777777777778,\"#fb9f3a\"],[0.8888888888888888,\"#fdca26\"],[1.0,\"#f0f921\"]]}],\"choropleth\":[{\"type\":\"choropleth\",\"colorbar\":{\"outlinewidth\":0,\"ticks\":\"\"}}],\"histogram2d\":[{\"type\":\"histogram2d\",\"colorbar\":{\"outlinewidth\":0,\"ticks\":\"\"},\"colorscale\":[[0.0,\"#0d0887\"],[0.1111111111111111,\"#46039f\"],[0.2222222222222222,\"#7201a8\"],[0.3333333333333333,\"#9c179e\"],[0.4444444444444444,\"#bd3786\"],[0.5555555555555556,\"#d8576b\"],[0.6666666666666666,\"#ed7953\"],[0.7777777777777778,\"#fb9f3a\"],[0.8888888888888888,\"#fdca26\"],[1.0,\"#f0f921\"]]}],\"heatmap\":[{\"type\":\"heatmap\",\"colorbar\":{\"outlinewidth\":0,\"ticks\":\"\"},\"colorscale\":[[0.0,\"#0d0887\"],[0.1111111111111111,\"#46039f\"],[0.2222222222222222,\"#7201a8\"],[0.3333333333333333,\"#9c179e\"],[0.4444444444444444,\"#bd3786\"],[0.5555555555555556,\"#d8576b\"],[0.6666666666666666,\"#ed7953\"],[0.7777777777777778,\"#fb9f3a\"],[0.8888888888888888,\"#fdca26\"],[1.0,\"#f0f921\"]]}],\"heatmapgl\":[{\"type\":\"heatmapgl\",\"colorbar\":{\"outlinewidth\":0,\"ticks\":\"\"},\"colorscale\":[[0.0,\"#0d0887\"],[0.1111111111111111,\"#46039f\"],[0.2222222222222222,\"#7201a8\"],[0.3333333333333333,\"#9c179e\"],[0.4444444444444444,\"#bd3786\"],[0.5555555555555556,\"#d8576b\"],[0.6666666666666666,\"#ed7953\"],[0.7777777777777778,\"#fb9f3a\"],[0.8888888888888888,\"#fdca26\"],[1.0,\"#f0f921\"]]}],\"contourcarpet\":[{\"type\":\"contourcarpet\",\"colorbar\":{\"outlinewidth\":0,\"ticks\":\"\"}}],\"contour\":[{\"type\":\"contour\",\"colorbar\":{\"outlinewidth\":0,\"ticks\":\"\"},\"colorscale\":[[0.0,\"#0d0887\"],[0.1111111111111111,\"#46039f\"],[0.2222222222222222,\"#7201a8\"],[0.3333333333333333,\"#9c179e\"],[0.4444444444444444,\"#bd3786\"],[0.5555555555555556,\"#d8576b\"],[0.6666666666666666,\"#ed7953\"],[0.7777777777777778,\"#fb9f3a\"],[0.8888888888888888,\"#fdca26\"],[1.0,\"#f0f921\"]]}],\"surface\":[{\"type\":\"surface\",\"colorbar\":{\"outlinewidth\":0,\"ticks\":\"\"},\"colorscale\":[[0.0,\"#0d0887\"],[0.1111111111111111,\"#46039f\"],[0.2222222222222222,\"#7201a8\"],[0.3333333333333333,\"#9c179e\"],[0.4444444444444444,\"#bd3786\"],[0.5555555555555556,\"#d8576b\"],[0.6666666666666666,\"#ed7953\"],[0.7777777777777778,\"#fb9f3a\"],[0.8888888888888888,\"#fdca26\"],[1.0,\"#f0f921\"]]}],\"mesh3d\":[{\"type\":\"mesh3d\",\"colorbar\":{\"outlinewidth\":0,\"ticks\":\"\"}}],\"scatter\":[{\"fillpattern\":{\"fillmode\":\"overlay\",\"size\":10,\"solidity\":0.2},\"type\":\"scatter\"}],\"parcoords\":[{\"type\":\"parcoords\",\"line\":{\"colorbar\":{\"outlinewidth\":0,\"ticks\":\"\"}}}],\"scatterpolargl\":[{\"type\":\"scatterpolargl\",\"marker\":{\"colorbar\":{\"outlinewidth\":0,\"ticks\":\"\"}}}],\"bar\":[{\"error_x\":{\"color\":\"#2a3f5f\"},\"error_y\":{\"color\":\"#2a3f5f\"},\"marker\":{\"line\":{\"color\":\"#E5ECF6\",\"width\":0.5},\"pattern\":{\"fillmode\":\"overlay\",\"size\":10,\"solidity\":0.2}},\"type\":\"bar\"}],\"scattergeo\":[{\"type\":\"scattergeo\",\"marker\":{\"colorbar\":{\"outlinewidth\":0,\"ticks\":\"\"}}}],\"scatterpolar\":[{\"type\":\"scatterpolar\",\"marker\":{\"colorbar\":{\"outlinewidth\":0,\"ticks\":\"\"}}}],\"histogram\":[{\"marker\":{\"pattern\":{\"fillmode\":\"overlay\",\"size\":10,\"solidity\":0.2}},\"type\":\"histogram\"}],\"scattergl\":[{\"type\":\"scattergl\",\"marker\":{\"colorbar\":{\"outlinewidth\":0,\"ticks\":\"\"}}}],\"scatter3d\":[{\"type\":\"scatter3d\",\"line\":{\"colorbar\":{\"outlinewidth\":0,\"ticks\":\"\"}},\"marker\":{\"colorbar\":{\"outlinewidth\":0,\"ticks\":\"\"}}}],\"scattermapbox\":[{\"type\":\"scattermapbox\",\"marker\":{\"colorbar\":{\"outlinewidth\":0,\"ticks\":\"\"}}}],\"scatterternary\":[{\"type\":\"scatterternary\",\"marker\":{\"colorbar\":{\"outlinewidth\":0,\"ticks\":\"\"}}}],\"scattercarpet\":[{\"type\":\"scattercarpet\",\"marker\":{\"colorbar\":{\"outlinewidth\":0,\"ticks\":\"\"}}}],\"carpet\":[{\"aaxis\":{\"endlinecolor\":\"#2a3f5f\",\"gridcolor\":\"white\",\"linecolor\":\"white\",\"minorgridcolor\":\"white\",\"startlinecolor\":\"#2a3f5f\"},\"baxis\":{\"endlinecolor\":\"#2a3f5f\",\"gridcolor\":\"white\",\"linecolor\":\"white\",\"minorgridcolor\":\"white\",\"startlinecolor\":\"#2a3f5f\"},\"type\":\"carpet\"}],\"table\":[{\"cells\":{\"fill\":{\"color\":\"#EBF0F8\"},\"line\":{\"color\":\"white\"}},\"header\":{\"fill\":{\"color\":\"#C8D4E3\"},\"line\":{\"color\":\"white\"}},\"type\":\"table\"}],\"barpolar\":[{\"marker\":{\"line\":{\"color\":\"#E5ECF6\",\"width\":0.5},\"pattern\":{\"fillmode\":\"overlay\",\"size\":10,\"solidity\":0.2}},\"type\":\"barpolar\"}],\"pie\":[{\"automargin\":true,\"type\":\"pie\"}]},\"layout\":{\"autotypenumbers\":\"strict\",\"colorway\":[\"#636efa\",\"#EF553B\",\"#00cc96\",\"#ab63fa\",\"#FFA15A\",\"#19d3f3\",\"#FF6692\",\"#B6E880\",\"#FF97FF\",\"#FECB52\"],\"font\":{\"color\":\"#2a3f5f\"},\"hovermode\":\"closest\",\"hoverlabel\":{\"align\":\"left\"},\"paper_bgcolor\":\"white\",\"plot_bgcolor\":\"#E5ECF6\",\"polar\":{\"bgcolor\":\"#E5ECF6\",\"angularaxis\":{\"gridcolor\":\"white\",\"linecolor\":\"white\",\"ticks\":\"\"},\"radialaxis\":{\"gridcolor\":\"white\",\"linecolor\":\"white\",\"ticks\":\"\"}},\"ternary\":{\"bgcolor\":\"#E5ECF6\",\"aaxis\":{\"gridcolor\":\"white\",\"linecolor\":\"white\",\"ticks\":\"\"},\"baxis\":{\"gridcolor\":\"white\",\"linecolor\":\"white\",\"ticks\":\"\"},\"caxis\":{\"gridcolor\":\"white\",\"linecolor\":\"white\",\"ticks\":\"\"}},\"coloraxis\":{\"colorbar\":{\"outlinewidth\":0,\"ticks\":\"\"}},\"colorscale\":{\"sequential\":[[0.0,\"#0d0887\"],[0.1111111111111111,\"#46039f\"],[0.2222222222222222,\"#7201a8\"],[0.3333333333333333,\"#9c179e\"],[0.4444444444444444,\"#bd3786\"],[0.5555555555555556,\"#d8576b\"],[0.6666666666666666,\"#ed7953\"],[0.7777777777777778,\"#fb9f3a\"],[0.8888888888888888,\"#fdca26\"],[1.0,\"#f0f921\"]],\"sequentialminus\":[[0.0,\"#0d0887\"],[0.1111111111111111,\"#46039f\"],[0.2222222222222222,\"#7201a8\"],[0.3333333333333333,\"#9c179e\"],[0.4444444444444444,\"#bd3786\"],[0.5555555555555556,\"#d8576b\"],[0.6666666666666666,\"#ed7953\"],[0.7777777777777778,\"#fb9f3a\"],[0.8888888888888888,\"#fdca26\"],[1.0,\"#f0f921\"]],\"diverging\":[[0,\"#8e0152\"],[0.1,\"#c51b7d\"],[0.2,\"#de77ae\"],[0.3,\"#f1b6da\"],[0.4,\"#fde0ef\"],[0.5,\"#f7f7f7\"],[0.6,\"#e6f5d0\"],[0.7,\"#b8e186\"],[0.8,\"#7fbc41\"],[0.9,\"#4d9221\"],[1,\"#276419\"]]},\"xaxis\":{\"gridcolor\":\"white\",\"linecolor\":\"white\",\"ticks\":\"\",\"title\":{\"standoff\":15},\"zerolinecolor\":\"white\",\"automargin\":true,\"zerolinewidth\":2},\"yaxis\":{\"gridcolor\":\"white\",\"linecolor\":\"white\",\"ticks\":\"\",\"title\":{\"standoff\":15},\"zerolinecolor\":\"white\",\"automargin\":true,\"zerolinewidth\":2},\"scene\":{\"xaxis\":{\"backgroundcolor\":\"#E5ECF6\",\"gridcolor\":\"white\",\"linecolor\":\"white\",\"showbackground\":true,\"ticks\":\"\",\"zerolinecolor\":\"white\",\"gridwidth\":2},\"yaxis\":{\"backgroundcolor\":\"#E5ECF6\",\"gridcolor\":\"white\",\"linecolor\":\"white\",\"showbackground\":true,\"ticks\":\"\",\"zerolinecolor\":\"white\",\"gridwidth\":2},\"zaxis\":{\"backgroundcolor\":\"#E5ECF6\",\"gridcolor\":\"white\",\"linecolor\":\"white\",\"showbackground\":true,\"ticks\":\"\",\"zerolinecolor\":\"white\",\"gridwidth\":2}},\"shapedefaults\":{\"line\":{\"color\":\"#2a3f5f\"}},\"annotationdefaults\":{\"arrowcolor\":\"#2a3f5f\",\"arrowhead\":0,\"arrowwidth\":1},\"geo\":{\"bgcolor\":\"white\",\"landcolor\":\"#E5ECF6\",\"subunitcolor\":\"white\",\"showland\":true,\"showlakes\":true,\"lakecolor\":\"white\"},\"title\":{\"x\":0.05},\"mapbox\":{\"style\":\"light\"}}},\"xaxis\":{\"anchor\":\"y\",\"domain\":[0.0,1.0],\"title\":{\"text\":\"x\"}},\"yaxis\":{\"anchor\":\"x\",\"domain\":[0.0,1.0],\"title\":{\"text\":\"y\"}},\"legend\":{\"tracegroupgap\":0},\"margin\":{\"t\":60},\"shapes\":[{\"type\":\"line\",\"x0\":121.92,\"x1\":208.0,\"y0\":22.823999999999998,\"y1\":104.6}]},                        {\"responsive\": true}                    ).then(function(){\n",
              "                            \n",
              "var gd = document.getElementById('753103cb-ee1f-4699-9a20-bf9e70c11753');\n",
              "var x = new MutationObserver(function (mutations, observer) {{\n",
              "        var display = window.getComputedStyle(gd).display;\n",
              "        if (!display || display === 'none') {{\n",
              "            console.log([gd, 'removed!']);\n",
              "            Plotly.purge(gd);\n",
              "            observer.disconnect();\n",
              "        }}\n",
              "}});\n",
              "\n",
              "// Listen for the removal of the full notebook cells\n",
              "var notebookContainer = gd.closest('#notebook-container');\n",
              "if (notebookContainer) {{\n",
              "    x.observe(notebookContainer, {childList: true});\n",
              "}}\n",
              "\n",
              "// Listen for the clearing of the current output cell\n",
              "var outputEl = gd.closest('.output');\n",
              "if (outputEl) {{\n",
              "    x.observe(outputEl, {childList: true});\n",
              "}}\n",
              "\n",
              "                        })                };                            </script>        </div>\n",
              "</body>\n",
              "</html>"
            ]
          },
          "metadata": {}
        }
      ]
    },
    {
      "cell_type": "markdown",
      "metadata": {
        "id": "1hp5nZTHAU_D"
      },
      "source": [
        "Here, we have a close enough line that covers all the scatter plots in our chart.\n",
        "\n",
        "\\\n",
        "Here, the M is the slope of the line and the C is the intercept of the line.\n",
        "\n",
        "\\\n",
        "Can we predict the weight of someone whose height is 250 using this formula? Let's see!"
      ]
    },
    {
      "cell_type": "code",
      "metadata": {
        "id": "Mp3eewrF-cZc",
        "colab": {
          "base_uri": "https://localhost:8080/"
        },
        "outputId": "cbcd46da-d37d-4edc-c3ce-dea2d6f1deb1"
      },
      "source": [
        "x = 250\n",
        "y = m * x + c\n",
        "print(f\"Weight of someone with height {x} is {y}\")"
      ],
      "execution_count": 7,
      "outputs": [
        {
          "output_type": "stream",
          "name": "stdout",
          "text": [
            "Weight of someone with height 250 is 144.5\n"
          ]
        }
      ]
    },
    {
      "cell_type": "markdown",
      "metadata": {
        "id": "8S0dOu8sBHRg"
      },
      "source": [
        "Great! Since we have achieved the values of our slope and intercept with the hit and trial method, we might be a bit less accurate. There are pre-built computer algorithms that give us the value of the slope and the intercept.\n",
        "\n",
        "\\\n",
        "Let's find the slope and the intercept of the data that we have using computer algorithms and plot again with the new values of M and C."
      ]
    },
    {
      "cell_type": "code",
      "metadata": {
        "id": "oR5skMt7BEEh",
        "colab": {
          "base_uri": "https://localhost:8080/",
          "height": 542
        },
        "outputId": "0440e615-a08a-4fcb-f3b2-49e35a232a87"
      },
      "source": [
        "import numpy as np\n",
        "height_array = np.array(height)\n",
        "weight_array = np.array(weight)\n",
        "\n",
        "#Slope and intercept using pre-built function of Numpy\n",
        "m, c = np.polyfit(height_array, weight_array, 1) ## calculating value of coefficients in case of linear polynomial\n",
        "\n",
        "y = []\n",
        "for x in height_array:\n",
        "  y_value = m*x + c\n",
        "  y.append(y_value)\n",
        "\n",
        "#plotting the graph\n",
        "fig = px.scatter(x=height_array, y=weight_array)\n",
        "fig.update_layout(shapes=[\n",
        "    dict(\n",
        "      type= 'line',\n",
        "      y0= min(y), y1= max(y),\n",
        "      x0= min(height_array), x1= max(height_array)\n",
        "    )\n",
        "])\n",
        "fig.show()"
      ],
      "execution_count": 8,
      "outputs": [
        {
          "output_type": "display_data",
          "data": {
            "text/html": [
              "<html>\n",
              "<head><meta charset=\"utf-8\" /></head>\n",
              "<body>\n",
              "    <div>            <script src=\"https://cdnjs.cloudflare.com/ajax/libs/mathjax/2.7.5/MathJax.js?config=TeX-AMS-MML_SVG\"></script><script type=\"text/javascript\">if (window.MathJax && window.MathJax.Hub && window.MathJax.Hub.Config) {window.MathJax.Hub.Config({SVG: {font: \"STIX-Web\"}});}</script>                <script type=\"text/javascript\">window.PlotlyConfig = {MathJaxConfig: 'local'};</script>\n",
              "        <script src=\"https://cdn.plot.ly/plotly-2.18.2.min.js\"></script>                <div id=\"c9d1959e-8268-425d-832e-1d2f0fdf2985\" class=\"plotly-graph-div\" style=\"height:525px; width:100%;\"></div>            <script type=\"text/javascript\">                                    window.PLOTLYENV=window.PLOTLYENV || {};                                    if (document.getElementById(\"c9d1959e-8268-425d-832e-1d2f0fdf2985\")) {                    Plotly.newPlot(                        \"c9d1959e-8268-425d-832e-1d2f0fdf2985\",                        [{\"hovertemplate\":\"x=%{x}<br>y=%{y}<extra></extra>\",\"legendgroup\":\"\",\"marker\":{\"color\":\"#636efa\",\"symbol\":\"circle\"},\"mode\":\"markers\",\"name\":\"\",\"orientation\":\"v\",\"showlegend\":false,\"x\":[121.92,124.46,127.0,129.54,132.08,134.62,137.16,139.7,142.24,144.78,147.32,149.86,152.4,154.94,157.48,160.02,162.56,165.1,167.64,170.18,172.72,175.26,177.8,180.34,182.88,185.42,187.96,190.5,193.04,195.58,198.12,200.66,203.2,205.0,208.0],\"xaxis\":\"x\",\"y\":[28.0,28.1,28.2,28.3,28.4,28.5,35.2,37.6,40.0,42.6,44.9,47.6,49.9,52.6,54.9,57.6,59.9,62.6,64.8,67.6,69.8,72.6,74.8,77.5,79.8,82.5,84.8,87.5,89.8,92.5,94.8,97.5,99.8,102.5,104.8],\"yaxis\":\"y\",\"type\":\"scatter\"}],                        {\"template\":{\"data\":{\"histogram2dcontour\":[{\"type\":\"histogram2dcontour\",\"colorbar\":{\"outlinewidth\":0,\"ticks\":\"\"},\"colorscale\":[[0.0,\"#0d0887\"],[0.1111111111111111,\"#46039f\"],[0.2222222222222222,\"#7201a8\"],[0.3333333333333333,\"#9c179e\"],[0.4444444444444444,\"#bd3786\"],[0.5555555555555556,\"#d8576b\"],[0.6666666666666666,\"#ed7953\"],[0.7777777777777778,\"#fb9f3a\"],[0.8888888888888888,\"#fdca26\"],[1.0,\"#f0f921\"]]}],\"choropleth\":[{\"type\":\"choropleth\",\"colorbar\":{\"outlinewidth\":0,\"ticks\":\"\"}}],\"histogram2d\":[{\"type\":\"histogram2d\",\"colorbar\":{\"outlinewidth\":0,\"ticks\":\"\"},\"colorscale\":[[0.0,\"#0d0887\"],[0.1111111111111111,\"#46039f\"],[0.2222222222222222,\"#7201a8\"],[0.3333333333333333,\"#9c179e\"],[0.4444444444444444,\"#bd3786\"],[0.5555555555555556,\"#d8576b\"],[0.6666666666666666,\"#ed7953\"],[0.7777777777777778,\"#fb9f3a\"],[0.8888888888888888,\"#fdca26\"],[1.0,\"#f0f921\"]]}],\"heatmap\":[{\"type\":\"heatmap\",\"colorbar\":{\"outlinewidth\":0,\"ticks\":\"\"},\"colorscale\":[[0.0,\"#0d0887\"],[0.1111111111111111,\"#46039f\"],[0.2222222222222222,\"#7201a8\"],[0.3333333333333333,\"#9c179e\"],[0.4444444444444444,\"#bd3786\"],[0.5555555555555556,\"#d8576b\"],[0.6666666666666666,\"#ed7953\"],[0.7777777777777778,\"#fb9f3a\"],[0.8888888888888888,\"#fdca26\"],[1.0,\"#f0f921\"]]}],\"heatmapgl\":[{\"type\":\"heatmapgl\",\"colorbar\":{\"outlinewidth\":0,\"ticks\":\"\"},\"colorscale\":[[0.0,\"#0d0887\"],[0.1111111111111111,\"#46039f\"],[0.2222222222222222,\"#7201a8\"],[0.3333333333333333,\"#9c179e\"],[0.4444444444444444,\"#bd3786\"],[0.5555555555555556,\"#d8576b\"],[0.6666666666666666,\"#ed7953\"],[0.7777777777777778,\"#fb9f3a\"],[0.8888888888888888,\"#fdca26\"],[1.0,\"#f0f921\"]]}],\"contourcarpet\":[{\"type\":\"contourcarpet\",\"colorbar\":{\"outlinewidth\":0,\"ticks\":\"\"}}],\"contour\":[{\"type\":\"contour\",\"colorbar\":{\"outlinewidth\":0,\"ticks\":\"\"},\"colorscale\":[[0.0,\"#0d0887\"],[0.1111111111111111,\"#46039f\"],[0.2222222222222222,\"#7201a8\"],[0.3333333333333333,\"#9c179e\"],[0.4444444444444444,\"#bd3786\"],[0.5555555555555556,\"#d8576b\"],[0.6666666666666666,\"#ed7953\"],[0.7777777777777778,\"#fb9f3a\"],[0.8888888888888888,\"#fdca26\"],[1.0,\"#f0f921\"]]}],\"surface\":[{\"type\":\"surface\",\"colorbar\":{\"outlinewidth\":0,\"ticks\":\"\"},\"colorscale\":[[0.0,\"#0d0887\"],[0.1111111111111111,\"#46039f\"],[0.2222222222222222,\"#7201a8\"],[0.3333333333333333,\"#9c179e\"],[0.4444444444444444,\"#bd3786\"],[0.5555555555555556,\"#d8576b\"],[0.6666666666666666,\"#ed7953\"],[0.7777777777777778,\"#fb9f3a\"],[0.8888888888888888,\"#fdca26\"],[1.0,\"#f0f921\"]]}],\"mesh3d\":[{\"type\":\"mesh3d\",\"colorbar\":{\"outlinewidth\":0,\"ticks\":\"\"}}],\"scatter\":[{\"fillpattern\":{\"fillmode\":\"overlay\",\"size\":10,\"solidity\":0.2},\"type\":\"scatter\"}],\"parcoords\":[{\"type\":\"parcoords\",\"line\":{\"colorbar\":{\"outlinewidth\":0,\"ticks\":\"\"}}}],\"scatterpolargl\":[{\"type\":\"scatterpolargl\",\"marker\":{\"colorbar\":{\"outlinewidth\":0,\"ticks\":\"\"}}}],\"bar\":[{\"error_x\":{\"color\":\"#2a3f5f\"},\"error_y\":{\"color\":\"#2a3f5f\"},\"marker\":{\"line\":{\"color\":\"#E5ECF6\",\"width\":0.5},\"pattern\":{\"fillmode\":\"overlay\",\"size\":10,\"solidity\":0.2}},\"type\":\"bar\"}],\"scattergeo\":[{\"type\":\"scattergeo\",\"marker\":{\"colorbar\":{\"outlinewidth\":0,\"ticks\":\"\"}}}],\"scatterpolar\":[{\"type\":\"scatterpolar\",\"marker\":{\"colorbar\":{\"outlinewidth\":0,\"ticks\":\"\"}}}],\"histogram\":[{\"marker\":{\"pattern\":{\"fillmode\":\"overlay\",\"size\":10,\"solidity\":0.2}},\"type\":\"histogram\"}],\"scattergl\":[{\"type\":\"scattergl\",\"marker\":{\"colorbar\":{\"outlinewidth\":0,\"ticks\":\"\"}}}],\"scatter3d\":[{\"type\":\"scatter3d\",\"line\":{\"colorbar\":{\"outlinewidth\":0,\"ticks\":\"\"}},\"marker\":{\"colorbar\":{\"outlinewidth\":0,\"ticks\":\"\"}}}],\"scattermapbox\":[{\"type\":\"scattermapbox\",\"marker\":{\"colorbar\":{\"outlinewidth\":0,\"ticks\":\"\"}}}],\"scatterternary\":[{\"type\":\"scatterternary\",\"marker\":{\"colorbar\":{\"outlinewidth\":0,\"ticks\":\"\"}}}],\"scattercarpet\":[{\"type\":\"scattercarpet\",\"marker\":{\"colorbar\":{\"outlinewidth\":0,\"ticks\":\"\"}}}],\"carpet\":[{\"aaxis\":{\"endlinecolor\":\"#2a3f5f\",\"gridcolor\":\"white\",\"linecolor\":\"white\",\"minorgridcolor\":\"white\",\"startlinecolor\":\"#2a3f5f\"},\"baxis\":{\"endlinecolor\":\"#2a3f5f\",\"gridcolor\":\"white\",\"linecolor\":\"white\",\"minorgridcolor\":\"white\",\"startlinecolor\":\"#2a3f5f\"},\"type\":\"carpet\"}],\"table\":[{\"cells\":{\"fill\":{\"color\":\"#EBF0F8\"},\"line\":{\"color\":\"white\"}},\"header\":{\"fill\":{\"color\":\"#C8D4E3\"},\"line\":{\"color\":\"white\"}},\"type\":\"table\"}],\"barpolar\":[{\"marker\":{\"line\":{\"color\":\"#E5ECF6\",\"width\":0.5},\"pattern\":{\"fillmode\":\"overlay\",\"size\":10,\"solidity\":0.2}},\"type\":\"barpolar\"}],\"pie\":[{\"automargin\":true,\"type\":\"pie\"}]},\"layout\":{\"autotypenumbers\":\"strict\",\"colorway\":[\"#636efa\",\"#EF553B\",\"#00cc96\",\"#ab63fa\",\"#FFA15A\",\"#19d3f3\",\"#FF6692\",\"#B6E880\",\"#FF97FF\",\"#FECB52\"],\"font\":{\"color\":\"#2a3f5f\"},\"hovermode\":\"closest\",\"hoverlabel\":{\"align\":\"left\"},\"paper_bgcolor\":\"white\",\"plot_bgcolor\":\"#E5ECF6\",\"polar\":{\"bgcolor\":\"#E5ECF6\",\"angularaxis\":{\"gridcolor\":\"white\",\"linecolor\":\"white\",\"ticks\":\"\"},\"radialaxis\":{\"gridcolor\":\"white\",\"linecolor\":\"white\",\"ticks\":\"\"}},\"ternary\":{\"bgcolor\":\"#E5ECF6\",\"aaxis\":{\"gridcolor\":\"white\",\"linecolor\":\"white\",\"ticks\":\"\"},\"baxis\":{\"gridcolor\":\"white\",\"linecolor\":\"white\",\"ticks\":\"\"},\"caxis\":{\"gridcolor\":\"white\",\"linecolor\":\"white\",\"ticks\":\"\"}},\"coloraxis\":{\"colorbar\":{\"outlinewidth\":0,\"ticks\":\"\"}},\"colorscale\":{\"sequential\":[[0.0,\"#0d0887\"],[0.1111111111111111,\"#46039f\"],[0.2222222222222222,\"#7201a8\"],[0.3333333333333333,\"#9c179e\"],[0.4444444444444444,\"#bd3786\"],[0.5555555555555556,\"#d8576b\"],[0.6666666666666666,\"#ed7953\"],[0.7777777777777778,\"#fb9f3a\"],[0.8888888888888888,\"#fdca26\"],[1.0,\"#f0f921\"]],\"sequentialminus\":[[0.0,\"#0d0887\"],[0.1111111111111111,\"#46039f\"],[0.2222222222222222,\"#7201a8\"],[0.3333333333333333,\"#9c179e\"],[0.4444444444444444,\"#bd3786\"],[0.5555555555555556,\"#d8576b\"],[0.6666666666666666,\"#ed7953\"],[0.7777777777777778,\"#fb9f3a\"],[0.8888888888888888,\"#fdca26\"],[1.0,\"#f0f921\"]],\"diverging\":[[0,\"#8e0152\"],[0.1,\"#c51b7d\"],[0.2,\"#de77ae\"],[0.3,\"#f1b6da\"],[0.4,\"#fde0ef\"],[0.5,\"#f7f7f7\"],[0.6,\"#e6f5d0\"],[0.7,\"#b8e186\"],[0.8,\"#7fbc41\"],[0.9,\"#4d9221\"],[1,\"#276419\"]]},\"xaxis\":{\"gridcolor\":\"white\",\"linecolor\":\"white\",\"ticks\":\"\",\"title\":{\"standoff\":15},\"zerolinecolor\":\"white\",\"automargin\":true,\"zerolinewidth\":2},\"yaxis\":{\"gridcolor\":\"white\",\"linecolor\":\"white\",\"ticks\":\"\",\"title\":{\"standoff\":15},\"zerolinecolor\":\"white\",\"automargin\":true,\"zerolinewidth\":2},\"scene\":{\"xaxis\":{\"backgroundcolor\":\"#E5ECF6\",\"gridcolor\":\"white\",\"linecolor\":\"white\",\"showbackground\":true,\"ticks\":\"\",\"zerolinecolor\":\"white\",\"gridwidth\":2},\"yaxis\":{\"backgroundcolor\":\"#E5ECF6\",\"gridcolor\":\"white\",\"linecolor\":\"white\",\"showbackground\":true,\"ticks\":\"\",\"zerolinecolor\":\"white\",\"gridwidth\":2},\"zaxis\":{\"backgroundcolor\":\"#E5ECF6\",\"gridcolor\":\"white\",\"linecolor\":\"white\",\"showbackground\":true,\"ticks\":\"\",\"zerolinecolor\":\"white\",\"gridwidth\":2}},\"shapedefaults\":{\"line\":{\"color\":\"#2a3f5f\"}},\"annotationdefaults\":{\"arrowcolor\":\"#2a3f5f\",\"arrowhead\":0,\"arrowwidth\":1},\"geo\":{\"bgcolor\":\"white\",\"landcolor\":\"#E5ECF6\",\"subunitcolor\":\"white\",\"showland\":true,\"showlakes\":true,\"lakecolor\":\"white\"},\"title\":{\"x\":0.05},\"mapbox\":{\"style\":\"light\"}}},\"xaxis\":{\"anchor\":\"y\",\"domain\":[0.0,1.0],\"title\":{\"text\":\"x\"}},\"yaxis\":{\"anchor\":\"x\",\"domain\":[0.0,1.0],\"title\":{\"text\":\"y\"}},\"legend\":{\"tracegroupgap\":0},\"margin\":{\"t\":60},\"shapes\":[{\"type\":\"line\",\"x0\":121.92,\"x1\":208.0,\"y0\":21.382955672138564,\"y1\":104.02133739670664}]},                        {\"responsive\": true}                    ).then(function(){\n",
              "                            \n",
              "var gd = document.getElementById('c9d1959e-8268-425d-832e-1d2f0fdf2985');\n",
              "var x = new MutationObserver(function (mutations, observer) {{\n",
              "        var display = window.getComputedStyle(gd).display;\n",
              "        if (!display || display === 'none') {{\n",
              "            console.log([gd, 'removed!']);\n",
              "            Plotly.purge(gd);\n",
              "            observer.disconnect();\n",
              "        }}\n",
              "}});\n",
              "\n",
              "// Listen for the removal of the full notebook cells\n",
              "var notebookContainer = gd.closest('#notebook-container');\n",
              "if (notebookContainer) {{\n",
              "    x.observe(notebookContainer, {childList: true});\n",
              "}}\n",
              "\n",
              "// Listen for the clearing of the current output cell\n",
              "var outputEl = gd.closest('.output');\n",
              "if (outputEl) {{\n",
              "    x.observe(outputEl, {childList: true});\n",
              "}}\n",
              "\n",
              "                        })                };                            </script>        </div>\n",
              "</body>\n",
              "</html>"
            ]
          },
          "metadata": {}
        }
      ]
    },
    {
      "cell_type": "code",
      "metadata": {
        "colab": {
          "base_uri": "https://localhost:8080/"
        },
        "id": "NLgwYsSOy_LN",
        "outputId": "b4594287-5228-47ac-8f1c-d31dde5516c6"
      },
      "source": [
        "m"
      ],
      "execution_count": 9,
      "outputs": [
        {
          "output_type": "execute_result",
          "data": {
            "text/plain": [
              "0.9600183750530678"
            ]
          },
          "metadata": {},
          "execution_count": 9
        }
      ]
    },
    {
      "cell_type": "code",
      "metadata": {
        "colab": {
          "base_uri": "https://localhost:8080/"
        },
        "id": "rTLYp-OKzBgH",
        "outputId": "4cda464d-000d-410b-acc3-4b6269b39c6c"
      },
      "source": [
        "c"
      ],
      "execution_count": 10,
      "outputs": [
        {
          "output_type": "execute_result",
          "data": {
            "text/plain": [
              "-95.66248461433146"
            ]
          },
          "metadata": {},
          "execution_count": 10
        }
      ]
    },
    {
      "cell_type": "markdown",
      "metadata": {
        "id": "F_Dz0awwCZsl"
      },
      "source": [
        "This is the best fit line for the data that the computer algorithm has provided us. Let's see what will be the weight of someone with height 250 using these new values of the slope and the intercept."
      ]
    },
    {
      "cell_type": "code",
      "metadata": {
        "id": "3UXkIyBSCWUf",
        "colab": {
          "base_uri": "https://localhost:8080/"
        },
        "outputId": "8631327c-e97e-41c0-ace7-9f863b006c67"
      },
      "source": [
        "x = 250\n",
        "y = m * x + c\n",
        "print(f\"Weight of someone with height {x} is {y}\")"
      ],
      "execution_count": 11,
      "outputs": [
        {
          "output_type": "stream",
          "name": "stdout",
          "text": [
            "Weight of someone with height 250 is 144.3421091489355\n"
          ]
        }
      ]
    },
    {
      "cell_type": "markdown",
      "metadata": {
        "id": "9vUMmmd7CpcZ"
      },
      "source": [
        "We earlier got the value of 144.5 and with the computer provided best fit line, we got a result of 144.34\n",
        "\n",
        "\\\n",
        "Great job!\n",
        "\n",
        "\\\n",
        "### Conclusion\n",
        "You just built a model to predict the weight of a person based on the height."
      ]
    }
  ]
}