{
  "nbformat": 4,
  "nbformat_minor": 0,
  "metadata": {
    "colab": {
      "provenance": [],
      "authorship_tag": "ABX9TyM8oBHEPUAZMBCnHnU3tAK8",
      "include_colab_link": true
    },
    "kernelspec": {
      "name": "python3",
      "display_name": "Python 3"
    },
    "language_info": {
      "name": "python"
    }
  },
  "cells": [
    {
      "cell_type": "markdown",
      "metadata": {
        "id": "view-in-github",
        "colab_type": "text"
      },
      "source": [
        "<a href=\"https://colab.research.google.com/github/Drashti-Naik/colab-python/blob/main/Mean%2CMEdian%2CMode.ipynb\" target=\"_parent\"><img src=\"https://colab.research.google.com/assets/colab-badge.svg\" alt=\"Open In Colab\"/></a>"
      ]
    },
    {
      "cell_type": "markdown",
      "source": [
        "Mean,Median,Mode"
      ],
      "metadata": {
        "id": "c2kbCT52yfDt"
      }
    },
    {
      "cell_type": "markdown",
      "source": [
        "What is mean?\n",
        "Average of the most commom value in a collection of numbers.\n",
        "\n",
        "Find the total and then divide by the amount of numbers.\n",
        "2,2,3,5,8\n",
        "\n",
        "2+2+3+5+8 = 20\n",
        "\n",
        "\n",
        "20/5=4"
      ],
      "metadata": {
        "id": "l1ByYHy6y7vw"
      }
    },
    {
      "cell_type": "code",
      "source": [],
      "metadata": {
        "id": "fUh8gFH-7qlb"
      },
      "execution_count": null,
      "outputs": []
    },
    {
      "cell_type": "code",
      "source": [
        "import csv  #csv = comma seperated value\n",
        "with open(\"hw_200.csv\",newline='') as f:\n",
        "  reader = csv.reader(f)\n",
        "  file_data = list(reader)\n",
        "\n",
        "file_data.pop(0)  #remove the 0 index(tittle).\n",
        "#print(file_data)\n",
        "\n",
        "#sort data to get height\n",
        "newdata = []\n",
        "for i in range(len(file_data)):\n",
        "  n_num = file_data[i][1]\n",
        "  newdata.append(float(n_num))  #append add the single item to the existing list.\n",
        "\n",
        "#print(newdata) \n",
        "\n",
        "n = len(newdata)\n",
        "total = 0\n",
        "for x in newdata:\n",
        "  total += x\n",
        "\n",
        "mean = total / n\n",
        "print(\"Mean/Avaerage is:\" + str(mean))  \n"
      ],
      "metadata": {
        "id": "pGS8uL6zzoNu",
        "colab": {
          "base_uri": "https://localhost:8080/",
          "height": 235
        },
        "outputId": "e653068f-e93d-40f6-b25a-468265ee7798"
      },
      "execution_count": 12,
      "outputs": [
        {
          "output_type": "error",
          "ename": "TypeError",
          "evalue": "ignored",
          "traceback": [
            "\u001b[0;31m---------------------------------------------------------------------------\u001b[0m",
            "\u001b[0;31mTypeError\u001b[0m                                 Traceback (most recent call last)",
            "\u001b[0;32m<ipython-input-12-d80725466b4a>\u001b[0m in \u001b[0;36m<cell line: 11>\u001b[0;34m()\u001b[0m\n\u001b[1;32m      9\u001b[0m \u001b[0;31m#sort data to get height\u001b[0m\u001b[0;34m\u001b[0m\u001b[0;34m\u001b[0m\u001b[0m\n\u001b[1;32m     10\u001b[0m \u001b[0mnewdata\u001b[0m \u001b[0;34m=\u001b[0m \u001b[0;34m[\u001b[0m\u001b[0;34m]\u001b[0m\u001b[0;34m\u001b[0m\u001b[0;34m\u001b[0m\u001b[0m\n\u001b[0;32m---> 11\u001b[0;31m \u001b[0;32mfor\u001b[0m \u001b[0mi\u001b[0m \u001b[0;32min\u001b[0m \u001b[0mrange\u001b[0m\u001b[0;34m(\u001b[0m\u001b[0mlen\u001b[0m\u001b[0;34m(\u001b[0m\u001b[0mfile_data\u001b[0m\u001b[0;34m)\u001b[0m\u001b[0;34m)\u001b[0m\u001b[0;34m:\u001b[0m\u001b[0;34m\u001b[0m\u001b[0;34m\u001b[0m\u001b[0m\n\u001b[0m\u001b[1;32m     12\u001b[0m   \u001b[0mn_num\u001b[0m \u001b[0;34m=\u001b[0m \u001b[0mfile_data\u001b[0m\u001b[0;34m[\u001b[0m\u001b[0mi\u001b[0m\u001b[0;34m]\u001b[0m\u001b[0;34m[\u001b[0m\u001b[0;36m1\u001b[0m\u001b[0;34m]\u001b[0m\u001b[0;34m\u001b[0m\u001b[0;34m\u001b[0m\u001b[0m\n\u001b[1;32m     13\u001b[0m   \u001b[0mnewdata\u001b[0m\u001b[0;34m.\u001b[0m\u001b[0mappend\u001b[0m\u001b[0;34m(\u001b[0m\u001b[0mfloat\u001b[0m\u001b[0;34m(\u001b[0m\u001b[0mn_num\u001b[0m\u001b[0;34m)\u001b[0m\u001b[0;34m)\u001b[0m  \u001b[0;31m#append add the single item to the existing list.\u001b[0m\u001b[0;34m\u001b[0m\u001b[0;34m\u001b[0m\u001b[0m\n",
            "\u001b[0;31mTypeError\u001b[0m: 'str' object is not callable"
          ]
        }
      ]
    },
    {
      "cell_type": "markdown",
      "source": [
        "What is Median?\n",
        "\n",
        "Middle value when the numbers are in increasing order.\n",
        "\n",
        "1,3,6,8,9 median = 6 (odd range)\n",
        "\n",
        "1,4,5,6,8,9 median = (5+6/2) = 5.5 (even range)\n",
        "\n",
        "\n"
      ],
      "metadata": {
        "id": "Zql9gTxgJA_i"
      }
    },
    {
      "cell_type": "code",
      "source": [
        "import csv  #csv = comma seperated value\n",
        "with open(\"hw_200.csv\",newline='') as f:\n",
        "  reader = csv.reader(f)\n",
        "  file_data = list(reader)\n",
        "\n",
        "file_data.pop(0)  #remove the 0 index(tittle).\n",
        "#print(file_data)\n",
        "\n",
        "#sort data to get height\n",
        "newdata = []\n",
        "for i in range(len(file_data)):\n",
        "  n_num = file_data[i][1]\n",
        "  newdata.append(float(n_num))  #append add the single item to the existing list.\n",
        "\n",
        "\n",
        "n = len(newdata)\n",
        "newdata.sort()\n",
        "#print(newdata)\n",
        "\n",
        "#even number\n",
        "if n % 2 == 0 :\n",
        "  #getting first number\n",
        "  median1 = float(newdata[n//2])  # // means floor division(nearest whole number or round off ex 5/2 = 2.5 with // its 3)\n",
        "  #getting seconf numner\n",
        "  median2 = float(newdata[n//2-1])\n",
        "  #getting median\n",
        "  median = (median1 + median2)/2\n",
        "\n",
        "else:\n",
        "   median = float(newdata[n//2]) \n",
        "\n",
        "print(\"Median is \" + str(median))   \n",
        "\n"
      ],
      "metadata": {
        "colab": {
          "base_uri": "https://localhost:8080/",
          "height": 235
        },
        "id": "o5hDpGjnJ6l2",
        "outputId": "6d9911d9-bd5c-4f91-cc39-be327ef4bffd"
      },
      "execution_count": 13,
      "outputs": [
        {
          "output_type": "error",
          "ename": "TypeError",
          "evalue": "ignored",
          "traceback": [
            "\u001b[0;31m---------------------------------------------------------------------------\u001b[0m",
            "\u001b[0;31mTypeError\u001b[0m                                 Traceback (most recent call last)",
            "\u001b[0;32m<ipython-input-13-7ae16f2ca08e>\u001b[0m in \u001b[0;36m<cell line: 11>\u001b[0;34m()\u001b[0m\n\u001b[1;32m      9\u001b[0m \u001b[0;31m#sort data to get height\u001b[0m\u001b[0;34m\u001b[0m\u001b[0;34m\u001b[0m\u001b[0m\n\u001b[1;32m     10\u001b[0m \u001b[0mnewdata\u001b[0m \u001b[0;34m=\u001b[0m \u001b[0;34m[\u001b[0m\u001b[0;34m]\u001b[0m\u001b[0;34m\u001b[0m\u001b[0;34m\u001b[0m\u001b[0m\n\u001b[0;32m---> 11\u001b[0;31m \u001b[0;32mfor\u001b[0m \u001b[0mi\u001b[0m \u001b[0;32min\u001b[0m \u001b[0mrange\u001b[0m\u001b[0;34m(\u001b[0m\u001b[0mlen\u001b[0m\u001b[0;34m(\u001b[0m\u001b[0mfile_data\u001b[0m\u001b[0;34m)\u001b[0m\u001b[0;34m)\u001b[0m\u001b[0;34m:\u001b[0m\u001b[0;34m\u001b[0m\u001b[0;34m\u001b[0m\u001b[0m\n\u001b[0m\u001b[1;32m     12\u001b[0m   \u001b[0mn_num\u001b[0m \u001b[0;34m=\u001b[0m \u001b[0mfile_data\u001b[0m\u001b[0;34m[\u001b[0m\u001b[0mi\u001b[0m\u001b[0;34m]\u001b[0m\u001b[0;34m[\u001b[0m\u001b[0;36m1\u001b[0m\u001b[0;34m]\u001b[0m\u001b[0;34m\u001b[0m\u001b[0;34m\u001b[0m\u001b[0m\n\u001b[1;32m     13\u001b[0m   \u001b[0mnewdata\u001b[0m\u001b[0;34m.\u001b[0m\u001b[0mappend\u001b[0m\u001b[0;34m(\u001b[0m\u001b[0mfloat\u001b[0m\u001b[0;34m(\u001b[0m\u001b[0mn_num\u001b[0m\u001b[0;34m)\u001b[0m\u001b[0;34m)\u001b[0m  \u001b[0;31m#append add the single item to the existing list.\u001b[0m\u001b[0;34m\u001b[0m\u001b[0;34m\u001b[0m\u001b[0m\n",
            "\u001b[0;31mTypeError\u001b[0m: 'str' object is not callable"
          ]
        }
      ]
    },
    {
      "cell_type": "markdown",
      "source": [
        "What is Mode?\n",
        "\n",
        "Mode = Most\n",
        "\n",
        "the number that is wriiten most\n",
        "\n",
        "2,4,4,5,6  Mode = 4\n",
        "\n",
        "1,1,2,2,2,3  Mode = 2"
      ],
      "metadata": {
        "id": "VBAp5URUPB8z"
      }
    },
    {
      "cell_type": "code",
      "source": [
        "from collections import Counter\n",
        "#counter is a sub-class avalible inside the dictionary class. Using Counter tool we can count the key-value pair.\n",
        "import csv  #csv = comma seperated value\n",
        "with open(\"hw_200.csv\",newline='') as f:\n",
        "  reader = csv.reader(f)\n",
        "  file_data = list(reader)\n",
        "\n",
        "file_data.pop(0)  #remove the 0 index(tittle).\n",
        "#print(file_data)\n",
        "\n",
        "#sort data to get height\n",
        "newdata = []\n",
        "for i in range(len(file_data)):\n",
        "  n_num = file_data[i][1]\n",
        "  newdata.append(float(n_num))  #append add the single item to the existing list.\n",
        "\n",
        "#calculation Mode\n",
        "data = Counter(newdata)\n",
        "mode_data_for_range = {\n",
        "                        \"50-60\" : 0,\n",
        "                        \"60-70\" : 0,\n",
        "                        \"70-80\" : 0\n",
        "                      }\n",
        "\n",
        "for height, occurance in data.items():\n",
        "  if 50 < float(height) < 60:\n",
        "    mode_data_for_range[\"50-60\"] += occurance\n",
        "  elif 60 < float(height) < 70:\n",
        "    mode_data_for_range[\"60-70\"] += occurance\n",
        "  elif 70 < float(height) < 80:\n",
        "    mode_data_for_range[\"70-80\"] += occurance \n",
        "\n",
        "mode_range, mode_occurance = 0, 0\n",
        "for range,occurance in mode_data_for_range.items():\n",
        "  if occurance < mode_occurance:\n",
        "    mode_range, mode_occurance = [int(range.split(\"-\")[0]), int(range.split(\"-\")[1])],occurance\n",
        "mode = float((mode_range[0] + mode_range[1]) / 2)\n",
        "print(f\"Mode is : {mode:2f}\")     \n"
      ],
      "metadata": {
        "id": "I0z4PKIKPhKP",
        "colab": {
          "base_uri": "https://localhost:8080/",
          "height": 235
        },
        "outputId": "41747752-8bb9-4ad4-d926-9ecb69e8a45d"
      },
      "execution_count": 9,
      "outputs": [
        {
          "output_type": "error",
          "ename": "TypeError",
          "evalue": "ignored",
          "traceback": [
            "\u001b[0;31m---------------------------------------------------------------------------\u001b[0m",
            "\u001b[0;31mTypeError\u001b[0m                                 Traceback (most recent call last)",
            "\u001b[0;32m<ipython-input-9-f220602725ec>\u001b[0m in \u001b[0;36m<cell line: 13>\u001b[0;34m()\u001b[0m\n\u001b[1;32m     11\u001b[0m \u001b[0;31m#sort data to get height\u001b[0m\u001b[0;34m\u001b[0m\u001b[0;34m\u001b[0m\u001b[0m\n\u001b[1;32m     12\u001b[0m \u001b[0mnewdata\u001b[0m \u001b[0;34m=\u001b[0m \u001b[0;34m[\u001b[0m\u001b[0;34m]\u001b[0m\u001b[0;34m\u001b[0m\u001b[0;34m\u001b[0m\u001b[0m\n\u001b[0;32m---> 13\u001b[0;31m \u001b[0;32mfor\u001b[0m \u001b[0mi\u001b[0m \u001b[0;32min\u001b[0m \u001b[0mrange\u001b[0m\u001b[0;34m(\u001b[0m\u001b[0mlen\u001b[0m\u001b[0;34m(\u001b[0m\u001b[0mfile_data\u001b[0m\u001b[0;34m)\u001b[0m\u001b[0;34m)\u001b[0m\u001b[0;34m:\u001b[0m\u001b[0;34m\u001b[0m\u001b[0;34m\u001b[0m\u001b[0m\n\u001b[0m\u001b[1;32m     14\u001b[0m   \u001b[0mn_num\u001b[0m \u001b[0;34m=\u001b[0m \u001b[0mfile_data\u001b[0m\u001b[0;34m[\u001b[0m\u001b[0mi\u001b[0m\u001b[0;34m]\u001b[0m\u001b[0;34m[\u001b[0m\u001b[0;36m1\u001b[0m\u001b[0;34m]\u001b[0m\u001b[0;34m\u001b[0m\u001b[0;34m\u001b[0m\u001b[0m\n\u001b[1;32m     15\u001b[0m   \u001b[0mnewdata\u001b[0m\u001b[0;34m.\u001b[0m\u001b[0mappend\u001b[0m\u001b[0;34m(\u001b[0m\u001b[0mfloat\u001b[0m\u001b[0;34m(\u001b[0m\u001b[0mn_num\u001b[0m\u001b[0;34m)\u001b[0m\u001b[0;34m)\u001b[0m  \u001b[0;31m#append add the single item to the existing list.\u001b[0m\u001b[0;34m\u001b[0m\u001b[0;34m\u001b[0m\u001b[0m\n",
            "\u001b[0;31mTypeError\u001b[0m: 'str' object is not callable"
          ]
        }
      ]
    },
    {
      "cell_type": "code",
      "source": [
        "import statistics\n",
        "mylist = [1,2,3,3,4,4,4,5,5,6]\n",
        "print(statistics.mode(mylist))"
      ],
      "metadata": {
        "colab": {
          "base_uri": "https://localhost:8080/"
        },
        "id": "gQlvyrmuCuQm",
        "outputId": "d6b616a2-8fc7-456d-d871-055f23fe23ee"
      },
      "execution_count": 15,
      "outputs": [
        {
          "output_type": "stream",
          "name": "stdout",
          "text": [
            "4\n"
          ]
        }
      ]
    },
    {
      "cell_type": "code",
      "source": [
        "pip install howdoi #howdoi is a local goggle or take the top answers from stack overflow"
      ],
      "metadata": {
        "colab": {
          "base_uri": "https://localhost:8080/"
        },
        "id": "cXBEj2eIMEtx",
        "outputId": "b8f87efb-5637-4a72-fca1-a658d7fbbcde"
      },
      "execution_count": 16,
      "outputs": [
        {
          "output_type": "stream",
          "name": "stdout",
          "text": [
            "Looking in indexes: https://pypi.org/simple, https://us-python.pkg.dev/colab-wheels/public/simple/\n",
            "Collecting howdoi\n",
            "  Downloading howdoi-2.0.20.tar.gz (27 kB)\n",
            "  Preparing metadata (setup.py) ... \u001b[?25l\u001b[?25hdone\n",
            "Requirement already satisfied: Pygments in /usr/local/lib/python3.9/dist-packages (from howdoi) (2.14.0)\n",
            "Collecting cssselect\n",
            "  Downloading cssselect-1.2.0-py2.py3-none-any.whl (18 kB)\n",
            "Requirement already satisfied: lxml in /usr/local/lib/python3.9/dist-packages (from howdoi) (4.9.2)\n",
            "Collecting pyquery\n",
            "  Downloading pyquery-2.0.0-py3-none-any.whl (22 kB)\n",
            "Requirement already satisfied: requests in /usr/local/lib/python3.9/dist-packages (from howdoi) (2.27.1)\n",
            "Collecting cachelib\n",
            "  Downloading cachelib-0.10.2-py3-none-any.whl (18 kB)\n",
            "Requirement already satisfied: appdirs in /usr/local/lib/python3.9/dist-packages (from howdoi) (1.4.4)\n",
            "Collecting keep\n",
            "  Downloading keep-2.10.1-py3-none-any.whl (15 kB)\n",
            "Requirement already satisfied: rich in /usr/local/lib/python3.9/dist-packages (from howdoi) (13.3.3)\n",
            "Collecting colorama\n",
            "  Downloading colorama-0.4.6-py2.py3-none-any.whl (25 kB)\n",
            "Requirement already satisfied: click in /usr/local/lib/python3.9/dist-packages (from keep->howdoi) (8.1.3)\n",
            "Collecting PyGithub\n",
            "  Downloading PyGithub-1.58.1-py3-none-any.whl (312 kB)\n",
            "\u001b[2K     \u001b[90m━━━━━━━━━━━━━━━━━━━━━━━━━━━━━━━━━━━━━━\u001b[0m \u001b[32m312.5/312.5 kB\u001b[0m \u001b[31m15.9 MB/s\u001b[0m eta \u001b[36m0:00:00\u001b[0m\n",
            "\u001b[?25hCollecting terminaltables\n",
            "  Downloading terminaltables-3.1.10-py2.py3-none-any.whl (15 kB)\n",
            "Requirement already satisfied: idna<4,>=2.5 in /usr/local/lib/python3.9/dist-packages (from requests->howdoi) (3.4)\n",
            "Requirement already satisfied: certifi>=2017.4.17 in /usr/local/lib/python3.9/dist-packages (from requests->howdoi) (2022.12.7)\n",
            "Requirement already satisfied: urllib3<1.27,>=1.21.1 in /usr/local/lib/python3.9/dist-packages (from requests->howdoi) (1.26.15)\n",
            "Requirement already satisfied: charset-normalizer~=2.0.0 in /usr/local/lib/python3.9/dist-packages (from requests->howdoi) (2.0.12)\n",
            "Requirement already satisfied: markdown-it-py<3.0.0,>=2.2.0 in /usr/local/lib/python3.9/dist-packages (from rich->howdoi) (2.2.0)\n",
            "Requirement already satisfied: mdurl~=0.1 in /usr/local/lib/python3.9/dist-packages (from markdown-it-py<3.0.0,>=2.2.0->rich->howdoi) (0.1.2)\n",
            "Collecting pyjwt[crypto]>=2.4.0\n",
            "  Downloading PyJWT-2.6.0-py3-none-any.whl (20 kB)\n",
            "Collecting pynacl>=1.4.0\n",
            "  Downloading PyNaCl-1.5.0-cp36-abi3-manylinux_2_17_x86_64.manylinux2014_x86_64.manylinux_2_24_x86_64.whl (856 kB)\n",
            "\u001b[2K     \u001b[90m━━━━━━━━━━━━━━━━━━━━━━━━━━━━━━━━━━━━━━\u001b[0m \u001b[32m856.7/856.7 kB\u001b[0m \u001b[31m48.0 MB/s\u001b[0m eta \u001b[36m0:00:00\u001b[0m\n",
            "\u001b[?25hCollecting deprecated\n",
            "  Downloading Deprecated-1.2.13-py2.py3-none-any.whl (9.6 kB)\n",
            "Requirement already satisfied: cryptography>=3.4.0 in /usr/local/lib/python3.9/dist-packages (from pyjwt[crypto]>=2.4.0->PyGithub->keep->howdoi) (40.0.1)\n",
            "Requirement already satisfied: cffi>=1.4.1 in /usr/local/lib/python3.9/dist-packages (from pynacl>=1.4.0->PyGithub->keep->howdoi) (1.15.1)\n",
            "Requirement already satisfied: wrapt<2,>=1.10 in /usr/local/lib/python3.9/dist-packages (from deprecated->PyGithub->keep->howdoi) (1.14.1)\n",
            "Requirement already satisfied: pycparser in /usr/local/lib/python3.9/dist-packages (from cffi>=1.4.1->pynacl>=1.4.0->PyGithub->keep->howdoi) (2.21)\n",
            "Building wheels for collected packages: howdoi\n",
            "  Building wheel for howdoi (setup.py) ... \u001b[?25l\u001b[?25hdone\n",
            "  Created wheel for howdoi: filename=howdoi-2.0.20-py3-none-any.whl size=16095 sha256=9ab036e43ddafbf407df29989cdb953d4cdc5eb1bca2f2c0d55981dc513685db\n",
            "  Stored in directory: /root/.cache/pip/wheels/f3/97/6b/09931e401a6e03c4e81b43bbbb9dcb8457f900baad813c81d4\n",
            "Successfully built howdoi\n",
            "Installing collected packages: terminaltables, pyjwt, deprecated, cssselect, colorama, cachelib, pyquery, pynacl, PyGithub, keep, howdoi\n",
            "Successfully installed PyGithub-1.58.1 cachelib-0.10.2 colorama-0.4.6 cssselect-1.2.0 deprecated-1.2.13 howdoi-2.0.20 keep-2.10.1 pyjwt-2.6.0 pynacl-1.5.0 pyquery-2.0.0 terminaltables-3.1.10\n"
          ]
        }
      ]
    },
    {
      "cell_type": "code",
      "source": [
        "!howdoi What is numpy in python       # ! use for cmd            "
      ],
      "metadata": {
        "colab": {
          "base_uri": "https://localhost:8080/"
        },
        "id": "d3b9K0R0MY6K",
        "outputId": "cde56e8e-6098-46c2-969e-58b8b288c071"
      },
      "execution_count": 20,
      "outputs": [
        {
          "output_type": "stream",
          "name": "stdout",
          "text": [
            ".numpy()\n",
            "\u001b[0m"
          ]
        }
      ]
    },
    {
      "cell_type": "markdown",
      "source": [],
      "metadata": {
        "id": "-emkWZdkL736"
      }
    },
    {
      "cell_type": "markdown",
      "source": [
        "What is CSV?\n",
        "\n",
        "A CSV(Comma seperated value) file is a Plain text file which use a specific structure to arrange tabular data.The standard fromat of CSV file is defined by rows and columns data where a newline terminates each row to begin the next row, and each column is seperated by a comma within the row.\n"
      ],
      "metadata": {
        "id": "o4J859m_CGce"
      }
    }
  ]
}