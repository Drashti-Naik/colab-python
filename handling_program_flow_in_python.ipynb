{
  "nbformat": 4,
  "nbformat_minor": 0,
  "metadata": {
    "celltoolbar": "Slideshow",
    "kernelspec": {
      "display_name": "Python 3",
      "language": "python",
      "name": "python3"
    },
    "language_info": {
      "codemirror_mode": {
        "name": "ipython",
        "version": 3
      },
      "file_extension": ".py",
      "mimetype": "text/x-python",
      "name": "python",
      "nbconvert_exporter": "python",
      "pygments_lexer": "ipython3",
      "version": "3.7.0"
    },
    "toc": {
      "colors": {
        "hover_highlight": "#DAA520",
        "running_highlight": "#FF0000",
        "selected_highlight": "#FFD700"
      },
      "moveMenuLeft": true,
      "nav_menu": {
        "height": "386px",
        "width": "268px"
      },
      "navigate_menu": true,
      "number_sections": true,
      "sideBar": true,
      "threshold": 4,
      "toc_cell": false,
      "toc_position": {
        "height": "664px",
        "left": "0px",
        "right": "1388px",
        "top": "107px",
        "width": "233px"
      },
      "toc_section_display": "block",
      "toc_window_display": true
    },
    "colab": {
      "provenance": [],
      "include_colab_link": true
    }
  },
  "cells": [
    {
      "cell_type": "markdown",
      "metadata": {
        "id": "view-in-github",
        "colab_type": "text"
      },
      "source": [
        "<a href=\"https://colab.research.google.com/github/Drashti-Naik/colab-python/blob/main/handling_program_flow_in_python.ipynb\" target=\"_parent\"><img src=\"https://colab.research.google.com/assets/colab-badge.svg\" alt=\"Open In Colab\"/></a>"
      ]
    },
    {
      "cell_type": "markdown",
      "metadata": {
        "id": "5P34lLBZ7bJ1"
      },
      "source": [
        " # Handling Program Flow in Python"
      ]
    },
    {
      "cell_type": "markdown",
      "metadata": {
        "id": "LQ-WVJ-C7bKP"
      },
      "source": [
        "<img src=\"https://github.com/commit-live-students/GLabs_DSMP_New_Solutions/blob/master/01_Python_Data_Science_Toolkit/03_Handling_Program_Flow_in_Python/Exercise/images/icon/Technical-Stuff.png?raw=1\" alt=\"Concept-Alert\" style=\"width: 100px;float:left; margin-right:15px\"/>\n",
        "<br /> \n",
        "\n",
        "# Python Programming Constructs\n",
        "***\n",
        "We'll be talking about\n",
        "- Conditional Statements\n",
        "- Looping\n",
        "- Comprehensions\n",
        "- Functions\n"
      ]
    },
    {
      "cell_type": "markdown",
      "metadata": {
        "id": "Nuy2Nb507bKV"
      },
      "source": [
        "# If,elif,else Statements\n",
        "\n",
        "if Statements in Python allows us to tell the computer to perform alternative actions based on a certain set of results.\n",
        "\n",
        "Verbally, we can imagine we are telling the computer:\n",
        "\n",
        "\"Hey if this case happens, perform some action\"\n",
        "\n",
        "We can then expand the idea further with elif and else statements, which allow us to tell the computer:\n",
        "\n",
        "\"Hey if this case happens, perform some action. Else if another case happens, perform some other action. Else-- none of the above cases happened, perform this action\"\n",
        "\n",
        "Let's go ahead and look at the syntax format for if statements to get a better idea of this:\n",
        "\n",
        "    if case1:\n",
        "        perform action1\n",
        "    elif case2:\n",
        "        perform action2\n",
        "    else: \n",
        "        perform action 3"
      ]
    },
    {
      "cell_type": "markdown",
      "metadata": {
        "id": "k0SnFWXl7bKa"
      },
      "source": [
        "### Instructions\n",
        "Is the number positive or negative?\n",
        "\n",
        "In this task you are going to make use of the if-elif-else statement to find out if a number is positive, negative or zero.\n",
        "\n",
        "* A variable `num = -5` is given along with another variable `condition=None` (captures the state of num)\n",
        "\n",
        "* Put the conditions for checking whether the number is positive (+) , negative (-) or zero (0) using if-elif-else construct.\n",
        "\n",
        "* If `num` is greater than 0 set `condition='positive'`. Print out the variable condition.\n",
        "\n",
        "* Elif `num` is less than 0, set `condition='negative'`. Print out the variable condition.\n",
        "\n",
        "* Else num is equal to 0 set `condition='zero'`. Print out the variable condition."
      ]
    },
    {
      "cell_type": "code",
      "metadata": {
        "colab": {
          "base_uri": "https://localhost:8080/"
        },
        "id": "oQc_hafX4RMN",
        "outputId": "226e3b7a-c4ff-47c7-9795-8d114d3815ff"
      },
      "source": [
        "num=-5\n",
        "condition=None\n",
        "\n",
        "if num>0:\n",
        "  condition='positive'\n",
        "  print(condition)\n",
        "elif num<0:\n",
        "  condition='negative'\n",
        "  print(condition)\n",
        "else:\n",
        "  condition='zero'\n",
        "  print(condition)"
      ],
      "execution_count": null,
      "outputs": [
        {
          "output_type": "stream",
          "text": [
            "negative\n"
          ],
          "name": "stdout"
        }
      ]
    },
    {
      "cell_type": "code",
      "metadata": {
        "id": "mm5dO7c74RXh"
      },
      "source": [],
      "execution_count": null,
      "outputs": []
    },
    {
      "cell_type": "code",
      "metadata": {
        "colab": {
          "base_uri": "https://localhost:8080/"
        },
        "id": "5kfDBOxeAbh6",
        "outputId": "cc668a5d-0a09-4c65-aaed-824a6abb7836"
      },
      "source": [
        "# find number is even or odd\n",
        "num=81\n",
        "\n",
        "if num%2==0:\n",
        "  print(\"even\")\n",
        "else:\n",
        "  print(\"odd\")"
      ],
      "execution_count": null,
      "outputs": [
        {
          "output_type": "stream",
          "text": [
            "odd\n"
          ],
          "name": "stdout"
        }
      ]
    },
    {
      "cell_type": "code",
      "metadata": {
        "id": "2mpl6pkTAbog"
      },
      "source": [],
      "execution_count": null,
      "outputs": []
    },
    {
      "cell_type": "markdown",
      "metadata": {
        "id": "XMqsKu5C7bKo"
      },
      "source": [
        "<img src=\"https://github.com/commit-live-students/GLabs_DSMP_New_Solutions/blob/master/01_Python_Data_Science_Toolkit/03_Handling_Program_Flow_in_Python/Exercise/images/icon/Warning.png?raw=1\" alt=\"Warning\" style=\"width: 100px;float:left; margin-right:15px\"/>\n",
        "<br />\n",
        "\n",
        "### Indentation\n",
        "***\n",
        "It is important to keep a good understanding of how indentation works in Python to maintain the structure and order of your code. We will touch on this topic again when we start building out functions!"
      ]
    },
    {
      "cell_type": "markdown",
      "metadata": {
        "id": "HjPokol97bKq"
      },
      "source": [
        "<img src=\"https://github.com/commit-live-students/GLabs_DSMP_New_Solutions/blob/master/01_Python_Data_Science_Toolkit/03_Handling_Program_Flow_in_Python/Exercise/images/icon/Technical-Stuff.png?raw=1\" alt=\"Technical-Stuff\" style=\"width: 100px;float:left; margin-right:15px\"/>\n",
        "<br />\n",
        "\n",
        "# For Loops\n",
        "***\n",
        "A **for** loop acts as an iterator in Python, it goes through items that are in a *sequence* or any other iterable item. Objects that we've learned about that we can iterate over include strings,lists,tuples, and even built in iterables for dictionaries, such as the keys or values.\n",
        "\n",
        "We've already seen the **for** statement a little bit in past lectures but now lets formalize our understanding.\n",
        "\n",
        "Here's the general format for a **for** loop in Python:\n",
        "\n",
        "    for item in object:\n",
        "        statements to do stuff\n",
        "\n",
        "The variable name used for the item is completely up to the coder, so use your best judgment for choosing a name that makes sense and you will be able to understand when revisiting your code. This item name can then be referenced inside you loop, for example if you wanted to use if statements to perform checks.\n",
        "\n",
        "Let's go ahead and work through several example of **for** loops using a variety of data object types. we'll start simple and build more complexity later on.\n"
      ]
    },
    {
      "cell_type": "markdown",
      "metadata": {
        "id": "bhyeiQLK7bKs"
      },
      "source": [
        "### Instructions\n",
        "\n",
        "**Find numbers divisible by 2 or 4**\n",
        "\n",
        "In this task you will learn how to use a for loop and conditionals by making a list of natural numbers less than or equal to 60 which are divisible by 2 or 4.\n",
        "\n",
        "* Iterate over a range using the `range()` function from `1` to `61` using the for loop\n",
        "\n",
        "* Initialize an empty list named `divisible` to store your results\n",
        "\n",
        "* Use the if statement to check if the iterable is divisible by `2` or `4`, and if yes, then append it to the list created in the above step\n",
        "\n",
        "* Print `divisible`"
      ]
    },
    {
      "cell_type": "code",
      "metadata": {
        "colab": {
          "base_uri": "https://localhost:8080/"
        },
        "id": "shL1XFi44UU0",
        "outputId": "ed24e542-75cc-4f6d-a8e7-1931b37fded2"
      },
      "source": [
        "divisible=[]\n",
        "\n",
        "for i in range(1,61):\n",
        "  if i%2==0 or i%4==0:\n",
        "    divisible.append(i)\n",
        "\n",
        "print(divisible)"
      ],
      "execution_count": null,
      "outputs": [
        {
          "output_type": "stream",
          "text": [
            "[2, 4, 6, 8, 10, 12, 14, 16, 18, 20, 22, 24, 26, 28, 30, 32, 34, 36, 38, 40, 42, 44, 46, 48, 50, 52, 54, 56, 58, 60]\n"
          ],
          "name": "stdout"
        }
      ]
    },
    {
      "cell_type": "code",
      "metadata": {
        "id": "e7t9YpPI5Yk_"
      },
      "source": [],
      "execution_count": null,
      "outputs": []
    },
    {
      "cell_type": "markdown",
      "metadata": {
        "id": "1QC7Ztqb7bKv"
      },
      "source": [
        "### Instructions\n",
        "\n",
        "* Now its time for you to code again can you create a list of 10 numbers iterate through the list and print the square of each number."
      ]
    },
    {
      "cell_type": "code",
      "metadata": {
        "id": "UCWpS2u46S_9",
        "colab": {
          "base_uri": "https://localhost:8080/"
        },
        "outputId": "7e16861f-cae3-4cf3-f709-c527402b90d2"
      },
      "source": [
        "range(10)"
      ],
      "execution_count": null,
      "outputs": [
        {
          "output_type": "execute_result",
          "data": {
            "text/plain": [
              "range(0, 10)"
            ]
          },
          "metadata": {
            "tags": []
          },
          "execution_count": 42
        }
      ]
    },
    {
      "cell_type": "code",
      "metadata": {
        "colab": {
          "base_uri": "https://localhost:8080/"
        },
        "id": "8QAR5Rbe53_q",
        "outputId": "3fc67e7d-9801-4005-9cc4-ab06d01ac608"
      },
      "source": [
        "for i in range(10):\n",
        "  print(i**2)"
      ],
      "execution_count": null,
      "outputs": [
        {
          "output_type": "stream",
          "text": [
            "0\n",
            "1\n",
            "4\n",
            "9\n",
            "16\n",
            "25\n",
            "36\n",
            "49\n",
            "64\n",
            "81\n"
          ],
          "name": "stdout"
        }
      ]
    },
    {
      "cell_type": "code",
      "metadata": {
        "id": "W4t3FSfj54C-"
      },
      "source": [],
      "execution_count": null,
      "outputs": []
    },
    {
      "cell_type": "code",
      "metadata": {
        "id": "iBTJLIHx9ctj"
      },
      "source": [],
      "execution_count": null,
      "outputs": []
    },
    {
      "cell_type": "markdown",
      "metadata": {
        "id": "PhtXL6nI7bK2"
      },
      "source": [
        "<img src=\"https://github.com/commit-live-students/GLabs_DSMP_New_Solutions/blob/master/01_Python_Data_Science_Toolkit/03_Handling_Program_Flow_in_Python/Exercise/images/icon/Technical-Stuff.png?raw=1\" alt=\"Technical-Stuff\" style=\"width: 100px;float:left; margin-right:15px\"/>\n",
        "<br />\n",
        "\n",
        "# While loops\n",
        "***\n",
        "The **while** statement in Python is one of most general ways to perform iteration. A **while** statement will repeatedly execute a single statement or group of statements as long as the condition is true. The reason it is called a 'loop' is because the code statements are looped through over and over again until the condition is no longer met.\n",
        "\n",
        "The general format of a while loop is:\n",
        "\n",
        "    while test:\n",
        "        code statement\n",
        "    else:\n",
        "        final code statements\n",
        "\n",
        "Let’s look at a few simple while loops in action. \n"
      ]
    },
    {
      "cell_type": "markdown",
      "metadata": {
        "id": "iDnbUyn_7bK5"
      },
      "source": [
        "### Instructions\n",
        "**Find multiples of 20**\n",
        "\n",
        "In this task you will be using a while loop to iterate over natural numbers from 1 to 200 and store only the multiples of 20 in a list and print that list\n",
        "\n",
        "* Initialize an empty list `factors` and a variable `num` equal to `1`\n",
        "\n",
        "* Set the condtion in the `while` loop until the variable `num` is equal to or less than `200`\n",
        "\n",
        "* Check using an if statement whether the variable is divisible by 20 and if it is, append that number to `factors`\n",
        "\n",
        "* Increment the variable `num` by `1` post checking the above condition. (note that this increment will be outside the if statement, take care of the indentation in order to avoid a scenario of infinite loop)\n",
        "\n",
        "* Print out the `factors` list"
      ]
    },
    {
      "cell_type": "code",
      "metadata": {
        "id": "Vw6EPSfmUl1N",
        "colab": {
          "base_uri": "https://localhost:8080/"
        },
        "outputId": "0fa6babb-5728-4d2a-ee28-1809f5edade6"
      },
      "source": [
        "factors=[]\n",
        "num=1\n",
        "\n",
        "while num<=200:\n",
        "  if num%20==0:\n",
        "    factors.append(num)\n",
        "  num=num+1\n",
        "\n",
        "print(factors)  \n",
        "\n"
      ],
      "execution_count": null,
      "outputs": [
        {
          "output_type": "stream",
          "text": [
            "[20, 40, 60, 80, 100, 120, 140, 160, 180, 200]\n"
          ],
          "name": "stdout"
        }
      ]
    },
    {
      "cell_type": "code",
      "metadata": {
        "id": "wLOYwHK0Ul7Y"
      },
      "source": [],
      "execution_count": null,
      "outputs": []
    },
    {
      "cell_type": "code",
      "metadata": {
        "id": "pI263FQvUl-7"
      },
      "source": [],
      "execution_count": null,
      "outputs": []
    },
    {
      "cell_type": "markdown",
      "metadata": {
        "id": "zkQWUWm_7bK8"
      },
      "source": [
        "<img src=\"https://github.com/commit-live-students/GLabs_DSMP_New_Solutions/blob/master/01_Python_Data_Science_Toolkit/03_Handling_Program_Flow_in_Python/Exercise/images/icon/Technical-Stuff.png?raw=1\" alt=\"Technical-Stuff\" style=\"width: 100px;float:left; margin-right:15px\"/>\n",
        "<br />\n",
        "\n",
        "## Comprehensions\n",
        "***\n",
        "- Python provides syntactic sugar to write small loops to generate lists/sets/tuples/dicts in one line\n",
        "- These are called comprehensions, and can greatly increase development speed and readability\n",
        "\n",
        "Syntax:\n",
        "```\n",
        "    sequence = [expression(element) for element in iterable if condition]\n",
        "```\n",
        "\n",
        "The brackets used for creating the comprehension define what type of object is created.\n",
        "\n",
        "Use **[ ]** for lists, **()** for _generators_, **{}** for sets and dicts"
      ]
    },
    {
      "cell_type": "markdown",
      "metadata": {
        "collapsed": true,
        "id": "KLhpwt337bK9"
      },
      "source": [
        "### `list` Comprehension"
      ]
    },
    {
      "cell_type": "markdown",
      "metadata": {
        "id": "aqirXw7e7bK-"
      },
      "source": [
        "### Instructions\n",
        "* Assign a list of names as `[\"Ravi\", \"Pooja\", \"Vijay\", \"Kiran\"]` to the variable `names`\n",
        "* Make a list `hello` using list comprehension in that add `\"Hello \"` +  which would contain elements which are in `names` "
      ]
    },
    {
      "cell_type": "code",
      "metadata": {
        "id": "LFZkYtWXV0dF"
      },
      "source": [
        "names=[\"Ravi\", \"Pooja\", \"Vijay\", \"Kiran\"]"
      ],
      "execution_count": null,
      "outputs": []
    },
    {
      "cell_type": "code",
      "metadata": {
        "id": "GJA72q4d9MGi"
      },
      "source": [
        "hello=[\"Hello \" + i for i in names]"
      ],
      "execution_count": null,
      "outputs": []
    },
    {
      "cell_type": "code",
      "metadata": {
        "id": "l6Y_LboHV0fr",
        "colab": {
          "base_uri": "https://localhost:8080/"
        },
        "outputId": "ef407fc3-5bab-45b7-d4f1-82ef3677943d"
      },
      "source": [
        "hello"
      ],
      "execution_count": null,
      "outputs": [
        {
          "output_type": "execute_result",
          "data": {
            "text/plain": [
              "['Hello Ravi', 'Hello Pooja', 'Hello Vijay', 'Hello Kiran']"
            ]
          },
          "metadata": {},
          "execution_count": 6
        }
      ]
    },
    {
      "cell_type": "markdown",
      "metadata": {
        "id": "llsDhKcX7bLA"
      },
      "source": [
        "### Instructions\n",
        "\n",
        "**Present in one but absent in another**\n",
        "\n",
        "In this task you will make a list comprehension to return a list of numbers which are not present in another list of numbers.\n",
        "\n",
        "* Define a list of numbers `alist` from `1` to `50` using a list comprehension.\n",
        "\n",
        "* Define another list `blist` and store its values as [1,3,5,10,14,13,17,19,23,29,31,38,41,45,47].\n",
        "\n",
        "* Make a list `final` using list comprehension which would contain elemnts which are in alist but not in blist.\n",
        "\n",
        "* Print `final`"
      ]
    },
    {
      "cell_type": "code",
      "metadata": {
        "colab": {
          "base_uri": "https://localhost:8080/"
        },
        "id": "Yl8KJuKM-Mmv",
        "outputId": "fe824fc6-28ba-4de7-dda9-bb5409a2fbd5"
      },
      "source": [
        "alist= range(1,51)\n",
        "blist=[1,3,5,10,14,13,17,19,23,29,31,38,41,45,47]\n",
        "final=[i for i in alist if i not in blist]\n",
        "\n",
        "print(final)\n"
      ],
      "execution_count": null,
      "outputs": [
        {
          "output_type": "stream",
          "name": "stdout",
          "text": [
            "[2, 4, 6, 7, 8, 9, 11, 12, 15, 16, 18, 20, 21, 22, 24, 25, 26, 27, 28, 30, 32, 33, 34, 35, 36, 37, 39, 40, 42, 43, 44, 46, 48, 49, 50]\n"
          ]
        }
      ]
    },
    {
      "cell_type": "code",
      "metadata": {
        "id": "N3XgfeLN-Mp1"
      },
      "source": [],
      "execution_count": null,
      "outputs": []
    },
    {
      "cell_type": "code",
      "metadata": {
        "id": "lU31m7EH-Ms_"
      },
      "source": [],
      "execution_count": null,
      "outputs": []
    },
    {
      "cell_type": "markdown",
      "metadata": {
        "id": "6V55yAFo7bLF"
      },
      "source": [
        "<img src=\"https://github.com/commit-live-students/GLabs_DSMP_New_Solutions/blob/master/01_Python_Data_Science_Toolkit/03_Handling_Program_Flow_in_Python/Exercise/images/icon/Technical-Stuff.png?raw=1\" alt=\"Technical-Stuff\" style=\"width: 100px;float:left; margin-right:15px\"/>\n",
        "<br />\n",
        "\n",
        "## What is a function?\n",
        "***\n",
        "\n",
        "Formally, a function is a useful device that groups together a set of statements so they can be run more than once. We can also specify parameters that can serve as inputs to the functions.\n",
        "\n",
        "On a more fundamental level, functions allow us to not have to repeatedly write the same code again and again. If you remember back to the lessons on strings and lists, remember that we used a function len() to get the length of a string. Since checking the length of a sequence is a common task you would want to write a function that can do this repeatedly at command.\n",
        "\n",
        "Functions will be one of most basic levels of reusing code in Python, and it will also allow us to start thinking of program design (we will dive much deeper into the ideas of design when we learn about Object Oriented Programming).\n"
      ]
    },
    {
      "cell_type": "code",
      "metadata": {
        "id": "2fD723tw-jKJ"
      },
      "source": [
        "def my_func(name):\n",
        "  print(\"Hello \"+ name)"
      ],
      "execution_count": null,
      "outputs": []
    },
    {
      "cell_type": "code",
      "metadata": {
        "colab": {
          "base_uri": "https://localhost:8080/"
        },
        "id": "x7u1rQEm-rMK",
        "outputId": "9d4136d1-d26e-4097-ca87-80dd8f05a5d2"
      },
      "source": [
        "my_func(\"Rahul\")"
      ],
      "execution_count": null,
      "outputs": [
        {
          "output_type": "stream",
          "name": "stdout",
          "text": [
            "Hello Rahul\n"
          ]
        }
      ]
    },
    {
      "cell_type": "markdown",
      "metadata": {
        "id": "gNDdHfZp7bLH"
      },
      "source": [
        "### Instructions\n",
        "\n",
        "* Write a function square_root having default value of input a=9 and find the square-root of the same. "
      ]
    },
    {
      "cell_type": "code",
      "metadata": {
        "id": "WEFmMGRK_mZJ"
      },
      "source": [
        "import math\n",
        "\n",
        "def square_root(num):\n",
        "  return math.sqrt(num)"
      ],
      "execution_count": null,
      "outputs": []
    },
    {
      "cell_type": "code",
      "metadata": {
        "colab": {
          "base_uri": "https://localhost:8080/"
        },
        "id": "0OQ4IJG__meA",
        "outputId": "516e3c2d-6c5e-42f5-a42a-de162392a713"
      },
      "source": [
        "square_root(25)"
      ],
      "execution_count": null,
      "outputs": [
        {
          "output_type": "execute_result",
          "data": {
            "text/plain": [
              "5.0"
            ]
          },
          "metadata": {
            "tags": []
          },
          "execution_count": 60
        }
      ]
    },
    {
      "cell_type": "code",
      "metadata": {
        "colab": {
          "base_uri": "https://localhost:8080/"
        },
        "id": "TlWQtXABVPKk",
        "outputId": "924bfa8e-edad-4436-c71d-3fde14331f1d"
      },
      "source": [
        "square_root(100)"
      ],
      "execution_count": null,
      "outputs": [
        {
          "output_type": "execute_result",
          "data": {
            "text/plain": [
              "10.0"
            ]
          },
          "metadata": {
            "tags": []
          },
          "execution_count": 61
        }
      ]
    },
    {
      "cell_type": "code",
      "metadata": {
        "colab": {
          "base_uri": "https://localhost:8080/"
        },
        "id": "ZF1hBszjbEuf",
        "outputId": "1db0baff-fef5-4704-e587-1285b85161c8"
      },
      "source": [
        "# Function for finding Even and odd\n",
        "\n",
        "def evenodd(n):\n",
        "  if (n%2==0):\n",
        "    print(\"even\")\n",
        "  else:\n",
        "    print(\"odd\")\n",
        "  \n",
        "\n",
        " \n",
        "\n",
        "evenodd(6)"
      ],
      "execution_count": null,
      "outputs": [
        {
          "output_type": "stream",
          "text": [
            "even\n"
          ],
          "name": "stdout"
        }
      ]
    },
    {
      "cell_type": "code",
      "metadata": {
        "colab": {
          "base_uri": "https://localhost:8080/"
        },
        "id": "3CjV75dQc4X3",
        "outputId": "09bd3741-05f6-46c0-af67-ba19d339b1b5"
      },
      "source": [
        "# function for square\n",
        "def square(n):\n",
        "  return (n**2)\n",
        "\n",
        "square(2)"
      ],
      "execution_count": null,
      "outputs": [
        {
          "output_type": "execute_result",
          "data": {
            "text/plain": [
              "4"
            ]
          },
          "metadata": {},
          "execution_count": 10
        }
      ]
    },
    {
      "cell_type": "code",
      "metadata": {
        "colab": {
          "base_uri": "https://localhost:8080/"
        },
        "id": "ZDDgCmrHbExY",
        "outputId": "d61815b5-4661-476c-9db9-5484442b2e68"
      },
      "source": [
        "#Write a Python function to sum all the numbers in a list\n",
        "a=[8, 2, 3, 0, 7]\n",
        "\n",
        "def sum(numbers):\n",
        "  total=0\n",
        "  for i in numbers:\n",
        "    total=total+i\n",
        "  return total\n",
        "\n",
        "sum(a)"
      ],
      "execution_count": null,
      "outputs": [
        {
          "output_type": "execute_result",
          "data": {
            "text/plain": [
              "20"
            ]
          },
          "metadata": {},
          "execution_count": 11
        }
      ]
    },
    {
      "cell_type": "code",
      "metadata": {
        "colab": {
          "base_uri": "https://localhost:8080/"
        },
        "id": "_fn8RC6tgRV1",
        "outputId": "3dc3b5fc-f3a7-4875-f7a7-74631a8209e0"
      },
      "source": [
        "#Write a Python function to Multiply all the numbers in a list\n",
        "\n",
        "d=[8, 2, 3, -1, 7]\n",
        "\n",
        "def mult(num):\n",
        "  total=1\n",
        "  for i in num:\n",
        "    total=total*i\n",
        "  return total\n",
        "\n",
        "mult(d)"
      ],
      "execution_count": null,
      "outputs": [
        {
          "output_type": "execute_result",
          "data": {
            "text/plain": [
              "-336"
            ]
          },
          "metadata": {},
          "execution_count": 12
        }
      ]
    },
    {
      "cell_type": "markdown",
      "metadata": {
        "id": "4SYNwyT77bLJ"
      },
      "source": [
        "### Instructions\n",
        "\n",
        "* Write a function function_tuple that takes in two numbers a and b and returns the sum as well as the product of these numbers"
      ]
    },
    {
      "cell_type": "code",
      "metadata": {
        "id": "FRnRbTXPdMyJ"
      },
      "source": [
        "def function_tuple(a,b):\n",
        "  return a+b,a*b"
      ],
      "execution_count": null,
      "outputs": []
    },
    {
      "cell_type": "code",
      "metadata": {
        "id": "xq0sY-_bdM1T",
        "colab": {
          "base_uri": "https://localhost:8080/"
        },
        "outputId": "cfdc5355-c646-4527-ce8a-9fabf1534068"
      },
      "source": [
        "function_tuple(50,100)"
      ],
      "execution_count": null,
      "outputs": [
        {
          "output_type": "execute_result",
          "data": {
            "text/plain": [
              "(150, 5000)"
            ]
          },
          "metadata": {},
          "execution_count": 14
        }
      ]
    },
    {
      "cell_type": "markdown",
      "metadata": {
        "id": "Z_6Y8fge7bLL"
      },
      "source": [
        "<img src=\"https://github.com/commit-live-students/GLabs_DSMP_New_Solutions/blob/master/01_Python_Data_Science_Toolkit/03_Handling_Program_Flow_in_Python/Exercise/images/icon/Concept-Alert.png?raw=1\" alt=\"Technical-Stuff\" style=\"width: 100px;float:left; margin-right:15px\"/>\n",
        "<br />\n",
        "\n",
        "## Lambda\n",
        "***\n",
        "One of Pythons most useful (and for beginners, confusing) tools is the lambda expression. Lambda expressions allow us to create \"anonymous\" functions. This basically means we can quickly make ad-hoc functions without needing to properly define a function using def.\n",
        "\n",
        "Function objects returned by running lambda expressions work exactly the same as those created and assigned by defs. There is key difference that makes lambda useful in specialized roles:\n",
        "\n",
        "**Lambda's body is a single expression, not a block of statements.**\n",
        "* Python supports the creation of anonymous functions at runtime, using a construct called **`lambda`**\n",
        "* This approach is most commonly used when passing a simple function as an argument to another function.\n",
        "* Lambdas are generally used in conjunction with typical functional concepts like `filter()`, `map()` and `reduce()`.\n",
        "\n",
        "Now Lets slowly break down a lambda expression by deconstructing a function:"
      ]
    },
    {
      "cell_type": "markdown",
      "metadata": {
        "id": "_5JfEHh57bLM"
      },
      "source": [
        "### Instructions\n",
        "*  Write a lambda function to add two numbers a and b."
      ]
    },
    {
      "cell_type": "code",
      "metadata": {
        "colab": {
          "base_uri": "https://localhost:8080/"
        },
        "id": "MCoeACbzkEdR",
        "outputId": "8c7d34de-12dd-40da-dcfa-427ab3351321"
      },
      "source": [
        "sum= lambda x,y:x+y\n",
        "\n",
        "sum(5,10)"
      ],
      "execution_count": null,
      "outputs": [
        {
          "output_type": "execute_result",
          "data": {
            "text/plain": [
              "15"
            ]
          },
          "metadata": {},
          "execution_count": 16
        }
      ]
    },
    {
      "cell_type": "code",
      "metadata": {
        "id": "XJn27mFykEhW"
      },
      "source": [],
      "execution_count": null,
      "outputs": []
    },
    {
      "cell_type": "code",
      "metadata": {
        "colab": {
          "base_uri": "https://localhost:8080/"
        },
        "id": "rIEz5Ih6klC4",
        "outputId": "fea1e402-4e7b-4c8d-d9a0-b265afeb2bfd"
      },
      "source": [
        "#Multiply argument a with argument b and return the result:\n",
        "mul = lambda x,y:x*y\n",
        "mul(3,10)"
      ],
      "execution_count": null,
      "outputs": [
        {
          "output_type": "execute_result",
          "data": {
            "text/plain": [
              "30"
            ]
          },
          "metadata": {},
          "execution_count": 15
        }
      ]
    },
    {
      "cell_type": "code",
      "metadata": {
        "id": "J7-kiH9TklFv"
      },
      "source": [],
      "execution_count": null,
      "outputs": []
    },
    {
      "cell_type": "markdown",
      "metadata": {
        "id": "zLG_438FlFkd"
      },
      "source": [
        "# * Home Work *"
      ]
    },
    {
      "cell_type": "markdown",
      "metadata": {
        "id": "-DNrxOeL7bLi"
      },
      "source": [
        "### Instructions\n",
        "Write a Python program to get the Fibonacci series between 0 to 50.\n",
        "\n",
        "Note : The Fibonacci Sequence is the series of numbers :\n",
        "0, 1, 1, 2, 3, 5, 8, 13, 21, .... \n",
        "Every next number is found by adding up the two numbers before it.\n",
        "\n",
        "**Pictorial Presentation:**\n",
        "<img src=\"https://github.com/commit-live-students/GLabs_DSMP_New_Solutions/blob/master/01_Python_Data_Science_Toolkit/03_Handling_Program_Flow_in_Python/Exercise/images/conditional.png?raw=1\"/>"
      ]
    },
    {
      "cell_type": "code",
      "metadata": {
        "id": "WokEnUNnCp9f",
        "colab": {
          "base_uri": "https://localhost:8080/"
        },
        "outputId": "23acd380-c1e7-4bee-a56c-4a2aeb415a08"
      },
      "source": [
        "range(0,50)"
      ],
      "execution_count": null,
      "outputs": [
        {
          "output_type": "execute_result",
          "data": {
            "text/plain": [
              "range(0, 50)"
            ]
          },
          "metadata": {},
          "execution_count": 17
        }
      ]
    },
    {
      "cell_type": "code",
      "metadata": {
        "id": "JIPQ3s2eCqDx",
        "colab": {
          "base_uri": "https://localhost:8080/"
        },
        "outputId": "9e6959f5-379b-47eb-b7be-66a5f5e80407"
      },
      "source": [
        "first = 0\n",
        "second = 1\n",
        "print(first)\n",
        "print(second)\n",
        "for i in range(0,50):\n",
        "  third = first + second\n",
        "  print(third)\n",
        "  first,second = second,third\n",
        "\n"
      ],
      "execution_count": null,
      "outputs": [
        {
          "output_type": "stream",
          "name": "stdout",
          "text": [
            "0\n",
            "1\n",
            "1\n",
            "2\n",
            "3\n",
            "5\n",
            "8\n",
            "13\n",
            "21\n",
            "34\n",
            "55\n",
            "89\n",
            "144\n",
            "233\n",
            "377\n",
            "610\n",
            "987\n",
            "1597\n",
            "2584\n",
            "4181\n",
            "6765\n",
            "10946\n",
            "17711\n",
            "28657\n",
            "46368\n",
            "75025\n",
            "121393\n",
            "196418\n",
            "317811\n",
            "514229\n",
            "832040\n",
            "1346269\n",
            "2178309\n",
            "3524578\n",
            "5702887\n",
            "9227465\n",
            "14930352\n",
            "24157817\n",
            "39088169\n",
            "63245986\n",
            "102334155\n",
            "165580141\n",
            "267914296\n",
            "433494437\n",
            "701408733\n",
            "1134903170\n",
            "1836311903\n",
            "2971215073\n",
            "4807526976\n",
            "7778742049\n",
            "12586269025\n",
            "20365011074\n"
          ]
        }
      ]
    },
    {
      "cell_type": "markdown",
      "metadata": {
        "id": "o76HjTHA7bLq"
      },
      "source": [
        "# Further Reading\n",
        "\n",
        "- Official Python Documentation: https://docs.python.org/"
      ]
    },
    {
      "cell_type": "markdown",
      "metadata": {
        "collapsed": true,
        "id": "cBbKraI37bLr"
      },
      "source": [
        "# Thank You\n",
        "***\n",
        "### Coming up next...\n",
        "\n",
        "- Manipulating Data Using NumPy\n",
        "\n"
      ]
    }
  ]
}