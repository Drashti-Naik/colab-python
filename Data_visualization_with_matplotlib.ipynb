{
  "nbformat": 4,
  "nbformat_minor": 0,
  "metadata": {
    "celltoolbar": "Slideshow",
    "kernelspec": {
      "display_name": "Python 3",
      "language": "python",
      "name": "python3"
    },
    "language_info": {
      "codemirror_mode": {
        "name": "ipython",
        "version": 3
      },
      "file_extension": ".py",
      "mimetype": "text/x-python",
      "name": "python",
      "nbconvert_exporter": "python",
      "pygments_lexer": "ipython3",
      "version": "3.7.0"
    },
    "toc": {
      "colors": {
        "hover_highlight": "#DAA520",
        "running_highlight": "#FF0000",
        "selected_highlight": "#FFD700"
      },
      "moveMenuLeft": true,
      "nav_menu": {
        "height": "381px",
        "width": "252px"
      },
      "navigate_menu": true,
      "number_sections": true,
      "sideBar": true,
      "threshold": "2",
      "toc_cell": false,
      "toc_section_display": "block",
      "toc_window_display": true
    },
    "colab": {
      "provenance": [],
      "include_colab_link": true
    }
  },
  "cells": [
    {
      "cell_type": "markdown",
      "metadata": {
        "id": "view-in-github",
        "colab_type": "text"
      },
      "source": [
        "<a href=\"https://colab.research.google.com/github/Drashti-Naik/colab-python/blob/main/Data_visualization_with_matplotlib.ipynb\" target=\"_parent\"><img src=\"https://colab.research.google.com/assets/colab-badge.svg\" alt=\"Open In Colab\"/></a>"
      ]
    },
    {
      "cell_type": "markdown",
      "metadata": {
        "id": "-ZTo96Gqf9rQ"
      },
      "source": [
        "# Data visualization with matplotlib"
      ]
    },
    {
      "cell_type": "markdown",
      "metadata": {
        "id": "o1X1yC0yf9rY"
      },
      "source": [
        "# What are we going to learn today?\n",
        "***\n",
        "\n",
        "- Python Data Visualization Libraries\n",
        "    - Matplotlib and Plotly\n",
        "        - Basics\n",
        "        - Histograms\n",
        "        - Box Plots\n",
        "        - Scatter Plots\n",
        "<br/><br/>\n",
        "\n",
        "- Plot Types \n",
        "<br/><br/>\n",
        "\n",
        "- Plot Customization"
      ]
    },
    {
      "cell_type": "markdown",
      "metadata": {
        "id": "VIPMGvSbf9re"
      },
      "source": [
        "<img src=\"https://github.com/commit-live-students/GLabs_DSMP_Solutions/blob/master/01_Python_Data_Science_Toolkit/06_Data_Visualization_with_Matplotlib/Exercise/images/icon/Technical-Stuff.png?raw=1\" alt=\"Concept-Alert\" style=\"width: 100px;float:left; margin-right:15px\"/>\n",
        "<br /> \n",
        "\n",
        "## Technical Details\n",
        "***"
      ]
    },
    {
      "cell_type": "code",
      "metadata": {
        "id": "jLO3PDeVf9rh"
      },
      "source": [
        "# Import the required Libraries\n",
        "\n",
        "from matplotlib import pyplot as plt\n",
        "import numpy as np\n"
      ],
      "execution_count": null,
      "outputs": []
    },
    {
      "cell_type": "code",
      "metadata": {
        "colab": {
          "base_uri": "https://localhost:8080/"
        },
        "id": "Z46D42Aft5l_",
        "outputId": "d7638231-b9d7-4582-bf5a-43fd6ee0f982"
      },
      "source": [
        "#start with plotting sin wave\n",
        "x=np.arange(0,10,0.1)\n",
        "y=np.sin(x)\n",
        "y"
      ],
      "execution_count": null,
      "outputs": [
        {
          "output_type": "execute_result",
          "data": {
            "text/plain": [
              "array([ 0.        ,  0.09983342,  0.19866933,  0.29552021,  0.38941834,\n",
              "        0.47942554,  0.56464247,  0.64421769,  0.71735609,  0.78332691,\n",
              "        0.84147098,  0.89120736,  0.93203909,  0.96355819,  0.98544973,\n",
              "        0.99749499,  0.9995736 ,  0.99166481,  0.97384763,  0.94630009,\n",
              "        0.90929743,  0.86320937,  0.8084964 ,  0.74570521,  0.67546318,\n",
              "        0.59847214,  0.51550137,  0.42737988,  0.33498815,  0.23924933,\n",
              "        0.14112001,  0.04158066, -0.05837414, -0.15774569, -0.2555411 ,\n",
              "       -0.35078323, -0.44252044, -0.52983614, -0.61185789, -0.68776616,\n",
              "       -0.7568025 , -0.81827711, -0.87157577, -0.91616594, -0.95160207,\n",
              "       -0.97753012, -0.993691  , -0.99992326, -0.99616461, -0.98245261,\n",
              "       -0.95892427, -0.92581468, -0.88345466, -0.83226744, -0.77276449,\n",
              "       -0.70554033, -0.63126664, -0.55068554, -0.46460218, -0.37387666,\n",
              "       -0.2794155 , -0.1821625 , -0.0830894 ,  0.0168139 ,  0.1165492 ,\n",
              "        0.21511999,  0.31154136,  0.40484992,  0.49411335,  0.57843976,\n",
              "        0.6569866 ,  0.72896904,  0.79366786,  0.85043662,  0.8987081 ,\n",
              "        0.93799998,  0.96791967,  0.98816823,  0.99854335,  0.99894134,\n",
              "        0.98935825,  0.96988981,  0.94073056,  0.90217183,  0.85459891,\n",
              "        0.79848711,  0.7343971 ,  0.66296923,  0.58491719,  0.50102086,\n",
              "        0.41211849,  0.31909836,  0.22288991,  0.12445442,  0.02477543,\n",
              "       -0.07515112, -0.17432678, -0.27176063, -0.36647913, -0.45753589])"
            ]
          },
          "metadata": {
            "tags": []
          },
          "execution_count": 59
        }
      ]
    },
    {
      "cell_type": "code",
      "metadata": {
        "colab": {
          "base_uri": "https://localhost:8080/",
          "height": 282
        },
        "id": "rkZcIBo1t50o",
        "outputId": "2def19dd-6945-4054-bd79-2de412e4b56f"
      },
      "source": [
        "plt.plot(x,y)"
      ],
      "execution_count": null,
      "outputs": [
        {
          "output_type": "execute_result",
          "data": {
            "text/plain": [
              "[<matplotlib.lines.Line2D at 0x7f8f0a0dc150>]"
            ]
          },
          "metadata": {
            "tags": []
          },
          "execution_count": 58
        },
        {
          "output_type": "display_data",
          "data": {
            "image/png": "[encoded data removed]",
            "text/plain": [
              "<Figure size 432x288 with 1 Axes>"
            ]
          },
          "metadata": {
            "tags": [],
            "needs_background": "light"
          }
        }
      ]
    },
    {
      "cell_type": "code",
      "metadata": {
        "id": "VSo3r-gHt54n"
      },
      "source": [],
      "execution_count": null,
      "outputs": []
    },
    {
      "cell_type": "markdown",
      "metadata": {
        "id": "6g8JV3Orf9rl"
      },
      "source": [
        "<img src=\"https://github.com/commit-live-students/GLabs_DSMP_Solutions/blob/master/01_Python_Data_Science_Toolkit/06_Data_Visualization_with_Matplotlib/Exercise/images/icon/ppt-icons.png?raw=1\" alt=\"Concept-Alert\" style=\"width: 100px;float:left; margin-right:15px\"/>\n",
        "<br /> \n",
        "\n",
        "##  Mini-Challenge - 1\n",
        "***\n",
        "### Instructions\n",
        "* Create a graph for `y = cos(x)`. X values should be from 0 to 10, incrementing in steps of 0.1\n"
      ]
    },
    {
      "cell_type": "code",
      "metadata": {
        "colab": {
          "base_uri": "https://localhost:8080/"
        },
        "id": "vgTCurZiuUsm",
        "outputId": "c4815987-2ffa-46ef-c0e8-f2bb5c0ad3da"
      },
      "source": [
        "x=np.arange(0,10,0.1)\n",
        "x"
      ],
      "execution_count": null,
      "outputs": [
        {
          "output_type": "execute_result",
          "data": {
            "text/plain": [
              "array([0. , 0.1, 0.2, 0.3, 0.4, 0.5, 0.6, 0.7, 0.8, 0.9, 1. , 1.1, 1.2,\n",
              "       1.3, 1.4, 1.5, 1.6, 1.7, 1.8, 1.9, 2. , 2.1, 2.2, 2.3, 2.4, 2.5,\n",
              "       2.6, 2.7, 2.8, 2.9, 3. , 3.1, 3.2, 3.3, 3.4, 3.5, 3.6, 3.7, 3.8,\n",
              "       3.9, 4. , 4.1, 4.2, 4.3, 4.4, 4.5, 4.6, 4.7, 4.8, 4.9, 5. , 5.1,\n",
              "       5.2, 5.3, 5.4, 5.5, 5.6, 5.7, 5.8, 5.9, 6. , 6.1, 6.2, 6.3, 6.4,\n",
              "       6.5, 6.6, 6.7, 6.8, 6.9, 7. , 7.1, 7.2, 7.3, 7.4, 7.5, 7.6, 7.7,\n",
              "       7.8, 7.9, 8. , 8.1, 8.2, 8.3, 8.4, 8.5, 8.6, 8.7, 8.8, 8.9, 9. ,\n",
              "       9.1, 9.2, 9.3, 9.4, 9.5, 9.6, 9.7, 9.8, 9.9])"
            ]
          },
          "metadata": {
            "tags": []
          },
          "execution_count": 60
        }
      ]
    },
    {
      "cell_type": "code",
      "metadata": {
        "colab": {
          "base_uri": "https://localhost:8080/"
        },
        "id": "IieYw4tVuUwL",
        "outputId": "7aa67661-9c0a-46a1-f862-c941e78e22f6"
      },
      "source": [
        "y=np.cos(x)\n",
        "y"
      ],
      "execution_count": null,
      "outputs": [
        {
          "output_type": "execute_result",
          "data": {
            "text/plain": [
              "array([ 1.        ,  0.99500417,  0.98006658,  0.95533649,  0.92106099,\n",
              "        0.87758256,  0.82533561,  0.76484219,  0.69670671,  0.62160997,\n",
              "        0.54030231,  0.45359612,  0.36235775,  0.26749883,  0.16996714,\n",
              "        0.0707372 , -0.02919952, -0.12884449, -0.22720209, -0.32328957,\n",
              "       -0.41614684, -0.5048461 , -0.58850112, -0.66627602, -0.73739372,\n",
              "       -0.80114362, -0.85688875, -0.90407214, -0.94222234, -0.97095817,\n",
              "       -0.9899925 , -0.99913515, -0.99829478, -0.98747977, -0.96679819,\n",
              "       -0.93645669, -0.89675842, -0.84810003, -0.79096771, -0.7259323 ,\n",
              "       -0.65364362, -0.57482395, -0.49026082, -0.40079917, -0.30733287,\n",
              "       -0.2107958 , -0.11215253, -0.01238866,  0.08749898,  0.18651237,\n",
              "        0.28366219,  0.37797774,  0.46851667,  0.55437434,  0.63469288,\n",
              "        0.70866977,  0.77556588,  0.83471278,  0.88551952,  0.92747843,\n",
              "        0.96017029,  0.98326844,  0.9965421 ,  0.99985864,  0.99318492,\n",
              "        0.97658763,  0.95023259,  0.91438315,  0.86939749,  0.8157251 ,\n",
              "        0.75390225,  0.68454667,  0.60835131,  0.52607752,  0.43854733,\n",
              "        0.34663532,  0.25125984,  0.15337386,  0.05395542, -0.04600213,\n",
              "       -0.14550003, -0.24354415, -0.33915486, -0.43137684, -0.51928865,\n",
              "       -0.6020119 , -0.67872005, -0.74864665, -0.81109301, -0.86543521,\n",
              "       -0.91113026, -0.9477216 , -0.97484362, -0.99222533, -0.99969304,\n",
              "       -0.99717216, -0.98468786, -0.96236488, -0.93042627, -0.88919115])"
            ]
          },
          "metadata": {
            "tags": []
          },
          "execution_count": 61
        }
      ]
    },
    {
      "cell_type": "code",
      "metadata": {
        "colab": {
          "base_uri": "https://localhost:8080/",
          "height": 282
        },
        "id": "6SFCDqwouUyj",
        "outputId": "2b0fd115-231c-4d6c-85d8-fbdb14d30376"
      },
      "source": [
        "plt.plot(x,y)"
      ],
      "execution_count": null,
      "outputs": [
        {
          "output_type": "execute_result",
          "data": {
            "text/plain": [
              "[<matplotlib.lines.Line2D at 0x7f8f0a0dd050>]"
            ]
          },
          "metadata": {
            "tags": []
          },
          "execution_count": 62
        },
        {
          "output_type": "display_data",
          "data": {
            "image/png": "[encoded data removed]",
            "text/plain": [
              "<Figure size 432x288 with 1 Axes>"
            ]
          },
          "metadata": {
            "tags": [],
            "needs_background": "light"
          }
        }
      ]
    },
    {
      "cell_type": "code",
      "metadata": {
        "id": "RhJrvIacuU6I"
      },
      "source": [],
      "execution_count": null,
      "outputs": []
    },
    {
      "cell_type": "markdown",
      "metadata": {
        "id": "_ZWVYm9kf9ru"
      },
      "source": [
        "# Let's do this with the Weather data!\n",
        "***\n",
        "\n",
        "Quick Refresher:\n",
        "\n",
        "The Weather Dataset is a time-series data set with per-hour information about the weather conditions at a particular location. It records Temperature, Dew Point Temperature, Relative Humidity, Wind Speed, Visibility, Pressure, and Conditions.\n"
      ]
    },
    {
      "cell_type": "markdown",
      "metadata": {
        "id": "sTyFSqWuf9rx"
      },
      "source": [
        "### Read the data set"
      ]
    },
    {
      "cell_type": "code",
      "metadata": {
        "id": "zp5ksUEOf9rz",
        "colab": {
          "base_uri": "https://localhost:8080/",
          "height": 195
        },
        "outputId": "4549c2db-a969-4831-9b28-e43e1a6f2528"
      },
      "source": [
        "# Data Introduction\n",
        "import pandas as pd\n",
        "\n",
        "weather_df = pd.read_csv('https://raw.githubusercontent.com/rkkirpane/-Statistics-Part-I/master/weather_2012.csv')\n",
        "weather_df.head(5)"
      ],
      "execution_count": null,
      "outputs": [
        {
          "output_type": "execute_result",
          "data": {
            "text/html": [
              "<div>\n",
              "<style scoped>\n",
              "    .dataframe tbody tr th:only-of-type {\n",
              "        vertical-align: middle;\n",
              "    }\n",
              "\n",
              "    .dataframe tbody tr th {\n",
              "        vertical-align: top;\n",
              "    }\n",
              "\n",
              "    .dataframe thead th {\n",
              "        text-align: right;\n",
              "    }\n",
              "</style>\n",
              "<table border=\"1\" class=\"dataframe\">\n",
              "  <thead>\n",
              "    <tr style=\"text-align: right;\">\n",
              "      <th></th>\n",
              "      <th>Date/Time</th>\n",
              "      <th>Temp (C)</th>\n",
              "      <th>Dew Point Temp (C)</th>\n",
              "      <th>Rel Hum (%)</th>\n",
              "      <th>Wind Spd (km/h)</th>\n",
              "      <th>Visibility (km)</th>\n",
              "      <th>Stn Press (kPa)</th>\n",
              "      <th>Weather</th>\n",
              "    </tr>\n",
              "  </thead>\n",
              "  <tbody>\n",
              "    <tr>\n",
              "      <th>0</th>\n",
              "      <td>2012-01-01 00:00:00</td>\n",
              "      <td>-1.8</td>\n",
              "      <td>-3.9</td>\n",
              "      <td>86</td>\n",
              "      <td>4</td>\n",
              "      <td>8.0</td>\n",
              "      <td>101.24</td>\n",
              "      <td>Fog</td>\n",
              "    </tr>\n",
              "    <tr>\n",
              "      <th>1</th>\n",
              "      <td>2012-01-01 01:00:00</td>\n",
              "      <td>-1.8</td>\n",
              "      <td>-3.7</td>\n",
              "      <td>87</td>\n",
              "      <td>4</td>\n",
              "      <td>8.0</td>\n",
              "      <td>101.24</td>\n",
              "      <td>Fog</td>\n",
              "    </tr>\n",
              "    <tr>\n",
              "      <th>2</th>\n",
              "      <td>2012-01-01 02:00:00</td>\n",
              "      <td>-1.8</td>\n",
              "      <td>-3.4</td>\n",
              "      <td>89</td>\n",
              "      <td>7</td>\n",
              "      <td>4.0</td>\n",
              "      <td>101.26</td>\n",
              "      <td>Freezing Drizzle,Fog</td>\n",
              "    </tr>\n",
              "    <tr>\n",
              "      <th>3</th>\n",
              "      <td>2012-01-01 03:00:00</td>\n",
              "      <td>-1.5</td>\n",
              "      <td>-3.2</td>\n",
              "      <td>88</td>\n",
              "      <td>6</td>\n",
              "      <td>4.0</td>\n",
              "      <td>101.27</td>\n",
              "      <td>Freezing Drizzle,Fog</td>\n",
              "    </tr>\n",
              "    <tr>\n",
              "      <th>4</th>\n",
              "      <td>2012-01-01 04:00:00</td>\n",
              "      <td>-1.5</td>\n",
              "      <td>-3.3</td>\n",
              "      <td>88</td>\n",
              "      <td>7</td>\n",
              "      <td>4.8</td>\n",
              "      <td>101.23</td>\n",
              "      <td>Fog</td>\n",
              "    </tr>\n",
              "  </tbody>\n",
              "</table>\n",
              "</div>"
            ],
            "text/plain": [
              "             Date/Time  Temp (C)  ...  Stn Press (kPa)               Weather\n",
              "0  2012-01-01 00:00:00      -1.8  ...           101.24                   Fog\n",
              "1  2012-01-01 01:00:00      -1.8  ...           101.24                   Fog\n",
              "2  2012-01-01 02:00:00      -1.8  ...           101.26  Freezing Drizzle,Fog\n",
              "3  2012-01-01 03:00:00      -1.5  ...           101.27  Freezing Drizzle,Fog\n",
              "4  2012-01-01 04:00:00      -1.5  ...           101.23                   Fog\n",
              "\n",
              "[5 rows x 8 columns]"
            ]
          },
          "metadata": {
            "tags": []
          },
          "execution_count": 63
        }
      ]
    },
    {
      "cell_type": "code",
      "metadata": {
        "colab": {
          "base_uri": "https://localhost:8080/",
          "height": 225
        },
        "id": "dM4XS1K4Ds0b",
        "outputId": "6255c836-eec0-45e0-cb9b-87bdef05fe4d"
      },
      "source": [
        "weather_df = pd.read_csv('https://raw.githubusercontent.com/rkkirpane/-Statistics-Part-I/master/weather_2012.csv',parse_dates=True,index_col=\"Date/Time\")\n",
        "weather_df.head(5)"
      ],
      "execution_count": null,
      "outputs": [
        {
          "output_type": "execute_result",
          "data": {
            "text/html": [
              "<div>\n",
              "<style scoped>\n",
              "    .dataframe tbody tr th:only-of-type {\n",
              "        vertical-align: middle;\n",
              "    }\n",
              "\n",
              "    .dataframe tbody tr th {\n",
              "        vertical-align: top;\n",
              "    }\n",
              "\n",
              "    .dataframe thead th {\n",
              "        text-align: right;\n",
              "    }\n",
              "</style>\n",
              "<table border=\"1\" class=\"dataframe\">\n",
              "  <thead>\n",
              "    <tr style=\"text-align: right;\">\n",
              "      <th></th>\n",
              "      <th>Temp (C)</th>\n",
              "      <th>Dew Point Temp (C)</th>\n",
              "      <th>Rel Hum (%)</th>\n",
              "      <th>Wind Spd (km/h)</th>\n",
              "      <th>Visibility (km)</th>\n",
              "      <th>Stn Press (kPa)</th>\n",
              "      <th>Weather</th>\n",
              "    </tr>\n",
              "    <tr>\n",
              "      <th>Date/Time</th>\n",
              "      <th></th>\n",
              "      <th></th>\n",
              "      <th></th>\n",
              "      <th></th>\n",
              "      <th></th>\n",
              "      <th></th>\n",
              "      <th></th>\n",
              "    </tr>\n",
              "  </thead>\n",
              "  <tbody>\n",
              "    <tr>\n",
              "      <th>2012-01-01 00:00:00</th>\n",
              "      <td>-1.8</td>\n",
              "      <td>-3.9</td>\n",
              "      <td>86</td>\n",
              "      <td>4</td>\n",
              "      <td>8.0</td>\n",
              "      <td>101.24</td>\n",
              "      <td>Fog</td>\n",
              "    </tr>\n",
              "    <tr>\n",
              "      <th>2012-01-01 01:00:00</th>\n",
              "      <td>-1.8</td>\n",
              "      <td>-3.7</td>\n",
              "      <td>87</td>\n",
              "      <td>4</td>\n",
              "      <td>8.0</td>\n",
              "      <td>101.24</td>\n",
              "      <td>Fog</td>\n",
              "    </tr>\n",
              "    <tr>\n",
              "      <th>2012-01-01 02:00:00</th>\n",
              "      <td>-1.8</td>\n",
              "      <td>-3.4</td>\n",
              "      <td>89</td>\n",
              "      <td>7</td>\n",
              "      <td>4.0</td>\n",
              "      <td>101.26</td>\n",
              "      <td>Freezing Drizzle,Fog</td>\n",
              "    </tr>\n",
              "    <tr>\n",
              "      <th>2012-01-01 03:00:00</th>\n",
              "      <td>-1.5</td>\n",
              "      <td>-3.2</td>\n",
              "      <td>88</td>\n",
              "      <td>6</td>\n",
              "      <td>4.0</td>\n",
              "      <td>101.27</td>\n",
              "      <td>Freezing Drizzle,Fog</td>\n",
              "    </tr>\n",
              "    <tr>\n",
              "      <th>2012-01-01 04:00:00</th>\n",
              "      <td>-1.5</td>\n",
              "      <td>-3.3</td>\n",
              "      <td>88</td>\n",
              "      <td>7</td>\n",
              "      <td>4.8</td>\n",
              "      <td>101.23</td>\n",
              "      <td>Fog</td>\n",
              "    </tr>\n",
              "  </tbody>\n",
              "</table>\n",
              "</div>"
            ],
            "text/plain": [
              "                     Temp (C)  ...               Weather\n",
              "Date/Time                      ...                      \n",
              "2012-01-01 00:00:00      -1.8  ...                   Fog\n",
              "2012-01-01 01:00:00      -1.8  ...                   Fog\n",
              "2012-01-01 02:00:00      -1.8  ...  Freezing Drizzle,Fog\n",
              "2012-01-01 03:00:00      -1.5  ...  Freezing Drizzle,Fog\n",
              "2012-01-01 04:00:00      -1.5  ...                   Fog\n",
              "\n",
              "[5 rows x 7 columns]"
            ]
          },
          "metadata": {
            "tags": []
          },
          "execution_count": 64
        }
      ]
    },
    {
      "cell_type": "code",
      "metadata": {
        "id": "6tyNk3VhDs3O"
      },
      "source": [],
      "execution_count": null,
      "outputs": []
    },
    {
      "cell_type": "code",
      "metadata": {
        "id": "XRPCpVS7Ds50"
      },
      "source": [],
      "execution_count": null,
      "outputs": []
    },
    {
      "cell_type": "code",
      "metadata": {
        "id": "u3ep15nIDs83"
      },
      "source": [],
      "execution_count": null,
      "outputs": []
    },
    {
      "cell_type": "markdown",
      "metadata": {
        "id": "VVdfl_z2f9r2"
      },
      "source": [
        "## How did the temperature vary amongst the months of the year?\n",
        "***\n",
        "\n",
        "Since we want to compare amongst months, we need one value for each month. Let's pick the mean for doing this.\n",
        "\n",
        "Generate a line chart that visualizes the temperature readings in the month of January:\n",
        "* x-values should be the values should be the months.\n",
        "* y-values should be the mean values in the Temp (C) column per month.\n",
        "\n",
        "Display the plot."
      ]
    },
    {
      "cell_type": "markdown",
      "metadata": {
        "id": "ahG0vpAhf9r5"
      },
      "source": [
        "### Creating the data in the required format"
      ]
    },
    {
      "cell_type": "code",
      "metadata": {
        "colab": {
          "base_uri": "https://localhost:8080/",
          "height": 431
        },
        "id": "1g68OxR57b4d",
        "outputId": "ba219756-8f8d-46f4-d280-51a1d79d888f"
      },
      "source": [
        "weather_df"
      ],
      "execution_count": null,
      "outputs": [
        {
          "output_type": "execute_result",
          "data": {
            "text/html": [
              "<div>\n",
              "<style scoped>\n",
              "    .dataframe tbody tr th:only-of-type {\n",
              "        vertical-align: middle;\n",
              "    }\n",
              "\n",
              "    .dataframe tbody tr th {\n",
              "        vertical-align: top;\n",
              "    }\n",
              "\n",
              "    .dataframe thead th {\n",
              "        text-align: right;\n",
              "    }\n",
              "</style>\n",
              "<table border=\"1\" class=\"dataframe\">\n",
              "  <thead>\n",
              "    <tr style=\"text-align: right;\">\n",
              "      <th></th>\n",
              "      <th>Temp (C)</th>\n",
              "      <th>Dew Point Temp (C)</th>\n",
              "      <th>Rel Hum (%)</th>\n",
              "      <th>Wind Spd (km/h)</th>\n",
              "      <th>Visibility (km)</th>\n",
              "      <th>Stn Press (kPa)</th>\n",
              "      <th>Weather</th>\n",
              "    </tr>\n",
              "    <tr>\n",
              "      <th>Date/Time</th>\n",
              "      <th></th>\n",
              "      <th></th>\n",
              "      <th></th>\n",
              "      <th></th>\n",
              "      <th></th>\n",
              "      <th></th>\n",
              "      <th></th>\n",
              "    </tr>\n",
              "  </thead>\n",
              "  <tbody>\n",
              "    <tr>\n",
              "      <th>2012-01-01 00:00:00</th>\n",
              "      <td>-1.8</td>\n",
              "      <td>-3.9</td>\n",
              "      <td>86</td>\n",
              "      <td>4</td>\n",
              "      <td>8.0</td>\n",
              "      <td>101.24</td>\n",
              "      <td>Fog</td>\n",
              "    </tr>\n",
              "    <tr>\n",
              "      <th>2012-01-01 01:00:00</th>\n",
              "      <td>-1.8</td>\n",
              "      <td>-3.7</td>\n",
              "      <td>87</td>\n",
              "      <td>4</td>\n",
              "      <td>8.0</td>\n",
              "      <td>101.24</td>\n",
              "      <td>Fog</td>\n",
              "    </tr>\n",
              "    <tr>\n",
              "      <th>2012-01-01 02:00:00</th>\n",
              "      <td>-1.8</td>\n",
              "      <td>-3.4</td>\n",
              "      <td>89</td>\n",
              "      <td>7</td>\n",
              "      <td>4.0</td>\n",
              "      <td>101.26</td>\n",
              "      <td>Freezing Drizzle,Fog</td>\n",
              "    </tr>\n",
              "    <tr>\n",
              "      <th>2012-01-01 03:00:00</th>\n",
              "      <td>-1.5</td>\n",
              "      <td>-3.2</td>\n",
              "      <td>88</td>\n",
              "      <td>6</td>\n",
              "      <td>4.0</td>\n",
              "      <td>101.27</td>\n",
              "      <td>Freezing Drizzle,Fog</td>\n",
              "    </tr>\n",
              "    <tr>\n",
              "      <th>2012-01-01 04:00:00</th>\n",
              "      <td>-1.5</td>\n",
              "      <td>-3.3</td>\n",
              "      <td>88</td>\n",
              "      <td>7</td>\n",
              "      <td>4.8</td>\n",
              "      <td>101.23</td>\n",
              "      <td>Fog</td>\n",
              "    </tr>\n",
              "    <tr>\n",
              "      <th>...</th>\n",
              "      <td>...</td>\n",
              "      <td>...</td>\n",
              "      <td>...</td>\n",
              "      <td>...</td>\n",
              "      <td>...</td>\n",
              "      <td>...</td>\n",
              "      <td>...</td>\n",
              "    </tr>\n",
              "    <tr>\n",
              "      <th>2012-12-31 19:00:00</th>\n",
              "      <td>0.1</td>\n",
              "      <td>-2.7</td>\n",
              "      <td>81</td>\n",
              "      <td>30</td>\n",
              "      <td>9.7</td>\n",
              "      <td>100.13</td>\n",
              "      <td>Snow</td>\n",
              "    </tr>\n",
              "    <tr>\n",
              "      <th>2012-12-31 20:00:00</th>\n",
              "      <td>0.2</td>\n",
              "      <td>-2.4</td>\n",
              "      <td>83</td>\n",
              "      <td>24</td>\n",
              "      <td>9.7</td>\n",
              "      <td>100.03</td>\n",
              "      <td>Snow</td>\n",
              "    </tr>\n",
              "    <tr>\n",
              "      <th>2012-12-31 21:00:00</th>\n",
              "      <td>-0.5</td>\n",
              "      <td>-1.5</td>\n",
              "      <td>93</td>\n",
              "      <td>28</td>\n",
              "      <td>4.8</td>\n",
              "      <td>99.95</td>\n",
              "      <td>Snow</td>\n",
              "    </tr>\n",
              "    <tr>\n",
              "      <th>2012-12-31 22:00:00</th>\n",
              "      <td>-0.2</td>\n",
              "      <td>-1.8</td>\n",
              "      <td>89</td>\n",
              "      <td>28</td>\n",
              "      <td>9.7</td>\n",
              "      <td>99.91</td>\n",
              "      <td>Snow</td>\n",
              "    </tr>\n",
              "    <tr>\n",
              "      <th>2012-12-31 23:00:00</th>\n",
              "      <td>0.0</td>\n",
              "      <td>-2.1</td>\n",
              "      <td>86</td>\n",
              "      <td>30</td>\n",
              "      <td>11.3</td>\n",
              "      <td>99.89</td>\n",
              "      <td>Snow</td>\n",
              "    </tr>\n",
              "  </tbody>\n",
              "</table>\n",
              "<p>8784 rows × 7 columns</p>\n",
              "</div>"
            ],
            "text/plain": [
              "                     Temp (C)  ...               Weather\n",
              "Date/Time                      ...                      \n",
              "2012-01-01 00:00:00      -1.8  ...                   Fog\n",
              "2012-01-01 01:00:00      -1.8  ...                   Fog\n",
              "2012-01-01 02:00:00      -1.8  ...  Freezing Drizzle,Fog\n",
              "2012-01-01 03:00:00      -1.5  ...  Freezing Drizzle,Fog\n",
              "2012-01-01 04:00:00      -1.5  ...                   Fog\n",
              "...                       ...  ...                   ...\n",
              "2012-12-31 19:00:00       0.1  ...                  Snow\n",
              "2012-12-31 20:00:00       0.2  ...                  Snow\n",
              "2012-12-31 21:00:00      -0.5  ...                  Snow\n",
              "2012-12-31 22:00:00      -0.2  ...                  Snow\n",
              "2012-12-31 23:00:00       0.0  ...                  Snow\n",
              "\n",
              "[8784 rows x 7 columns]"
            ]
          },
          "metadata": {
            "tags": []
          },
          "execution_count": 65
        }
      ]
    },
    {
      "cell_type": "code",
      "metadata": {
        "colab": {
          "base_uri": "https://localhost:8080/",
          "height": 432
        },
        "id": "vhLYxLN5Q9My",
        "outputId": "3e506a4f-9951-4e91-f335-5303f2e57632"
      },
      "source": [
        "month_wise_data=weather_df.groupby(weather_df.index.month).mean()\n",
        "month_wise_data"
      ],
      "execution_count": null,
      "outputs": [
        {
          "output_type": "execute_result",
          "data": {
            "text/html": [
              "<div>\n",
              "<style scoped>\n",
              "    .dataframe tbody tr th:only-of-type {\n",
              "        vertical-align: middle;\n",
              "    }\n",
              "\n",
              "    .dataframe tbody tr th {\n",
              "        vertical-align: top;\n",
              "    }\n",
              "\n",
              "    .dataframe thead th {\n",
              "        text-align: right;\n",
              "    }\n",
              "</style>\n",
              "<table border=\"1\" class=\"dataframe\">\n",
              "  <thead>\n",
              "    <tr style=\"text-align: right;\">\n",
              "      <th></th>\n",
              "      <th>Temp (C)</th>\n",
              "      <th>Dew Point Temp (C)</th>\n",
              "      <th>Rel Hum (%)</th>\n",
              "      <th>Wind Spd (km/h)</th>\n",
              "      <th>Visibility (km)</th>\n",
              "      <th>Stn Press (kPa)</th>\n",
              "    </tr>\n",
              "    <tr>\n",
              "      <th>Date/Time</th>\n",
              "      <th></th>\n",
              "      <th></th>\n",
              "      <th></th>\n",
              "      <th></th>\n",
              "      <th></th>\n",
              "      <th></th>\n",
              "    </tr>\n",
              "  </thead>\n",
              "  <tbody>\n",
              "    <tr>\n",
              "      <th>1</th>\n",
              "      <td>-7.371505</td>\n",
              "      <td>-12.294758</td>\n",
              "      <td>68.383065</td>\n",
              "      <td>18.108871</td>\n",
              "      <td>22.100269</td>\n",
              "      <td>101.005349</td>\n",
              "    </tr>\n",
              "    <tr>\n",
              "      <th>2</th>\n",
              "      <td>-4.225000</td>\n",
              "      <td>-9.221695</td>\n",
              "      <td>68.956897</td>\n",
              "      <td>14.837644</td>\n",
              "      <td>25.182184</td>\n",
              "      <td>101.142414</td>\n",
              "    </tr>\n",
              "    <tr>\n",
              "      <th>3</th>\n",
              "      <td>3.121237</td>\n",
              "      <td>-3.488575</td>\n",
              "      <td>64.862903</td>\n",
              "      <td>14.514785</td>\n",
              "      <td>26.177957</td>\n",
              "      <td>101.335255</td>\n",
              "    </tr>\n",
              "    <tr>\n",
              "      <th>4</th>\n",
              "      <td>7.009306</td>\n",
              "      <td>-1.934583</td>\n",
              "      <td>56.150000</td>\n",
              "      <td>17.369444</td>\n",
              "      <td>31.777083</td>\n",
              "      <td>100.716833</td>\n",
              "    </tr>\n",
              "    <tr>\n",
              "      <th>5</th>\n",
              "      <td>16.237769</td>\n",
              "      <td>8.080780</td>\n",
              "      <td>61.760753</td>\n",
              "      <td>12.846774</td>\n",
              "      <td>29.418548</td>\n",
              "      <td>101.057164</td>\n",
              "    </tr>\n",
              "    <tr>\n",
              "      <th>6</th>\n",
              "      <td>20.134028</td>\n",
              "      <td>11.738056</td>\n",
              "      <td>60.643056</td>\n",
              "      <td>14.681944</td>\n",
              "      <td>32.104167</td>\n",
              "      <td>100.784222</td>\n",
              "    </tr>\n",
              "    <tr>\n",
              "      <th>7</th>\n",
              "      <td>22.790054</td>\n",
              "      <td>14.595430</td>\n",
              "      <td>62.017473</td>\n",
              "      <td>11.887097</td>\n",
              "      <td>33.655108</td>\n",
              "      <td>100.828333</td>\n",
              "    </tr>\n",
              "    <tr>\n",
              "      <th>8</th>\n",
              "      <td>22.279301</td>\n",
              "      <td>15.644758</td>\n",
              "      <td>67.943548</td>\n",
              "      <td>13.931452</td>\n",
              "      <td>30.192608</td>\n",
              "      <td>100.927097</td>\n",
              "    </tr>\n",
              "    <tr>\n",
              "      <th>9</th>\n",
              "      <td>16.484444</td>\n",
              "      <td>10.757917</td>\n",
              "      <td>71.165278</td>\n",
              "      <td>14.108333</td>\n",
              "      <td>30.603472</td>\n",
              "      <td>101.087903</td>\n",
              "    </tr>\n",
              "    <tr>\n",
              "      <th>10</th>\n",
              "      <td>10.954973</td>\n",
              "      <td>6.533468</td>\n",
              "      <td>75.731183</td>\n",
              "      <td>15.475806</td>\n",
              "      <td>25.111022</td>\n",
              "      <td>100.909368</td>\n",
              "    </tr>\n",
              "    <tr>\n",
              "      <th>11</th>\n",
              "      <td>0.931389</td>\n",
              "      <td>-4.179306</td>\n",
              "      <td>69.984722</td>\n",
              "      <td>13.973611</td>\n",
              "      <td>26.077083</td>\n",
              "      <td>101.658306</td>\n",
              "    </tr>\n",
              "    <tr>\n",
              "      <th>12</th>\n",
              "      <td>-3.306317</td>\n",
              "      <td>-6.129032</td>\n",
              "      <td>81.299731</td>\n",
              "      <td>17.614247</td>\n",
              "      <td>19.733199</td>\n",
              "      <td>101.174409</td>\n",
              "    </tr>\n",
              "  </tbody>\n",
              "</table>\n",
              "</div>"
            ],
            "text/plain": [
              "            Temp (C)  Dew Point Temp (C)  ...  Visibility (km)  Stn Press (kPa)\n",
              "Date/Time                                 ...                                  \n",
              "1          -7.371505          -12.294758  ...        22.100269       101.005349\n",
              "2          -4.225000           -9.221695  ...        25.182184       101.142414\n",
              "3           3.121237           -3.488575  ...        26.177957       101.335255\n",
              "4           7.009306           -1.934583  ...        31.777083       100.716833\n",
              "5          16.237769            8.080780  ...        29.418548       101.057164\n",
              "6          20.134028           11.738056  ...        32.104167       100.784222\n",
              "7          22.790054           14.595430  ...        33.655108       100.828333\n",
              "8          22.279301           15.644758  ...        30.192608       100.927097\n",
              "9          16.484444           10.757917  ...        30.603472       101.087903\n",
              "10         10.954973            6.533468  ...        25.111022       100.909368\n",
              "11          0.931389           -4.179306  ...        26.077083       101.658306\n",
              "12         -3.306317           -6.129032  ...        19.733199       101.174409\n",
              "\n",
              "[12 rows x 6 columns]"
            ]
          },
          "metadata": {
            "tags": []
          },
          "execution_count": 73
        }
      ]
    },
    {
      "cell_type": "code",
      "metadata": {
        "colab": {
          "base_uri": "https://localhost:8080/"
        },
        "id": "N3cp-vfJTCeh",
        "outputId": "372a6840-01fb-43ac-f19b-307224091ed0"
      },
      "source": [
        "x=month_wise_data.index\n",
        "x"
      ],
      "execution_count": null,
      "outputs": [
        {
          "output_type": "execute_result",
          "data": {
            "text/plain": [
              "Int64Index([1, 2, 3, 4, 5, 6, 7, 8, 9, 10, 11, 12], dtype='int64', name='Date/Time')"
            ]
          },
          "metadata": {
            "tags": []
          },
          "execution_count": 74
        }
      ]
    },
    {
      "cell_type": "code",
      "metadata": {
        "colab": {
          "base_uri": "https://localhost:8080/"
        },
        "id": "c4g4SqlLTKZJ",
        "outputId": "162d164a-7b88-47d2-aa18-ecddde38262b"
      },
      "source": [
        "y=month_wise_data[\"Temp (C)\"]\n",
        "y"
      ],
      "execution_count": null,
      "outputs": [
        {
          "output_type": "execute_result",
          "data": {
            "text/plain": [
              "Date/Time\n",
              "1     -7.371505\n",
              "2     -4.225000\n",
              "3      3.121237\n",
              "4      7.009306\n",
              "5     16.237769\n",
              "6     20.134028\n",
              "7     22.790054\n",
              "8     22.279301\n",
              "9     16.484444\n",
              "10    10.954973\n",
              "11     0.931389\n",
              "12    -3.306317\n",
              "Name: Temp (C), dtype: float64"
            ]
          },
          "metadata": {
            "tags": []
          },
          "execution_count": 76
        }
      ]
    },
    {
      "cell_type": "markdown",
      "metadata": {
        "id": "PaW1IVPCf9r-"
      },
      "source": [
        "### Plotting: Step 1"
      ]
    },
    {
      "cell_type": "code",
      "metadata": {
        "colab": {
          "base_uri": "https://localhost:8080/",
          "height": 312
        },
        "id": "_8hLc8BC7jjZ",
        "outputId": "8379b183-0a83-481a-83ca-872e40880255"
      },
      "source": [
        "plt.plot(x,y)\n",
        "plt.xlabel(\"Month\")\n",
        "plt.ylabel(\"Temp\")\n",
        "plt.title(\"Temp Trends\")"
      ],
      "execution_count": null,
      "outputs": [
        {
          "output_type": "execute_result",
          "data": {
            "text/plain": [
              "Text(0.5, 1.0, 'Temp Trends')"
            ]
          },
          "metadata": {
            "tags": []
          },
          "execution_count": 78
        },
        {
          "output_type": "display_data",
          "data": {
            "image/png": "[encoded data removed]",
            "text/plain": [
              "<Figure size 432x288 with 1 Axes>"
            ]
          },
          "metadata": {
            "tags": [],
            "needs_background": "light"
          }
        }
      ]
    },
    {
      "cell_type": "code",
      "metadata": {
        "colab": {
          "base_uri": "https://localhost:8080/",
          "height": 542
        },
        "id": "uxA07lo7TYFC",
        "outputId": "beb7e1ad-c68c-4f36-d18f-59782283aec6"
      },
      "source": [
        "import plotly.express as px\n",
        "\n",
        "px.line(month_wise_data,x=x,y=y)"
      ],
      "execution_count": null,
      "outputs": [
        {
          "output_type": "display_data",
          "data": {
            "text/html": [
              "<html>\n",
              "<head><meta charset=\"utf-8\" /></head>\n",
              "<body>\n",
              "    <div>\n",
              "            <script src=\"https://cdnjs.cloudflare.com/ajax/libs/mathjax/2.7.5/MathJax.js?config=TeX-AMS-MML_SVG\"></script><script type=\"text/javascript\">if (window.MathJax) {MathJax.Hub.Config({SVG: {font: \"STIX-Web\"}});}</script>\n",
              "                <script type=\"text/javascript\">window.PlotlyConfig = {MathJaxConfig: 'local'};</script>\n",
              "        <script src=\"https://cdn.plot.ly/plotly-latest.min.js\"></script>    \n",
              "            <div id=\"12424a38-155f-4751-85d8-d2c149312ffe\" class=\"plotly-graph-div\" style=\"height:525px; width:100%;\"></div>\n",
              "            <script type=\"text/javascript\">\n",
              "                \n",
              "                    window.PLOTLYENV=window.PLOTLYENV || {};\n",
              "                    \n",
              "                if (document.getElementById(\"12424a38-155f-4751-85d8-d2c149312ffe\")) {\n",
              "                    Plotly.newPlot(\n",
              "                        '12424a38-155f-4751-85d8-d2c149312ffe',\n",
              "                        [{\"hoverlabel\": {\"namelength\": 0}, \"hovertemplate\": \"x=%{x}<br>Temp (C)=%{y}\", \"legendgroup\": \"\", \"line\": {\"color\": \"#636efa\", \"dash\": \"solid\"}, \"mode\": \"lines\", \"name\": \"\", \"showlegend\": false, \"type\": \"scatter\", \"x\": [1, 2, 3, 4, 5, 6, 7, 8, 9, 10, 11, 12], \"xaxis\": \"x\", \"y\": [-7.371505376344083, -4.2250000000000005, 3.1212365591397853, 7.0093055555555575, 16.2377688172043, 20.134027777777785, 22.790053763440845, 22.279301075268787, 16.484444444444463, 10.954973118279568, 0.9313888888888887, -3.3063172043010765], \"yaxis\": \"y\"}],\n",
              "                        {\"legend\": {\"tracegroupgap\": 0}, \"margin\": {\"t\": 60}, \"template\": {\"data\": {\"bar\": [{\"error_x\": {\"color\": \"#2a3f5f\"}, \"error_y\": {\"color\": \"#2a3f5f\"}, \"marker\": {\"line\": {\"color\": \"#E5ECF6\", \"width\": 0.5}}, \"type\": \"bar\"}], \"barpolar\": [{\"marker\": {\"line\": {\"color\": \"#E5ECF6\", \"width\": 0.5}}, \"type\": \"barpolar\"}], \"carpet\": [{\"aaxis\": {\"endlinecolor\": \"#2a3f5f\", \"gridcolor\": \"white\", \"linecolor\": \"white\", \"minorgridcolor\": \"white\", \"startlinecolor\": \"#2a3f5f\"}, \"baxis\": {\"endlinecolor\": \"#2a3f5f\", \"gridcolor\": \"white\", \"linecolor\": \"white\", \"minorgridcolor\": \"white\", \"startlinecolor\": \"#2a3f5f\"}, \"type\": \"carpet\"}], \"choropleth\": [{\"colorbar\": {\"outlinewidth\": 0, \"ticks\": \"\"}, \"type\": \"choropleth\"}], \"contour\": [{\"colorbar\": {\"outlinewidth\": 0, \"ticks\": \"\"}, \"colorscale\": [[0.0, \"#0d0887\"], [0.1111111111111111, \"#46039f\"], [0.2222222222222222, \"#7201a8\"], [0.3333333333333333, \"#9c179e\"], [0.4444444444444444, \"#bd3786\"], [0.5555555555555556, \"#d8576b\"], [0.6666666666666666, \"#ed7953\"], [0.7777777777777778, \"#fb9f3a\"], [0.8888888888888888, \"#fdca26\"], [1.0, \"#f0f921\"]], \"type\": \"contour\"}], \"contourcarpet\": [{\"colorbar\": {\"outlinewidth\": 0, \"ticks\": \"\"}, \"type\": \"contourcarpet\"}], \"heatmap\": [{\"colorbar\": {\"outlinewidth\": 0, \"ticks\": \"\"}, \"colorscale\": [[0.0, \"#0d0887\"], [0.1111111111111111, \"#46039f\"], [0.2222222222222222, \"#7201a8\"], [0.3333333333333333, \"#9c179e\"], [0.4444444444444444, \"#bd3786\"], [0.5555555555555556, \"#d8576b\"], [0.6666666666666666, \"#ed7953\"], [0.7777777777777778, \"#fb9f3a\"], [0.8888888888888888, \"#fdca26\"], [1.0, \"#f0f921\"]], \"type\": \"heatmap\"}], \"heatmapgl\": [{\"colorbar\": {\"outlinewidth\": 0, \"ticks\": \"\"}, \"colorscale\": [[0.0, \"#0d0887\"], [0.1111111111111111, \"#46039f\"], [0.2222222222222222, \"#7201a8\"], [0.3333333333333333, \"#9c179e\"], [0.4444444444444444, \"#bd3786\"], [0.5555555555555556, \"#d8576b\"], [0.6666666666666666, \"#ed7953\"], [0.7777777777777778, \"#fb9f3a\"], [0.8888888888888888, \"#fdca26\"], [1.0, \"#f0f921\"]], \"type\": \"heatmapgl\"}], \"histogram\": [{\"marker\": {\"colorbar\": {\"outlinewidth\": 0, \"ticks\": \"\"}}, \"type\": \"histogram\"}], \"histogram2d\": [{\"colorbar\": {\"outlinewidth\": 0, \"ticks\": \"\"}, \"colorscale\": [[0.0, \"#0d0887\"], [0.1111111111111111, \"#46039f\"], [0.2222222222222222, \"#7201a8\"], [0.3333333333333333, \"#9c179e\"], [0.4444444444444444, \"#bd3786\"], [0.5555555555555556, \"#d8576b\"], [0.6666666666666666, \"#ed7953\"], [0.7777777777777778, \"#fb9f3a\"], [0.8888888888888888, \"#fdca26\"], [1.0, \"#f0f921\"]], \"type\": \"histogram2d\"}], \"histogram2dcontour\": [{\"colorbar\": {\"outlinewidth\": 0, \"ticks\": \"\"}, \"colorscale\": [[0.0, \"#0d0887\"], [0.1111111111111111, \"#46039f\"], [0.2222222222222222, \"#7201a8\"], [0.3333333333333333, \"#9c179e\"], [0.4444444444444444, \"#bd3786\"], [0.5555555555555556, \"#d8576b\"], [0.6666666666666666, \"#ed7953\"], [0.7777777777777778, \"#fb9f3a\"], [0.8888888888888888, \"#fdca26\"], [1.0, \"#f0f921\"]], \"type\": \"histogram2dcontour\"}], \"mesh3d\": [{\"colorbar\": {\"outlinewidth\": 0, \"ticks\": \"\"}, \"type\": \"mesh3d\"}], \"parcoords\": [{\"line\": {\"colorbar\": {\"outlinewidth\": 0, \"ticks\": \"\"}}, \"type\": \"parcoords\"}], \"pie\": [{\"automargin\": true, \"type\": \"pie\"}], \"scatter\": [{\"marker\": {\"colorbar\": {\"outlinewidth\": 0, \"ticks\": \"\"}}, \"type\": \"scatter\"}], \"scatter3d\": [{\"line\": {\"colorbar\": {\"outlinewidth\": 0, \"ticks\": \"\"}}, \"marker\": {\"colorbar\": {\"outlinewidth\": 0, \"ticks\": \"\"}}, \"type\": \"scatter3d\"}], \"scattercarpet\": [{\"marker\": {\"colorbar\": {\"outlinewidth\": 0, \"ticks\": \"\"}}, \"type\": \"scattercarpet\"}], \"scattergeo\": [{\"marker\": {\"colorbar\": {\"outlinewidth\": 0, \"ticks\": \"\"}}, \"type\": \"scattergeo\"}], \"scattergl\": [{\"marker\": {\"colorbar\": {\"outlinewidth\": 0, \"ticks\": \"\"}}, \"type\": \"scattergl\"}], \"scattermapbox\": [{\"marker\": {\"colorbar\": {\"outlinewidth\": 0, \"ticks\": \"\"}}, \"type\": \"scattermapbox\"}], \"scatterpolar\": [{\"marker\": {\"colorbar\": {\"outlinewidth\": 0, \"ticks\": \"\"}}, \"type\": \"scatterpolar\"}], \"scatterpolargl\": [{\"marker\": {\"colorbar\": {\"outlinewidth\": 0, \"ticks\": \"\"}}, \"type\": \"scatterpolargl\"}], \"scatterternary\": [{\"marker\": {\"colorbar\": {\"outlinewidth\": 0, \"ticks\": \"\"}}, \"type\": \"scatterternary\"}], \"surface\": [{\"colorbar\": {\"outlinewidth\": 0, \"ticks\": \"\"}, \"colorscale\": [[0.0, \"#0d0887\"], [0.1111111111111111, \"#46039f\"], [0.2222222222222222, \"#7201a8\"], [0.3333333333333333, \"#9c179e\"], [0.4444444444444444, \"#bd3786\"], [0.5555555555555556, \"#d8576b\"], [0.6666666666666666, \"#ed7953\"], [0.7777777777777778, \"#fb9f3a\"], [0.8888888888888888, \"#fdca26\"], [1.0, \"#f0f921\"]], \"type\": \"surface\"}], \"table\": [{\"cells\": {\"fill\": {\"color\": \"#EBF0F8\"}, \"line\": {\"color\": \"white\"}}, \"header\": {\"fill\": {\"color\": \"#C8D4E3\"}, \"line\": {\"color\": \"white\"}}, \"type\": \"table\"}]}, \"layout\": {\"annotationdefaults\": {\"arrowcolor\": \"#2a3f5f\", \"arrowhead\": 0, \"arrowwidth\": 1}, \"coloraxis\": {\"colorbar\": {\"outlinewidth\": 0, \"ticks\": \"\"}}, \"colorscale\": {\"diverging\": [[0, \"#8e0152\"], [0.1, \"#c51b7d\"], [0.2, \"#de77ae\"], [0.3, \"#f1b6da\"], [0.4, \"#fde0ef\"], [0.5, \"#f7f7f7\"], [0.6, \"#e6f5d0\"], [0.7, \"#b8e186\"], [0.8, \"#7fbc41\"], [0.9, \"#4d9221\"], [1, \"#276419\"]], \"sequential\": [[0.0, \"#0d0887\"], [0.1111111111111111, \"#46039f\"], [0.2222222222222222, \"#7201a8\"], [0.3333333333333333, \"#9c179e\"], [0.4444444444444444, \"#bd3786\"], [0.5555555555555556, \"#d8576b\"], [0.6666666666666666, \"#ed7953\"], [0.7777777777777778, \"#fb9f3a\"], [0.8888888888888888, \"#fdca26\"], [1.0, \"#f0f921\"]], \"sequentialminus\": [[0.0, \"#0d0887\"], [0.1111111111111111, \"#46039f\"], [0.2222222222222222, \"#7201a8\"], [0.3333333333333333, \"#9c179e\"], [0.4444444444444444, \"#bd3786\"], [0.5555555555555556, \"#d8576b\"], [0.6666666666666666, \"#ed7953\"], [0.7777777777777778, \"#fb9f3a\"], [0.8888888888888888, \"#fdca26\"], [1.0, \"#f0f921\"]]}, \"colorway\": [\"#636efa\", \"#EF553B\", \"#00cc96\", \"#ab63fa\", \"#FFA15A\", \"#19d3f3\", \"#FF6692\", \"#B6E880\", \"#FF97FF\", \"#FECB52\"], \"font\": {\"color\": \"#2a3f5f\"}, \"geo\": {\"bgcolor\": \"white\", \"lakecolor\": \"white\", \"landcolor\": \"#E5ECF6\", \"showlakes\": true, \"showland\": true, \"subunitcolor\": \"white\"}, \"hoverlabel\": {\"align\": \"left\"}, \"hovermode\": \"closest\", \"mapbox\": {\"style\": \"light\"}, \"paper_bgcolor\": \"white\", \"plot_bgcolor\": \"#E5ECF6\", \"polar\": {\"angularaxis\": {\"gridcolor\": \"white\", \"linecolor\": \"white\", \"ticks\": \"\"}, \"bgcolor\": \"#E5ECF6\", \"radialaxis\": {\"gridcolor\": \"white\", \"linecolor\": \"white\", \"ticks\": \"\"}}, \"scene\": {\"xaxis\": {\"backgroundcolor\": \"#E5ECF6\", \"gridcolor\": \"white\", \"gridwidth\": 2, \"linecolor\": \"white\", \"showbackground\": true, \"ticks\": \"\", \"zerolinecolor\": \"white\"}, \"yaxis\": {\"backgroundcolor\": \"#E5ECF6\", \"gridcolor\": \"white\", \"gridwidth\": 2, \"linecolor\": \"white\", \"showbackground\": true, \"ticks\": \"\", \"zerolinecolor\": \"white\"}, \"zaxis\": {\"backgroundcolor\": \"#E5ECF6\", \"gridcolor\": \"white\", \"gridwidth\": 2, \"linecolor\": \"white\", \"showbackground\": true, \"ticks\": \"\", \"zerolinecolor\": \"white\"}}, \"shapedefaults\": {\"line\": {\"color\": \"#2a3f5f\"}}, \"ternary\": {\"aaxis\": {\"gridcolor\": \"white\", \"linecolor\": \"white\", \"ticks\": \"\"}, \"baxis\": {\"gridcolor\": \"white\", \"linecolor\": \"white\", \"ticks\": \"\"}, \"bgcolor\": \"#E5ECF6\", \"caxis\": {\"gridcolor\": \"white\", \"linecolor\": \"white\", \"ticks\": \"\"}}, \"title\": {\"x\": 0.05}, \"xaxis\": {\"automargin\": true, \"gridcolor\": \"white\", \"linecolor\": \"white\", \"ticks\": \"\", \"title\": {\"standoff\": 15}, \"zerolinecolor\": \"white\", \"zerolinewidth\": 2}, \"yaxis\": {\"automargin\": true, \"gridcolor\": \"white\", \"linecolor\": \"white\", \"ticks\": \"\", \"title\": {\"standoff\": 15}, \"zerolinecolor\": \"white\", \"zerolinewidth\": 2}}}, \"xaxis\": {\"anchor\": \"y\", \"domain\": [0.0, 1.0], \"title\": {\"text\": \"x\"}}, \"yaxis\": {\"anchor\": \"x\", \"domain\": [0.0, 1.0], \"title\": {\"text\": \"Temp (C)\"}}},\n",
              "                        {\"responsive\": true}\n",
              "                    ).then(function(){\n",
              "                            \n",
              "var gd = document.getElementById('12424a38-155f-4751-85d8-d2c149312ffe');\n",
              "var x = new MutationObserver(function (mutations, observer) {{\n",
              "        var display = window.getComputedStyle(gd).display;\n",
              "        if (!display || display === 'none') {{\n",
              "            console.log([gd, 'removed!']);\n",
              "            Plotly.purge(gd);\n",
              "            observer.disconnect();\n",
              "        }}\n",
              "}});\n",
              "\n",
              "// Listen for the removal of the full notebook cells\n",
              "var notebookContainer = gd.closest('#notebook-container');\n",
              "if (notebookContainer) {{\n",
              "    x.observe(notebookContainer, {childList: true});\n",
              "}}\n",
              "\n",
              "// Listen for the clearing of the current output cell\n",
              "var outputEl = gd.closest('.output');\n",
              "if (outputEl) {{\n",
              "    x.observe(outputEl, {childList: true});\n",
              "}}\n",
              "\n",
              "                        })\n",
              "                };\n",
              "                \n",
              "            </script>\n",
              "        </div>\n",
              "</body>\n",
              "</html>"
            ]
          },
          "metadata": {
            "tags": []
          }
        }
      ]
    },
    {
      "cell_type": "code",
      "metadata": {
        "id": "Ao5ZZlk8TYIY"
      },
      "source": [],
      "execution_count": null,
      "outputs": []
    },
    {
      "cell_type": "code",
      "metadata": {
        "id": "C6pq1NQ47jnx"
      },
      "source": [],
      "execution_count": null,
      "outputs": []
    },
    {
      "cell_type": "markdown",
      "metadata": {
        "id": "_sBQzJ-1f9sD"
      },
      "source": [
        "\n",
        "### Plotting: Step 2\n",
        "\n",
        "The chart we plotted is decent, but we aren't done yet. The X axis is labelled correctly (\"Month\"), but the values themselves are 2, 4, etc, instead of January, February, etc."
      ]
    },
    {
      "cell_type": "markdown",
      "metadata": {
        "id": "wAQ2UMDXf9sE"
      },
      "source": [
        "<img src=\"https://github.com/commit-live-students/GLabs_DSMP_Solutions/blob/master/01_Python_Data_Science_Toolkit/06_Data_Visualization_with_Matplotlib/Exercise/images/icon/ppt-icons.png?raw=1\" alt=\"Concept-Alert\" style=\"width: 100px;float:left; margin-right:15px\"/>\n",
        "<br /> \n",
        "\n",
        "##  Mini-Challenge - 2\n",
        "***\n",
        "### Instructions\n",
        "* The variable `calender_months` is already defined for you. Assign that variable to the variable `x`\n",
        "* Generate the same plot as above,but this time the values of the \"Month\" should be January, February etc instead of 1,2,3,etc."
      ]
    },
    {
      "cell_type": "code",
      "metadata": {
        "colab": {
          "base_uri": "https://localhost:8080/"
        },
        "id": "0v93Q577-RBu",
        "outputId": "07196ca2-dc1c-4f8a-bea2-fa65bbf149c3"
      },
      "source": [
        "import calendar\n",
        "\n",
        "calender_months=calendar.month_name[1:]\n",
        "calender_months"
      ],
      "execution_count": null,
      "outputs": [
        {
          "output_type": "execute_result",
          "data": {
            "text/plain": [
              "['January',\n",
              " 'February',\n",
              " 'March',\n",
              " 'April',\n",
              " 'May',\n",
              " 'June',\n",
              " 'July',\n",
              " 'August',\n",
              " 'September',\n",
              " 'October',\n",
              " 'November',\n",
              " 'December']"
            ]
          },
          "metadata": {
            "tags": []
          },
          "execution_count": 88
        }
      ]
    },
    {
      "cell_type": "code",
      "metadata": {
        "id": "R_t9daLI-RE8"
      },
      "source": [
        "x=calender_months\n",
        "y=y=month_wise_data[\"Temp (C)\"]"
      ],
      "execution_count": null,
      "outputs": []
    },
    {
      "cell_type": "code",
      "metadata": {
        "colab": {
          "base_uri": "https://localhost:8080/",
          "height": 282
        },
        "id": "0_HwJ6mlX1cJ",
        "outputId": "7a0875e6-a179-438b-82ea-2d604773cfcd"
      },
      "source": [
        "plt.plot(x,y)"
      ],
      "execution_count": null,
      "outputs": [
        {
          "output_type": "execute_result",
          "data": {
            "text/plain": [
              "[<matplotlib.lines.Line2D at 0x7f8f08bb33d0>]"
            ]
          },
          "metadata": {
            "tags": []
          },
          "execution_count": 92
        },
        {
          "output_type": "display_data",
          "data": {
            "image/png": "[encoded data removed]",
            "text/plain": [
              "<Figure size 432x288 with 1 Axes>"
            ]
          },
          "metadata": {
            "tags": [],
            "needs_background": "light"
          }
        }
      ]
    },
    {
      "cell_type": "code",
      "metadata": {
        "colab": {
          "base_uri": "https://localhost:8080/",
          "height": 542
        },
        "id": "m2eGRFFh-RIG",
        "outputId": "433bc920-1906-466c-98d3-565c9127c937"
      },
      "source": [
        "px.line(month_wise_data,x=x,y=y)"
      ],
      "execution_count": null,
      "outputs": [
        {
          "output_type": "display_data",
          "data": {
            "text/html": [
              "<html>\n",
              "<head><meta charset=\"utf-8\" /></head>\n",
              "<body>\n",
              "    <div>\n",
              "            <script src=\"https://cdnjs.cloudflare.com/ajax/libs/mathjax/2.7.5/MathJax.js?config=TeX-AMS-MML_SVG\"></script><script type=\"text/javascript\">if (window.MathJax) {MathJax.Hub.Config({SVG: {font: \"STIX-Web\"}});}</script>\n",
              "                <script type=\"text/javascript\">window.PlotlyConfig = {MathJaxConfig: 'local'};</script>\n",
              "        <script src=\"https://cdn.plot.ly/plotly-latest.min.js\"></script>    \n",
              "            <div id=\"765cc82c-ab3b-429e-81d3-bc5742306dc7\" class=\"plotly-graph-div\" style=\"height:525px; width:100%;\"></div>\n",
              "            <script type=\"text/javascript\">\n",
              "                \n",
              "                    window.PLOTLYENV=window.PLOTLYENV || {};\n",
              "                    \n",
              "                if (document.getElementById(\"765cc82c-ab3b-429e-81d3-bc5742306dc7\")) {\n",
              "                    Plotly.newPlot(\n",
              "                        '765cc82c-ab3b-429e-81d3-bc5742306dc7',\n",
              "                        [{\"hoverlabel\": {\"namelength\": 0}, \"hovertemplate\": \"x=%{x}<br>Temp (C)=%{y}\", \"legendgroup\": \"\", \"line\": {\"color\": \"#636efa\", \"dash\": \"solid\"}, \"mode\": \"lines\", \"name\": \"\", \"showlegend\": false, \"type\": \"scatter\", \"x\": [\"January\", \"February\", \"March\", \"April\", \"May\", \"June\", \"July\", \"August\", \"September\", \"October\", \"November\", \"December\"], \"xaxis\": \"x\", \"y\": [-7.371505376344083, -4.2250000000000005, 3.1212365591397853, 7.0093055555555575, 16.2377688172043, 20.134027777777785, 22.790053763440845, 22.279301075268787, 16.484444444444463, 10.954973118279568, 0.9313888888888887, -3.3063172043010765], \"yaxis\": \"y\"}],\n",
              "                        {\"legend\": {\"tracegroupgap\": 0}, \"margin\": {\"t\": 60}, \"template\": {\"data\": {\"bar\": [{\"error_x\": {\"color\": \"#2a3f5f\"}, \"error_y\": {\"color\": \"#2a3f5f\"}, \"marker\": {\"line\": {\"color\": \"#E5ECF6\", \"width\": 0.5}}, \"type\": \"bar\"}], \"barpolar\": [{\"marker\": {\"line\": {\"color\": \"#E5ECF6\", \"width\": 0.5}}, \"type\": \"barpolar\"}], \"carpet\": [{\"aaxis\": {\"endlinecolor\": \"#2a3f5f\", \"gridcolor\": \"white\", \"linecolor\": \"white\", \"minorgridcolor\": \"white\", \"startlinecolor\": \"#2a3f5f\"}, \"baxis\": {\"endlinecolor\": \"#2a3f5f\", \"gridcolor\": \"white\", \"linecolor\": \"white\", \"minorgridcolor\": \"white\", \"startlinecolor\": \"#2a3f5f\"}, \"type\": \"carpet\"}], \"choropleth\": [{\"colorbar\": {\"outlinewidth\": 0, \"ticks\": \"\"}, \"type\": \"choropleth\"}], \"contour\": [{\"colorbar\": {\"outlinewidth\": 0, \"ticks\": \"\"}, \"colorscale\": [[0.0, \"#0d0887\"], [0.1111111111111111, \"#46039f\"], [0.2222222222222222, \"#7201a8\"], [0.3333333333333333, \"#9c179e\"], [0.4444444444444444, \"#bd3786\"], [0.5555555555555556, \"#d8576b\"], [0.6666666666666666, \"#ed7953\"], [0.7777777777777778, \"#fb9f3a\"], [0.8888888888888888, \"#fdca26\"], [1.0, \"#f0f921\"]], \"type\": \"contour\"}], \"contourcarpet\": [{\"colorbar\": {\"outlinewidth\": 0, \"ticks\": \"\"}, \"type\": \"contourcarpet\"}], \"heatmap\": [{\"colorbar\": {\"outlinewidth\": 0, \"ticks\": \"\"}, \"colorscale\": [[0.0, \"#0d0887\"], [0.1111111111111111, \"#46039f\"], [0.2222222222222222, \"#7201a8\"], [0.3333333333333333, \"#9c179e\"], [0.4444444444444444, \"#bd3786\"], [0.5555555555555556, \"#d8576b\"], [0.6666666666666666, \"#ed7953\"], [0.7777777777777778, \"#fb9f3a\"], [0.8888888888888888, \"#fdca26\"], [1.0, \"#f0f921\"]], \"type\": \"heatmap\"}], \"heatmapgl\": [{\"colorbar\": {\"outlinewidth\": 0, \"ticks\": \"\"}, \"colorscale\": [[0.0, \"#0d0887\"], [0.1111111111111111, \"#46039f\"], [0.2222222222222222, \"#7201a8\"], [0.3333333333333333, \"#9c179e\"], [0.4444444444444444, \"#bd3786\"], [0.5555555555555556, \"#d8576b\"], [0.6666666666666666, \"#ed7953\"], [0.7777777777777778, \"#fb9f3a\"], [0.8888888888888888, \"#fdca26\"], [1.0, \"#f0f921\"]], \"type\": \"heatmapgl\"}], \"histogram\": [{\"marker\": {\"colorbar\": {\"outlinewidth\": 0, \"ticks\": \"\"}}, \"type\": \"histogram\"}], \"histogram2d\": [{\"colorbar\": {\"outlinewidth\": 0, \"ticks\": \"\"}, \"colorscale\": [[0.0, \"#0d0887\"], [0.1111111111111111, \"#46039f\"], [0.2222222222222222, \"#7201a8\"], [0.3333333333333333, \"#9c179e\"], [0.4444444444444444, \"#bd3786\"], [0.5555555555555556, \"#d8576b\"], [0.6666666666666666, \"#ed7953\"], [0.7777777777777778, \"#fb9f3a\"], [0.8888888888888888, \"#fdca26\"], [1.0, \"#f0f921\"]], \"type\": \"histogram2d\"}], \"histogram2dcontour\": [{\"colorbar\": {\"outlinewidth\": 0, \"ticks\": \"\"}, \"colorscale\": [[0.0, \"#0d0887\"], [0.1111111111111111, \"#46039f\"], [0.2222222222222222, \"#7201a8\"], [0.3333333333333333, \"#9c179e\"], [0.4444444444444444, \"#bd3786\"], [0.5555555555555556, \"#d8576b\"], [0.6666666666666666, \"#ed7953\"], [0.7777777777777778, \"#fb9f3a\"], [0.8888888888888888, \"#fdca26\"], [1.0, \"#f0f921\"]], \"type\": \"histogram2dcontour\"}], \"mesh3d\": [{\"colorbar\": {\"outlinewidth\": 0, \"ticks\": \"\"}, \"type\": \"mesh3d\"}], \"parcoords\": [{\"line\": {\"colorbar\": {\"outlinewidth\": 0, \"ticks\": \"\"}}, \"type\": \"parcoords\"}], \"pie\": [{\"automargin\": true, \"type\": \"pie\"}], \"scatter\": [{\"marker\": {\"colorbar\": {\"outlinewidth\": 0, \"ticks\": \"\"}}, \"type\": \"scatter\"}], \"scatter3d\": [{\"line\": {\"colorbar\": {\"outlinewidth\": 0, \"ticks\": \"\"}}, \"marker\": {\"colorbar\": {\"outlinewidth\": 0, \"ticks\": \"\"}}, \"type\": \"scatter3d\"}], \"scattercarpet\": [{\"marker\": {\"colorbar\": {\"outlinewidth\": 0, \"ticks\": \"\"}}, \"type\": \"scattercarpet\"}], \"scattergeo\": [{\"marker\": {\"colorbar\": {\"outlinewidth\": 0, \"ticks\": \"\"}}, \"type\": \"scattergeo\"}], \"scattergl\": [{\"marker\": {\"colorbar\": {\"outlinewidth\": 0, \"ticks\": \"\"}}, \"type\": \"scattergl\"}], \"scattermapbox\": [{\"marker\": {\"colorbar\": {\"outlinewidth\": 0, \"ticks\": \"\"}}, \"type\": \"scattermapbox\"}], \"scatterpolar\": [{\"marker\": {\"colorbar\": {\"outlinewidth\": 0, \"ticks\": \"\"}}, \"type\": \"scatterpolar\"}], \"scatterpolargl\": [{\"marker\": {\"colorbar\": {\"outlinewidth\": 0, \"ticks\": \"\"}}, \"type\": \"scatterpolargl\"}], \"scatterternary\": [{\"marker\": {\"colorbar\": {\"outlinewidth\": 0, \"ticks\": \"\"}}, \"type\": \"scatterternary\"}], \"surface\": [{\"colorbar\": {\"outlinewidth\": 0, \"ticks\": \"\"}, \"colorscale\": [[0.0, \"#0d0887\"], [0.1111111111111111, \"#46039f\"], [0.2222222222222222, \"#7201a8\"], [0.3333333333333333, \"#9c179e\"], [0.4444444444444444, \"#bd3786\"], [0.5555555555555556, \"#d8576b\"], [0.6666666666666666, \"#ed7953\"], [0.7777777777777778, \"#fb9f3a\"], [0.8888888888888888, \"#fdca26\"], [1.0, \"#f0f921\"]], \"type\": \"surface\"}], \"table\": [{\"cells\": {\"fill\": {\"color\": \"#EBF0F8\"}, \"line\": {\"color\": \"white\"}}, \"header\": {\"fill\": {\"color\": \"#C8D4E3\"}, \"line\": {\"color\": \"white\"}}, \"type\": \"table\"}]}, \"layout\": {\"annotationdefaults\": {\"arrowcolor\": \"#2a3f5f\", \"arrowhead\": 0, \"arrowwidth\": 1}, \"coloraxis\": {\"colorbar\": {\"outlinewidth\": 0, \"ticks\": \"\"}}, \"colorscale\": {\"diverging\": [[0, \"#8e0152\"], [0.1, \"#c51b7d\"], [0.2, \"#de77ae\"], [0.3, \"#f1b6da\"], [0.4, \"#fde0ef\"], [0.5, \"#f7f7f7\"], [0.6, \"#e6f5d0\"], [0.7, \"#b8e186\"], [0.8, \"#7fbc41\"], [0.9, \"#4d9221\"], [1, \"#276419\"]], \"sequential\": [[0.0, \"#0d0887\"], [0.1111111111111111, \"#46039f\"], [0.2222222222222222, \"#7201a8\"], [0.3333333333333333, \"#9c179e\"], [0.4444444444444444, \"#bd3786\"], [0.5555555555555556, \"#d8576b\"], [0.6666666666666666, \"#ed7953\"], [0.7777777777777778, \"#fb9f3a\"], [0.8888888888888888, \"#fdca26\"], [1.0, \"#f0f921\"]], \"sequentialminus\": [[0.0, \"#0d0887\"], [0.1111111111111111, \"#46039f\"], [0.2222222222222222, \"#7201a8\"], [0.3333333333333333, \"#9c179e\"], [0.4444444444444444, \"#bd3786\"], [0.5555555555555556, \"#d8576b\"], [0.6666666666666666, \"#ed7953\"], [0.7777777777777778, \"#fb9f3a\"], [0.8888888888888888, \"#fdca26\"], [1.0, \"#f0f921\"]]}, \"colorway\": [\"#636efa\", \"#EF553B\", \"#00cc96\", \"#ab63fa\", \"#FFA15A\", \"#19d3f3\", \"#FF6692\", \"#B6E880\", \"#FF97FF\", \"#FECB52\"], \"font\": {\"color\": \"#2a3f5f\"}, \"geo\": {\"bgcolor\": \"white\", \"lakecolor\": \"white\", \"landcolor\": \"#E5ECF6\", \"showlakes\": true, \"showland\": true, \"subunitcolor\": \"white\"}, \"hoverlabel\": {\"align\": \"left\"}, \"hovermode\": \"closest\", \"mapbox\": {\"style\": \"light\"}, \"paper_bgcolor\": \"white\", \"plot_bgcolor\": \"#E5ECF6\", \"polar\": {\"angularaxis\": {\"gridcolor\": \"white\", \"linecolor\": \"white\", \"ticks\": \"\"}, \"bgcolor\": \"#E5ECF6\", \"radialaxis\": {\"gridcolor\": \"white\", \"linecolor\": \"white\", \"ticks\": \"\"}}, \"scene\": {\"xaxis\": {\"backgroundcolor\": \"#E5ECF6\", \"gridcolor\": \"white\", \"gridwidth\": 2, \"linecolor\": \"white\", \"showbackground\": true, \"ticks\": \"\", \"zerolinecolor\": \"white\"}, \"yaxis\": {\"backgroundcolor\": \"#E5ECF6\", \"gridcolor\": \"white\", \"gridwidth\": 2, \"linecolor\": \"white\", \"showbackground\": true, \"ticks\": \"\", \"zerolinecolor\": \"white\"}, \"zaxis\": {\"backgroundcolor\": \"#E5ECF6\", \"gridcolor\": \"white\", \"gridwidth\": 2, \"linecolor\": \"white\", \"showbackground\": true, \"ticks\": \"\", \"zerolinecolor\": \"white\"}}, \"shapedefaults\": {\"line\": {\"color\": \"#2a3f5f\"}}, \"ternary\": {\"aaxis\": {\"gridcolor\": \"white\", \"linecolor\": \"white\", \"ticks\": \"\"}, \"baxis\": {\"gridcolor\": \"white\", \"linecolor\": \"white\", \"ticks\": \"\"}, \"bgcolor\": \"#E5ECF6\", \"caxis\": {\"gridcolor\": \"white\", \"linecolor\": \"white\", \"ticks\": \"\"}}, \"title\": {\"x\": 0.05}, \"xaxis\": {\"automargin\": true, \"gridcolor\": \"white\", \"linecolor\": \"white\", \"ticks\": \"\", \"title\": {\"standoff\": 15}, \"zerolinecolor\": \"white\", \"zerolinewidth\": 2}, \"yaxis\": {\"automargin\": true, \"gridcolor\": \"white\", \"linecolor\": \"white\", \"ticks\": \"\", \"title\": {\"standoff\": 15}, \"zerolinecolor\": \"white\", \"zerolinewidth\": 2}}}, \"xaxis\": {\"anchor\": \"y\", \"domain\": [0.0, 1.0], \"title\": {\"text\": \"x\"}}, \"yaxis\": {\"anchor\": \"x\", \"domain\": [0.0, 1.0], \"title\": {\"text\": \"Temp (C)\"}}},\n",
              "                        {\"responsive\": true}\n",
              "                    ).then(function(){\n",
              "                            \n",
              "var gd = document.getElementById('765cc82c-ab3b-429e-81d3-bc5742306dc7');\n",
              "var x = new MutationObserver(function (mutations, observer) {{\n",
              "        var display = window.getComputedStyle(gd).display;\n",
              "        if (!display || display === 'none') {{\n",
              "            console.log([gd, 'removed!']);\n",
              "            Plotly.purge(gd);\n",
              "            observer.disconnect();\n",
              "        }}\n",
              "}});\n",
              "\n",
              "// Listen for the removal of the full notebook cells\n",
              "var notebookContainer = gd.closest('#notebook-container');\n",
              "if (notebookContainer) {{\n",
              "    x.observe(notebookContainer, {childList: true});\n",
              "}}\n",
              "\n",
              "// Listen for the clearing of the current output cell\n",
              "var outputEl = gd.closest('.output');\n",
              "if (outputEl) {{\n",
              "    x.observe(outputEl, {childList: true});\n",
              "}}\n",
              "\n",
              "                        })\n",
              "                };\n",
              "                \n",
              "            </script>\n",
              "        </div>\n",
              "</body>\n",
              "</html>"
            ]
          },
          "metadata": {
            "tags": []
          }
        }
      ]
    },
    {
      "cell_type": "markdown",
      "metadata": {
        "id": "4Lk8W5CCf9sL"
      },
      "source": [
        "### Plotting: Step 3\n",
        "\n",
        "Almost done, but not quite. We need the X-axis labels to be a bit more legible. Let's rotate them a bit."
      ]
    },
    {
      "cell_type": "markdown",
      "metadata": {
        "id": "QJf8vCwXf9sN"
      },
      "source": [
        "<img src=\"https://github.com/commit-live-students/GLabs_DSMP_Solutions/blob/master/01_Python_Data_Science_Toolkit/06_Data_Visualization_with_Matplotlib/Exercise/images/icon/ppt-icons.png?raw=1\" alt=\"Concept-Alert\" style=\"width: 100px;float:left; margin-right:15px\"/>\n",
        "<br /> \n",
        "\n",
        "##  Home Work\n",
        "***\n",
        "### Instructions\n",
        "* Generate the same graph as above, but with the X-axis labels rotated, so that they are legible."
      ]
    },
    {
      "cell_type": "code",
      "metadata": {
        "id": "18HH6Zlcf9sO",
        "colab": {
          "base_uri": "https://localhost:8080/",
          "height": 341
        },
        "outputId": "5d4323e0-f549-4606-b272-76b9741a937a"
      },
      "source": [
        "'''Your code goes here'''\n",
        "\n",
        "##x=calendar_months\n",
        "#y=monthly_data['Temp (C)']\n",
        "plt.plot(x,y)\n",
        "plt.title('Temperature Trend, 2012')\n",
        "plt.xlabel('Month')\n",
        "plt.ylabel('Temp (C)')\n",
        "plt.xticks(rotation=75)\n",
        "plt.show()"
      ],
      "execution_count": null,
      "outputs": [
        {
          "output_type": "display_data",
          "data": {
            "image/png": "[encoded data removed]",
            "text/plain": [
              "<Figure size 432x288 with 1 Axes>"
            ]
          },
          "metadata": {
            "tags": [],
            "needs_background": "light"
          }
        }
      ]
    },
    {
      "cell_type": "markdown",
      "metadata": {
        "id": "_LfuJNp6f9sP"
      },
      "source": [
        "# Other Plot Types\n",
        "***\n",
        "\n",
        "The chart we have so far worked with is called a Line Chart. There are other types of plots. Some important examples are:\n",
        "- Histograms\n",
        "- Box Plots\n",
        "- Scatter Plots"
      ]
    },
    {
      "cell_type": "markdown",
      "metadata": {
        "id": "eRNUeFmWf9sR"
      },
      "source": [
        "<img src=\"https://github.com/commit-live-students/GLabs_DSMP_Solutions/blob/master/01_Python_Data_Science_Toolkit/06_Data_Visualization_with_Matplotlib/Exercise/images/icon/ppt-icons.png?raw=1\" alt=\"Concept-Alert\" style=\"width: 100px;float:left; margin-right:15px\"/>\n",
        "<br /> \n",
        "\n",
        "##  Mini-Challenge - 4\n",
        "***\n",
        "### Instructions\n",
        "* Find the distribution of values in the Wind Speed column using `plt.hist()`\n",
        "* Remember to label x axis as `Wind Spd (km/h)` and y label as `Frequency`"
      ]
    },
    {
      "cell_type": "code",
      "metadata": {
        "colab": {
          "base_uri": "https://localhost:8080/",
          "height": 431
        },
        "id": "NamwpdvZYtlE",
        "outputId": "97501a41-2c18-40c4-eeeb-f6281614d299"
      },
      "source": [
        "weather_df"
      ],
      "execution_count": null,
      "outputs": [
        {
          "output_type": "execute_result",
          "data": {
            "text/html": [
              "<div>\n",
              "<style scoped>\n",
              "    .dataframe tbody tr th:only-of-type {\n",
              "        vertical-align: middle;\n",
              "    }\n",
              "\n",
              "    .dataframe tbody tr th {\n",
              "        vertical-align: top;\n",
              "    }\n",
              "\n",
              "    .dataframe thead th {\n",
              "        text-align: right;\n",
              "    }\n",
              "</style>\n",
              "<table border=\"1\" class=\"dataframe\">\n",
              "  <thead>\n",
              "    <tr style=\"text-align: right;\">\n",
              "      <th></th>\n",
              "      <th>Temp (C)</th>\n",
              "      <th>Dew Point Temp (C)</th>\n",
              "      <th>Rel Hum (%)</th>\n",
              "      <th>Wind Spd (km/h)</th>\n",
              "      <th>Visibility (km)</th>\n",
              "      <th>Stn Press (kPa)</th>\n",
              "      <th>Weather</th>\n",
              "    </tr>\n",
              "    <tr>\n",
              "      <th>Date/Time</th>\n",
              "      <th></th>\n",
              "      <th></th>\n",
              "      <th></th>\n",
              "      <th></th>\n",
              "      <th></th>\n",
              "      <th></th>\n",
              "      <th></th>\n",
              "    </tr>\n",
              "  </thead>\n",
              "  <tbody>\n",
              "    <tr>\n",
              "      <th>2012-01-01 00:00:00</th>\n",
              "      <td>-1.8</td>\n",
              "      <td>-3.9</td>\n",
              "      <td>86</td>\n",
              "      <td>4</td>\n",
              "      <td>8.0</td>\n",
              "      <td>101.24</td>\n",
              "      <td>Fog</td>\n",
              "    </tr>\n",
              "    <tr>\n",
              "      <th>2012-01-01 01:00:00</th>\n",
              "      <td>-1.8</td>\n",
              "      <td>-3.7</td>\n",
              "      <td>87</td>\n",
              "      <td>4</td>\n",
              "      <td>8.0</td>\n",
              "      <td>101.24</td>\n",
              "      <td>Fog</td>\n",
              "    </tr>\n",
              "    <tr>\n",
              "      <th>2012-01-01 02:00:00</th>\n",
              "      <td>-1.8</td>\n",
              "      <td>-3.4</td>\n",
              "      <td>89</td>\n",
              "      <td>7</td>\n",
              "      <td>4.0</td>\n",
              "      <td>101.26</td>\n",
              "      <td>Freezing Drizzle,Fog</td>\n",
              "    </tr>\n",
              "    <tr>\n",
              "      <th>2012-01-01 03:00:00</th>\n",
              "      <td>-1.5</td>\n",
              "      <td>-3.2</td>\n",
              "      <td>88</td>\n",
              "      <td>6</td>\n",
              "      <td>4.0</td>\n",
              "      <td>101.27</td>\n",
              "      <td>Freezing Drizzle,Fog</td>\n",
              "    </tr>\n",
              "    <tr>\n",
              "      <th>2012-01-01 04:00:00</th>\n",
              "      <td>-1.5</td>\n",
              "      <td>-3.3</td>\n",
              "      <td>88</td>\n",
              "      <td>7</td>\n",
              "      <td>4.8</td>\n",
              "      <td>101.23</td>\n",
              "      <td>Fog</td>\n",
              "    </tr>\n",
              "    <tr>\n",
              "      <th>...</th>\n",
              "      <td>...</td>\n",
              "      <td>...</td>\n",
              "      <td>...</td>\n",
              "      <td>...</td>\n",
              "      <td>...</td>\n",
              "      <td>...</td>\n",
              "      <td>...</td>\n",
              "    </tr>\n",
              "    <tr>\n",
              "      <th>2012-12-31 19:00:00</th>\n",
              "      <td>0.1</td>\n",
              "      <td>-2.7</td>\n",
              "      <td>81</td>\n",
              "      <td>30</td>\n",
              "      <td>9.7</td>\n",
              "      <td>100.13</td>\n",
              "      <td>Snow</td>\n",
              "    </tr>\n",
              "    <tr>\n",
              "      <th>2012-12-31 20:00:00</th>\n",
              "      <td>0.2</td>\n",
              "      <td>-2.4</td>\n",
              "      <td>83</td>\n",
              "      <td>24</td>\n",
              "      <td>9.7</td>\n",
              "      <td>100.03</td>\n",
              "      <td>Snow</td>\n",
              "    </tr>\n",
              "    <tr>\n",
              "      <th>2012-12-31 21:00:00</th>\n",
              "      <td>-0.5</td>\n",
              "      <td>-1.5</td>\n",
              "      <td>93</td>\n",
              "      <td>28</td>\n",
              "      <td>4.8</td>\n",
              "      <td>99.95</td>\n",
              "      <td>Snow</td>\n",
              "    </tr>\n",
              "    <tr>\n",
              "      <th>2012-12-31 22:00:00</th>\n",
              "      <td>-0.2</td>\n",
              "      <td>-1.8</td>\n",
              "      <td>89</td>\n",
              "      <td>28</td>\n",
              "      <td>9.7</td>\n",
              "      <td>99.91</td>\n",
              "      <td>Snow</td>\n",
              "    </tr>\n",
              "    <tr>\n",
              "      <th>2012-12-31 23:00:00</th>\n",
              "      <td>0.0</td>\n",
              "      <td>-2.1</td>\n",
              "      <td>86</td>\n",
              "      <td>30</td>\n",
              "      <td>11.3</td>\n",
              "      <td>99.89</td>\n",
              "      <td>Snow</td>\n",
              "    </tr>\n",
              "  </tbody>\n",
              "</table>\n",
              "<p>8784 rows × 7 columns</p>\n",
              "</div>"
            ],
            "text/plain": [
              "                     Temp (C)  ...               Weather\n",
              "Date/Time                      ...                      \n",
              "2012-01-01 00:00:00      -1.8  ...                   Fog\n",
              "2012-01-01 01:00:00      -1.8  ...                   Fog\n",
              "2012-01-01 02:00:00      -1.8  ...  Freezing Drizzle,Fog\n",
              "2012-01-01 03:00:00      -1.5  ...  Freezing Drizzle,Fog\n",
              "2012-01-01 04:00:00      -1.5  ...                   Fog\n",
              "...                       ...  ...                   ...\n",
              "2012-12-31 19:00:00       0.1  ...                  Snow\n",
              "2012-12-31 20:00:00       0.2  ...                  Snow\n",
              "2012-12-31 21:00:00      -0.5  ...                  Snow\n",
              "2012-12-31 22:00:00      -0.2  ...                  Snow\n",
              "2012-12-31 23:00:00       0.0  ...                  Snow\n",
              "\n",
              "[8784 rows x 7 columns]"
            ]
          },
          "metadata": {
            "tags": []
          },
          "execution_count": 96
        }
      ]
    },
    {
      "cell_type": "code",
      "metadata": {
        "colab": {
          "base_uri": "https://localhost:8080/",
          "height": 332
        },
        "id": "uNcdnA9x_LUn",
        "outputId": "935a7470-c9b5-4453-e86b-7b7b3e5ba8b8"
      },
      "source": [
        "plt.hist(weather_df[\"Wind Spd (km/h)\"])"
      ],
      "execution_count": null,
      "outputs": [
        {
          "output_type": "execute_result",
          "data": {
            "text/plain": [
              "(array([2.071e+03, 3.075e+03, 2.591e+03, 8.320e+02, 1.440e+02, 5.100e+01,\n",
              "        1.700e+01, 1.000e+00, 1.000e+00, 1.000e+00]),\n",
              " array([ 0. ,  8.3, 16.6, 24.9, 33.2, 41.5, 49.8, 58.1, 66.4, 74.7, 83. ]),\n",
              " <a list of 10 Patch objects>)"
            ]
          },
          "metadata": {
            "tags": []
          },
          "execution_count": 97
        },
        {
          "output_type": "display_data",
          "data": {
            "image/png": "[encoded data removed]",
            "text/plain": [
              "<Figure size 432x288 with 1 Axes>"
            ]
          },
          "metadata": {
            "tags": [],
            "needs_background": "light"
          }
        }
      ]
    },
    {
      "cell_type": "code",
      "metadata": {
        "colab": {
          "base_uri": "https://localhost:8080/",
          "height": 542
        },
        "id": "mdcmMOgFYdhC",
        "outputId": "272c92e9-d55a-412c-e306-491e427d0006"
      },
      "source": [
        "px.histogram(weather_df,x=\"Wind Spd (km/h)\")"
      ],
      "execution_count": null,
      "outputs": [
        {
          "output_type": "display_data",
          "data": {
            "text/html": [
              "<html>\n",
              "<head><meta charset=\"utf-8\" /></head>\n",
              "<body>\n",
              "    <div>\n",
              "            <script src=\"https://cdnjs.cloudflare.com/ajax/libs/mathjax/2.7.5/MathJax.js?config=TeX-AMS-MML_SVG\"></script><script type=\"text/javascript\">if (window.MathJax) {MathJax.Hub.Config({SVG: {font: \"STIX-Web\"}});}</script>\n",
              "                <script type=\"text/javascript\">window.PlotlyConfig = {MathJaxConfig: 'local'};</script>\n",
              "        <script src=\"https://cdn.plot.ly/plotly-latest.min.js\"></script>    \n",
              "            <div id=\"2029b2da-016c-42af-87cb-4f674a648ce9\" class=\"plotly-graph-div\" style=\"height:525px; width:100%;\"></div>\n",
              "            <script type=\"text/javascript\">\n",
              "                \n",
              "                    window.PLOTLYENV=window.PLOTLYENV || {};\n",
              "                    \n",
              "                if (document.getElementById(\"2029b2da-016c-42af-87cb-4f674a648ce9\")) {\n",
              "                    Plotly.newPlot(\n",
              "                        '2029b2da-016c-42af-87cb-4f674a648ce9',\n",
              "                        [{\"alignmentgroup\": \"True\", \"bingroup\": \"x\", \"hoverlabel\": {\"namelength\": 0}, \"hovertemplate\": \"Wind Spd (km/h)=%{x}<br>count=%{y}\", \"legendgroup\": \"\", \"marker\": {\"color\": \"#636efa\"}, \"name\": \"\", \"offsetgroup\": \"\", \"orientation\": \"v\", \"showlegend\": false, \"type\": \"histogram\", \"x\": [4, 4, 7, 6, 7, 9, 7, 7, 9, 15, 9, 7, 9, 13, 20, 22, 13, 13, 15, 15, 19, 20, 24, 30, 35, 39, 32, 33, 32, 32, 26, 33, 39, 44, 43, 30, 48, 37, 33, 33, 24, 22, 28, 24, 24, 26, 20, 17, 28, 20, 22, 33, 24, 22, 19, 19, 26, 19, 24, 22, 20, 22, 22, 19, 22, 22, 24, 24, 24, 15, 20, 17, 13, 11, 15, 13, 13, 9, 11, 11, 17, 9, 7, 13, 11, 11, 7, 11, 13, 9, 11, 9, 9, 7, 6, 6, 4, 0, 9, 11, 9, 4, 6, 9, 11, 9, 17, 22, 20, 26, 22, 26, 19, 11, 11, 7, 9, 13, 7, 9, 13, 17, 9, 0, 15, 19, 22, 22, 24, 26, 28, 17, 28, 20, 19, 19, 19, 17, 17, 15, 11, 9, 11, 7, 6, 0, 4, 4, 6, 4, 7, 7, 9, 7, 7, 9, 13, 15, 6, 11, 0, 13, 6, 6, 4, 0, 4, 22, 32, 32, 30, 32, 22, 13, 13, 11, 11, 17, 17, 22, 15, 15, 19, 20, 20, 17, 17, 15, 15, 11, 7, 7, 6, 0, 4, 0, 9, 11, 11, 15, 13, 11, 9, 7, 9, 7, 7, 9, 11, 15, 20, 19, 15, 11, 19, 17, 30, 35, 19, 28, 26, 30, 30, 20, 24, 17, 24, 22, 30, 26, 26, 30, 30, 17, 15, 15, 13, 9, 13, 19, 17, 17, 19, 19, 17, 19, 20, 13, 15, 15, 11, 15, 17, 19, 20, 20, 20, 26, 24, 30, 24, 19, 22, 20, 19, 24, 26, 33, 22, 30, 28, 28, 33, 33, 35, 32, 32, 33, 28, 26, 33, 33, 35, 30, 28, 24, 26, 28, 28, 24, 22, 19, 24, 20, 22, 22, 26, 32, 26, 28, 24, 20, 6, 13, 11, 15, 26, 33, 32, 37, 32, 35, 39, 24, 28, 24, 20, 24, 24, 26, 20, 19, 22, 20, 20, 17, 17, 22, 19, 13, 20, 17, 13, 11, 13, 9, 11, 9, 9, 4, 0, 6, 7, 9, 7, 9, 9, 9, 13, 20, 26, 24, 24, 15, 17, 20, 17, 15, 17, 15, 15, 6, 6, 6, 0, 0, 0, 4, 9, 22, 19, 20, 19, 13, 13, 17, 9, 4, 15, 15, 13, 11, 9, 7, 9, 9, 9, 6, 6, 6, 6, 9, 9, 15, 15, 15, 19, 22, 22, 24, 28, 22, 22, 24, 24, 26, 17, 7, 11, 83, 70, 57, 48, 46, 39, 39, 35, 43, 35, 39, 37, 32, 28, 30, 26, 26, 22, 22, 17, 17, 13, 6, 7, 4, 6, 6, 7, 6, 6, 6, 19, 17, 20, 26, 15, 20, 20, 26, 24, 17, 19, 30, 30, 24, 32, 26, 26, 20, 22, 19, 19, 33, 28, 28, 33, 32, 33, 32, 30, 30, 30, 30, 24, 17, 13, 13, 9, 9, 9, 6, 6, 0, 0, 7, 7, 11, 9, 9, 9, 13, 17, 19, 15, 15, 13, 11, 7, 11, 6, 4, 4, 9, 0, 0, 0, 4, 0, 0, 0, 6, 6, 6, 4, 7, 9, 6, 9, 11, 9, 9, 6, 19, 19, 19, 15, 15, 13, 9, 11, 11, 13, 13, 11, 11, 7, 13, 11, 11, 9, 11, 6, 22, 26, 30, 28, 28, 19, 22, 26, 24, 28, 22, 17, 19, 9, 19, 30, 41, 28, 26, 28, 30, 35, 33, 30, 39, 35, 26, 30, 26, 22, 32, 19, 20, 22, 28, 28, 22, 20, 24, 24, 33, 35, 37, 26, 28, 22, 19, 20, 20, 22, 22, 19, 20, 11, 13, 7, 7, 0, 6, 6, 4, 6, 0, 0, 6, 6, 6, 6, 11, 11, 7, 11, 15, 11, 13, 19, 20, 24, 17, 17, 20, 22, 22, 28, 24, 26, 28, 26, 22, 19, 22, 20, 17, 17, 20, 20, 22, 20, 19, 19, 22, 11, 30, 32, 19, 19, 20, 19, 22, 24, 17, 15, 19, 9, 11, 7, 13, 13, 6, 7, 4, 9, 15, 22, 11, 9, 19, 24, 24, 37, 52, 57, 52, 52, 43, 43, 43, 44, 32, 32, 32, 24, 33, 37, 33, 19, 17, 20, 11, 17, 17, 17, 9, 15, 15, 11, 15, 15, 11, 11, 13, 15, 15, 9, 13, 17, 19, 22, 22, 22, 22, 17, 13, 15, 7, 4, 4, 4, 6, 7, 6, 11, 15, 17, 17, 13, 17, 19, 17, 19, 20, 22, 20, 20, 17, 20, 19, 20, 19, 20, 20, 19, 22, 19, 15, 19, 15, 17, 19, 15, 13, 11, 15, 13, 9, 11, 11, 9, 6, 0, 0, 0, 6, 4, 15, 15, 0, 7, 9, 4, 6, 4, 9, 13, 22, 19, 19, 17, 19, 13, 9, 9, 9, 11, 13, 7, 6, 4, 4, 7, 7, 4, 0, 0, 0, 7, 9, 7, 9, 9, 6, 7, 11, 11, 6, 7, 19, 13, 11, 7, 9, 11, 7, 0, 6, 9, 11, 20, 15, 13, 15, 9, 7, 9, 13, 6, 0, 4, 13, 6, 11, 9, 11, 9, 7, 6, 6, 0, 0, 6, 6, 6, 6, 6, 7, 4, 4, 4, 0, 9, 11, 9, 13, 20, 15, 6, 9, 15, 15, 24, 26, 28, 30, 30, 24, 32, 30, 35, 26, 32, 37, 33, 32, 32, 35, 22, 32, 33, 30, 17, 13, 11, 13, 11, 15, 13, 13, 13, 15, 15, 19, 19, 15, 20, 17, 17, 19, 19, 11, 13, 15, 15, 19, 22, 19, 11, 9, 11, 13, 9, 9, 4, 9, 6, 11, 4, 0, 9, 15, 13, 15, 17, 17, 20, 32, 24, 32, 22, 17, 19, 22, 22, 26, 17, 20, 13, 13, 11, 24, 26, 20, 20, 17, 20, 22, 28, 24, 24, 26, 30, 24, 22, 20, 22, 20, 17, 22, 28, 26, 22, 19, 22, 17, 20, 22, 22, 20, 17, 19, 28, 20, 24, 24, 30, 28, 30, 22, 17, 17, 15, 13, 11, 6, 9, 24, 30, 22, 22, 20, 24, 20, 20, 20, 19, 11, 9, 7, 6, 11, 6, 4, 4, 7, 9, 7, 6, 13, 11, 11, 6, 9, 11, 11, 15, 19, 17, 17, 17, 20, 24, 20, 26, 28, 32, 26, 24, 24, 22, 24, 26, 20, 19, 22, 24, 20, 20, 22, 22, 22, 24, 20, 26, 20, 17, 24, 22, 24, 24, 15, 0, 15, 7, 11, 13, 19, 15, 13, 11, 9, 11, 4, 6, 7, 9, 4, 4, 0, 4, 4, 9, 9, 7, 9, 9, 7, 4, 7, 0, 0, 4, 4, 0, 4, 0, 7, 0, 4, 4, 4, 0, 0, 0, 6, 7, 6, 6, 6, 7, 7, 7, 13, 7, 7, 9, 7, 4, 6, 7, 4, 6, 7, 7, 0, 11, 11, 19, 19, 19, 19, 15, 15, 19, 17, 17, 15, 17, 19, 19, 19, 17, 19, 20, 24, 30, 24, 32, 32, 41, 32, 24, 22, 28, 30, 26, 26, 22, 28, 24, 19, 15, 26, 24, 22, 22, 26, 22, 19, 20, 24, 19, 24, 24, 17, 15, 20, 15, 19, 19, 13, 15, 11, 11, 9, 9, 9, 13, 19, 9, 0, 7, 9, 6, 7, 7, 9, 15, 17, 17, 19, 15, 17, 20, 15, 13, 15, 13, 11, 9, 7, 4, 0, 4, 7, 6, 6, 4, 4, 4, 6, 9, 9, 11, 20, 17, 19, 20, 17, 9, 7, 6, 6, 0, 4, 9, 6, 7, 4, 4, 7, 6, 7, 7, 9, 11, 15, 19, 24, 22, 19, 17, 9, 9, 0, 4, 6, 6, 0, 19, 15, 19, 20, 15, 15, 13, 15, 17, 26, 28, 26, 28, 22, 17, 28, 19, 19, 9, 6, 13, 15, 15, 13, 20, 11, 7, 6, 4, 4, 9, 7, 7, 17, 19, 22, 20, 20, 13, 22, 22, 24, 15, 19, 15, 13, 9, 7, 6, 4, 0, 0, 0, 0, 6, 11, 9, 7, 9, 15, 20, 20, 20, 19, 22, 26, 24, 22, 15, 17, 19, 17, 11, 15, 11, 19, 19, 22, 33, 33, 32, 33, 32, 33, 33, 32, 35, 33, 24, 24, 30, 35, 26, 32, 28, 26, 19, 20, 22, 28, 30, 20, 22, 22, 26, 32, 22, 26, 28, 26, 28, 26, 24, 24, 19, 13, 11, 9, 0, 0, 7, 4, 13, 9, 9, 13, 17, 20, 19, 22, 22, 28, 15, 19, 22, 20, 19, 20, 24, 22, 9, 4, 0, 4, 0, 0, 0, 9, 15, 20, 22, 19, 19, 20, 13, 9, 11, 17, 15, 19, 17, 15, 17, 7, 11, 11, 0, 9, 9, 4, 4, 0, 7, 0, 0, 9, 11, 11, 17, 15, 17, 11, 13, 20, 26, 28, 28, 30, 30, 26, 30, 30, 24, 26, 28, 28, 35, 33, 33, 30, 32, 32, 32, 28, 30, 28, 28, 24, 19, 20, 19, 17, 20, 22, 22, 22, 22, 20, 19, 19, 24, 19, 19, 22, 17, 13, 15, 15, 13, 13, 15, 15, 15, 15, 20, 17, 15, 15, 13, 17, 22, 19, 19, 22, 24, 41, 43, 41, 32, 37, 15, 32, 37, 50, 48, 57, 63, 57, 48, 44, 50, 46, 57, 33, 32, 24, 26, 19, 20, 19, 17, 22, 13, 15, 17, 17, 19, 19, 19, 22, 20, 22, 28, 22, 24, 15, 17, 24, 19, 24, 24, 22, 26, 20, 26, 22, 24, 24, 26, 26, 6, 24, 28, 30, 26, 24, 22, 20, 17, 17, 15, 11, 11, 11, 4, 9, 9, 13, 11, 11, 0, 6, 9, 15, 13, 9, 9, 6, 11, 6, 6, 11, 9, 9, 9, 6, 6, 9, 17, 13, 15, 17, 15, 11, 11, 11, 6, 6, 4, 13, 13, 13, 15, 9, 7, 11, 20, 22, 17, 15, 20, 11, 17, 24, 28, 19, 19, 26, 19, 26, 30, 26, 20, 20, 26, 37, 32, 37, 46, 30, 41, 41, 46, 35, 28, 22, 20, 24, 11, 20, 15, 15, 15, 20, 19, 17, 20, 15, 19, 17, 11, 7, 7, 4, 4, 6, 7, 6, 4, 15, 19, 24, 26, 20, 26, 20, 19, 15, 6, 0, 7, 7, 15, 11, 13, 17, 9, 9, 11, 11, 11, 7, 7, 7, 7, 17, 13, 11, 7, 11, 7, 7, 13, 11, 24, 20, 24, 20, 15, 11, 7, 6, 9, 13, 6, 7, 20, 17, 9, 11, 4, 9, 11, 4, 6, 0, 9, 6, 9, 13, 6, 4, 4, 6, 13, 13, 13, 13, 11, 11, 13, 13, 6, 15, 7, 6, 9, 11, 7, 17, 11, 11, 9, 7, 7, 11, 11, 17, 13, 17, 17, 20, 6, 9, 7, 7, 7, 6, 4, 6, 7, 6, 6, 7, 7, 6, 4, 4, 7, 13, 13, 15, 17, 15, 15, 17, 20, 15, 19, 19, 13, 11, 17, 15, 20, 13, 17, 20, 22, 19, 19, 22, 22, 24, 20, 26, 22, 28, 24, 28, 20, 19, 19, 15, 17, 19, 17, 20, 24, 19, 15, 17, 13, 13, 6, 6, 11, 7, 4, 7, 7, 0, 0, 7, 0, 0, 4, 6, 4, 4, 0, 0, 4, 0, 0, 4, 0, 4, 4, 7, 7, 6, 7, 9, 7, 6, 0, 4, 0, 7, 4, 0, 6, 7, 6, 6, 7, 4, 11, 11, 13, 13, 11, 15, 13, 15, 11, 6, 9, 0, 7, 4, 7, 6, 6, 6, 4, 11, 6, 7, 4, 0, 7, 6, 6, 4, 4, 19, 15, 17, 11, 13, 19, 15, 13, 15, 17, 9, 11, 11, 11, 7, 4, 7, 4, 4, 6, 0, 4, 6, 9, 13, 11, 9, 7, 7, 4, 6, 4, 6, 4, 6, 9, 4, 6, 4, 0, 0, 4, 4, 9, 7, 13, 15, 15, 17, 13, 17, 17, 13, 9, 6, 7, 13, 7, 7, 13, 11, 7, 9, 6, 13, 15, 22, 15, 22, 17, 15, 20, 19, 17, 6, 13, 11, 19, 13, 11, 7, 7, 6, 7, 0, 9, 9, 7, 9, 7, 0, 0, 4, 17, 15, 11, 7, 15, 15, 22, 13, 13, 11, 6, 15, 19, 19, 22, 20, 19, 22, 13, 19, 19, 15, 19, 22, 22, 22, 19, 19, 9, 4, 7, 13, 13, 13, 9, 9, 11, 7, 20, 13, 9, 7, 19, 11, 15, 17, 6, 0, 0, 6, 6, 6, 11, 9, 9, 7, 7, 4, 7, 13, 11, 11, 24, 33, 26, 26, 22, 20, 32, 26, 26, 22, 26, 28, 30, 28, 28, 30, 30, 32, 24, 28, 28, 24, 28, 26, 22, 19, 17, 17, 13, 11, 9, 9, 13, 9, 0, 6, 9, 6, 13, 15, 17, 19, 15, 11, 13, 9, 20, 13, 6, 11, 13, 20, 20, 19, 20, 22, 19, 15, 11, 13, 7, 9, 13, 19, 20, 19, 13, 11, 13, 15, 13, 17, 15, 11, 17, 11, 11, 9, 6, 7, 6, 9, 13, 9, 6, 13, 15, 19, 13, 24, 20, 19, 19, 24, 17, 24, 19, 20, 15, 19, 4, 11, 13, 15, 11, 13, 9, 4, 17, 6, 17, 17, 15, 15, 11, 7, 7, 4, 0, 6, 13, 13, 11, 13, 13, 13, 15, 19, 17, 17, 15, 7, 11, 9, 4, 6, 4, 6, 7, 4, 9, 7, 0, 0, 0, 4, 0, 0, 0, 4, 6, 6, 11, 9, 7, 4, 0, 7, 9, 19, 17, 22, 11, 0, 11, 13, 13, 7, 11, 7, 0, 0, 4, 6, 6, 6, 13, 22, 28, 24, 17, 24, 26, 19, 28, 30, 19, 13, 13, 11, 9, 13, 6, 9, 6, 9, 13, 6, 6, 11, 19, 15, 17, 11, 11, 11, 13, 24, 30, 28, 20, 13, 9, 7, 11, 11, 9, 4, 9, 11, 7, 9, 11, 17, 20, 28, 30, 28, 24, 33, 26, 26, 20, 26, 22, 19, 19, 19, 19, 19, 15, 17, 11, 13, 17, 17, 19, 19, 20, 22, 17, 26, 22, 22, 20, 19, 24, 24, 20, 26, 19, 19, 22, 19, 22, 17, 22, 19, 17, 15, 15, 15, 19, 17, 6, 19, 20, 15, 9, 19, 28, 32, 19, 13, 11, 9, 11, 11, 11, 17, 7, 11, 11, 7, 9, 11, 11, 11, 17, 13, 11, 9, 9, 7, 4, 9, 7, 13, 15, 17, 15, 11, 9, 7, 4, 4, 4, 7, 7, 11, 13, 19, 22, 15, 17, 20, 20, 22, 22, 7, 19, 17, 15, 17, 19, 7, 4, 9, 9, 0, 11, 7, 13, 13, 20, 19, 28, 24, 17, 17, 19, 22, 17, 22, 30, 28, 19, 22, 19, 20, 19, 20, 19, 17, 13, 9, 9, 9, 17, 15, 20, 15, 19, 22, 33, 19, 20, 19, 24, 19, 20, 22, 11, 15, 17, 9, 11, 0, 0, 6, 6, 4, 4, 0, 4, 11, 9, 4, 32, 7, 20, 33, 17, 11, 13, 7, 11, 13, 13, 15, 17, 13, 13, 15, 13, 6, 13, 13, 9, 9, 4, 15, 13, 15, 15, 11, 17, 11, 7, 0, 4, 11, 11, 11, 6, 9, 6, 6, 6, 7, 7, 13, 17, 19, 24, 24, 22, 32, 30, 28, 22, 19, 15, 19, 20, 20, 22, 11, 17, 19, 11, 17, 19, 20, 19, 20, 26, 24, 24, 26, 17, 20, 19, 24, 13, 7, 7, 7, 9, 9, 9, 13, 15, 15, 15, 6, 13, 9, 11, 26, 32, 28, 28, 32, 26, 24, 22, 20, 20, 17, 11, 6, 6, 13, 17, 9, 4, 9, 11, 13, 15, 17, 17, 15, 22, 22, 30, 22, 24, 28, 26, 26, 11, 20, 4, 13, 24, 30, 28, 35, 30, 37, 37, 33, 37, 48, 43, 44, 41, 30, 37, 32, 35, 30, 32, 24, 24, 28, 19, 17, 11, 17, 13, 15, 15, 11, 9, 11, 9, 13, 11, 9, 9, 6, 11, 15, 7, 11, 9, 13, 7, 9, 7, 4, 0, 6, 4, 6, 7, 4, 0, 4, 4, 4, 7, 7, 13, 19, 15, 20, 17, 28, 26, 24, 22, 15, 17, 11, 13, 9, 19, 19, 20, 15, 19, 22, 28, 22, 26, 19, 24, 20, 26, 24, 24, 24, 33, 26, 28, 26, 24, 17, 17, 20, 19, 15, 19, 20, 13, 7, 15, 17, 17, 19, 17, 11, 15, 19, 19, 17, 19, 17, 24, 20, 24, 26, 19, 13, 24, 17, 13, 15, 11, 19, 19, 20, 20, 28, 22, 22, 24, 20, 22, 28, 22, 26, 24, 32, 32, 35, 32, 41, 46, 44, 44, 52, 44, 46, 52, 48, 48, 44, 46, 48, 46, 41, 44, 43, 39, 35, 43, 39, 41, 37, 19, 9, 13, 7, 6, 15, 19, 19, 19, 13, 13, 17, 19, 26, 17, 24, 28, 19, 32, 28, 20, 19, 28, 20, 24, 19, 19, 19, 13, 15, 15, 13, 20, 19, 19, 15, 9, 17, 20, 20, 19, 15, 17, 22, 22, 17, 17, 13, 9, 9, 7, 9, 7, 11, 7, 9, 4, 7, 7, 7, 11, 7, 13, 13, 17, 19, 19, 15, 19, 15, 7, 9, 6, 13, 22, 15, 15, 22, 24, 26, 28, 32, 26, 32, 30, 30, 35, 37, 37, 30, 30, 33, 28, 22, 24, 19, 20, 17, 17, 19, 22, 17, 24, 26, 22, 30, 24, 32, 28, 24, 30, 32, 24, 35, 30, 28, 24, 19, 11, 11, 9, 6, 7, 11, 11, 13, 9, 19, 20, 26, 19, 19, 26, 24, 24, 32, 22, 32, 28, 30, 28, 20, 15, 19, 15, 13, 9, 6, 0, 0, 4, 4, 0, 0, 11, 7, 7, 0, 6, 11, 7, 15, 9, 9, 13, 11, 11, 13, 11, 6, 11, 19, 7, 15, 17, 24, 24, 13, 17, 13, 6, 6, 7, 0, 0, 9, 9, 7, 7, 9, 6, 9, 6, 6, 6, 6, 4, 4, 9, 13, 11, 17, 15, 13, 13, 13, 13, 17, 11, 19, 19, 17, 15, 15, 11, 17, 19, 19, 17, 15, 17, 15, 17, 13, 13, 15, 15, 17, 13, 11, 15, 13, 11, 7, 13, 6, 7, 6, 11, 13, 11, 11, 13, 17, 13, 11, 6, 6, 11, 7, 6, 11, 11, 7, 0, 9, 9, 9, 7, 7, 4, 9, 9, 32, 30, 17, 4, 11, 11, 15, 11, 17, 15, 19, 17, 9, 11, 13, 11, 13, 7, 6, 17, 9, 11, 0, 4, 6, 9, 13, 9, 15, 13, 17, 17, 20, 22, 22, 17, 20, 15, 15, 6, 7, 9, 6, 7, 11, 11, 9, 9, 6, 0, 0, 0, 0, 4, 4, 0, 4, 6, 4, 7, 7, 13, 7, 13, 13, 19, 7, 11, 13, 13, 11, 13, 15, 17, 15, 11, 15, 4, 6, 17, 19, 22, 24, 26, 32, 26, 20, 19, 17, 19, 17, 15, 9, 11, 6, 9, 6, 6, 4, 0, 0, 6, 6, 6, 9, 13, 15, 17, 9, 17, 9, 19, 15, 15, 13, 13, 7, 20, 11, 7, 11, 13, 4, 15, 6, 7, 6, 11, 17, 22, 20, 20, 26, 28, 28, 30, 26, 30, 28, 19, 26, 19, 15, 20, 20, 24, 17, 15, 22, 17, 19, 7, 7, 17, 19, 19, 19, 22, 24, 22, 20, 32, 26, 26, 22, 22, 13, 11, 9, 9, 9, 9, 7, 0, 4, 11, 6, 7, 11, 11, 13, 15, 20, 22, 24, 28, 26, 22, 20, 17, 20, 0, 11, 6, 6, 7, 7, 6, 6, 11, 6, 11, 13, 11, 13, 9, 17, 13, 11, 20, 11, 11, 15, 17, 13, 11, 7, 7, 0, 6, 6, 4, 0, 4, 0, 0, 0, 6, 6, 11, 13, 17, 17, 0, 9, 9, 6, 9, 15, 17, 15, 6, 7, 11, 6, 9, 11, 11, 11, 9, 7, 11, 9, 7, 11, 13, 20, 19, 9, 15, 17, 19, 17, 17, 15, 11, 11, 4, 6, 6, 0, 6, 0, 11, 9, 9, 13, 15, 20, 11, 15, 19, 32, 33, 22, 26, 22, 17, 17, 20, 22, 24, 24, 15, 15, 9, 11, 9, 15, 15, 22, 26, 22, 17, 26, 20, 24, 30, 24, 20, 13, 7, 6, 0, 7, 13, 7, 9, 11, 9, 9, 11, 20, 15, 17, 22, 17, 20, 22, 22, 20, 19, 17, 13, 9, 4, 6, 6, 6, 6, 9, 7, 9, 9, 7, 6, 9, 9, 7, 4, 11, 19, 15, 15, 15, 15, 15, 11, 11, 6, 9, 7, 4, 0, 6, 6, 9, 6, 6, 4, 7, 7, 11, 11, 11, 13, 9, 11, 4, 4, 13, 15, 11, 11, 11, 17, 15, 11, 9, 7, 0, 9, 13, 6, 11, 19, 24, 20, 22, 24, 26, 26, 33, 30, 26, 28, 26, 22, 24, 15, 15, 13, 15, 9, 0, 7, 4, 9, 11, 9, 9, 9, 13, 15, 9, 11, 9, 20, 11, 28, 24, 20, 15, 17, 9, 0, 4, 6, 7, 4, 9, 7, 11, 15, 15, 11, 13, 11, 13, 9, 0, 6, 4, 4, 7, 9, 9, 7, 4, 0, 4, 6, 6, 9, 7, 9, 4, 0, 7, 0, 9, 6, 13, 13, 17, 17, 22, 24, 15, 19, 19, 22, 19, 13, 15, 15, 17, 19, 17, 17, 20, 20, 20, 20, 22, 20, 28, 19, 26, 24, 19, 20, 22, 13, 15, 11, 17, 9, 13, 11, 13, 9, 9, 9, 9, 6, 9, 7, 0, 13, 30, 22, 20, 22, 19, 20, 13, 9, 7, 6, 6, 6, 9, 11, 13, 13, 13, 17, 9, 11, 9, 0, 4, 0, 13, 0, 11, 13, 6, 7, 0, 4, 0, 0, 6, 4, 13, 11, 9, 17, 19, 24, 22, 28, 20, 22, 24, 20, 26, 28, 24, 22, 26, 26, 22, 20, 19, 15, 13, 15, 9, 11, 15, 30, 15, 9, 6, 0, 4, 4, 7, 7, 6, 11, 13, 15, 13, 28, 24, 11, 17, 9, 6, 17, 24, 22, 19, 13, 11, 15, 17, 19, 20, 15, 17, 35, 30, 32, 22, 15, 24, 20, 0, 6, 7, 9, 15, 6, 7, 4, 9, 11, 9, 15, 15, 13, 11, 9, 4, 0, 20, 19, 19, 19, 15, 22, 15, 13, 9, 7, 7, 6, 7, 9, 9, 11, 11, 7, 9, 11, 11, 20, 17, 20, 17, 15, 17, 22, 19, 19, 19, 20, 26, 20, 19, 15, 19, 19, 19, 24, 24, 19, 17, 11, 13, 7, 7, 9, 11, 20, 17, 22, 17, 19, 9, 4, 7, 15, 6, 9, 6, 6, 4, 7, 0, 9, 15, 13, 11, 13, 11, 9, 24, 24, 24, 33, 30, 30, 28, 32, 28, 30, 30, 33, 19, 22, 24, 22, 20, 22, 33, 24, 28, 28, 28, 22, 24, 20, 22, 22, 22, 15, 20, 13, 15, 17, 11, 13, 15, 13, 15, 13, 13, 15, 20, 26, 19, 19, 26, 20, 15, 7, 11, 4, 15, 11, 22, 9, 6, 7, 15, 9, 9, 11, 9, 6, 9, 15, 13, 7, 9, 11, 7, 9, 0, 4, 7, 13, 11, 15, 15, 9, 11, 9, 11, 9, 7, 11, 17, 9, 11, 13, 4, 11, 6, 6, 7, 13, 11, 11, 13, 15, 11, 9, 11, 11, 30, 17, 17, 13, 7, 11, 7, 7, 7, 17, 22, 22, 17, 13, 17, 17, 20, 17, 20, 4, 7, 0, 15, 9, 9, 6, 9, 6, 0, 0, 0, 0, 6, 0, 6, 4, 0, 4, 15, 17, 19, 7, 20, 17, 17, 11, 9, 6, 6, 4, 4, 6, 4, 0, 4, 4, 6, 0, 4, 6, 6, 7, 7, 7, 11, 6, 6, 6, 6, 15, 9, 9, 7, 9, 11, 6, 0, 7, 9, 11, 11, 7, 11, 9, 7, 4, 4, 7, 15, 17, 17, 22, 22, 19, 19, 20, 20, 22, 17, 19, 17, 19, 17, 19, 17, 15, 22, 19, 19, 15, 24, 17, 19, 19, 15, 22, 20, 20, 20, 19, 19, 17, 13, 11, 15, 19, 22, 22, 22, 22, 20, 32, 24, 19, 13, 13, 15, 9, 17, 17, 19, 20, 17, 11, 7, 11, 11, 11, 9, 9, 13, 15, 9, 9, 13, 11, 19, 17, 9, 24, 19, 15, 11, 7, 15, 17, 13, 15, 11, 9, 6, 6, 6, 13, 13, 15, 15, 17, 19, 17, 17, 13, 15, 11, 15, 11, 17, 15, 11, 9, 15, 15, 11, 13, 11, 9, 11, 13, 17, 19, 13, 17, 15, 9, 11, 4, 6, 6, 9, 6, 6, 7, 4, 6, 7, 4, 0, 9, 0, 0, 7, 11, 13, 9, 6, 9, 11, 9, 9, 9, 9, 6, 11, 17, 17, 20, 19, 17, 17, 15, 19, 22, 13, 15, 13, 19, 17, 17, 19, 20, 17, 17, 17, 19, 19, 19, 20, 22, 24, 24, 20, 22, 20, 7, 9, 13, 13, 13, 9, 9, 9, 9, 6, 9, 22, 6, 15, 13, 11, 9, 15, 11, 20, 17, 19, 19, 20, 19, 11, 9, 13, 17, 19, 24, 20, 13, 19, 22, 24, 19, 17, 9, 17, 20, 19, 17, 22, 26, 15, 17, 11, 17, 15, 24, 19, 20, 22, 11, 11, 11, 17, 17, 17, 11, 19, 17, 13, 15, 24, 20, 24, 24, 30, 22, 30, 22, 20, 17, 17, 9, 9, 15, 22, 19, 20, 19, 19, 17, 17, 19, 22, 22, 20, 22, 20, 22, 24, 17, 11, 7, 9, 9, 9, 7, 9, 13, 13, 15, 15, 15, 11, 15, 15, 7, 11, 13, 19, 15, 13, 22, 15, 20, 13, 6, 0, 0, 0, 0, 6, 4, 0, 11, 6, 4, 7, 7, 11, 15, 17, 9, 17, 19, 22, 19, 32, 26, 20, 24, 19, 9, 13, 9, 9, 7, 9, 15, 15, 15, 15, 17, 26, 24, 22, 26, 19, 26, 28, 26, 26, 28, 22, 11, 13, 24, 22, 26, 24, 11, 13, 13, 17, 17, 11, 17, 9, 13, 11, 15, 26, 20, 20, 17, 13, 13, 15, 15, 15, 15, 15, 17, 13, 11, 9, 13, 17, 15, 20, 28, 20, 20, 24, 20, 13, 19, 19, 20, 20, 15, 17, 11, 13, 11, 9, 6, 11, 7, 6, 11, 9, 11, 11, 9, 11, 11, 13, 9, 17, 22, 22, 22, 19, 19, 13, 11, 11, 11, 15, 15, 4, 7, 7, 9, 13, 17, 20, 24, 24, 26, 26, 32, 37, 33, 32, 28, 30, 24, 17, 9, 22, 22, 17, 20, 15, 17, 17, 20, 26, 28, 20, 26, 26, 30, 26, 26, 30, 33, 28, 26, 11, 22, 7, 6, 13, 7, 4, 0, 6, 9, 7, 6, 0, 7, 11, 6, 4, 13, 19, 22, 22, 17, 15, 15, 11, 17, 15, 11, 7, 11, 9, 13, 7, 7, 6, 0, 6, 6, 9, 15, 15, 13, 19, 15, 17, 19, 30, 22, 26, 20, 15, 9, 6, 6, 7, 7, 4, 4, 0, 6, 6, 9, 6, 0, 9, 4, 9, 11, 13, 9, 15, 15, 15, 11, 17, 17, 13, 17, 0, 6, 6, 13, 13, 13, 15, 15, 15, 17, 17, 19, 24, 24, 24, 24, 19, 15, 11, 9, 6, 9, 9, 17, 11, 9, 6, 11, 11, 7, 9, 13, 17, 7, 6, 9, 7, 6, 9, 11, 11, 17, 17, 19, 15, 13, 9, 9, 7, 7, 0, 4, 7, 7, 6, 9, 13, 15, 19, 15, 15, 22, 22, 22, 20, 20, 15, 11, 15, 13, 7, 9, 11, 6, 11, 7, 9, 13, 11, 9, 19, 17, 15, 19, 17, 22, 20, 17, 22, 17, 20, 15, 13, 9, 11, 9, 17, 17, 15, 11, 7, 7, 9, 15, 20, 22, 20, 22, 19, 24, 17, 17, 15, 24, 26, 20, 19, 11, 9, 7, 9, 13, 9, 9, 9, 9, 7, 13, 11, 11, 9, 17, 20, 13, 19, 22, 17, 15, 11, 13, 13, 7, 6, 4, 6, 7, 13, 7, 9, 11, 9, 9, 9, 15, 9, 9, 15, 26, 22, 19, 19, 13, 13, 19, 13, 11, 11, 7, 9, 7, 0, 4, 4, 4, 4, 6, 4, 4, 9, 7, 9, 13, 15, 13, 19, 20, 19, 19, 13, 9, 13, 9, 17, 11, 6, 6, 11, 7, 9, 17, 15, 13, 15, 20, 22, 22, 24, 24, 24, 24, 19, 13, 11, 7, 6, 9, 11, 6, 7, 9, 11, 13, 15, 15, 15, 13, 15, 15, 17, 19, 20, 20, 22, 22, 20, 13, 11, 11, 11, 9, 7, 11, 15, 11, 13, 15, 13, 15, 13, 17, 15, 17, 17, 22, 19, 28, 22, 24, 19, 15, 11, 9, 9, 11, 9, 7, 9, 9, 11, 7, 9, 9, 9, 15, 13, 13, 15, 9, 15, 17, 24, 0, 11, 0, 20, 6, 9, 7, 6, 6, 0, 6, 7, 0, 4, 6, 6, 7, 9, 9, 13, 11, 15, 13, 11, 15, 19, 15, 4, 7, 4, 9, 6, 0, 6, 6, 4, 7, 19, 15, 9, 19, 17, 19, 22, 17, 9, 17, 4, 24, 7, 19, 19, 11, 9, 9, 13, 9, 11, 7, 9, 6, 0, 6, 11, 22, 24, 26, 24, 24, 24, 19, 26, 24, 15, 17, 17, 13, 11, 11, 7, 4, 7, 6, 7, 6, 0, 6, 11, 6, 6, 9, 7, 6, 7, 4, 13, 11, 15, 15, 11, 7, 13, 11, 15, 11, 15, 11, 11, 11, 13, 13, 9, 9, 11, 13, 9, 6, 9, 13, 4, 11, 4, 4, 7, 6, 0, 0, 0, 4, 0, 0, 0, 0, 4, 4, 0, 0, 7, 9, 9, 6, 11, 17, 17, 15, 15, 15, 13, 13, 4, 4, 9, 11, 13, 15, 15, 15, 15, 17, 19, 19, 26, 22, 24, 22, 20, 20, 20, 24, 17, 20, 20, 13, 15, 11, 9, 11, 11, 9, 9, 11, 13, 13, 17, 19, 19, 20, 15, 13, 11, 17, 11, 9, 4, 30, 20, 9, 11, 7, 11, 6, 11, 0, 4, 7, 6, 7, 13, 13, 19, 19, 17, 22, 30, 28, 24, 20, 24, 15, 15, 17, 17, 19, 17, 11, 4, 9, 11, 7, 7, 11, 13, 13, 11, 11, 13, 9, 19, 22, 19, 22, 28, 20, 17, 15, 13, 13, 11, 13, 13, 11, 9, 6, 7, 9, 7, 4, 9, 11, 7, 6, 4, 6, 4, 7, 7, 11, 11, 4, 4, 0, 0, 0, 0, 4, 4, 0, 7, 17, 24, 13, 7, 6, 4, 6, 0, 0, 11, 6, 6, 7, 4, 6, 4, 0, 0, 9, 4, 13, 11, 13, 15, 17, 15, 17, 19, 15, 20, 13, 13, 13, 22, 17, 17, 15, 13, 9, 4, 7, 9, 9, 13, 15, 15, 13, 13, 15, 15, 13, 9, 7, 11, 6, 9, 4, 11, 0, 7, 6, 6, 9, 11, 4, 4, 0, 6, 6, 4, 6, 0, 6, 6, 7, 7, 15, 15, 19, 15, 17, 17, 9, 9, 13, 11, 7, 11, 9, 6, 6, 9, 13, 13, 9, 11, 7, 9, 9, 7, 11, 13, 19, 19, 20, 19, 22, 20, 17, 22, 35, 13, 7, 4, 0, 4, 9, 9, 6, 9, 7, 11, 9, 13, 13, 17, 13, 15, 15, 13, 9, 13, 15, 13, 15, 6, 7, 6, 7, 7, 9, 11, 11, 7, 15, 13, 11, 17, 11, 17, 13, 20, 13, 19, 22, 20, 15, 15, 19, 24, 17, 24, 17, 13, 13, 15, 15, 11, 13, 17, 13, 15, 11, 13, 17, 19, 24, 17, 20, 20, 11, 7, 6, 6, 9, 4, 9, 9, 7, 6, 7, 11, 9, 17, 13, 15, 13, 17, 9, 11, 17, 17, 15, 13, 13, 20, 19, 17, 13, 17, 19, 19, 19, 22, 19, 22, 19, 22, 24, 24, 22, 24, 19, 24, 26, 13, 28, 22, 22, 26, 32, 32, 26, 30, 24, 24, 22, 22, 13, 9, 13, 17, 17, 20, 22, 28, 24, 13, 13, 22, 19, 24, 15, 9, 9, 9, 13, 11, 13, 17, 19, 13, 11, 7, 6, 15, 17, 19, 24, 22, 17, 20, 20, 24, 17, 15, 15, 13, 17, 22, 0, 9, 7, 7, 4, 4, 4, 0, 0, 6, 0, 4, 9, 4, 0, 4, 11, 7, 9, 19, 9, 7, 11, 6, 4, 6, 9, 11, 4, 9, 11, 13, 15, 13, 19, 22, 17, 13, 17, 19, 20, 17, 19, 17, 20, 13, 15, 19, 19, 20, 17, 19, 13, 13, 9, 19, 9, 7, 9, 13, 11, 15, 17, 19, 19, 20, 20, 20, 22, 24, 17, 22, 20, 19, 20, 19, 19, 22, 24, 22, 20, 17, 15, 15, 11, 13, 9, 15, 17, 19, 9, 32, 19, 11, 13, 9, 9, 9, 4, 6, 4, 0, 4, 4, 9, 7, 15, 19, 17, 13, 17, 13, 13, 15, 17, 17, 15, 15, 13, 11, 17, 19, 22, 15, 13, 9, 9, 13, 13, 19, 13, 15, 22, 20, 17, 20, 19, 13, 19, 11, 11, 7, 7, 6, 9, 9, 7, 9, 11, 11, 6, 7, 9, 13, 9, 11, 15, 15, 9, 15, 13, 15, 7, 7, 6, 0, 6, 6, 4, 4, 4, 20, 9, 9, 4, 4, 0, 0, 0, 11, 13, 9, 7, 9, 15, 15, 17, 13, 13, 7, 6, 6, 7, 0, 9, 9, 6, 6, 6, 0, 0, 9, 7, 0, 0, 7, 6, 11, 17, 13, 7, 9, 7, 4, 6, 6, 4, 9, 7, 11, 4, 0, 11, 7, 11, 15, 17, 17, 13, 11, 15, 20, 24, 30, 28, 30, 24, 17, 13, 9, 13, 13, 11, 9, 7, 7, 11, 13, 17, 20, 17, 19, 17, 19, 22, 20, 17, 20, 22, 13, 15, 11, 7, 6, 6, 0, 9, 13, 13, 11, 7, 9, 15, 13, 15, 11, 9, 15, 15, 13, 15, 17, 13, 13, 9, 11, 6, 4, 0, 0, 0, 0, 0, 0, 0, 0, 6, 7, 11, 11, 17, 13, 17, 17, 11, 15, 13, 13, 17, 9, 9, 7, 7, 6, 4, 4, 0, 0, 6, 0, 7, 6, 7, 13, 13, 11, 17, 22, 15, 19, 17, 19, 13, 7, 6, 20, 6, 4, 13, 15, 11, 13, 9, 7, 6, 15, 15, 15, 17, 24, 24, 24, 19, 20, 28, 15, 11, 9, 13, 15, 17, 19, 11, 13, 13, 13, 15, 15, 24, 19, 22, 24, 22, 24, 28, 26, 13, 19, 22, 17, 11, 9, 7, 7, 6, 6, 4, 13, 9, 13, 13, 6, 11, 11, 7, 9, 13, 0, 6, 4, 11, 9, 11, 6, 6, 11, 13, 7, 11, 13, 9, 11, 6, 6, 11, 4, 6, 6, 4, 6, 7, 7, 7, 11, 7, 9, 13, 11, 13, 9, 13, 11, 9, 9, 11, 6, 7, 15, 7, 6, 0, 9, 15, 11, 15, 20, 17, 13, 17, 13, 11, 4, 11, 15, 11, 9, 15, 15, 15, 11, 11, 11, 13, 15, 13, 13, 17, 19, 22, 17, 20, 20, 17, 15, 13, 13, 7, 7, 13, 11, 15, 22, 26, 15, 15, 13, 11, 13, 15, 15, 15, 24, 15, 13, 22, 30, 30, 28, 24, 22, 20, 17, 15, 7, 9, 7, 7, 9, 11, 9, 7, 7, 9, 19, 20, 22, 20, 22, 26, 32, 20, 32, 24, 26, 19, 15, 9, 15, 22, 20, 19, 11, 11, 17, 15, 20, 26, 20, 24, 32, 26, 33, 32, 37, 26, 35, 33, 41, 35, 43, 39, 44, 41, 37, 33, 35, 35, 28, 28, 28, 30, 32, 37, 35, 20, 26, 20, 22, 22, 30, 20, 17, 13, 9, 11, 11, 20, 11, 11, 4, 9, 11, 11, 13, 13, 24, 20, 15, 20, 15, 13, 6, 7, 7, 4, 7, 9, 6, 11, 7, 6, 7, 4, 4, 4, 0, 0, 6, 7, 4, 7, 4, 6, 4, 4, 9, 9, 7, 11, 9, 11, 13, 9, 7, 4, 4, 7, 0, 6, 4, 6, 6, 6, 7, 11, 9, 9, 9, 13, 4, 0, 13, 4, 13, 13, 9, 9, 15, 13, 11, 9, 9, 13, 7, 6, 9, 15, 17, 15, 11, 9, 15, 6, 9, 15, 19, 15, 15, 9, 7, 9, 9, 15, 9, 13, 13, 17, 15, 11, 7, 7, 11, 13, 15, 11, 7, 11, 11, 13, 11, 9, 13, 9, 6, 7, 9, 7, 6, 7, 7, 7, 6, 7, 6, 9, 7, 7, 6, 6, 13, 15, 11, 13, 13, 19, 17, 9, 6, 11, 7, 9, 0, 4, 4, 9, 6, 6, 7, 11, 15, 9, 19, 19, 19, 17, 17, 9, 13, 6, 0, 0, 6, 4, 6, 9, 17, 13, 6, 7, 9, 17, 11, 17, 20, 9, 13, 28, 35, 39, 24, 33, 30, 39, 33, 39, 37, 43, 44, 30, 28, 30, 28, 24, 17, 20, 11, 6, 7, 17, 17, 17, 19, 22, 11, 19, 17, 22, 15, 11, 11, 9, 9, 9, 15, 9, 9, 11, 11, 13, 17, 17, 15, 19, 15, 15, 19, 20, 13, 20, 24, 20, 20, 17, 9, 7, 6, 7, 7, 9, 9, 9, 7, 4, 0, 6, 9, 9, 13, 17, 19, 19, 20, 20, 19, 20, 20, 17, 9, 15, 15, 17, 15, 17, 11, 6, 4, 0, 6, 0, 9, 7, 7, 11, 20, 19, 13, 17, 17, 19, 17, 11, 11, 11, 11, 13, 11, 9, 7, 11, 9, 11, 4, 6, 6, 9, 13, 17, 15, 17, 19, 24, 22, 19, 20, 9, 11, 11, 13, 15, 13, 9, 0, 4, 6, 9, 4, 6, 9, 9, 9, 13, 13, 9, 9, 9, 9, 4, 7, 6, 17, 22, 13, 0, 13, 20, 22, 24, 30, 30, 28, 22, 20, 19, 19, 22, 22, 17, 20, 22, 13, 17, 22, 7, 13, 11, 13, 7, 9, 7, 9, 6, 7, 9, 9, 9, 9, 9, 19, 20, 20, 19, 24, 24, 19, 15, 20, 11, 6, 6, 6, 6, 6, 4, 4, 6, 7, 7, 7, 4, 7, 9, 13, 17, 15, 17, 17, 15, 15, 13, 13, 15, 15, 13, 0, 6, 7, 6, 0, 9, 19, 17, 24, 22, 20, 26, 19, 19, 20, 20, 35, 32, 32, 33, 35, 28, 22, 24, 20, 30, 33, 37, 28, 35, 35, 28, 30, 26, 33, 26, 32, 32, 24, 22, 24, 24, 15, 19, 11, 11, 4, 4, 0, 0, 4, 7, 6, 7, 4, 9, 6, 6, 9, 7, 15, 20, 19, 15, 22, 15, 20, 24, 26, 19, 24, 20, 20, 15, 19, 19, 20, 19, 15, 19, 19, 19, 17, 15, 15, 13, 15, 17, 15, 17, 13, 6, 4, 19, 7, 4, 0, 13, 13, 7, 7, 11, 24, 20, 24, 26, 33, 32, 39, 33, 32, 22, 15, 22, 9, 15, 13, 13, 9, 20, 26, 22, 22, 26, 17, 26, 24, 24, 20, 19, 20, 28, 24, 33, 28, 26, 30, 28, 24, 15, 20, 9, 4, 9, 7, 7, 7, 0, 6, 0, 0, 4, 0, 9, 6, 13, 13, 22, 28, 20, 28, 32, 24, 26, 28, 22, 33, 15, 17, 17, 20, 17, 19, 20, 20, 24, 17, 19, 28, 24, 32, 35, 28, 30, 33, 32, 28, 19, 9, 13, 11, 7, 13, 7, 17, 15, 17, 17, 17, 17, 17, 17, 19, 19, 20, 19, 20, 15, 20, 24, 11, 7, 19, 17, 7, 15, 6, 7, 7, 7, 9, 9, 9, 11, 7, 0, 0, 11, 9, 4, 6, 4, 11, 4, 9, 11, 7, 7, 0, 4, 7, 4, 4, 6, 7, 6, 9, 9, 7, 9, 11, 9, 13, 13, 13, 7, 9, 17, 19, 17, 17, 15, 15, 4, 7, 9, 11, 7, 9, 11, 11, 15, 19, 11, 17, 19, 22, 20, 24, 22, 19, 19, 20, 26, 22, 20, 19, 24, 22, 20, 17, 13, 15, 20, 17, 17, 15, 13, 15, 19, 20, 17, 19, 17, 13, 19, 20, 13, 11, 4, 9, 9, 11, 13, 15, 15, 17, 15, 17, 15, 15, 15, 17, 17, 19, 20, 26, 17, 19, 24, 26, 19, 17, 6, 9, 9, 6, 6, 22, 9, 9, 7, 7, 6, 6, 0, 4, 9, 6, 9, 7, 13, 9, 11, 9, 6, 9, 9, 11, 9, 6, 4, 4, 4, 4, 7, 7, 7, 11, 11, 13, 15, 19, 19, 19, 19, 13, 13, 13, 11, 11, 11, 7, 9, 11, 7, 7, 11, 11, 11, 13, 15, 9, 9, 13, 7, 11, 9, 6, 0, 0, 4, 4, 4, 4, 0, 6, 4, 6, 13, 13, 11, 15, 17, 17, 13, 17, 4, 6, 9, 13, 11, 22, 19, 20, 19, 26, 28, 26, 24, 32, 24, 22, 19, 17, 13, 17, 11, 11, 13, 15, 6, 11, 7, 7, 13, 13, 17, 20, 17, 28, 28, 9, 19, 26, 17, 19, 26, 22, 28, 17, 15, 11, 13, 7, 11, 13, 9, 9, 22, 15, 22, 20, 17, 11, 11, 13, 9, 6, 6, 7, 0, 15, 9, 7, 6, 0, 6, 0, 9, 6, 7, 4, 7, 9, 13, 13, 19, 9, 13, 9, 7, 15, 7, 9, 4, 7, 6, 4, 6, 4, 7, 4, 7, 9, 15, 15, 17, 6, 7, 7, 11, 13, 13, 22, 20, 19, 19, 19, 17, 19, 15, 11, 15, 13, 30, 20, 37, 39, 32, 32, 33, 13, 20, 19, 19, 15, 26, 33, 19, 17, 15, 19, 11, 9, 17, 20, 32, 24, 26, 28, 22, 26, 20, 24, 32, 24, 30, 30, 26, 30, 28, 19, 30, 37, 32, 22, 22, 19, 22, 24, 30, 33, 26, 24, 24, 17, 17, 19, 20, 22, 30, 26, 22, 20, 19, 22, 15, 13, 9, 7, 9, 9, 9, 7, 4, 4, 4, 0, 0, 6, 11, 17, 19, 28, 22, 20, 19, 19, 17, 13, 7, 15, 15, 9, 24, 19, 7, 20, 17, 17, 17, 9, 11, 6, 7, 7, 6, 11, 13, 13, 19, 15, 15, 19, 11, 15, 15, 11, 7, 15, 13, 9, 11, 9, 4, 11, 19, 19, 20, 24, 20, 17, 22, 28, 30, 28, 30, 33, 32, 30, 30, 26, 32, 28, 28, 24, 30, 19, 22, 19, 28, 15, 22, 19, 26, 22, 28, 24, 30, 32, 28, 20, 15, 9, 7, 11, 7, 7, 11, 9, 7, 6, 7, 0, 0, 0, 0, 6, 6, 6, 7, 6, 0, 4, 4, 11, 7, 7, 9, 11, 7, 11, 6, 4, 4, 9, 11, 11, 11, 9, 6, 15, 15, 15, 17, 22, 28, 26, 28, 15, 17, 15, 17, 17, 19, 15, 17, 17, 15, 19, 13, 17, 15, 17, 13, 24, 24, 9, 11, 17, 15, 13, 7, 17, 22, 7, 19, 17, 7, 11, 13, 15, 19, 13, 7, 4, 4, 4, 4, 4, 15, 19, 20, 11, 22, 22, 15, 11, 19, 20, 17, 13, 11, 19, 13, 19, 19, 26, 22, 24, 30, 28, 35, 26, 32, 33, 32, 32, 28, 32, 30, 28, 22, 22, 20, 22, 15, 17, 32, 26, 24, 17, 19, 24, 15, 15, 22, 24, 26, 30, 24, 24, 22, 28, 15, 20, 19, 13, 13, 9, 7, 0, 6, 4, 9, 7, 4, 6, 6, 0, 11, 9, 4, 0, 0, 4, 6, 11, 11, 9, 0, 0, 0, 0, 7, 13, 13, 13, 7, 7, 9, 9, 7, 11, 11, 15, 17, 11, 11, 6, 6, 11, 11, 17, 13, 7, 11, 6, 9, 15, 17, 15, 15, 13, 15, 17, 17, 19, 22, 17, 9, 11, 13, 11, 17, 19, 15, 19, 15, 15, 15, 13, 13, 9, 9, 7, 11, 7, 7, 9, 11, 11, 6, 7, 6, 4, 9, 11, 9, 13, 19, 9, 11, 7, 15, 9, 4, 9, 4, 4, 6, 4, 0, 9, 9, 6, 11, 17, 15, 11, 17, 15, 15, 17, 15, 9, 9, 11, 11, 11, 13, 11, 15, 15, 11, 9, 13, 7, 7, 7, 7, 11, 9, 11, 20, 15, 20, 20, 22, 26, 24, 28, 24, 24, 32, 26, 22, 26, 26, 24, 30, 20, 33, 26, 24, 26, 28, 32, 26, 33, 44, 33, 48, 48, 44, 50, 52, 48, 50, 54, 41, 52, 37, 41, 35, 37, 37, 30, 26, 22, 28, 22, 17, 28, 28, 33, 20, 17, 17, 28, 26, 26, 17, 11, 9, 9, 11, 11, 13, 17, 11, 11, 17, 15, 19, 11, 24, 20, 11, 4, 4, 15, 13, 7, 7, 0, 0, 4, 7, 6, 4, 6, 0, 4, 4, 7, 9, 9, 9, 11, 13, 15, 17, 11, 17, 17, 28, 22, 24, 22, 20, 19, 19, 20, 22, 24, 20, 19, 20, 19, 17, 22, 20, 22, 15, 20, 20, 19, 22, 19, 15, 19, 17, 17, 13, 13, 17, 13, 17, 17, 20, 19, 17, 20, 20, 22, 22, 24, 22, 22, 20, 24, 20, 20, 13, 15, 17, 15, 17, 17, 15, 11, 15, 17, 19, 15, 17, 15, 17, 17, 19, 13, 13, 11, 15, 17, 13, 13, 11, 9, 13, 13, 9, 11, 9, 11, 17, 17, 13, 11, 11, 15, 15, 17, 17, 17, 15, 17, 15, 20, 19, 17, 20, 13, 7, 7, 11, 9, 15, 13, 9, 4, 0, 0, 6, 6, 6, 7, 7, 9, 17, 15, 9, 15, 13, 6, 4, 0, 0, 4, 4, 6, 7, 9, 7, 9, 11, 13, 13, 15, 17, 22, 20, 26, 26, 32, 24, 24, 26, 20, 19, 20, 26, 22, 22, 22, 26, 30, 33, 20, 26, 22, 19, 26, 20, 19, 30, 30, 24, 26, 26, 20, 19, 13, 7, 9, 19, 13, 11, 7, 7, 7, 7, 7, 7, 7, 7, 7, 7, 17, 19, 20, 22, 20, 20, 24, 26, 22, 15, 15, 11, 9, 11, 15, 13, 9, 9, 11, 11, 6, 9, 13, 13, 15, 7, 6, 6, 6, 4, 11, 9, 7, 7, 7, 15, 9, 11, 11, 7, 13, 11, 17, 20, 20, 17, 22, 20, 20, 17, 22, 24, 17, 20, 19, 20, 17, 13, 17, 15, 15, 13, 15, 19, 17, 15, 15, 11, 11, 13, 11, 9, 7, 6, 6, 13, 22, 22, 20, 22, 33, 35, 32, 33, 30, 26, 24, 48, 37, 35, 41, 28, 30, 30, 30, 33, 32, 37, 30, 28, 33, 30, 28, 24, 13, 11, 11, 9, 7, 7, 7, 4, 6, 6, 6, 4, 4, 4, 4, 4, 6, 2, 4, 7, 4, 6, 6, 6, 7, 7, 9, 11, 7, 13, 11, 13, 9, 13, 9, 9, 13, 15, 13, 11, 19, 15, 11, 15, 13, 11, 13, 11, 9, 7, 7, 4, 6, 4, 6, 4, 4, 0, 0, 0, 4, 4, 4, 0, 9, 13, 15, 17, 15, 13, 9, 13, 13, 15, 13, 9, 9, 11, 13, 9, 9, 11, 11, 17, 13, 13, 13, 15, 15, 7, 4, 4, 4, 6, 6, 4, 4, 4, 4, 7, 7, 7, 9, 0, 0, 0, 7, 7, 7, 9, 9, 7, 9, 7, 7, 4, 6, 7, 9, 9, 9, 9, 4, 6, 11, 11, 11, 7, 6, 13, 9, 6, 9, 7, 9, 11, 7, 7, 6, 4, 6, 6, 4, 6, 4, 4, 4, 6, 4, 6, 6, 7, 7, 6, 6, 6, 6, 6, 7, 9, 6, 9, 6, 2, 4, 6, 11, 6, 7, 6, 7, 9, 9, 7, 9, 6, 6, 7, 9, 9, 11, 4, 11, 7, 7, 4, 4, 6, 7, 4, 4, 7, 7, 6, 4, 6, 6, 4, 4, 4, 6, 4, 4, 4, 6, 9, 4, 4, 6, 0, 6, 13, 13, 9, 15, 15, 15, 15, 6, 7, 17, 13, 11, 15, 17, 11, 6, 11, 11, 13, 13, 17, 20, 17, 24, 22, 24, 24, 17, 30, 22, 19, 20, 39, 39, 26, 26, 19, 32, 30, 28, 37, 35, 28, 32, 30, 33, 30, 33, 30, 37, 39, 35, 28, 37, 28, 22, 32, 28, 24, 32, 30, 26, 33, 26, 30, 32, 28, 26, 24, 33, 32, 35, 33, 32, 30, 28, 24, 24, 20, 22, 17, 15, 13, 15, 9, 7, 7, 7, 9, 13, 11, 11, 19, 17, 19, 22, 24, 24, 24, 26, 24, 20, 20, 15, 13, 7, 0, 4, 4, 4, 4, 7, 7, 7, 6, 9, 9, 9, 9, 6, 4, 7, 6, 7, 7, 6, 4, 6, 6, 7, 7, 7, 7, 6, 4, 11, 4, 7, 11, 9, 4, 6, 4, 6, 9, 20, 19, 15, 20, 22, 24, 22, 20, 24, 30, 20, 28, 22, 17, 17, 9, 6, 13, 11, 13, 19, 20, 15, 15, 17, 22, 22, 15, 24, 28, 22, 20, 19, 17, 20, 19, 9, 6, 4, 4, 6, 9, 9, 13, 7, 11, 9, 0, 6, 6, 11, 11, 15, 13, 15, 15, 19, 19, 17, 9, 13, 20, 15, 17, 20, 26, 24, 19, 24, 24, 20, 24, 22, 22, 17, 20, 20, 19, 17, 17, 17, 13, 19, 15, 15, 15, 13, 13, 11, 9, 6, 28, 32, 28, 28, 28, 19, 19, 22, 20, 17, 15, 15, 13, 11, 15, 19, 15, 22, 28, 26, 13, 13, 11, 9, 11, 11, 13, 11, 9, 9, 13, 9, 4, 4, 4, 6, 0, 6, 11, 13, 13, 7, 6, 19, 20, 13, 15, 13, 9, 11, 19, 17, 19, 17, 24, 24, 24, 30, 32, 7, 15, 9, 6, 19, 19, 30, 24, 24, 15, 17, 24, 30, 26, 26, 28, 30, 26, 30, 35, 26, 30, 30, 22, 28, 19, 24, 26, 20, 20, 17, 17, 15, 11, 9, 13, 11, 7, 9, 13, 13, 6, 7, 13, 11, 7, 7, 13, 9, 7, 11, 17, 7, 13, 7, 9, 9, 11, 11, 7, 11, 7, 7, 9, 4, 4, 6, 11, 11, 9, 11, 7, 6, 4, 6, 4, 4, 4, 6, 7, 6, 0, 9, 9, 6, 7, 11, 11, 17, 15, 17, 15, 17, 17, 9, 9, 9, 9, 9, 13, 17, 20, 17, 17, 17, 13, 15, 11, 20, 11, 20, 20, 17, 17, 9, 7, 6, 4, 15, 19, 22, 28, 20, 28, 32, 20, 32, 33, 33, 28, 33, 22, 19, 17, 19, 17, 15, 15, 19, 15, 9, 6, 4, 15, 22, 24, 24, 20, 20, 17, 28, 22, 24, 20, 17, 15, 15, 17, 19, 9, 7, 11, 17, 17, 13, 15, 11, 13, 13, 15, 9, 6, 9, 7, 7, 4, 4, 6, 4, 4, 4, 11, 4, 9, 7, 7, 6, 7, 6, 4, 7, 7, 11, 7, 6, 4, 4, 6, 11, 6, 11, 6, 4, 4, 4, 4, 4, 4, 9, 9, 9, 11, 7, 9, 19, 19, 15, 11, 15, 15, 17, 15, 17, 15, 15, 20, 11, 15, 20, 13, 26, 22, 22, 17, 22, 19, 15, 17, 13, 17, 19, 15, 22, 20, 22, 20, 17, 19, 17, 15, 20, 17, 19, 13, 19, 13, 19, 19, 19, 13, 15, 20, 15, 17, 20, 20, 24, 19, 26, 24, 24, 28, 28, 24, 22, 35, 32, 32, 33, 32, 35, 32, 26, 32, 32, 35, 30, 30, 22, 28, 24, 22, 24, 24, 26, 24, 28, 24, 24, 19, 13, 20, 20, 20, 19, 22, 17, 19, 19, 15, 17, 19, 15, 19, 20, 13, 20, 19, 24, 24, 24, 24, 24, 24, 24, 24, 22, 24, 22, 32, 26, 24, 22, 26, 22, 22, 15, 15, 13, 15, 11, 9, 7, 7, 9, 11, 11, 9, 11, 11, 13, 15, 11, 17, 11, 13, 9, 7, 6, 9, 11, 11, 13, 9, 13, 20, 17, 19, 17, 15, 13, 15, 20, 15, 13, 7, 4, 6, 15, 15, 13, 13, 19, 19, 17, 20, 22, 20, 28, 26, 17, 20, 28, 22, 26, 22, 32, 32, 33, 32, 30, 41, 41, 41, 33, 43, 46, 46, 37, 15, 22, 28, 30, 32, 30, 30, 28, 35, 35, 41, 35, 41, 35, 37, 35, 33, 37, 32, 35, 41, 32, 33, 32, 32, 28, 35, 39, 32, 32, 30, 30, 28, 30, 26, 20, 20, 22, 24, 26, 24, 20, 11, 13, 13, 9, 11, 9, 9, 9, 9, 9, 15, 17, 17, 20, 24, 19, 15, 15, 13, 13, 11, 11, 9, 15, 15, 13, 11, 6, 9, 7, 6, 7, 4, 4, 11, 6, 13, 19, 15, 17, 13, 11, 11, 13, 15, 9, 9, 7, 6, 17, 11, 13, 13, 19, 13, 4, 4, 11, 4, 6, 4, 6, 6, 4, 4, 7, 4, 15, 15, 20, 20, 15, 19, 19, 19, 22, 24, 39, 28, 22, 37, 24, 30, 26, 30, 37, 33, 43, 39, 44, 39, 37, 41, 39, 39, 48, 46, 37, 37, 32, 28, 26, 37, 24, 20, 24, 19, 15, 11, 13, 9, 7, 9, 9, 17, 17, 19, 24, 24, 20, 22, 24, 30, 26, 24, 22, 20, 19, 17, 13, 13, 11, 13, 4, 6, 4, 4, 7, 11, 11, 7, 7, 11, 22, 22, 20, 24, 19, 26, 26, 24, 24, 15, 20, 13, 9, 9, 11, 13, 11, 17, 19, 20, 19, 24, 32, 26, 37, 37, 32, 26, 28, 24, 26, 24, 20, 19, 28, 26, 15, 9, 6, 11, 6, 4, 0, 4, 4, 4, 9, 4, 4, 6, 9, 13, 19, 17, 30, 24, 28, 28, 30], \"xaxis\": \"x\", \"yaxis\": \"y\"}],\n",
              "                        {\"barmode\": \"relative\", \"legend\": {\"tracegroupgap\": 0}, \"margin\": {\"t\": 60}, \"template\": {\"data\": {\"bar\": [{\"error_x\": {\"color\": \"#2a3f5f\"}, \"error_y\": {\"color\": \"#2a3f5f\"}, \"marker\": {\"line\": {\"color\": \"#E5ECF6\", \"width\": 0.5}}, \"type\": \"bar\"}], \"barpolar\": [{\"marker\": {\"line\": {\"color\": \"#E5ECF6\", \"width\": 0.5}}, \"type\": \"barpolar\"}], \"carpet\": [{\"aaxis\": {\"endlinecolor\": \"#2a3f5f\", \"gridcolor\": \"white\", \"linecolor\": \"white\", \"minorgridcolor\": \"white\", \"startlinecolor\": \"#2a3f5f\"}, \"baxis\": {\"endlinecolor\": \"#2a3f5f\", \"gridcolor\": \"white\", \"linecolor\": \"white\", \"minorgridcolor\": \"white\", \"startlinecolor\": \"#2a3f5f\"}, \"type\": \"carpet\"}], \"choropleth\": [{\"colorbar\": {\"outlinewidth\": 0, \"ticks\": \"\"}, \"type\": \"choropleth\"}], \"contour\": [{\"colorbar\": {\"outlinewidth\": 0, \"ticks\": \"\"}, \"colorscale\": [[0.0, \"#0d0887\"], [0.1111111111111111, \"#46039f\"], [0.2222222222222222, \"#7201a8\"], [0.3333333333333333, \"#9c179e\"], [0.4444444444444444, \"#bd3786\"], [0.5555555555555556, \"#d8576b\"], [0.6666666666666666, \"#ed7953\"], [0.7777777777777778, \"#fb9f3a\"], [0.8888888888888888, \"#fdca26\"], [1.0, \"#f0f921\"]], \"type\": \"contour\"}], \"contourcarpet\": [{\"colorbar\": {\"outlinewidth\": 0, \"ticks\": \"\"}, \"type\": \"contourcarpet\"}], \"heatmap\": [{\"colorbar\": {\"outlinewidth\": 0, \"ticks\": \"\"}, \"colorscale\": [[0.0, \"#0d0887\"], [0.1111111111111111, \"#46039f\"], [0.2222222222222222, \"#7201a8\"], [0.3333333333333333, \"#9c179e\"], [0.4444444444444444, \"#bd3786\"], [0.5555555555555556, \"#d8576b\"], [0.6666666666666666, \"#ed7953\"], [0.7777777777777778, \"#fb9f3a\"], [0.8888888888888888, \"#fdca26\"], [1.0, \"#f0f921\"]], \"type\": \"heatmap\"}], \"heatmapgl\": [{\"colorbar\": {\"outlinewidth\": 0, \"ticks\": \"\"}, \"colorscale\": [[0.0, \"#0d0887\"], [0.1111111111111111, \"#46039f\"], [0.2222222222222222, \"#7201a8\"], [0.3333333333333333, \"#9c179e\"], [0.4444444444444444, \"#bd3786\"], [0.5555555555555556, \"#d8576b\"], [0.6666666666666666, \"#ed7953\"], [0.7777777777777778, \"#fb9f3a\"], [0.8888888888888888, \"#fdca26\"], [1.0, \"#f0f921\"]], \"type\": \"heatmapgl\"}], \"histogram\": [{\"marker\": {\"colorbar\": {\"outlinewidth\": 0, \"ticks\": \"\"}}, \"type\": \"histogram\"}], \"histogram2d\": [{\"colorbar\": {\"outlinewidth\": 0, \"ticks\": \"\"}, \"colorscale\": [[0.0, \"#0d0887\"], [0.1111111111111111, \"#46039f\"], [0.2222222222222222, \"#7201a8\"], [0.3333333333333333, \"#9c179e\"], [0.4444444444444444, \"#bd3786\"], [0.5555555555555556, \"#d8576b\"], [0.6666666666666666, \"#ed7953\"], [0.7777777777777778, \"#fb9f3a\"], [0.8888888888888888, \"#fdca26\"], [1.0, \"#f0f921\"]], \"type\": \"histogram2d\"}], \"histogram2dcontour\": [{\"colorbar\": {\"outlinewidth\": 0, \"ticks\": \"\"}, \"colorscale\": [[0.0, \"#0d0887\"], [0.1111111111111111, \"#46039f\"], [0.2222222222222222, \"#7201a8\"], [0.3333333333333333, \"#9c179e\"], [0.4444444444444444, \"#bd3786\"], [0.5555555555555556, \"#d8576b\"], [0.6666666666666666, \"#ed7953\"], [0.7777777777777778, \"#fb9f3a\"], [0.8888888888888888, \"#fdca26\"], [1.0, \"#f0f921\"]], \"type\": \"histogram2dcontour\"}], \"mesh3d\": [{\"colorbar\": {\"outlinewidth\": 0, \"ticks\": \"\"}, \"type\": \"mesh3d\"}], \"parcoords\": [{\"line\": {\"colorbar\": {\"outlinewidth\": 0, \"ticks\": \"\"}}, \"type\": \"parcoords\"}], \"pie\": [{\"automargin\": true, \"type\": \"pie\"}], \"scatter\": [{\"marker\": {\"colorbar\": {\"outlinewidth\": 0, \"ticks\": \"\"}}, \"type\": \"scatter\"}], \"scatter3d\": [{\"line\": {\"colorbar\": {\"outlinewidth\": 0, \"ticks\": \"\"}}, \"marker\": {\"colorbar\": {\"outlinewidth\": 0, \"ticks\": \"\"}}, \"type\": \"scatter3d\"}], \"scattercarpet\": [{\"marker\": {\"colorbar\": {\"outlinewidth\": 0, \"ticks\": \"\"}}, \"type\": \"scattercarpet\"}], \"scattergeo\": [{\"marker\": {\"colorbar\": {\"outlinewidth\": 0, \"ticks\": \"\"}}, \"type\": \"scattergeo\"}], \"scattergl\": [{\"marker\": {\"colorbar\": {\"outlinewidth\": 0, \"ticks\": \"\"}}, \"type\": \"scattergl\"}], \"scattermapbox\": [{\"marker\": {\"colorbar\": {\"outlinewidth\": 0, \"ticks\": \"\"}}, \"type\": \"scattermapbox\"}], \"scatterpolar\": [{\"marker\": {\"colorbar\": {\"outlinewidth\": 0, \"ticks\": \"\"}}, \"type\": \"scatterpolar\"}], \"scatterpolargl\": [{\"marker\": {\"colorbar\": {\"outlinewidth\": 0, \"ticks\": \"\"}}, \"type\": \"scatterpolargl\"}], \"scatterternary\": [{\"marker\": {\"colorbar\": {\"outlinewidth\": 0, \"ticks\": \"\"}}, \"type\": \"scatterternary\"}], \"surface\": [{\"colorbar\": {\"outlinewidth\": 0, \"ticks\": \"\"}, \"colorscale\": [[0.0, \"#0d0887\"], [0.1111111111111111, \"#46039f\"], [0.2222222222222222, \"#7201a8\"], [0.3333333333333333, \"#9c179e\"], [0.4444444444444444, \"#bd3786\"], [0.5555555555555556, \"#d8576b\"], [0.6666666666666666, \"#ed7953\"], [0.7777777777777778, \"#fb9f3a\"], [0.8888888888888888, \"#fdca26\"], [1.0, \"#f0f921\"]], \"type\": \"surface\"}], \"table\": [{\"cells\": {\"fill\": {\"color\": \"#EBF0F8\"}, \"line\": {\"color\": \"white\"}}, \"header\": {\"fill\": {\"color\": \"#C8D4E3\"}, \"line\": {\"color\": \"white\"}}, \"type\": \"table\"}]}, \"layout\": {\"annotationdefaults\": {\"arrowcolor\": \"#2a3f5f\", \"arrowhead\": 0, \"arrowwidth\": 1}, \"coloraxis\": {\"colorbar\": {\"outlinewidth\": 0, \"ticks\": \"\"}}, \"colorscale\": {\"diverging\": [[0, \"#8e0152\"], [0.1, \"#c51b7d\"], [0.2, \"#de77ae\"], [0.3, \"#f1b6da\"], [0.4, \"#fde0ef\"], [0.5, \"#f7f7f7\"], [0.6, \"#e6f5d0\"], [0.7, \"#b8e186\"], [0.8, \"#7fbc41\"], [0.9, \"#4d9221\"], [1, \"#276419\"]], \"sequential\": [[0.0, \"#0d0887\"], [0.1111111111111111, \"#46039f\"], [0.2222222222222222, \"#7201a8\"], [0.3333333333333333, \"#9c179e\"], [0.4444444444444444, \"#bd3786\"], [0.5555555555555556, \"#d8576b\"], [0.6666666666666666, \"#ed7953\"], [0.7777777777777778, \"#fb9f3a\"], [0.8888888888888888, \"#fdca26\"], [1.0, \"#f0f921\"]], \"sequentialminus\": [[0.0, \"#0d0887\"], [0.1111111111111111, \"#46039f\"], [0.2222222222222222, \"#7201a8\"], [0.3333333333333333, \"#9c179e\"], [0.4444444444444444, \"#bd3786\"], [0.5555555555555556, \"#d8576b\"], [0.6666666666666666, \"#ed7953\"], [0.7777777777777778, \"#fb9f3a\"], [0.8888888888888888, \"#fdca26\"], [1.0, \"#f0f921\"]]}, \"colorway\": [\"#636efa\", \"#EF553B\", \"#00cc96\", \"#ab63fa\", \"#FFA15A\", \"#19d3f3\", \"#FF6692\", \"#B6E880\", \"#FF97FF\", \"#FECB52\"], \"font\": {\"color\": \"#2a3f5f\"}, \"geo\": {\"bgcolor\": \"white\", \"lakecolor\": \"white\", \"landcolor\": \"#E5ECF6\", \"showlakes\": true, \"showland\": true, \"subunitcolor\": \"white\"}, \"hoverlabel\": {\"align\": \"left\"}, \"hovermode\": \"closest\", \"mapbox\": {\"style\": \"light\"}, \"paper_bgcolor\": \"white\", \"plot_bgcolor\": \"#E5ECF6\", \"polar\": {\"angularaxis\": {\"gridcolor\": \"white\", \"linecolor\": \"white\", \"ticks\": \"\"}, \"bgcolor\": \"#E5ECF6\", \"radialaxis\": {\"gridcolor\": \"white\", \"linecolor\": \"white\", \"ticks\": \"\"}}, \"scene\": {\"xaxis\": {\"backgroundcolor\": \"#E5ECF6\", \"gridcolor\": \"white\", \"gridwidth\": 2, \"linecolor\": \"white\", \"showbackground\": true, \"ticks\": \"\", \"zerolinecolor\": \"white\"}, \"yaxis\": {\"backgroundcolor\": \"#E5ECF6\", \"gridcolor\": \"white\", \"gridwidth\": 2, \"linecolor\": \"white\", \"showbackground\": true, \"ticks\": \"\", \"zerolinecolor\": \"white\"}, \"zaxis\": {\"backgroundcolor\": \"#E5ECF6\", \"gridcolor\": \"white\", \"gridwidth\": 2, \"linecolor\": \"white\", \"showbackground\": true, \"ticks\": \"\", \"zerolinecolor\": \"white\"}}, \"shapedefaults\": {\"line\": {\"color\": \"#2a3f5f\"}}, \"ternary\": {\"aaxis\": {\"gridcolor\": \"white\", \"linecolor\": \"white\", \"ticks\": \"\"}, \"baxis\": {\"gridcolor\": \"white\", \"linecolor\": \"white\", \"ticks\": \"\"}, \"bgcolor\": \"#E5ECF6\", \"caxis\": {\"gridcolor\": \"white\", \"linecolor\": \"white\", \"ticks\": \"\"}}, \"title\": {\"x\": 0.05}, \"xaxis\": {\"automargin\": true, \"gridcolor\": \"white\", \"linecolor\": \"white\", \"ticks\": \"\", \"title\": {\"standoff\": 15}, \"zerolinecolor\": \"white\", \"zerolinewidth\": 2}, \"yaxis\": {\"automargin\": true, \"gridcolor\": \"white\", \"linecolor\": \"white\", \"ticks\": \"\", \"title\": {\"standoff\": 15}, \"zerolinecolor\": \"white\", \"zerolinewidth\": 2}}}, \"xaxis\": {\"anchor\": \"y\", \"domain\": [0.0, 1.0], \"title\": {\"text\": \"Wind Spd (km/h)\"}}, \"yaxis\": {\"anchor\": \"x\", \"domain\": [0.0, 1.0], \"title\": {\"text\": \"count\"}}},\n",
              "                        {\"responsive\": true}\n",
              "                    ).then(function(){\n",
              "                            \n",
              "var gd = document.getElementById('2029b2da-016c-42af-87cb-4f674a648ce9');\n",
              "var x = new MutationObserver(function (mutations, observer) {{\n",
              "        var display = window.getComputedStyle(gd).display;\n",
              "        if (!display || display === 'none') {{\n",
              "            console.log([gd, 'removed!']);\n",
              "            Plotly.purge(gd);\n",
              "            observer.disconnect();\n",
              "        }}\n",
              "}});\n",
              "\n",
              "// Listen for the removal of the full notebook cells\n",
              "var notebookContainer = gd.closest('#notebook-container');\n",
              "if (notebookContainer) {{\n",
              "    x.observe(notebookContainer, {childList: true});\n",
              "}}\n",
              "\n",
              "// Listen for the clearing of the current output cell\n",
              "var outputEl = gd.closest('.output');\n",
              "if (outputEl) {{\n",
              "    x.observe(outputEl, {childList: true});\n",
              "}}\n",
              "\n",
              "                        })\n",
              "                };\n",
              "                \n",
              "            </script>\n",
              "        </div>\n",
              "</body>\n",
              "</html>"
            ]
          },
          "metadata": {
            "tags": []
          }
        }
      ]
    },
    {
      "cell_type": "code",
      "metadata": {
        "id": "Er1wajweYdnH"
      },
      "source": [],
      "execution_count": null,
      "outputs": []
    },
    {
      "cell_type": "code",
      "metadata": {
        "id": "wQU5Blu9_LXo"
      },
      "source": [],
      "execution_count": null,
      "outputs": []
    },
    {
      "cell_type": "code",
      "metadata": {
        "id": "wHpYg4dZ_Lal"
      },
      "source": [],
      "execution_count": null,
      "outputs": []
    },
    {
      "cell_type": "markdown",
      "metadata": {
        "id": "9vqOhqm2f9sY"
      },
      "source": [
        "<img src=\"https://github.com/commit-live-students/GLabs_DSMP_Solutions/blob/master/01_Python_Data_Science_Toolkit/06_Data_Visualization_with_Matplotlib/Exercise/images/icon/ppt-icons.png?raw=1\" alt=\"Concept-Alert\" style=\"width: 100px;float:left; margin-right:15px\"/>\n",
        "<br /> \n",
        "\n",
        "##  Mini-Challenge - 5\n",
        "***\n",
        "### Instructions\n",
        "* Draw a boxplot for wind speed using `plt.boxplot()`"
      ]
    },
    {
      "cell_type": "code",
      "metadata": {
        "colab": {
          "base_uri": "https://localhost:8080/",
          "height": 399
        },
        "id": "LI4MA0YV_v2W",
        "outputId": "446bc0b8-4ff0-4c8a-c6bd-c4e980277fc8"
      },
      "source": [
        "plt.boxplot(weather_df[\"Wind Spd (km/h)\"])"
      ],
      "execution_count": null,
      "outputs": [
        {
          "output_type": "execute_result",
          "data": {
            "text/plain": [
              "{'boxes': [<matplotlib.lines.Line2D at 0x7f8f089f47d0>],\n",
              " 'caps': [<matplotlib.lines.Line2D at 0x7f8f089b7450>,\n",
              "  <matplotlib.lines.Line2D at 0x7f8f08ad5910>],\n",
              " 'fliers': [<matplotlib.lines.Line2D at 0x7f8f089bf1d0>],\n",
              " 'means': [],\n",
              " 'medians': [<matplotlib.lines.Line2D at 0x7f8f089bf510>],\n",
              " 'whiskers': [<matplotlib.lines.Line2D at 0x7f8f089b7250>,\n",
              "  <matplotlib.lines.Line2D at 0x7f8f089b7290>]}"
            ]
          },
          "metadata": {
            "tags": []
          },
          "execution_count": 99
        },
        {
          "output_type": "display_data",
          "data": {
            "image/png": "[encoded data removed]",
            "text/plain": [
              "<Figure size 432x288 with 1 Axes>"
            ]
          },
          "metadata": {
            "tags": [],
            "needs_background": "light"
          }
        }
      ]
    },
    {
      "cell_type": "code",
      "metadata": {
        "colab": {
          "base_uri": "https://localhost:8080/",
          "height": 542
        },
        "id": "dgxcOVIv_v5d",
        "outputId": "8fc17821-dd3b-47ab-c7d6-1c91bcb17ab2"
      },
      "source": [
        "px.box(weather_df,y=\"Wind Spd (km/h)\")"
      ],
      "execution_count": null,
      "outputs": [
        {
          "output_type": "display_data",
          "data": {
            "text/html": [
              "<html>\n",
              "<head><meta charset=\"utf-8\" /></head>\n",
              "<body>\n",
              "    <div>\n",
              "            <script src=\"https://cdnjs.cloudflare.com/ajax/libs/mathjax/2.7.5/MathJax.js?config=TeX-AMS-MML_SVG\"></script><script type=\"text/javascript\">if (window.MathJax) {MathJax.Hub.Config({SVG: {font: \"STIX-Web\"}});}</script>\n",
              "                <script type=\"text/javascript\">window.PlotlyConfig = {MathJaxConfig: 'local'};</script>\n",
              "        <script src=\"https://cdn.plot.ly/plotly-latest.min.js\"></script>    \n",
              "            <div id=\"3435a6f5-f417-4a26-b5b9-080be5fafd8a\" class=\"plotly-graph-div\" style=\"height:525px; width:100%;\"></div>\n",
              "            <script type=\"text/javascript\">\n",
              "                \n",
              "                    window.PLOTLYENV=window.PLOTLYENV || {};\n",
              "                    \n",
              "                if (document.getElementById(\"3435a6f5-f417-4a26-b5b9-080be5fafd8a\")) {\n",
              "                    Plotly.newPlot(\n",
              "                        '3435a6f5-f417-4a26-b5b9-080be5fafd8a',\n",
              "                        [{\"alignmentgroup\": \"True\", \"hoverlabel\": {\"namelength\": 0}, \"hovertemplate\": \"Wind Spd (km/h)=%{y}\", \"legendgroup\": \"\", \"marker\": {\"color\": \"#636efa\"}, \"name\": \"\", \"notched\": false, \"offsetgroup\": \"\", \"orientation\": \"v\", \"showlegend\": false, \"type\": \"box\", \"x0\": \" \", \"xaxis\": \"x\", \"y\": [4, 4, 7, 6, 7, 9, 7, 7, 9, 15, 9, 7, 9, 13, 20, 22, 13, 13, 15, 15, 19, 20, 24, 30, 35, 39, 32, 33, 32, 32, 26, 33, 39, 44, 43, 30, 48, 37, 33, 33, 24, 22, 28, 24, 24, 26, 20, 17, 28, 20, 22, 33, 24, 22, 19, 19, 26, 19, 24, 22, 20, 22, 22, 19, 22, 22, 24, 24, 24, 15, 20, 17, 13, 11, 15, 13, 13, 9, 11, 11, 17, 9, 7, 13, 11, 11, 7, 11, 13, 9, 11, 9, 9, 7, 6, 6, 4, 0, 9, 11, 9, 4, 6, 9, 11, 9, 17, 22, 20, 26, 22, 26, 19, 11, 11, 7, 9, 13, 7, 9, 13, 17, 9, 0, 15, 19, 22, 22, 24, 26, 28, 17, 28, 20, 19, 19, 19, 17, 17, 15, 11, 9, 11, 7, 6, 0, 4, 4, 6, 4, 7, 7, 9, 7, 7, 9, 13, 15, 6, 11, 0, 13, 6, 6, 4, 0, 4, 22, 32, 32, 30, 32, 22, 13, 13, 11, 11, 17, 17, 22, 15, 15, 19, 20, 20, 17, 17, 15, 15, 11, 7, 7, 6, 0, 4, 0, 9, 11, 11, 15, 13, 11, 9, 7, 9, 7, 7, 9, 11, 15, 20, 19, 15, 11, 19, 17, 30, 35, 19, 28, 26, 30, 30, 20, 24, 17, 24, 22, 30, 26, 26, 30, 30, 17, 15, 15, 13, 9, 13, 19, 17, 17, 19, 19, 17, 19, 20, 13, 15, 15, 11, 15, 17, 19, 20, 20, 20, 26, 24, 30, 24, 19, 22, 20, 19, 24, 26, 33, 22, 30, 28, 28, 33, 33, 35, 32, 32, 33, 28, 26, 33, 33, 35, 30, 28, 24, 26, 28, 28, 24, 22, 19, 24, 20, 22, 22, 26, 32, 26, 28, 24, 20, 6, 13, 11, 15, 26, 33, 32, 37, 32, 35, 39, 24, 28, 24, 20, 24, 24, 26, 20, 19, 22, 20, 20, 17, 17, 22, 19, 13, 20, 17, 13, 11, 13, 9, 11, 9, 9, 4, 0, 6, 7, 9, 7, 9, 9, 9, 13, 20, 26, 24, 24, 15, 17, 20, 17, 15, 17, 15, 15, 6, 6, 6, 0, 0, 0, 4, 9, 22, 19, 20, 19, 13, 13, 17, 9, 4, 15, 15, 13, 11, 9, 7, 9, 9, 9, 6, 6, 6, 6, 9, 9, 15, 15, 15, 19, 22, 22, 24, 28, 22, 22, 24, 24, 26, 17, 7, 11, 83, 70, 57, 48, 46, 39, 39, 35, 43, 35, 39, 37, 32, 28, 30, 26, 26, 22, 22, 17, 17, 13, 6, 7, 4, 6, 6, 7, 6, 6, 6, 19, 17, 20, 26, 15, 20, 20, 26, 24, 17, 19, 30, 30, 24, 32, 26, 26, 20, 22, 19, 19, 33, 28, 28, 33, 32, 33, 32, 30, 30, 30, 30, 24, 17, 13, 13, 9, 9, 9, 6, 6, 0, 0, 7, 7, 11, 9, 9, 9, 13, 17, 19, 15, 15, 13, 11, 7, 11, 6, 4, 4, 9, 0, 0, 0, 4, 0, 0, 0, 6, 6, 6, 4, 7, 9, 6, 9, 11, 9, 9, 6, 19, 19, 19, 15, 15, 13, 9, 11, 11, 13, 13, 11, 11, 7, 13, 11, 11, 9, 11, 6, 22, 26, 30, 28, 28, 19, 22, 26, 24, 28, 22, 17, 19, 9, 19, 30, 41, 28, 26, 28, 30, 35, 33, 30, 39, 35, 26, 30, 26, 22, 32, 19, 20, 22, 28, 28, 22, 20, 24, 24, 33, 35, 37, 26, 28, 22, 19, 20, 20, 22, 22, 19, 20, 11, 13, 7, 7, 0, 6, 6, 4, 6, 0, 0, 6, 6, 6, 6, 11, 11, 7, 11, 15, 11, 13, 19, 20, 24, 17, 17, 20, 22, 22, 28, 24, 26, 28, 26, 22, 19, 22, 20, 17, 17, 20, 20, 22, 20, 19, 19, 22, 11, 30, 32, 19, 19, 20, 19, 22, 24, 17, 15, 19, 9, 11, 7, 13, 13, 6, 7, 4, 9, 15, 22, 11, 9, 19, 24, 24, 37, 52, 57, 52, 52, 43, 43, 43, 44, 32, 32, 32, 24, 33, 37, 33, 19, 17, 20, 11, 17, 17, 17, 9, 15, 15, 11, 15, 15, 11, 11, 13, 15, 15, 9, 13, 17, 19, 22, 22, 22, 22, 17, 13, 15, 7, 4, 4, 4, 6, 7, 6, 11, 15, 17, 17, 13, 17, 19, 17, 19, 20, 22, 20, 20, 17, 20, 19, 20, 19, 20, 20, 19, 22, 19, 15, 19, 15, 17, 19, 15, 13, 11, 15, 13, 9, 11, 11, 9, 6, 0, 0, 0, 6, 4, 15, 15, 0, 7, 9, 4, 6, 4, 9, 13, 22, 19, 19, 17, 19, 13, 9, 9, 9, 11, 13, 7, 6, 4, 4, 7, 7, 4, 0, 0, 0, 7, 9, 7, 9, 9, 6, 7, 11, 11, 6, 7, 19, 13, 11, 7, 9, 11, 7, 0, 6, 9, 11, 20, 15, 13, 15, 9, 7, 9, 13, 6, 0, 4, 13, 6, 11, 9, 11, 9, 7, 6, 6, 0, 0, 6, 6, 6, 6, 6, 7, 4, 4, 4, 0, 9, 11, 9, 13, 20, 15, 6, 9, 15, 15, 24, 26, 28, 30, 30, 24, 32, 30, 35, 26, 32, 37, 33, 32, 32, 35, 22, 32, 33, 30, 17, 13, 11, 13, 11, 15, 13, 13, 13, 15, 15, 19, 19, 15, 20, 17, 17, 19, 19, 11, 13, 15, 15, 19, 22, 19, 11, 9, 11, 13, 9, 9, 4, 9, 6, 11, 4, 0, 9, 15, 13, 15, 17, 17, 20, 32, 24, 32, 22, 17, 19, 22, 22, 26, 17, 20, 13, 13, 11, 24, 26, 20, 20, 17, 20, 22, 28, 24, 24, 26, 30, 24, 22, 20, 22, 20, 17, 22, 28, 26, 22, 19, 22, 17, 20, 22, 22, 20, 17, 19, 28, 20, 24, 24, 30, 28, 30, 22, 17, 17, 15, 13, 11, 6, 9, 24, 30, 22, 22, 20, 24, 20, 20, 20, 19, 11, 9, 7, 6, 11, 6, 4, 4, 7, 9, 7, 6, 13, 11, 11, 6, 9, 11, 11, 15, 19, 17, 17, 17, 20, 24, 20, 26, 28, 32, 26, 24, 24, 22, 24, 26, 20, 19, 22, 24, 20, 20, 22, 22, 22, 24, 20, 26, 20, 17, 24, 22, 24, 24, 15, 0, 15, 7, 11, 13, 19, 15, 13, 11, 9, 11, 4, 6, 7, 9, 4, 4, 0, 4, 4, 9, 9, 7, 9, 9, 7, 4, 7, 0, 0, 4, 4, 0, 4, 0, 7, 0, 4, 4, 4, 0, 0, 0, 6, 7, 6, 6, 6, 7, 7, 7, 13, 7, 7, 9, 7, 4, 6, 7, 4, 6, 7, 7, 0, 11, 11, 19, 19, 19, 19, 15, 15, 19, 17, 17, 15, 17, 19, 19, 19, 17, 19, 20, 24, 30, 24, 32, 32, 41, 32, 24, 22, 28, 30, 26, 26, 22, 28, 24, 19, 15, 26, 24, 22, 22, 26, 22, 19, 20, 24, 19, 24, 24, 17, 15, 20, 15, 19, 19, 13, 15, 11, 11, 9, 9, 9, 13, 19, 9, 0, 7, 9, 6, 7, 7, 9, 15, 17, 17, 19, 15, 17, 20, 15, 13, 15, 13, 11, 9, 7, 4, 0, 4, 7, 6, 6, 4, 4, 4, 6, 9, 9, 11, 20, 17, 19, 20, 17, 9, 7, 6, 6, 0, 4, 9, 6, 7, 4, 4, 7, 6, 7, 7, 9, 11, 15, 19, 24, 22, 19, 17, 9, 9, 0, 4, 6, 6, 0, 19, 15, 19, 20, 15, 15, 13, 15, 17, 26, 28, 26, 28, 22, 17, 28, 19, 19, 9, 6, 13, 15, 15, 13, 20, 11, 7, 6, 4, 4, 9, 7, 7, 17, 19, 22, 20, 20, 13, 22, 22, 24, 15, 19, 15, 13, 9, 7, 6, 4, 0, 0, 0, 0, 6, 11, 9, 7, 9, 15, 20, 20, 20, 19, 22, 26, 24, 22, 15, 17, 19, 17, 11, 15, 11, 19, 19, 22, 33, 33, 32, 33, 32, 33, 33, 32, 35, 33, 24, 24, 30, 35, 26, 32, 28, 26, 19, 20, 22, 28, 30, 20, 22, 22, 26, 32, 22, 26, 28, 26, 28, 26, 24, 24, 19, 13, 11, 9, 0, 0, 7, 4, 13, 9, 9, 13, 17, 20, 19, 22, 22, 28, 15, 19, 22, 20, 19, 20, 24, 22, 9, 4, 0, 4, 0, 0, 0, 9, 15, 20, 22, 19, 19, 20, 13, 9, 11, 17, 15, 19, 17, 15, 17, 7, 11, 11, 0, 9, 9, 4, 4, 0, 7, 0, 0, 9, 11, 11, 17, 15, 17, 11, 13, 20, 26, 28, 28, 30, 30, 26, 30, 30, 24, 26, 28, 28, 35, 33, 33, 30, 32, 32, 32, 28, 30, 28, 28, 24, 19, 20, 19, 17, 20, 22, 22, 22, 22, 20, 19, 19, 24, 19, 19, 22, 17, 13, 15, 15, 13, 13, 15, 15, 15, 15, 20, 17, 15, 15, 13, 17, 22, 19, 19, 22, 24, 41, 43, 41, 32, 37, 15, 32, 37, 50, 48, 57, 63, 57, 48, 44, 50, 46, 57, 33, 32, 24, 26, 19, 20, 19, 17, 22, 13, 15, 17, 17, 19, 19, 19, 22, 20, 22, 28, 22, 24, 15, 17, 24, 19, 24, 24, 22, 26, 20, 26, 22, 24, 24, 26, 26, 6, 24, 28, 30, 26, 24, 22, 20, 17, 17, 15, 11, 11, 11, 4, 9, 9, 13, 11, 11, 0, 6, 9, 15, 13, 9, 9, 6, 11, 6, 6, 11, 9, 9, 9, 6, 6, 9, 17, 13, 15, 17, 15, 11, 11, 11, 6, 6, 4, 13, 13, 13, 15, 9, 7, 11, 20, 22, 17, 15, 20, 11, 17, 24, 28, 19, 19, 26, 19, 26, 30, 26, 20, 20, 26, 37, 32, 37, 46, 30, 41, 41, 46, 35, 28, 22, 20, 24, 11, 20, 15, 15, 15, 20, 19, 17, 20, 15, 19, 17, 11, 7, 7, 4, 4, 6, 7, 6, 4, 15, 19, 24, 26, 20, 26, 20, 19, 15, 6, 0, 7, 7, 15, 11, 13, 17, 9, 9, 11, 11, 11, 7, 7, 7, 7, 17, 13, 11, 7, 11, 7, 7, 13, 11, 24, 20, 24, 20, 15, 11, 7, 6, 9, 13, 6, 7, 20, 17, 9, 11, 4, 9, 11, 4, 6, 0, 9, 6, 9, 13, 6, 4, 4, 6, 13, 13, 13, 13, 11, 11, 13, 13, 6, 15, 7, 6, 9, 11, 7, 17, 11, 11, 9, 7, 7, 11, 11, 17, 13, 17, 17, 20, 6, 9, 7, 7, 7, 6, 4, 6, 7, 6, 6, 7, 7, 6, 4, 4, 7, 13, 13, 15, 17, 15, 15, 17, 20, 15, 19, 19, 13, 11, 17, 15, 20, 13, 17, 20, 22, 19, 19, 22, 22, 24, 20, 26, 22, 28, 24, 28, 20, 19, 19, 15, 17, 19, 17, 20, 24, 19, 15, 17, 13, 13, 6, 6, 11, 7, 4, 7, 7, 0, 0, 7, 0, 0, 4, 6, 4, 4, 0, 0, 4, 0, 0, 4, 0, 4, 4, 7, 7, 6, 7, 9, 7, 6, 0, 4, 0, 7, 4, 0, 6, 7, 6, 6, 7, 4, 11, 11, 13, 13, 11, 15, 13, 15, 11, 6, 9, 0, 7, 4, 7, 6, 6, 6, 4, 11, 6, 7, 4, 0, 7, 6, 6, 4, 4, 19, 15, 17, 11, 13, 19, 15, 13, 15, 17, 9, 11, 11, 11, 7, 4, 7, 4, 4, 6, 0, 4, 6, 9, 13, 11, 9, 7, 7, 4, 6, 4, 6, 4, 6, 9, 4, 6, 4, 0, 0, 4, 4, 9, 7, 13, 15, 15, 17, 13, 17, 17, 13, 9, 6, 7, 13, 7, 7, 13, 11, 7, 9, 6, 13, 15, 22, 15, 22, 17, 15, 20, 19, 17, 6, 13, 11, 19, 13, 11, 7, 7, 6, 7, 0, 9, 9, 7, 9, 7, 0, 0, 4, 17, 15, 11, 7, 15, 15, 22, 13, 13, 11, 6, 15, 19, 19, 22, 20, 19, 22, 13, 19, 19, 15, 19, 22, 22, 22, 19, 19, 9, 4, 7, 13, 13, 13, 9, 9, 11, 7, 20, 13, 9, 7, 19, 11, 15, 17, 6, 0, 0, 6, 6, 6, 11, 9, 9, 7, 7, 4, 7, 13, 11, 11, 24, 33, 26, 26, 22, 20, 32, 26, 26, 22, 26, 28, 30, 28, 28, 30, 30, 32, 24, 28, 28, 24, 28, 26, 22, 19, 17, 17, 13, 11, 9, 9, 13, 9, 0, 6, 9, 6, 13, 15, 17, 19, 15, 11, 13, 9, 20, 13, 6, 11, 13, 20, 20, 19, 20, 22, 19, 15, 11, 13, 7, 9, 13, 19, 20, 19, 13, 11, 13, 15, 13, 17, 15, 11, 17, 11, 11, 9, 6, 7, 6, 9, 13, 9, 6, 13, 15, 19, 13, 24, 20, 19, 19, 24, 17, 24, 19, 20, 15, 19, 4, 11, 13, 15, 11, 13, 9, 4, 17, 6, 17, 17, 15, 15, 11, 7, 7, 4, 0, 6, 13, 13, 11, 13, 13, 13, 15, 19, 17, 17, 15, 7, 11, 9, 4, 6, 4, 6, 7, 4, 9, 7, 0, 0, 0, 4, 0, 0, 0, 4, 6, 6, 11, 9, 7, 4, 0, 7, 9, 19, 17, 22, 11, 0, 11, 13, 13, 7, 11, 7, 0, 0, 4, 6, 6, 6, 13, 22, 28, 24, 17, 24, 26, 19, 28, 30, 19, 13, 13, 11, 9, 13, 6, 9, 6, 9, 13, 6, 6, 11, 19, 15, 17, 11, 11, 11, 13, 24, 30, 28, 20, 13, 9, 7, 11, 11, 9, 4, 9, 11, 7, 9, 11, 17, 20, 28, 30, 28, 24, 33, 26, 26, 20, 26, 22, 19, 19, 19, 19, 19, 15, 17, 11, 13, 17, 17, 19, 19, 20, 22, 17, 26, 22, 22, 20, 19, 24, 24, 20, 26, 19, 19, 22, 19, 22, 17, 22, 19, 17, 15, 15, 15, 19, 17, 6, 19, 20, 15, 9, 19, 28, 32, 19, 13, 11, 9, 11, 11, 11, 17, 7, 11, 11, 7, 9, 11, 11, 11, 17, 13, 11, 9, 9, 7, 4, 9, 7, 13, 15, 17, 15, 11, 9, 7, 4, 4, 4, 7, 7, 11, 13, 19, 22, 15, 17, 20, 20, 22, 22, 7, 19, 17, 15, 17, 19, 7, 4, 9, 9, 0, 11, 7, 13, 13, 20, 19, 28, 24, 17, 17, 19, 22, 17, 22, 30, 28, 19, 22, 19, 20, 19, 20, 19, 17, 13, 9, 9, 9, 17, 15, 20, 15, 19, 22, 33, 19, 20, 19, 24, 19, 20, 22, 11, 15, 17, 9, 11, 0, 0, 6, 6, 4, 4, 0, 4, 11, 9, 4, 32, 7, 20, 33, 17, 11, 13, 7, 11, 13, 13, 15, 17, 13, 13, 15, 13, 6, 13, 13, 9, 9, 4, 15, 13, 15, 15, 11, 17, 11, 7, 0, 4, 11, 11, 11, 6, 9, 6, 6, 6, 7, 7, 13, 17, 19, 24, 24, 22, 32, 30, 28, 22, 19, 15, 19, 20, 20, 22, 11, 17, 19, 11, 17, 19, 20, 19, 20, 26, 24, 24, 26, 17, 20, 19, 24, 13, 7, 7, 7, 9, 9, 9, 13, 15, 15, 15, 6, 13, 9, 11, 26, 32, 28, 28, 32, 26, 24, 22, 20, 20, 17, 11, 6, 6, 13, 17, 9, 4, 9, 11, 13, 15, 17, 17, 15, 22, 22, 30, 22, 24, 28, 26, 26, 11, 20, 4, 13, 24, 30, 28, 35, 30, 37, 37, 33, 37, 48, 43, 44, 41, 30, 37, 32, 35, 30, 32, 24, 24, 28, 19, 17, 11, 17, 13, 15, 15, 11, 9, 11, 9, 13, 11, 9, 9, 6, 11, 15, 7, 11, 9, 13, 7, 9, 7, 4, 0, 6, 4, 6, 7, 4, 0, 4, 4, 4, 7, 7, 13, 19, 15, 20, 17, 28, 26, 24, 22, 15, 17, 11, 13, 9, 19, 19, 20, 15, 19, 22, 28, 22, 26, 19, 24, 20, 26, 24, 24, 24, 33, 26, 28, 26, 24, 17, 17, 20, 19, 15, 19, 20, 13, 7, 15, 17, 17, 19, 17, 11, 15, 19, 19, 17, 19, 17, 24, 20, 24, 26, 19, 13, 24, 17, 13, 15, 11, 19, 19, 20, 20, 28, 22, 22, 24, 20, 22, 28, 22, 26, 24, 32, 32, 35, 32, 41, 46, 44, 44, 52, 44, 46, 52, 48, 48, 44, 46, 48, 46, 41, 44, 43, 39, 35, 43, 39, 41, 37, 19, 9, 13, 7, 6, 15, 19, 19, 19, 13, 13, 17, 19, 26, 17, 24, 28, 19, 32, 28, 20, 19, 28, 20, 24, 19, 19, 19, 13, 15, 15, 13, 20, 19, 19, 15, 9, 17, 20, 20, 19, 15, 17, 22, 22, 17, 17, 13, 9, 9, 7, 9, 7, 11, 7, 9, 4, 7, 7, 7, 11, 7, 13, 13, 17, 19, 19, 15, 19, 15, 7, 9, 6, 13, 22, 15, 15, 22, 24, 26, 28, 32, 26, 32, 30, 30, 35, 37, 37, 30, 30, 33, 28, 22, 24, 19, 20, 17, 17, 19, 22, 17, 24, 26, 22, 30, 24, 32, 28, 24, 30, 32, 24, 35, 30, 28, 24, 19, 11, 11, 9, 6, 7, 11, 11, 13, 9, 19, 20, 26, 19, 19, 26, 24, 24, 32, 22, 32, 28, 30, 28, 20, 15, 19, 15, 13, 9, 6, 0, 0, 4, 4, 0, 0, 11, 7, 7, 0, 6, 11, 7, 15, 9, 9, 13, 11, 11, 13, 11, 6, 11, 19, 7, 15, 17, 24, 24, 13, 17, 13, 6, 6, 7, 0, 0, 9, 9, 7, 7, 9, 6, 9, 6, 6, 6, 6, 4, 4, 9, 13, 11, 17, 15, 13, 13, 13, 13, 17, 11, 19, 19, 17, 15, 15, 11, 17, 19, 19, 17, 15, 17, 15, 17, 13, 13, 15, 15, 17, 13, 11, 15, 13, 11, 7, 13, 6, 7, 6, 11, 13, 11, 11, 13, 17, 13, 11, 6, 6, 11, 7, 6, 11, 11, 7, 0, 9, 9, 9, 7, 7, 4, 9, 9, 32, 30, 17, 4, 11, 11, 15, 11, 17, 15, 19, 17, 9, 11, 13, 11, 13, 7, 6, 17, 9, 11, 0, 4, 6, 9, 13, 9, 15, 13, 17, 17, 20, 22, 22, 17, 20, 15, 15, 6, 7, 9, 6, 7, 11, 11, 9, 9, 6, 0, 0, 0, 0, 4, 4, 0, 4, 6, 4, 7, 7, 13, 7, 13, 13, 19, 7, 11, 13, 13, 11, 13, 15, 17, 15, 11, 15, 4, 6, 17, 19, 22, 24, 26, 32, 26, 20, 19, 17, 19, 17, 15, 9, 11, 6, 9, 6, 6, 4, 0, 0, 6, 6, 6, 9, 13, 15, 17, 9, 17, 9, 19, 15, 15, 13, 13, 7, 20, 11, 7, 11, 13, 4, 15, 6, 7, 6, 11, 17, 22, 20, 20, 26, 28, 28, 30, 26, 30, 28, 19, 26, 19, 15, 20, 20, 24, 17, 15, 22, 17, 19, 7, 7, 17, 19, 19, 19, 22, 24, 22, 20, 32, 26, 26, 22, 22, 13, 11, 9, 9, 9, 9, 7, 0, 4, 11, 6, 7, 11, 11, 13, 15, 20, 22, 24, 28, 26, 22, 20, 17, 20, 0, 11, 6, 6, 7, 7, 6, 6, 11, 6, 11, 13, 11, 13, 9, 17, 13, 11, 20, 11, 11, 15, 17, 13, 11, 7, 7, 0, 6, 6, 4, 0, 4, 0, 0, 0, 6, 6, 11, 13, 17, 17, 0, 9, 9, 6, 9, 15, 17, 15, 6, 7, 11, 6, 9, 11, 11, 11, 9, 7, 11, 9, 7, 11, 13, 20, 19, 9, 15, 17, 19, 17, 17, 15, 11, 11, 4, 6, 6, 0, 6, 0, 11, 9, 9, 13, 15, 20, 11, 15, 19, 32, 33, 22, 26, 22, 17, 17, 20, 22, 24, 24, 15, 15, 9, 11, 9, 15, 15, 22, 26, 22, 17, 26, 20, 24, 30, 24, 20, 13, 7, 6, 0, 7, 13, 7, 9, 11, 9, 9, 11, 20, 15, 17, 22, 17, 20, 22, 22, 20, 19, 17, 13, 9, 4, 6, 6, 6, 6, 9, 7, 9, 9, 7, 6, 9, 9, 7, 4, 11, 19, 15, 15, 15, 15, 15, 11, 11, 6, 9, 7, 4, 0, 6, 6, 9, 6, 6, 4, 7, 7, 11, 11, 11, 13, 9, 11, 4, 4, 13, 15, 11, 11, 11, 17, 15, 11, 9, 7, 0, 9, 13, 6, 11, 19, 24, 20, 22, 24, 26, 26, 33, 30, 26, 28, 26, 22, 24, 15, 15, 13, 15, 9, 0, 7, 4, 9, 11, 9, 9, 9, 13, 15, 9, 11, 9, 20, 11, 28, 24, 20, 15, 17, 9, 0, 4, 6, 7, 4, 9, 7, 11, 15, 15, 11, 13, 11, 13, 9, 0, 6, 4, 4, 7, 9, 9, 7, 4, 0, 4, 6, 6, 9, 7, 9, 4, 0, 7, 0, 9, 6, 13, 13, 17, 17, 22, 24, 15, 19, 19, 22, 19, 13, 15, 15, 17, 19, 17, 17, 20, 20, 20, 20, 22, 20, 28, 19, 26, 24, 19, 20, 22, 13, 15, 11, 17, 9, 13, 11, 13, 9, 9, 9, 9, 6, 9, 7, 0, 13, 30, 22, 20, 22, 19, 20, 13, 9, 7, 6, 6, 6, 9, 11, 13, 13, 13, 17, 9, 11, 9, 0, 4, 0, 13, 0, 11, 13, 6, 7, 0, 4, 0, 0, 6, 4, 13, 11, 9, 17, 19, 24, 22, 28, 20, 22, 24, 20, 26, 28, 24, 22, 26, 26, 22, 20, 19, 15, 13, 15, 9, 11, 15, 30, 15, 9, 6, 0, 4, 4, 7, 7, 6, 11, 13, 15, 13, 28, 24, 11, 17, 9, 6, 17, 24, 22, 19, 13, 11, 15, 17, 19, 20, 15, 17, 35, 30, 32, 22, 15, 24, 20, 0, 6, 7, 9, 15, 6, 7, 4, 9, 11, 9, 15, 15, 13, 11, 9, 4, 0, 20, 19, 19, 19, 15, 22, 15, 13, 9, 7, 7, 6, 7, 9, 9, 11, 11, 7, 9, 11, 11, 20, 17, 20, 17, 15, 17, 22, 19, 19, 19, 20, 26, 20, 19, 15, 19, 19, 19, 24, 24, 19, 17, 11, 13, 7, 7, 9, 11, 20, 17, 22, 17, 19, 9, 4, 7, 15, 6, 9, 6, 6, 4, 7, 0, 9, 15, 13, 11, 13, 11, 9, 24, 24, 24, 33, 30, 30, 28, 32, 28, 30, 30, 33, 19, 22, 24, 22, 20, 22, 33, 24, 28, 28, 28, 22, 24, 20, 22, 22, 22, 15, 20, 13, 15, 17, 11, 13, 15, 13, 15, 13, 13, 15, 20, 26, 19, 19, 26, 20, 15, 7, 11, 4, 15, 11, 22, 9, 6, 7, 15, 9, 9, 11, 9, 6, 9, 15, 13, 7, 9, 11, 7, 9, 0, 4, 7, 13, 11, 15, 15, 9, 11, 9, 11, 9, 7, 11, 17, 9, 11, 13, 4, 11, 6, 6, 7, 13, 11, 11, 13, 15, 11, 9, 11, 11, 30, 17, 17, 13, 7, 11, 7, 7, 7, 17, 22, 22, 17, 13, 17, 17, 20, 17, 20, 4, 7, 0, 15, 9, 9, 6, 9, 6, 0, 0, 0, 0, 6, 0, 6, 4, 0, 4, 15, 17, 19, 7, 20, 17, 17, 11, 9, 6, 6, 4, 4, 6, 4, 0, 4, 4, 6, 0, 4, 6, 6, 7, 7, 7, 11, 6, 6, 6, 6, 15, 9, 9, 7, 9, 11, 6, 0, 7, 9, 11, 11, 7, 11, 9, 7, 4, 4, 7, 15, 17, 17, 22, 22, 19, 19, 20, 20, 22, 17, 19, 17, 19, 17, 19, 17, 15, 22, 19, 19, 15, 24, 17, 19, 19, 15, 22, 20, 20, 20, 19, 19, 17, 13, 11, 15, 19, 22, 22, 22, 22, 20, 32, 24, 19, 13, 13, 15, 9, 17, 17, 19, 20, 17, 11, 7, 11, 11, 11, 9, 9, 13, 15, 9, 9, 13, 11, 19, 17, 9, 24, 19, 15, 11, 7, 15, 17, 13, 15, 11, 9, 6, 6, 6, 13, 13, 15, 15, 17, 19, 17, 17, 13, 15, 11, 15, 11, 17, 15, 11, 9, 15, 15, 11, 13, 11, 9, 11, 13, 17, 19, 13, 17, 15, 9, 11, 4, 6, 6, 9, 6, 6, 7, 4, 6, 7, 4, 0, 9, 0, 0, 7, 11, 13, 9, 6, 9, 11, 9, 9, 9, 9, 6, 11, 17, 17, 20, 19, 17, 17, 15, 19, 22, 13, 15, 13, 19, 17, 17, 19, 20, 17, 17, 17, 19, 19, 19, 20, 22, 24, 24, 20, 22, 20, 7, 9, 13, 13, 13, 9, 9, 9, 9, 6, 9, 22, 6, 15, 13, 11, 9, 15, 11, 20, 17, 19, 19, 20, 19, 11, 9, 13, 17, 19, 24, 20, 13, 19, 22, 24, 19, 17, 9, 17, 20, 19, 17, 22, 26, 15, 17, 11, 17, 15, 24, 19, 20, 22, 11, 11, 11, 17, 17, 17, 11, 19, 17, 13, 15, 24, 20, 24, 24, 30, 22, 30, 22, 20, 17, 17, 9, 9, 15, 22, 19, 20, 19, 19, 17, 17, 19, 22, 22, 20, 22, 20, 22, 24, 17, 11, 7, 9, 9, 9, 7, 9, 13, 13, 15, 15, 15, 11, 15, 15, 7, 11, 13, 19, 15, 13, 22, 15, 20, 13, 6, 0, 0, 0, 0, 6, 4, 0, 11, 6, 4, 7, 7, 11, 15, 17, 9, 17, 19, 22, 19, 32, 26, 20, 24, 19, 9, 13, 9, 9, 7, 9, 15, 15, 15, 15, 17, 26, 24, 22, 26, 19, 26, 28, 26, 26, 28, 22, 11, 13, 24, 22, 26, 24, 11, 13, 13, 17, 17, 11, 17, 9, 13, 11, 15, 26, 20, 20, 17, 13, 13, 15, 15, 15, 15, 15, 17, 13, 11, 9, 13, 17, 15, 20, 28, 20, 20, 24, 20, 13, 19, 19, 20, 20, 15, 17, 11, 13, 11, 9, 6, 11, 7, 6, 11, 9, 11, 11, 9, 11, 11, 13, 9, 17, 22, 22, 22, 19, 19, 13, 11, 11, 11, 15, 15, 4, 7, 7, 9, 13, 17, 20, 24, 24, 26, 26, 32, 37, 33, 32, 28, 30, 24, 17, 9, 22, 22, 17, 20, 15, 17, 17, 20, 26, 28, 20, 26, 26, 30, 26, 26, 30, 33, 28, 26, 11, 22, 7, 6, 13, 7, 4, 0, 6, 9, 7, 6, 0, 7, 11, 6, 4, 13, 19, 22, 22, 17, 15, 15, 11, 17, 15, 11, 7, 11, 9, 13, 7, 7, 6, 0, 6, 6, 9, 15, 15, 13, 19, 15, 17, 19, 30, 22, 26, 20, 15, 9, 6, 6, 7, 7, 4, 4, 0, 6, 6, 9, 6, 0, 9, 4, 9, 11, 13, 9, 15, 15, 15, 11, 17, 17, 13, 17, 0, 6, 6, 13, 13, 13, 15, 15, 15, 17, 17, 19, 24, 24, 24, 24, 19, 15, 11, 9, 6, 9, 9, 17, 11, 9, 6, 11, 11, 7, 9, 13, 17, 7, 6, 9, 7, 6, 9, 11, 11, 17, 17, 19, 15, 13, 9, 9, 7, 7, 0, 4, 7, 7, 6, 9, 13, 15, 19, 15, 15, 22, 22, 22, 20, 20, 15, 11, 15, 13, 7, 9, 11, 6, 11, 7, 9, 13, 11, 9, 19, 17, 15, 19, 17, 22, 20, 17, 22, 17, 20, 15, 13, 9, 11, 9, 17, 17, 15, 11, 7, 7, 9, 15, 20, 22, 20, 22, 19, 24, 17, 17, 15, 24, 26, 20, 19, 11, 9, 7, 9, 13, 9, 9, 9, 9, 7, 13, 11, 11, 9, 17, 20, 13, 19, 22, 17, 15, 11, 13, 13, 7, 6, 4, 6, 7, 13, 7, 9, 11, 9, 9, 9, 15, 9, 9, 15, 26, 22, 19, 19, 13, 13, 19, 13, 11, 11, 7, 9, 7, 0, 4, 4, 4, 4, 6, 4, 4, 9, 7, 9, 13, 15, 13, 19, 20, 19, 19, 13, 9, 13, 9, 17, 11, 6, 6, 11, 7, 9, 17, 15, 13, 15, 20, 22, 22, 24, 24, 24, 24, 19, 13, 11, 7, 6, 9, 11, 6, 7, 9, 11, 13, 15, 15, 15, 13, 15, 15, 17, 19, 20, 20, 22, 22, 20, 13, 11, 11, 11, 9, 7, 11, 15, 11, 13, 15, 13, 15, 13, 17, 15, 17, 17, 22, 19, 28, 22, 24, 19, 15, 11, 9, 9, 11, 9, 7, 9, 9, 11, 7, 9, 9, 9, 15, 13, 13, 15, 9, 15, 17, 24, 0, 11, 0, 20, 6, 9, 7, 6, 6, 0, 6, 7, 0, 4, 6, 6, 7, 9, 9, 13, 11, 15, 13, 11, 15, 19, 15, 4, 7, 4, 9, 6, 0, 6, 6, 4, 7, 19, 15, 9, 19, 17, 19, 22, 17, 9, 17, 4, 24, 7, 19, 19, 11, 9, 9, 13, 9, 11, 7, 9, 6, 0, 6, 11, 22, 24, 26, 24, 24, 24, 19, 26, 24, 15, 17, 17, 13, 11, 11, 7, 4, 7, 6, 7, 6, 0, 6, 11, 6, 6, 9, 7, 6, 7, 4, 13, 11, 15, 15, 11, 7, 13, 11, 15, 11, 15, 11, 11, 11, 13, 13, 9, 9, 11, 13, 9, 6, 9, 13, 4, 11, 4, 4, 7, 6, 0, 0, 0, 4, 0, 0, 0, 0, 4, 4, 0, 0, 7, 9, 9, 6, 11, 17, 17, 15, 15, 15, 13, 13, 4, 4, 9, 11, 13, 15, 15, 15, 15, 17, 19, 19, 26, 22, 24, 22, 20, 20, 20, 24, 17, 20, 20, 13, 15, 11, 9, 11, 11, 9, 9, 11, 13, 13, 17, 19, 19, 20, 15, 13, 11, 17, 11, 9, 4, 30, 20, 9, 11, 7, 11, 6, 11, 0, 4, 7, 6, 7, 13, 13, 19, 19, 17, 22, 30, 28, 24, 20, 24, 15, 15, 17, 17, 19, 17, 11, 4, 9, 11, 7, 7, 11, 13, 13, 11, 11, 13, 9, 19, 22, 19, 22, 28, 20, 17, 15, 13, 13, 11, 13, 13, 11, 9, 6, 7, 9, 7, 4, 9, 11, 7, 6, 4, 6, 4, 7, 7, 11, 11, 4, 4, 0, 0, 0, 0, 4, 4, 0, 7, 17, 24, 13, 7, 6, 4, 6, 0, 0, 11, 6, 6, 7, 4, 6, 4, 0, 0, 9, 4, 13, 11, 13, 15, 17, 15, 17, 19, 15, 20, 13, 13, 13, 22, 17, 17, 15, 13, 9, 4, 7, 9, 9, 13, 15, 15, 13, 13, 15, 15, 13, 9, 7, 11, 6, 9, 4, 11, 0, 7, 6, 6, 9, 11, 4, 4, 0, 6, 6, 4, 6, 0, 6, 6, 7, 7, 15, 15, 19, 15, 17, 17, 9, 9, 13, 11, 7, 11, 9, 6, 6, 9, 13, 13, 9, 11, 7, 9, 9, 7, 11, 13, 19, 19, 20, 19, 22, 20, 17, 22, 35, 13, 7, 4, 0, 4, 9, 9, 6, 9, 7, 11, 9, 13, 13, 17, 13, 15, 15, 13, 9, 13, 15, 13, 15, 6, 7, 6, 7, 7, 9, 11, 11, 7, 15, 13, 11, 17, 11, 17, 13, 20, 13, 19, 22, 20, 15, 15, 19, 24, 17, 24, 17, 13, 13, 15, 15, 11, 13, 17, 13, 15, 11, 13, 17, 19, 24, 17, 20, 20, 11, 7, 6, 6, 9, 4, 9, 9, 7, 6, 7, 11, 9, 17, 13, 15, 13, 17, 9, 11, 17, 17, 15, 13, 13, 20, 19, 17, 13, 17, 19, 19, 19, 22, 19, 22, 19, 22, 24, 24, 22, 24, 19, 24, 26, 13, 28, 22, 22, 26, 32, 32, 26, 30, 24, 24, 22, 22, 13, 9, 13, 17, 17, 20, 22, 28, 24, 13, 13, 22, 19, 24, 15, 9, 9, 9, 13, 11, 13, 17, 19, 13, 11, 7, 6, 15, 17, 19, 24, 22, 17, 20, 20, 24, 17, 15, 15, 13, 17, 22, 0, 9, 7, 7, 4, 4, 4, 0, 0, 6, 0, 4, 9, 4, 0, 4, 11, 7, 9, 19, 9, 7, 11, 6, 4, 6, 9, 11, 4, 9, 11, 13, 15, 13, 19, 22, 17, 13, 17, 19, 20, 17, 19, 17, 20, 13, 15, 19, 19, 20, 17, 19, 13, 13, 9, 19, 9, 7, 9, 13, 11, 15, 17, 19, 19, 20, 20, 20, 22, 24, 17, 22, 20, 19, 20, 19, 19, 22, 24, 22, 20, 17, 15, 15, 11, 13, 9, 15, 17, 19, 9, 32, 19, 11, 13, 9, 9, 9, 4, 6, 4, 0, 4, 4, 9, 7, 15, 19, 17, 13, 17, 13, 13, 15, 17, 17, 15, 15, 13, 11, 17, 19, 22, 15, 13, 9, 9, 13, 13, 19, 13, 15, 22, 20, 17, 20, 19, 13, 19, 11, 11, 7, 7, 6, 9, 9, 7, 9, 11, 11, 6, 7, 9, 13, 9, 11, 15, 15, 9, 15, 13, 15, 7, 7, 6, 0, 6, 6, 4, 4, 4, 20, 9, 9, 4, 4, 0, 0, 0, 11, 13, 9, 7, 9, 15, 15, 17, 13, 13, 7, 6, 6, 7, 0, 9, 9, 6, 6, 6, 0, 0, 9, 7, 0, 0, 7, 6, 11, 17, 13, 7, 9, 7, 4, 6, 6, 4, 9, 7, 11, 4, 0, 11, 7, 11, 15, 17, 17, 13, 11, 15, 20, 24, 30, 28, 30, 24, 17, 13, 9, 13, 13, 11, 9, 7, 7, 11, 13, 17, 20, 17, 19, 17, 19, 22, 20, 17, 20, 22, 13, 15, 11, 7, 6, 6, 0, 9, 13, 13, 11, 7, 9, 15, 13, 15, 11, 9, 15, 15, 13, 15, 17, 13, 13, 9, 11, 6, 4, 0, 0, 0, 0, 0, 0, 0, 0, 6, 7, 11, 11, 17, 13, 17, 17, 11, 15, 13, 13, 17, 9, 9, 7, 7, 6, 4, 4, 0, 0, 6, 0, 7, 6, 7, 13, 13, 11, 17, 22, 15, 19, 17, 19, 13, 7, 6, 20, 6, 4, 13, 15, 11, 13, 9, 7, 6, 15, 15, 15, 17, 24, 24, 24, 19, 20, 28, 15, 11, 9, 13, 15, 17, 19, 11, 13, 13, 13, 15, 15, 24, 19, 22, 24, 22, 24, 28, 26, 13, 19, 22, 17, 11, 9, 7, 7, 6, 6, 4, 13, 9, 13, 13, 6, 11, 11, 7, 9, 13, 0, 6, 4, 11, 9, 11, 6, 6, 11, 13, 7, 11, 13, 9, 11, 6, 6, 11, 4, 6, 6, 4, 6, 7, 7, 7, 11, 7, 9, 13, 11, 13, 9, 13, 11, 9, 9, 11, 6, 7, 15, 7, 6, 0, 9, 15, 11, 15, 20, 17, 13, 17, 13, 11, 4, 11, 15, 11, 9, 15, 15, 15, 11, 11, 11, 13, 15, 13, 13, 17, 19, 22, 17, 20, 20, 17, 15, 13, 13, 7, 7, 13, 11, 15, 22, 26, 15, 15, 13, 11, 13, 15, 15, 15, 24, 15, 13, 22, 30, 30, 28, 24, 22, 20, 17, 15, 7, 9, 7, 7, 9, 11, 9, 7, 7, 9, 19, 20, 22, 20, 22, 26, 32, 20, 32, 24, 26, 19, 15, 9, 15, 22, 20, 19, 11, 11, 17, 15, 20, 26, 20, 24, 32, 26, 33, 32, 37, 26, 35, 33, 41, 35, 43, 39, 44, 41, 37, 33, 35, 35, 28, 28, 28, 30, 32, 37, 35, 20, 26, 20, 22, 22, 30, 20, 17, 13, 9, 11, 11, 20, 11, 11, 4, 9, 11, 11, 13, 13, 24, 20, 15, 20, 15, 13, 6, 7, 7, 4, 7, 9, 6, 11, 7, 6, 7, 4, 4, 4, 0, 0, 6, 7, 4, 7, 4, 6, 4, 4, 9, 9, 7, 11, 9, 11, 13, 9, 7, 4, 4, 7, 0, 6, 4, 6, 6, 6, 7, 11, 9, 9, 9, 13, 4, 0, 13, 4, 13, 13, 9, 9, 15, 13, 11, 9, 9, 13, 7, 6, 9, 15, 17, 15, 11, 9, 15, 6, 9, 15, 19, 15, 15, 9, 7, 9, 9, 15, 9, 13, 13, 17, 15, 11, 7, 7, 11, 13, 15, 11, 7, 11, 11, 13, 11, 9, 13, 9, 6, 7, 9, 7, 6, 7, 7, 7, 6, 7, 6, 9, 7, 7, 6, 6, 13, 15, 11, 13, 13, 19, 17, 9, 6, 11, 7, 9, 0, 4, 4, 9, 6, 6, 7, 11, 15, 9, 19, 19, 19, 17, 17, 9, 13, 6, 0, 0, 6, 4, 6, 9, 17, 13, 6, 7, 9, 17, 11, 17, 20, 9, 13, 28, 35, 39, 24, 33, 30, 39, 33, 39, 37, 43, 44, 30, 28, 30, 28, 24, 17, 20, 11, 6, 7, 17, 17, 17, 19, 22, 11, 19, 17, 22, 15, 11, 11, 9, 9, 9, 15, 9, 9, 11, 11, 13, 17, 17, 15, 19, 15, 15, 19, 20, 13, 20, 24, 20, 20, 17, 9, 7, 6, 7, 7, 9, 9, 9, 7, 4, 0, 6, 9, 9, 13, 17, 19, 19, 20, 20, 19, 20, 20, 17, 9, 15, 15, 17, 15, 17, 11, 6, 4, 0, 6, 0, 9, 7, 7, 11, 20, 19, 13, 17, 17, 19, 17, 11, 11, 11, 11, 13, 11, 9, 7, 11, 9, 11, 4, 6, 6, 9, 13, 17, 15, 17, 19, 24, 22, 19, 20, 9, 11, 11, 13, 15, 13, 9, 0, 4, 6, 9, 4, 6, 9, 9, 9, 13, 13, 9, 9, 9, 9, 4, 7, 6, 17, 22, 13, 0, 13, 20, 22, 24, 30, 30, 28, 22, 20, 19, 19, 22, 22, 17, 20, 22, 13, 17, 22, 7, 13, 11, 13, 7, 9, 7, 9, 6, 7, 9, 9, 9, 9, 9, 19, 20, 20, 19, 24, 24, 19, 15, 20, 11, 6, 6, 6, 6, 6, 4, 4, 6, 7, 7, 7, 4, 7, 9, 13, 17, 15, 17, 17, 15, 15, 13, 13, 15, 15, 13, 0, 6, 7, 6, 0, 9, 19, 17, 24, 22, 20, 26, 19, 19, 20, 20, 35, 32, 32, 33, 35, 28, 22, 24, 20, 30, 33, 37, 28, 35, 35, 28, 30, 26, 33, 26, 32, 32, 24, 22, 24, 24, 15, 19, 11, 11, 4, 4, 0, 0, 4, 7, 6, 7, 4, 9, 6, 6, 9, 7, 15, 20, 19, 15, 22, 15, 20, 24, 26, 19, 24, 20, 20, 15, 19, 19, 20, 19, 15, 19, 19, 19, 17, 15, 15, 13, 15, 17, 15, 17, 13, 6, 4, 19, 7, 4, 0, 13, 13, 7, 7, 11, 24, 20, 24, 26, 33, 32, 39, 33, 32, 22, 15, 22, 9, 15, 13, 13, 9, 20, 26, 22, 22, 26, 17, 26, 24, 24, 20, 19, 20, 28, 24, 33, 28, 26, 30, 28, 24, 15, 20, 9, 4, 9, 7, 7, 7, 0, 6, 0, 0, 4, 0, 9, 6, 13, 13, 22, 28, 20, 28, 32, 24, 26, 28, 22, 33, 15, 17, 17, 20, 17, 19, 20, 20, 24, 17, 19, 28, 24, 32, 35, 28, 30, 33, 32, 28, 19, 9, 13, 11, 7, 13, 7, 17, 15, 17, 17, 17, 17, 17, 17, 19, 19, 20, 19, 20, 15, 20, 24, 11, 7, 19, 17, 7, 15, 6, 7, 7, 7, 9, 9, 9, 11, 7, 0, 0, 11, 9, 4, 6, 4, 11, 4, 9, 11, 7, 7, 0, 4, 7, 4, 4, 6, 7, 6, 9, 9, 7, 9, 11, 9, 13, 13, 13, 7, 9, 17, 19, 17, 17, 15, 15, 4, 7, 9, 11, 7, 9, 11, 11, 15, 19, 11, 17, 19, 22, 20, 24, 22, 19, 19, 20, 26, 22, 20, 19, 24, 22, 20, 17, 13, 15, 20, 17, 17, 15, 13, 15, 19, 20, 17, 19, 17, 13, 19, 20, 13, 11, 4, 9, 9, 11, 13, 15, 15, 17, 15, 17, 15, 15, 15, 17, 17, 19, 20, 26, 17, 19, 24, 26, 19, 17, 6, 9, 9, 6, 6, 22, 9, 9, 7, 7, 6, 6, 0, 4, 9, 6, 9, 7, 13, 9, 11, 9, 6, 9, 9, 11, 9, 6, 4, 4, 4, 4, 7, 7, 7, 11, 11, 13, 15, 19, 19, 19, 19, 13, 13, 13, 11, 11, 11, 7, 9, 11, 7, 7, 11, 11, 11, 13, 15, 9, 9, 13, 7, 11, 9, 6, 0, 0, 4, 4, 4, 4, 0, 6, 4, 6, 13, 13, 11, 15, 17, 17, 13, 17, 4, 6, 9, 13, 11, 22, 19, 20, 19, 26, 28, 26, 24, 32, 24, 22, 19, 17, 13, 17, 11, 11, 13, 15, 6, 11, 7, 7, 13, 13, 17, 20, 17, 28, 28, 9, 19, 26, 17, 19, 26, 22, 28, 17, 15, 11, 13, 7, 11, 13, 9, 9, 22, 15, 22, 20, 17, 11, 11, 13, 9, 6, 6, 7, 0, 15, 9, 7, 6, 0, 6, 0, 9, 6, 7, 4, 7, 9, 13, 13, 19, 9, 13, 9, 7, 15, 7, 9, 4, 7, 6, 4, 6, 4, 7, 4, 7, 9, 15, 15, 17, 6, 7, 7, 11, 13, 13, 22, 20, 19, 19, 19, 17, 19, 15, 11, 15, 13, 30, 20, 37, 39, 32, 32, 33, 13, 20, 19, 19, 15, 26, 33, 19, 17, 15, 19, 11, 9, 17, 20, 32, 24, 26, 28, 22, 26, 20, 24, 32, 24, 30, 30, 26, 30, 28, 19, 30, 37, 32, 22, 22, 19, 22, 24, 30, 33, 26, 24, 24, 17, 17, 19, 20, 22, 30, 26, 22, 20, 19, 22, 15, 13, 9, 7, 9, 9, 9, 7, 4, 4, 4, 0, 0, 6, 11, 17, 19, 28, 22, 20, 19, 19, 17, 13, 7, 15, 15, 9, 24, 19, 7, 20, 17, 17, 17, 9, 11, 6, 7, 7, 6, 11, 13, 13, 19, 15, 15, 19, 11, 15, 15, 11, 7, 15, 13, 9, 11, 9, 4, 11, 19, 19, 20, 24, 20, 17, 22, 28, 30, 28, 30, 33, 32, 30, 30, 26, 32, 28, 28, 24, 30, 19, 22, 19, 28, 15, 22, 19, 26, 22, 28, 24, 30, 32, 28, 20, 15, 9, 7, 11, 7, 7, 11, 9, 7, 6, 7, 0, 0, 0, 0, 6, 6, 6, 7, 6, 0, 4, 4, 11, 7, 7, 9, 11, 7, 11, 6, 4, 4, 9, 11, 11, 11, 9, 6, 15, 15, 15, 17, 22, 28, 26, 28, 15, 17, 15, 17, 17, 19, 15, 17, 17, 15, 19, 13, 17, 15, 17, 13, 24, 24, 9, 11, 17, 15, 13, 7, 17, 22, 7, 19, 17, 7, 11, 13, 15, 19, 13, 7, 4, 4, 4, 4, 4, 15, 19, 20, 11, 22, 22, 15, 11, 19, 20, 17, 13, 11, 19, 13, 19, 19, 26, 22, 24, 30, 28, 35, 26, 32, 33, 32, 32, 28, 32, 30, 28, 22, 22, 20, 22, 15, 17, 32, 26, 24, 17, 19, 24, 15, 15, 22, 24, 26, 30, 24, 24, 22, 28, 15, 20, 19, 13, 13, 9, 7, 0, 6, 4, 9, 7, 4, 6, 6, 0, 11, 9, 4, 0, 0, 4, 6, 11, 11, 9, 0, 0, 0, 0, 7, 13, 13, 13, 7, 7, 9, 9, 7, 11, 11, 15, 17, 11, 11, 6, 6, 11, 11, 17, 13, 7, 11, 6, 9, 15, 17, 15, 15, 13, 15, 17, 17, 19, 22, 17, 9, 11, 13, 11, 17, 19, 15, 19, 15, 15, 15, 13, 13, 9, 9, 7, 11, 7, 7, 9, 11, 11, 6, 7, 6, 4, 9, 11, 9, 13, 19, 9, 11, 7, 15, 9, 4, 9, 4, 4, 6, 4, 0, 9, 9, 6, 11, 17, 15, 11, 17, 15, 15, 17, 15, 9, 9, 11, 11, 11, 13, 11, 15, 15, 11, 9, 13, 7, 7, 7, 7, 11, 9, 11, 20, 15, 20, 20, 22, 26, 24, 28, 24, 24, 32, 26, 22, 26, 26, 24, 30, 20, 33, 26, 24, 26, 28, 32, 26, 33, 44, 33, 48, 48, 44, 50, 52, 48, 50, 54, 41, 52, 37, 41, 35, 37, 37, 30, 26, 22, 28, 22, 17, 28, 28, 33, 20, 17, 17, 28, 26, 26, 17, 11, 9, 9, 11, 11, 13, 17, 11, 11, 17, 15, 19, 11, 24, 20, 11, 4, 4, 15, 13, 7, 7, 0, 0, 4, 7, 6, 4, 6, 0, 4, 4, 7, 9, 9, 9, 11, 13, 15, 17, 11, 17, 17, 28, 22, 24, 22, 20, 19, 19, 20, 22, 24, 20, 19, 20, 19, 17, 22, 20, 22, 15, 20, 20, 19, 22, 19, 15, 19, 17, 17, 13, 13, 17, 13, 17, 17, 20, 19, 17, 20, 20, 22, 22, 24, 22, 22, 20, 24, 20, 20, 13, 15, 17, 15, 17, 17, 15, 11, 15, 17, 19, 15, 17, 15, 17, 17, 19, 13, 13, 11, 15, 17, 13, 13, 11, 9, 13, 13, 9, 11, 9, 11, 17, 17, 13, 11, 11, 15, 15, 17, 17, 17, 15, 17, 15, 20, 19, 17, 20, 13, 7, 7, 11, 9, 15, 13, 9, 4, 0, 0, 6, 6, 6, 7, 7, 9, 17, 15, 9, 15, 13, 6, 4, 0, 0, 4, 4, 6, 7, 9, 7, 9, 11, 13, 13, 15, 17, 22, 20, 26, 26, 32, 24, 24, 26, 20, 19, 20, 26, 22, 22, 22, 26, 30, 33, 20, 26, 22, 19, 26, 20, 19, 30, 30, 24, 26, 26, 20, 19, 13, 7, 9, 19, 13, 11, 7, 7, 7, 7, 7, 7, 7, 7, 7, 7, 17, 19, 20, 22, 20, 20, 24, 26, 22, 15, 15, 11, 9, 11, 15, 13, 9, 9, 11, 11, 6, 9, 13, 13, 15, 7, 6, 6, 6, 4, 11, 9, 7, 7, 7, 15, 9, 11, 11, 7, 13, 11, 17, 20, 20, 17, 22, 20, 20, 17, 22, 24, 17, 20, 19, 20, 17, 13, 17, 15, 15, 13, 15, 19, 17, 15, 15, 11, 11, 13, 11, 9, 7, 6, 6, 13, 22, 22, 20, 22, 33, 35, 32, 33, 30, 26, 24, 48, 37, 35, 41, 28, 30, 30, 30, 33, 32, 37, 30, 28, 33, 30, 28, 24, 13, 11, 11, 9, 7, 7, 7, 4, 6, 6, 6, 4, 4, 4, 4, 4, 6, 2, 4, 7, 4, 6, 6, 6, 7, 7, 9, 11, 7, 13, 11, 13, 9, 13, 9, 9, 13, 15, 13, 11, 19, 15, 11, 15, 13, 11, 13, 11, 9, 7, 7, 4, 6, 4, 6, 4, 4, 0, 0, 0, 4, 4, 4, 0, 9, 13, 15, 17, 15, 13, 9, 13, 13, 15, 13, 9, 9, 11, 13, 9, 9, 11, 11, 17, 13, 13, 13, 15, 15, 7, 4, 4, 4, 6, 6, 4, 4, 4, 4, 7, 7, 7, 9, 0, 0, 0, 7, 7, 7, 9, 9, 7, 9, 7, 7, 4, 6, 7, 9, 9, 9, 9, 4, 6, 11, 11, 11, 7, 6, 13, 9, 6, 9, 7, 9, 11, 7, 7, 6, 4, 6, 6, 4, 6, 4, 4, 4, 6, 4, 6, 6, 7, 7, 6, 6, 6, 6, 6, 7, 9, 6, 9, 6, 2, 4, 6, 11, 6, 7, 6, 7, 9, 9, 7, 9, 6, 6, 7, 9, 9, 11, 4, 11, 7, 7, 4, 4, 6, 7, 4, 4, 7, 7, 6, 4, 6, 6, 4, 4, 4, 6, 4, 4, 4, 6, 9, 4, 4, 6, 0, 6, 13, 13, 9, 15, 15, 15, 15, 6, 7, 17, 13, 11, 15, 17, 11, 6, 11, 11, 13, 13, 17, 20, 17, 24, 22, 24, 24, 17, 30, 22, 19, 20, 39, 39, 26, 26, 19, 32, 30, 28, 37, 35, 28, 32, 30, 33, 30, 33, 30, 37, 39, 35, 28, 37, 28, 22, 32, 28, 24, 32, 30, 26, 33, 26, 30, 32, 28, 26, 24, 33, 32, 35, 33, 32, 30, 28, 24, 24, 20, 22, 17, 15, 13, 15, 9, 7, 7, 7, 9, 13, 11, 11, 19, 17, 19, 22, 24, 24, 24, 26, 24, 20, 20, 15, 13, 7, 0, 4, 4, 4, 4, 7, 7, 7, 6, 9, 9, 9, 9, 6, 4, 7, 6, 7, 7, 6, 4, 6, 6, 7, 7, 7, 7, 6, 4, 11, 4, 7, 11, 9, 4, 6, 4, 6, 9, 20, 19, 15, 20, 22, 24, 22, 20, 24, 30, 20, 28, 22, 17, 17, 9, 6, 13, 11, 13, 19, 20, 15, 15, 17, 22, 22, 15, 24, 28, 22, 20, 19, 17, 20, 19, 9, 6, 4, 4, 6, 9, 9, 13, 7, 11, 9, 0, 6, 6, 11, 11, 15, 13, 15, 15, 19, 19, 17, 9, 13, 20, 15, 17, 20, 26, 24, 19, 24, 24, 20, 24, 22, 22, 17, 20, 20, 19, 17, 17, 17, 13, 19, 15, 15, 15, 13, 13, 11, 9, 6, 28, 32, 28, 28, 28, 19, 19, 22, 20, 17, 15, 15, 13, 11, 15, 19, 15, 22, 28, 26, 13, 13, 11, 9, 11, 11, 13, 11, 9, 9, 13, 9, 4, 4, 4, 6, 0, 6, 11, 13, 13, 7, 6, 19, 20, 13, 15, 13, 9, 11, 19, 17, 19, 17, 24, 24, 24, 30, 32, 7, 15, 9, 6, 19, 19, 30, 24, 24, 15, 17, 24, 30, 26, 26, 28, 30, 26, 30, 35, 26, 30, 30, 22, 28, 19, 24, 26, 20, 20, 17, 17, 15, 11, 9, 13, 11, 7, 9, 13, 13, 6, 7, 13, 11, 7, 7, 13, 9, 7, 11, 17, 7, 13, 7, 9, 9, 11, 11, 7, 11, 7, 7, 9, 4, 4, 6, 11, 11, 9, 11, 7, 6, 4, 6, 4, 4, 4, 6, 7, 6, 0, 9, 9, 6, 7, 11, 11, 17, 15, 17, 15, 17, 17, 9, 9, 9, 9, 9, 13, 17, 20, 17, 17, 17, 13, 15, 11, 20, 11, 20, 20, 17, 17, 9, 7, 6, 4, 15, 19, 22, 28, 20, 28, 32, 20, 32, 33, 33, 28, 33, 22, 19, 17, 19, 17, 15, 15, 19, 15, 9, 6, 4, 15, 22, 24, 24, 20, 20, 17, 28, 22, 24, 20, 17, 15, 15, 17, 19, 9, 7, 11, 17, 17, 13, 15, 11, 13, 13, 15, 9, 6, 9, 7, 7, 4, 4, 6, 4, 4, 4, 11, 4, 9, 7, 7, 6, 7, 6, 4, 7, 7, 11, 7, 6, 4, 4, 6, 11, 6, 11, 6, 4, 4, 4, 4, 4, 4, 9, 9, 9, 11, 7, 9, 19, 19, 15, 11, 15, 15, 17, 15, 17, 15, 15, 20, 11, 15, 20, 13, 26, 22, 22, 17, 22, 19, 15, 17, 13, 17, 19, 15, 22, 20, 22, 20, 17, 19, 17, 15, 20, 17, 19, 13, 19, 13, 19, 19, 19, 13, 15, 20, 15, 17, 20, 20, 24, 19, 26, 24, 24, 28, 28, 24, 22, 35, 32, 32, 33, 32, 35, 32, 26, 32, 32, 35, 30, 30, 22, 28, 24, 22, 24, 24, 26, 24, 28, 24, 24, 19, 13, 20, 20, 20, 19, 22, 17, 19, 19, 15, 17, 19, 15, 19, 20, 13, 20, 19, 24, 24, 24, 24, 24, 24, 24, 24, 22, 24, 22, 32, 26, 24, 22, 26, 22, 22, 15, 15, 13, 15, 11, 9, 7, 7, 9, 11, 11, 9, 11, 11, 13, 15, 11, 17, 11, 13, 9, 7, 6, 9, 11, 11, 13, 9, 13, 20, 17, 19, 17, 15, 13, 15, 20, 15, 13, 7, 4, 6, 15, 15, 13, 13, 19, 19, 17, 20, 22, 20, 28, 26, 17, 20, 28, 22, 26, 22, 32, 32, 33, 32, 30, 41, 41, 41, 33, 43, 46, 46, 37, 15, 22, 28, 30, 32, 30, 30, 28, 35, 35, 41, 35, 41, 35, 37, 35, 33, 37, 32, 35, 41, 32, 33, 32, 32, 28, 35, 39, 32, 32, 30, 30, 28, 30, 26, 20, 20, 22, 24, 26, 24, 20, 11, 13, 13, 9, 11, 9, 9, 9, 9, 9, 15, 17, 17, 20, 24, 19, 15, 15, 13, 13, 11, 11, 9, 15, 15, 13, 11, 6, 9, 7, 6, 7, 4, 4, 11, 6, 13, 19, 15, 17, 13, 11, 11, 13, 15, 9, 9, 7, 6, 17, 11, 13, 13, 19, 13, 4, 4, 11, 4, 6, 4, 6, 6, 4, 4, 7, 4, 15, 15, 20, 20, 15, 19, 19, 19, 22, 24, 39, 28, 22, 37, 24, 30, 26, 30, 37, 33, 43, 39, 44, 39, 37, 41, 39, 39, 48, 46, 37, 37, 32, 28, 26, 37, 24, 20, 24, 19, 15, 11, 13, 9, 7, 9, 9, 17, 17, 19, 24, 24, 20, 22, 24, 30, 26, 24, 22, 20, 19, 17, 13, 13, 11, 13, 4, 6, 4, 4, 7, 11, 11, 7, 7, 11, 22, 22, 20, 24, 19, 26, 26, 24, 24, 15, 20, 13, 9, 9, 11, 13, 11, 17, 19, 20, 19, 24, 32, 26, 37, 37, 32, 26, 28, 24, 26, 24, 20, 19, 28, 26, 15, 9, 6, 11, 6, 4, 0, 4, 4, 4, 9, 4, 4, 6, 9, 13, 19, 17, 30, 24, 28, 28, 30], \"y0\": \" \", \"yaxis\": \"y\"}],\n",
              "                        {\"boxmode\": \"group\", \"legend\": {\"tracegroupgap\": 0}, \"margin\": {\"t\": 60}, \"template\": {\"data\": {\"bar\": [{\"error_x\": {\"color\": \"#2a3f5f\"}, \"error_y\": {\"color\": \"#2a3f5f\"}, \"marker\": {\"line\": {\"color\": \"#E5ECF6\", \"width\": 0.5}}, \"type\": \"bar\"}], \"barpolar\": [{\"marker\": {\"line\": {\"color\": \"#E5ECF6\", \"width\": 0.5}}, \"type\": \"barpolar\"}], \"carpet\": [{\"aaxis\": {\"endlinecolor\": \"#2a3f5f\", \"gridcolor\": \"white\", \"linecolor\": \"white\", \"minorgridcolor\": \"white\", \"startlinecolor\": \"#2a3f5f\"}, \"baxis\": {\"endlinecolor\": \"#2a3f5f\", \"gridcolor\": \"white\", \"linecolor\": \"white\", \"minorgridcolor\": \"white\", \"startlinecolor\": \"#2a3f5f\"}, \"type\": \"carpet\"}], \"choropleth\": [{\"colorbar\": {\"outlinewidth\": 0, \"ticks\": \"\"}, \"type\": \"choropleth\"}], \"contour\": [{\"colorbar\": {\"outlinewidth\": 0, \"ticks\": \"\"}, \"colorscale\": [[0.0, \"#0d0887\"], [0.1111111111111111, \"#46039f\"], [0.2222222222222222, \"#7201a8\"], [0.3333333333333333, \"#9c179e\"], [0.4444444444444444, \"#bd3786\"], [0.5555555555555556, \"#d8576b\"], [0.6666666666666666, \"#ed7953\"], [0.7777777777777778, \"#fb9f3a\"], [0.8888888888888888, \"#fdca26\"], [1.0, \"#f0f921\"]], \"type\": \"contour\"}], \"contourcarpet\": [{\"colorbar\": {\"outlinewidth\": 0, \"ticks\": \"\"}, \"type\": \"contourcarpet\"}], \"heatmap\": [{\"colorbar\": {\"outlinewidth\": 0, \"ticks\": \"\"}, \"colorscale\": [[0.0, \"#0d0887\"], [0.1111111111111111, \"#46039f\"], [0.2222222222222222, \"#7201a8\"], [0.3333333333333333, \"#9c179e\"], [0.4444444444444444, \"#bd3786\"], [0.5555555555555556, \"#d8576b\"], [0.6666666666666666, \"#ed7953\"], [0.7777777777777778, \"#fb9f3a\"], [0.8888888888888888, \"#fdca26\"], [1.0, \"#f0f921\"]], \"type\": \"heatmap\"}], \"heatmapgl\": [{\"colorbar\": {\"outlinewidth\": 0, \"ticks\": \"\"}, \"colorscale\": [[0.0, \"#0d0887\"], [0.1111111111111111, \"#46039f\"], [0.2222222222222222, \"#7201a8\"], [0.3333333333333333, \"#9c179e\"], [0.4444444444444444, \"#bd3786\"], [0.5555555555555556, \"#d8576b\"], [0.6666666666666666, \"#ed7953\"], [0.7777777777777778, \"#fb9f3a\"], [0.8888888888888888, \"#fdca26\"], [1.0, \"#f0f921\"]], \"type\": \"heatmapgl\"}], \"histogram\": [{\"marker\": {\"colorbar\": {\"outlinewidth\": 0, \"ticks\": \"\"}}, \"type\": \"histogram\"}], \"histogram2d\": [{\"colorbar\": {\"outlinewidth\": 0, \"ticks\": \"\"}, \"colorscale\": [[0.0, \"#0d0887\"], [0.1111111111111111, \"#46039f\"], [0.2222222222222222, \"#7201a8\"], [0.3333333333333333, \"#9c179e\"], [0.4444444444444444, \"#bd3786\"], [0.5555555555555556, \"#d8576b\"], [0.6666666666666666, \"#ed7953\"], [0.7777777777777778, \"#fb9f3a\"], [0.8888888888888888, \"#fdca26\"], [1.0, \"#f0f921\"]], \"type\": \"histogram2d\"}], \"histogram2dcontour\": [{\"colorbar\": {\"outlinewidth\": 0, \"ticks\": \"\"}, \"colorscale\": [[0.0, \"#0d0887\"], [0.1111111111111111, \"#46039f\"], [0.2222222222222222, \"#7201a8\"], [0.3333333333333333, \"#9c179e\"], [0.4444444444444444, \"#bd3786\"], [0.5555555555555556, \"#d8576b\"], [0.6666666666666666, \"#ed7953\"], [0.7777777777777778, \"#fb9f3a\"], [0.8888888888888888, \"#fdca26\"], [1.0, \"#f0f921\"]], \"type\": \"histogram2dcontour\"}], \"mesh3d\": [{\"colorbar\": {\"outlinewidth\": 0, \"ticks\": \"\"}, \"type\": \"mesh3d\"}], \"parcoords\": [{\"line\": {\"colorbar\": {\"outlinewidth\": 0, \"ticks\": \"\"}}, \"type\": \"parcoords\"}], \"pie\": [{\"automargin\": true, \"type\": \"pie\"}], \"scatter\": [{\"marker\": {\"colorbar\": {\"outlinewidth\": 0, \"ticks\": \"\"}}, \"type\": \"scatter\"}], \"scatter3d\": [{\"line\": {\"colorbar\": {\"outlinewidth\": 0, \"ticks\": \"\"}}, \"marker\": {\"colorbar\": {\"outlinewidth\": 0, \"ticks\": \"\"}}, \"type\": \"scatter3d\"}], \"scattercarpet\": [{\"marker\": {\"colorbar\": {\"outlinewidth\": 0, \"ticks\": \"\"}}, \"type\": \"scattercarpet\"}], \"scattergeo\": [{\"marker\": {\"colorbar\": {\"outlinewidth\": 0, \"ticks\": \"\"}}, \"type\": \"scattergeo\"}], \"scattergl\": [{\"marker\": {\"colorbar\": {\"outlinewidth\": 0, \"ticks\": \"\"}}, \"type\": \"scattergl\"}], \"scattermapbox\": [{\"marker\": {\"colorbar\": {\"outlinewidth\": 0, \"ticks\": \"\"}}, \"type\": \"scattermapbox\"}], \"scatterpolar\": [{\"marker\": {\"colorbar\": {\"outlinewidth\": 0, \"ticks\": \"\"}}, \"type\": \"scatterpolar\"}], \"scatterpolargl\": [{\"marker\": {\"colorbar\": {\"outlinewidth\": 0, \"ticks\": \"\"}}, \"type\": \"scatterpolargl\"}], \"scatterternary\": [{\"marker\": {\"colorbar\": {\"outlinewidth\": 0, \"ticks\": \"\"}}, \"type\": \"scatterternary\"}], \"surface\": [{\"colorbar\": {\"outlinewidth\": 0, \"ticks\": \"\"}, \"colorscale\": [[0.0, \"#0d0887\"], [0.1111111111111111, \"#46039f\"], [0.2222222222222222, \"#7201a8\"], [0.3333333333333333, \"#9c179e\"], [0.4444444444444444, \"#bd3786\"], [0.5555555555555556, \"#d8576b\"], [0.6666666666666666, \"#ed7953\"], [0.7777777777777778, \"#fb9f3a\"], [0.8888888888888888, \"#fdca26\"], [1.0, \"#f0f921\"]], \"type\": \"surface\"}], \"table\": [{\"cells\": {\"fill\": {\"color\": \"#EBF0F8\"}, \"line\": {\"color\": \"white\"}}, \"header\": {\"fill\": {\"color\": \"#C8D4E3\"}, \"line\": {\"color\": \"white\"}}, \"type\": \"table\"}]}, \"layout\": {\"annotationdefaults\": {\"arrowcolor\": \"#2a3f5f\", \"arrowhead\": 0, \"arrowwidth\": 1}, \"coloraxis\": {\"colorbar\": {\"outlinewidth\": 0, \"ticks\": \"\"}}, \"colorscale\": {\"diverging\": [[0, \"#8e0152\"], [0.1, \"#c51b7d\"], [0.2, \"#de77ae\"], [0.3, \"#f1b6da\"], [0.4, \"#fde0ef\"], [0.5, \"#f7f7f7\"], [0.6, \"#e6f5d0\"], [0.7, \"#b8e186\"], [0.8, \"#7fbc41\"], [0.9, \"#4d9221\"], [1, \"#276419\"]], \"sequential\": [[0.0, \"#0d0887\"], [0.1111111111111111, \"#46039f\"], [0.2222222222222222, \"#7201a8\"], [0.3333333333333333, \"#9c179e\"], [0.4444444444444444, \"#bd3786\"], [0.5555555555555556, \"#d8576b\"], [0.6666666666666666, \"#ed7953\"], [0.7777777777777778, \"#fb9f3a\"], [0.8888888888888888, \"#fdca26\"], [1.0, \"#f0f921\"]], \"sequentialminus\": [[0.0, \"#0d0887\"], [0.1111111111111111, \"#46039f\"], [0.2222222222222222, \"#7201a8\"], [0.3333333333333333, \"#9c179e\"], [0.4444444444444444, \"#bd3786\"], [0.5555555555555556, \"#d8576b\"], [0.6666666666666666, \"#ed7953\"], [0.7777777777777778, \"#fb9f3a\"], [0.8888888888888888, \"#fdca26\"], [1.0, \"#f0f921\"]]}, \"colorway\": [\"#636efa\", \"#EF553B\", \"#00cc96\", \"#ab63fa\", \"#FFA15A\", \"#19d3f3\", \"#FF6692\", \"#B6E880\", \"#FF97FF\", \"#FECB52\"], \"font\": {\"color\": \"#2a3f5f\"}, \"geo\": {\"bgcolor\": \"white\", \"lakecolor\": \"white\", \"landcolor\": \"#E5ECF6\", \"showlakes\": true, \"showland\": true, \"subunitcolor\": \"white\"}, \"hoverlabel\": {\"align\": \"left\"}, \"hovermode\": \"closest\", \"mapbox\": {\"style\": \"light\"}, \"paper_bgcolor\": \"white\", \"plot_bgcolor\": \"#E5ECF6\", \"polar\": {\"angularaxis\": {\"gridcolor\": \"white\", \"linecolor\": \"white\", \"ticks\": \"\"}, \"bgcolor\": \"#E5ECF6\", \"radialaxis\": {\"gridcolor\": \"white\", \"linecolor\": \"white\", \"ticks\": \"\"}}, \"scene\": {\"xaxis\": {\"backgroundcolor\": \"#E5ECF6\", \"gridcolor\": \"white\", \"gridwidth\": 2, \"linecolor\": \"white\", \"showbackground\": true, \"ticks\": \"\", \"zerolinecolor\": \"white\"}, \"yaxis\": {\"backgroundcolor\": \"#E5ECF6\", \"gridcolor\": \"white\", \"gridwidth\": 2, \"linecolor\": \"white\", \"showbackground\": true, \"ticks\": \"\", \"zerolinecolor\": \"white\"}, \"zaxis\": {\"backgroundcolor\": \"#E5ECF6\", \"gridcolor\": \"white\", \"gridwidth\": 2, \"linecolor\": \"white\", \"showbackground\": true, \"ticks\": \"\", \"zerolinecolor\": \"white\"}}, \"shapedefaults\": {\"line\": {\"color\": \"#2a3f5f\"}}, \"ternary\": {\"aaxis\": {\"gridcolor\": \"white\", \"linecolor\": \"white\", \"ticks\": \"\"}, \"baxis\": {\"gridcolor\": \"white\", \"linecolor\": \"white\", \"ticks\": \"\"}, \"bgcolor\": \"#E5ECF6\", \"caxis\": {\"gridcolor\": \"white\", \"linecolor\": \"white\", \"ticks\": \"\"}}, \"title\": {\"x\": 0.05}, \"xaxis\": {\"automargin\": true, \"gridcolor\": \"white\", \"linecolor\": \"white\", \"ticks\": \"\", \"title\": {\"standoff\": 15}, \"zerolinecolor\": \"white\", \"zerolinewidth\": 2}, \"yaxis\": {\"automargin\": true, \"gridcolor\": \"white\", \"linecolor\": \"white\", \"ticks\": \"\", \"title\": {\"standoff\": 15}, \"zerolinecolor\": \"white\", \"zerolinewidth\": 2}}}, \"xaxis\": {\"anchor\": \"y\", \"domain\": [0.0, 1.0]}, \"yaxis\": {\"anchor\": \"x\", \"domain\": [0.0, 1.0], \"title\": {\"text\": \"Wind Spd (km/h)\"}}},\n",
              "                        {\"responsive\": true}\n",
              "                    ).then(function(){\n",
              "                            \n",
              "var gd = document.getElementById('3435a6f5-f417-4a26-b5b9-080be5fafd8a');\n",
              "var x = new MutationObserver(function (mutations, observer) {{\n",
              "        var display = window.getComputedStyle(gd).display;\n",
              "        if (!display || display === 'none') {{\n",
              "            console.log([gd, 'removed!']);\n",
              "            Plotly.purge(gd);\n",
              "            observer.disconnect();\n",
              "        }}\n",
              "}});\n",
              "\n",
              "// Listen for the removal of the full notebook cells\n",
              "var notebookContainer = gd.closest('#notebook-container');\n",
              "if (notebookContainer) {{\n",
              "    x.observe(notebookContainer, {childList: true});\n",
              "}}\n",
              "\n",
              "// Listen for the clearing of the current output cell\n",
              "var outputEl = gd.closest('.output');\n",
              "if (outputEl) {{\n",
              "    x.observe(outputEl, {childList: true});\n",
              "}}\n",
              "\n",
              "                        })\n",
              "                };\n",
              "                \n",
              "            </script>\n",
              "        </div>\n",
              "</body>\n",
              "</html>"
            ]
          },
          "metadata": {
            "tags": []
          }
        }
      ]
    },
    {
      "cell_type": "code",
      "metadata": {
        "id": "Z5ojo09v_v83"
      },
      "source": [],
      "execution_count": null,
      "outputs": []
    },
    {
      "cell_type": "code",
      "metadata": {
        "id": "DNPaNEct_wMB"
      },
      "source": [],
      "execution_count": null,
      "outputs": []
    },
    {
      "cell_type": "markdown",
      "metadata": {
        "id": "7AmIXpH2f9sd"
      },
      "source": [
        "<img src=\"https://github.com/commit-live-students/GLabs_DSMP_Solutions/blob/master/01_Python_Data_Science_Toolkit/06_Data_Visualization_with_Matplotlib/Exercise/images/icon/ppt-icons.png?raw=1\" alt=\"Concept-Alert\" style=\"width: 100px;float:left; margin-right:15px\"/>\n",
        "<br /> \n",
        "\n",
        "##  Mini-Challenge - 6\n",
        "***\n",
        "### Instructions\n",
        "* Are the temperature and pressure correlated, according to the data in the month of January? Look at it by generating a scatter plot\n",
        "* The data for the month of january is defined for you in the variable `jan_df`\n",
        "* Plot the graph using `plt.scatter()` by passing parameter `x=jan_df['Temp (C)']`,`y=jan_df['Stn Press (kPa)']`\n",
        "* Remember to label x axis as `Temp (C)` , y axis as `Pressure` and title as `Corelation between Temperature and Pressure for January`"
      ]
    },
    {
      "cell_type": "code",
      "metadata": {
        "colab": {
          "base_uri": "https://localhost:8080/",
          "height": 431
        },
        "id": "TI19BOMtDdSH",
        "outputId": "0799b373-94aa-490e-ddfd-67a9d510a4cb"
      },
      "source": [
        "weather_df"
      ],
      "execution_count": null,
      "outputs": [
        {
          "output_type": "execute_result",
          "data": {
            "text/html": [
              "<div>\n",
              "<style scoped>\n",
              "    .dataframe tbody tr th:only-of-type {\n",
              "        vertical-align: middle;\n",
              "    }\n",
              "\n",
              "    .dataframe tbody tr th {\n",
              "        vertical-align: top;\n",
              "    }\n",
              "\n",
              "    .dataframe thead th {\n",
              "        text-align: right;\n",
              "    }\n",
              "</style>\n",
              "<table border=\"1\" class=\"dataframe\">\n",
              "  <thead>\n",
              "    <tr style=\"text-align: right;\">\n",
              "      <th></th>\n",
              "      <th>Temp (C)</th>\n",
              "      <th>Dew Point Temp (C)</th>\n",
              "      <th>Rel Hum (%)</th>\n",
              "      <th>Wind Spd (km/h)</th>\n",
              "      <th>Visibility (km)</th>\n",
              "      <th>Stn Press (kPa)</th>\n",
              "      <th>Weather</th>\n",
              "    </tr>\n",
              "    <tr>\n",
              "      <th>Date/Time</th>\n",
              "      <th></th>\n",
              "      <th></th>\n",
              "      <th></th>\n",
              "      <th></th>\n",
              "      <th></th>\n",
              "      <th></th>\n",
              "      <th></th>\n",
              "    </tr>\n",
              "  </thead>\n",
              "  <tbody>\n",
              "    <tr>\n",
              "      <th>2012-01-01 00:00:00</th>\n",
              "      <td>-1.8</td>\n",
              "      <td>-3.9</td>\n",
              "      <td>86</td>\n",
              "      <td>4</td>\n",
              "      <td>8.0</td>\n",
              "      <td>101.24</td>\n",
              "      <td>Fog</td>\n",
              "    </tr>\n",
              "    <tr>\n",
              "      <th>2012-01-01 01:00:00</th>\n",
              "      <td>-1.8</td>\n",
              "      <td>-3.7</td>\n",
              "      <td>87</td>\n",
              "      <td>4</td>\n",
              "      <td>8.0</td>\n",
              "      <td>101.24</td>\n",
              "      <td>Fog</td>\n",
              "    </tr>\n",
              "    <tr>\n",
              "      <th>2012-01-01 02:00:00</th>\n",
              "      <td>-1.8</td>\n",
              "      <td>-3.4</td>\n",
              "      <td>89</td>\n",
              "      <td>7</td>\n",
              "      <td>4.0</td>\n",
              "      <td>101.26</td>\n",
              "      <td>Freezing Drizzle,Fog</td>\n",
              "    </tr>\n",
              "    <tr>\n",
              "      <th>2012-01-01 03:00:00</th>\n",
              "      <td>-1.5</td>\n",
              "      <td>-3.2</td>\n",
              "      <td>88</td>\n",
              "      <td>6</td>\n",
              "      <td>4.0</td>\n",
              "      <td>101.27</td>\n",
              "      <td>Freezing Drizzle,Fog</td>\n",
              "    </tr>\n",
              "    <tr>\n",
              "      <th>2012-01-01 04:00:00</th>\n",
              "      <td>-1.5</td>\n",
              "      <td>-3.3</td>\n",
              "      <td>88</td>\n",
              "      <td>7</td>\n",
              "      <td>4.8</td>\n",
              "      <td>101.23</td>\n",
              "      <td>Fog</td>\n",
              "    </tr>\n",
              "    <tr>\n",
              "      <th>...</th>\n",
              "      <td>...</td>\n",
              "      <td>...</td>\n",
              "      <td>...</td>\n",
              "      <td>...</td>\n",
              "      <td>...</td>\n",
              "      <td>...</td>\n",
              "      <td>...</td>\n",
              "    </tr>\n",
              "    <tr>\n",
              "      <th>2012-12-31 19:00:00</th>\n",
              "      <td>0.1</td>\n",
              "      <td>-2.7</td>\n",
              "      <td>81</td>\n",
              "      <td>30</td>\n",
              "      <td>9.7</td>\n",
              "      <td>100.13</td>\n",
              "      <td>Snow</td>\n",
              "    </tr>\n",
              "    <tr>\n",
              "      <th>2012-12-31 20:00:00</th>\n",
              "      <td>0.2</td>\n",
              "      <td>-2.4</td>\n",
              "      <td>83</td>\n",
              "      <td>24</td>\n",
              "      <td>9.7</td>\n",
              "      <td>100.03</td>\n",
              "      <td>Snow</td>\n",
              "    </tr>\n",
              "    <tr>\n",
              "      <th>2012-12-31 21:00:00</th>\n",
              "      <td>-0.5</td>\n",
              "      <td>-1.5</td>\n",
              "      <td>93</td>\n",
              "      <td>28</td>\n",
              "      <td>4.8</td>\n",
              "      <td>99.95</td>\n",
              "      <td>Snow</td>\n",
              "    </tr>\n",
              "    <tr>\n",
              "      <th>2012-12-31 22:00:00</th>\n",
              "      <td>-0.2</td>\n",
              "      <td>-1.8</td>\n",
              "      <td>89</td>\n",
              "      <td>28</td>\n",
              "      <td>9.7</td>\n",
              "      <td>99.91</td>\n",
              "      <td>Snow</td>\n",
              "    </tr>\n",
              "    <tr>\n",
              "      <th>2012-12-31 23:00:00</th>\n",
              "      <td>0.0</td>\n",
              "      <td>-2.1</td>\n",
              "      <td>86</td>\n",
              "      <td>30</td>\n",
              "      <td>11.3</td>\n",
              "      <td>99.89</td>\n",
              "      <td>Snow</td>\n",
              "    </tr>\n",
              "  </tbody>\n",
              "</table>\n",
              "<p>8784 rows × 7 columns</p>\n",
              "</div>"
            ],
            "text/plain": [
              "                     Temp (C)  ...               Weather\n",
              "Date/Time                      ...                      \n",
              "2012-01-01 00:00:00      -1.8  ...                   Fog\n",
              "2012-01-01 01:00:00      -1.8  ...                   Fog\n",
              "2012-01-01 02:00:00      -1.8  ...  Freezing Drizzle,Fog\n",
              "2012-01-01 03:00:00      -1.5  ...  Freezing Drizzle,Fog\n",
              "2012-01-01 04:00:00      -1.5  ...                   Fog\n",
              "...                       ...  ...                   ...\n",
              "2012-12-31 19:00:00       0.1  ...                  Snow\n",
              "2012-12-31 20:00:00       0.2  ...                  Snow\n",
              "2012-12-31 21:00:00      -0.5  ...                  Snow\n",
              "2012-12-31 22:00:00      -0.2  ...                  Snow\n",
              "2012-12-31 23:00:00       0.0  ...                  Snow\n",
              "\n",
              "[8784 rows x 7 columns]"
            ]
          },
          "metadata": {
            "tags": []
          },
          "execution_count": 102
        }
      ]
    },
    {
      "cell_type": "code",
      "metadata": {
        "id": "XddpS1s3DdU9"
      },
      "source": [
        "jan_df=weather_df[\"2012-01\"]"
      ],
      "execution_count": null,
      "outputs": []
    },
    {
      "cell_type": "code",
      "metadata": {
        "colab": {
          "base_uri": "https://localhost:8080/",
          "height": 282
        },
        "id": "Z3HMbZAxDdYn",
        "outputId": "55540487-c885-4b61-86e1-0f8fb5a27b9d"
      },
      "source": [
        "plt.scatter(x=jan_df['Temp (C)'],y=jan_df['Stn Press (kPa)'])"
      ],
      "execution_count": null,
      "outputs": [
        {
          "output_type": "execute_result",
          "data": {
            "text/plain": [
              "<matplotlib.collections.PathCollection at 0x7f8f08ad3a10>"
            ]
          },
          "metadata": {
            "tags": []
          },
          "execution_count": 108
        },
        {
          "output_type": "display_data",
          "data": {
            "image/png": "[encoded data removed]",
            "text/plain": [
              "<Figure size 432x288 with 1 Axes>"
            ]
          },
          "metadata": {
            "tags": [],
            "needs_background": "light"
          }
        }
      ]
    },
    {
      "cell_type": "code",
      "metadata": {
        "colab": {
          "base_uri": "https://localhost:8080/",
          "height": 542
        },
        "id": "Gj4qzq94Ddb-",
        "outputId": "5dd58585-3bf8-42e5-c595-3d0968b6fe42"
      },
      "source": [
        "px.scatter(jan_df,x='Temp (C)', y='Stn Press (kPa)')"
      ],
      "execution_count": null,
      "outputs": [
        {
          "output_type": "display_data",
          "data": {
            "text/html": [
              "<html>\n",
              "<head><meta charset=\"utf-8\" /></head>\n",
              "<body>\n",
              "    <div>\n",
              "            <script src=\"https://cdnjs.cloudflare.com/ajax/libs/mathjax/2.7.5/MathJax.js?config=TeX-AMS-MML_SVG\"></script><script type=\"text/javascript\">if (window.MathJax) {MathJax.Hub.Config({SVG: {font: \"STIX-Web\"}});}</script>\n",
              "                <script type=\"text/javascript\">window.PlotlyConfig = {MathJaxConfig: 'local'};</script>\n",
              "        <script src=\"https://cdn.plot.ly/plotly-latest.min.js\"></script>    \n",
              "            <div id=\"df25b498-97ac-4479-9e25-52a861a6f1bd\" class=\"plotly-graph-div\" style=\"height:525px; width:100%;\"></div>\n",
              "            <script type=\"text/javascript\">\n",
              "                \n",
              "                    window.PLOTLYENV=window.PLOTLYENV || {};\n",
              "                    \n",
              "                if (document.getElementById(\"df25b498-97ac-4479-9e25-52a861a6f1bd\")) {\n",
              "                    Plotly.newPlot(\n",
              "                        'df25b498-97ac-4479-9e25-52a861a6f1bd',\n",
              "                        [{\"hoverlabel\": {\"namelength\": 0}, \"hovertemplate\": \"Temp (C)=%{x}<br>Stn Press (kPa)=%{y}\", \"legendgroup\": \"\", \"marker\": {\"color\": \"#636efa\", \"symbol\": \"circle\"}, \"mode\": \"markers\", \"name\": \"\", \"showlegend\": false, \"type\": \"scatter\", \"x\": [-1.8, -1.8, -1.8, -1.5, -1.5, -1.4, -1.5, -1.4, -1.4, -1.3, -1.0, -0.5, -0.2, 0.2, 0.8, 1.8, 2.6, 3.0, 3.8, 3.1, 3.2, 4.0, 4.4, 5.3, 5.2, 4.6, 3.9, 3.7, 2.9, 2.6, 2.3, 2.0, 1.9, 1.8, 1.5, 2.2, 1.7, 1.1, 1.1, 0.0, -0.7, -2.1, -4.1, -4.8, -5.6, -5.8, -7.0, -7.4, -9.0, -9.7, -10.5, -11.3, -12.6, -12.9, -13.3, -14.0, -14.8, -15.0, -15.3, -14.9, -14.9, -15.1, -14.9, -14.8, -15.3, -15.8, -16.3, -16.9, -17.3, -17.0, -17.1, -17.3, -17.5, -17.9, -18.1, -18.5, -18.5, -18.6, -18.5, -18.2, -17.8, -16.8, -15.2, -14.2, -13.7, -12.4, -11.3, -10.2, -9.4, -8.9, -8.9, -8.4, -7.8, -7.6, -9.5, -9.6, -8.8, -7.5, -5.4, -5.0, -4.1, -7.0, -8.2, -7.1, -6.1, -6.6, -6.0, -5.6, -4.7, -4.4, -5.1, -4.3, -5.0, -6.7, -7.1, -9.2, -9.8, -9.0, -9.9, -9.4, -9.6, -10.0, -10.5, -10.6, -11.3, -11.8, -12.0, -14.4, -12.3, -12.5, -12.3, -12.0, -11.7, -11.9, -11.2, -11.5, -11.6, -11.2, -10.5, -10.5, -10.2, -9.5, -9.3, -9.0, -8.7, -8.5, -8.1, -7.8, -7.5, -6.9, -6.7, -7.0, -6.4, -6.1, -5.7, -5.4, -5.5, -4.8, -4.4, -3.7, -3.6, -3.1, -3.2, -3.0, -1.8, -1.3, -1.5, 0.4, 0.6, -0.6, -1.7, -3.5, -4.4, -5.9, -5.8, -5.6, -5.9, -6.4, -6.5, -7.1, -6.7, -6.5, -6.5, -6.6, -6.6, -7.2, -8.1, -8.0, -8.3, -8.3, -8.7, -9.0, -9.2, -9.8, -9.0, -8.8, -8.5, -8.4, -7.7, -6.8, -5.9, -5.4, -4.8, -3.7, -2.5, -1.7, -1.4, -1.0, -1.3, -1.4, -1.0, -1.1, -1.5, -1.7, -0.3, -0.2, 2.5, 2.3, 1.4, 1.6, 1.2, 0.8, 0.7, 1.5, 1.2, 1.6, 2.0, 2.6, 1.4, 0.7, -0.2, -1.4, -3.1, -4.0, -4.9, -5.7, -6.4, -6.6, -7.3, -8.6, -9.5, -10.7, -12.0, -12.7, -13.4, -13.9, -14.4, -14.4, -14.7, -14.3, -13.9, -13.4, -12.7, -12.2, -11.4, -11.6, -11.8, -11.9, -12.0, -11.8, -11.2, -11.2, -10.8, -10.7, -10.0, -9.8, -9.4, -9.0, -8.5, -8.0, -7.6, -7.3, -7.1, -6.8, -6.2, -6.0, -5.8, -5.8, -5.7, -5.2, -4.9, -5.1, -5.4, -5.0, -5.0, -4.7, -4.1, -4.6, -5.1, -5.0, -4.8, -4.5, -5.0, -5.1, -5.4, -5.1, -5.1, -5.0, -4.8, -4.8, -4.8, -4.9, -4.8, -4.3, -3.7, -2.9, -1.7, -2.5, -3.2, -4.8, -5.5, -7.6, -8.9, -9.7, -11.2, -12.0, -13.4, -14.3, -15.2, -16.8, -17.9, -18.0, -18.0, -17.8, -17.5, -17.1, -16.7, -16.7, -16.7, -17.4, -17.7, -18.3, -19.6, -20.0, -19.9, -20.3, -21.2, -21.1, -21.4, -20.7, -21.0, -21.3, -23.2, -22.8, -23.3, -22.2, -20.6, -19.3, -18.0, -16.8, -16.0, -15.4, -15.1, -16.2, -16.3, -16.3, -16.7, -16.9, -16.9, -16.9, -17.1, -17.8, -18.5, -19.2, -18.7, -19.1, -18.7, -17.9, -17.9, -14.4, -13.6, -12.7, -10.7, -10.1, -9.0, -8.0, -7.1, -7.6, -12.5, -14.8, -14.0, -12.9, -12.2, -11.5, -10.8, -10.4, -9.7, -9.2, -9.0, -8.3, -7.7, -7.5, -7.4, -7.0, -6.5, -6.1, -5.3, -5.1, -4.3, -3.7, -3.5, -3.6, -3.5, -3.3, -3.6, -2.9, -1.6, -0.6, 2.1, 3.7, 0.5, -3.5, -6.1, -7.7, -8.5, -9.8, -10.9, -11.2, -11.2, -11.1, -11.0, -10.6, -10.3, -10.4, -10.6, -11.3, -12.0, -12.7, -13.4, -13.7, -14.2, -14.9, -16.6, -15.2, -14.3, -18.0, -15.4, -16.6, -15.3, -14.6, -13.7, -12.7, -11.7, -11.0, -8.8, -7.3, -7.0, -6.7, -6.7, -6.9, -5.0, -3.6, -3.7, -5.0, -4.2, -4.1, -4.1, -4.1, -3.9, -4.8, -6.0, -6.3, -7.6, -8.6, -10.4, -12.2, -13.7, -14.2, -15.2, -15.8, -15.5, -15.0, -14.8, -15.4, -15.9, -16.3, -16.9, -18.5, -18.1, -17.4, -16.4, -16.1, -15.3, -15.9, -15.3, -14.8, -14.3, -13.9, -14.0, -15.9, -16.3, -15.9, -14.6, -13.4, -12.5, -11.8, -11.6, -12.1, -13.0, -13.4, -18.5, -16.0, -17.6, -17.4, -18.3, -17.5, -18.5, -18.4, -17.2, -19.5, -19.0, -18.6, -18.5, -16.2, -14.5, -13.0, -11.5, -11.2, -9.4, -8.7, -8.0, -9.5, -10.4, -10.4, -12.3, -12.9, -13.2, -13.3, -12.9, -12.9, -13.2, -12.1, -11.2, -9.9, -8.8, -8.1, -7.2, -4.9, -3.6, 1.2, 2.3, 2.5, 2.7, 2.7, 3.1, 3.1, 3.0, 3.2, 2.9, 3.3, 3.6, 4.0, 3.5, 3.1, 3.1, 5.0, 4.2, 3.7, 3.4, 2.9, 3.0, 2.9, 3.0, 3.1, 3.2, 2.8, 2.4, 1.9, 1.7, 1.6, 1.5, 1.5, 1.3, 1.1, 1.1, 1.0, 0.5, -0.1, -0.4, -0.5, -0.7, -1.7, -2.8, -3.9, -4.7, -5.2, -5.3, -5.3, -5.0, -4.7, -4.5, -4.4, -4.4, -4.8, -5.1, -5.4, -4.9, -5.4, -5.5, -5.4, -5.9, -7.0, -8.2, -8.1, -8.5, -9.0, -11.2, -10.6, -9.2, -7.9, -5.7, -5.0, -4.6, -4.0, -3.4, -3.0, -3.8, -4.3, -4.7, -4.5, -4.6, -5.2, -5.3, -5.8, -5.7, -5.5, -5.5, -5.3, -4.9, -4.0, -2.1, -0.8, 0.3, 0.7, 0.6, 0.7, 0.7, 0.7, 0.5, 0.3, -0.3, -0.6, -0.3, 0.1, -0.7, -1.3, -1.5, -1.6, -1.5, -0.2, 0.2, 0.4, 0.1, 0.3, -1.7, -1.2, -2.1, -1.6, -1.1, -0.6, -0.3, 0.9, 1.2, 1.2, 1.4, 1.2, 1.6, 2.2, 1.7, 2.1, 2.3, 1.2, 1.5, 0.9, 0.3, -0.2, -0.9, -1.5, -2.0, -1.9, -2.2, -2.1, -1.8, -0.8, 0.1, 0.5, 0.4, 0.2, 0.7, -0.7, -1.1, -1.6, -2.0, -1.7, -2.3, -3.4, -3.7, -4.4, -5.1, -6.1, -7.7, -7.9, -8.9, -9.8, -10.5, -9.5, -8.8, -7.7, -7.0, -7.5, -6.7, -6.9, -7.3, -7.4, -7.4, -8.8, -9.5, -8.4, -7.8, -8.6, -7.0, -7.1, -6.5, -6.8, -7.1, -7.1, -7.0, -9.6, -9.8, -10.1, -9.7, -9.3, -8.6, -8.3, -8.4, -8.2, -8.0, -7.7, -7.8, -7.7, -7.4, -7.1, -7.1, -6.8], \"xaxis\": \"x\", \"y\": [101.24, 101.24, 101.26, 101.27, 101.23, 101.27, 101.29, 101.26, 101.23, 101.2, 101.15, 100.98, 100.79, 100.58, 100.31, 100.07, 99.93, 99.81, 99.74, 99.68, 99.5, 99.39, 99.32, 99.31, 99.26, 99.26, 99.26, 99.3, 99.26, 99.21, 99.18, 99.14, 99.14, 99.14, 99.18, 99.19, 99.21, 99.27, 99.33, 99.41, 99.5, 99.66, 99.86, 100.0, 100.07, 100.15, 100.26, 100.27, 100.35, 100.43, 100.53, 100.61, 100.68, 100.76, 100.85, 100.95, 101.07, 101.2, 101.29, 101.33, 101.34, 101.34, 101.38, 101.44, 101.51, 101.58, 101.64, 101.74, 101.82, 101.86, 101.86, 101.87, 101.88, 101.86, 101.89, 101.88, 101.82, 101.77, 101.74, 101.75, 101.73, 101.68, 101.54, 101.41, 101.25, 101.07, 100.97, 100.89, 100.79, 100.76, 100.69, 100.65, 100.61, 100.54, 100.5, 100.42, 100.32, 100.29, 100.28, 100.24, 100.21, 100.19, 100.26, 100.31, 100.39, 100.42, 100.45, 100.41, 100.38, 100.4, 100.46, 100.52, 100.6, 100.65, 100.71, 100.8, 100.83, 100.83, 100.85, 100.83, 100.81, 100.81, 100.84, 100.76, 100.7, 100.61, 100.58, 100.52, 100.51, 100.53, 100.47, 100.36, 100.23, 100.13, 100.07, 100.06, 100.1, 100.15, 100.12, 100.13, 100.15, 100.13, 100.16, 100.15, 100.13, 100.11, 100.15, 100.12, 100.1, 100.12, 100.12, 100.16, 100.1, 100.15, 100.13, 100.08, 100.05, 100.07, 100.09, 100.09, 100.15, 100.27, 100.33, 100.41, 100.48, 100.5, 100.54, 100.62, 100.72, 100.8, 100.98, 101.13, 101.21, 101.33, 101.47, 101.59, 101.7, 101.81, 101.89, 101.92, 101.9, 101.94, 101.97, 102.04, 102.09, 102.17, 102.23, 102.26, 102.28, 102.26, 102.22, 102.22, 102.17, 102.13, 102.15, 102.11, 102.02, 101.93, 101.86, 101.8, 101.74, 101.68, 101.64, 101.54, 101.4, 101.27, 101.2, 101.13, 101.05, 100.96, 100.9, 100.83, 100.77, 100.64, 100.54, 100.45, 100.38, 100.28, 100.23, 100.16, 100.07, 100.02, 100.04, 100.08, 100.11, 100.23, 100.27, 100.29, 100.32, 100.36, 100.45, 100.65, 100.81, 100.91, 101.04, 101.15, 101.24, 101.32, 101.34, 101.44, 101.43, 101.49, 101.57, 101.64, 101.66, 101.66, 101.72, 101.77, 101.8, 101.81, 101.89, 101.78, 101.68, 101.63, 101.56, 101.61, 101.6, 101.56, 101.51, 101.43, 101.4, 101.32, 101.29, 101.19, 101.17, 101.13, 101.08, 101.02, 100.93, 100.81, 100.76, 100.69, 100.61, 100.54, 100.46, 100.35, 100.22, 100.09, 99.97, 99.9, 99.88, 99.83, 99.76, 99.72, 99.64, 99.56, 99.47, 99.4, 99.3, 99.24, 99.22, 99.19, 99.13, 99.06, 98.94, 98.84, 98.69, 98.56, 98.44, 98.22, 98.07, 97.99, 98.07, 98.1, 98.16, 98.23, 98.32, 98.6, 98.89, 99.09, 99.28, 99.51, 99.67, 99.85, 100.01, 100.16, 100.26, 100.39, 100.6, 100.73, 100.84, 100.97, 101.08, 101.14, 101.16, 101.18, 101.2, 101.24, 101.3, 101.36, 101.46, 101.56, 101.62, 101.65, 101.74, 101.79, 101.81, 101.86, 101.99, 102.04, 102.12, 102.19, 102.28, 102.37, 102.45, 102.57, 102.66, 102.68, 102.67, 102.65, 102.66, 102.71, 102.79, 102.85, 102.89, 102.94, 102.98, 103.02, 103.07, 103.09, 103.09, 103.05, 103.08, 103.07, 103.05, 103.02, 103.01, 102.96, 102.9, 102.75, 102.62, 102.44, 102.17, 101.92, 101.71, 101.49, 101.41, 101.34, 101.31, 101.23, 101.19, 101.12, 101.05, 100.98, 100.94, 100.88, 100.84, 100.84, 100.8, 100.75, 100.72, 100.69, 100.65, 100.59, 100.6, 100.53, 100.38, 100.23, 100.05, 99.9, 99.69, 99.57, 99.38, 99.22, 98.98, 98.71, 98.47, 98.32, 98.31, 98.36, 98.62, 99.0, 99.36, 99.7, 100.0, 100.22, 100.43, 100.65, 100.78, 100.92, 101.0, 101.09, 101.19, 101.32, 101.45, 101.54, 101.67, 101.78, 101.83, 101.89, 101.92, 101.93, 101.94, 101.89, 101.86, 101.83, 101.81, 101.85, 101.83, 101.84, 101.84, 101.73, 101.68, 101.56, 101.42, 101.22, 101.03, 100.88, 100.76, 100.7, 100.66, 100.61, 100.63, 100.6, 100.51, 100.47, 100.5, 100.54, 100.64, 100.75, 100.87, 100.98, 101.13, 101.27, 101.47, 101.59, 101.72, 101.84, 101.88, 101.96, 101.98, 102.09, 102.15, 102.21, 102.27, 102.33, 102.34, 102.37, 102.36, 102.37, 102.29, 102.26, 102.27, 102.23, 102.18, 102.08, 101.98, 102.04, 102.06, 102.11, 102.12, 102.09, 102.03, 102.01, 102.01, 102.06, 102.11, 102.16, 102.24, 102.27, 102.36, 102.47, 102.52, 102.54, 102.57, 102.64, 102.71, 102.75, 102.79, 102.84, 102.85, 102.91, 102.98, 103.01, 103.02, 103.04, 102.97, 102.86, 102.74, 102.65, 102.6, 102.57, 102.52, 102.47, 102.44, 102.38, 102.33, 102.28, 102.22, 102.14, 102.1, 101.99, 101.88, 101.79, 101.76, 101.67, 101.69, 101.59, 101.58, 101.49, 101.33, 101.14, 101.01, 100.86, 100.71, 100.61, 100.54, 100.43, 100.32, 100.22, 100.1, 100.08, 100.04, 100.04, 100.09, 100.19, 100.25, 100.37, 100.45, 100.49, 100.52, 100.6, 100.65, 100.7, 100.72, 100.73, 100.75, 100.8, 100.82, 100.88, 100.95, 101.01, 101.06, 101.11, 101.13, 101.16, 101.2, 101.26, 101.37, 101.45, 101.52, 101.58, 101.66, 101.79, 101.94, 102.05, 102.09, 102.14, 102.06, 102.01, 101.98, 101.94, 101.96, 102.01, 102.07, 102.14, 102.07, 102.01, 101.99, 102.01, 101.99, 101.95, 101.99, 101.97, 101.95, 102.02, 102.06, 102.01, 102.08, 102.01, 102.04, 102.05, 101.88, 101.71, 101.6, 101.53, 101.52, 101.4, 101.28, 101.25, 101.15, 100.99, 100.92, 100.81, 100.68, 100.58, 100.47, 100.33, 100.13, 99.98, 99.8, 99.61, 99.47, 99.34, 99.18, 99.08, 98.91, 98.76, 98.69, 98.65, 98.74, 98.97, 99.13, 99.31, 99.54, 99.75, 99.88, 100.03, 100.19, 100.34, 100.49, 100.59, 100.64, 100.72, 100.79, 100.85, 100.91, 100.93, 100.94, 100.9, 100.74, 100.58, 100.48, 100.28, 100.14, 100.16, 100.08, 100.09, 100.05, 99.95, 99.85, 99.87, 99.96, 100.09, 100.21, 100.34, 100.47, 100.59, 100.68, 100.74, 100.81, 100.88, 100.87, 100.84, 100.77, 100.7, 100.63, 100.65, 100.67, 100.74, 100.77, 100.81, 100.83, 100.85, 100.84, 100.85, 100.89, 100.92, 100.99, 101.07, 101.19, 101.33, 101.47, 101.55, 101.68, 101.75, 101.82, 101.86, 101.83, 101.8, 101.81, 101.83, 101.86, 101.9, 101.94, 101.96, 101.95, 101.96, 101.98, 101.96, 101.92, 101.88, 101.81, 101.76, 101.71, 101.7, 101.65, 101.6, 101.61, 101.59, 101.54, 101.46, 101.36, 101.29, 101.23, 101.22, 101.2, 101.19, 101.18, 101.14, 101.09, 101.02, 100.95, 100.86], \"yaxis\": \"y\"}],\n",
              "                        {\"legend\": {\"tracegroupgap\": 0}, \"margin\": {\"t\": 60}, \"template\": {\"data\": {\"bar\": [{\"error_x\": {\"color\": \"#2a3f5f\"}, \"error_y\": {\"color\": \"#2a3f5f\"}, \"marker\": {\"line\": {\"color\": \"#E5ECF6\", \"width\": 0.5}}, \"type\": \"bar\"}], \"barpolar\": [{\"marker\": {\"line\": {\"color\": \"#E5ECF6\", \"width\": 0.5}}, \"type\": \"barpolar\"}], \"carpet\": [{\"aaxis\": {\"endlinecolor\": \"#2a3f5f\", \"gridcolor\": \"white\", \"linecolor\": \"white\", \"minorgridcolor\": \"white\", \"startlinecolor\": \"#2a3f5f\"}, \"baxis\": {\"endlinecolor\": \"#2a3f5f\", \"gridcolor\": \"white\", \"linecolor\": \"white\", \"minorgridcolor\": \"white\", \"startlinecolor\": \"#2a3f5f\"}, \"type\": \"carpet\"}], \"choropleth\": [{\"colorbar\": {\"outlinewidth\": 0, \"ticks\": \"\"}, \"type\": \"choropleth\"}], \"contour\": [{\"colorbar\": {\"outlinewidth\": 0, \"ticks\": \"\"}, \"colorscale\": [[0.0, \"#0d0887\"], [0.1111111111111111, \"#46039f\"], [0.2222222222222222, \"#7201a8\"], [0.3333333333333333, \"#9c179e\"], [0.4444444444444444, \"#bd3786\"], [0.5555555555555556, \"#d8576b\"], [0.6666666666666666, \"#ed7953\"], [0.7777777777777778, \"#fb9f3a\"], [0.8888888888888888, \"#fdca26\"], [1.0, \"#f0f921\"]], \"type\": \"contour\"}], \"contourcarpet\": [{\"colorbar\": {\"outlinewidth\": 0, \"ticks\": \"\"}, \"type\": \"contourcarpet\"}], \"heatmap\": [{\"colorbar\": {\"outlinewidth\": 0, \"ticks\": \"\"}, \"colorscale\": [[0.0, \"#0d0887\"], [0.1111111111111111, \"#46039f\"], [0.2222222222222222, \"#7201a8\"], [0.3333333333333333, \"#9c179e\"], [0.4444444444444444, \"#bd3786\"], [0.5555555555555556, \"#d8576b\"], [0.6666666666666666, \"#ed7953\"], [0.7777777777777778, \"#fb9f3a\"], [0.8888888888888888, \"#fdca26\"], [1.0, \"#f0f921\"]], \"type\": \"heatmap\"}], \"heatmapgl\": [{\"colorbar\": {\"outlinewidth\": 0, \"ticks\": \"\"}, \"colorscale\": [[0.0, \"#0d0887\"], [0.1111111111111111, \"#46039f\"], [0.2222222222222222, \"#7201a8\"], [0.3333333333333333, \"#9c179e\"], [0.4444444444444444, \"#bd3786\"], [0.5555555555555556, \"#d8576b\"], [0.6666666666666666, \"#ed7953\"], [0.7777777777777778, \"#fb9f3a\"], [0.8888888888888888, \"#fdca26\"], [1.0, \"#f0f921\"]], \"type\": \"heatmapgl\"}], \"histogram\": [{\"marker\": {\"colorbar\": {\"outlinewidth\": 0, \"ticks\": \"\"}}, \"type\": \"histogram\"}], \"histogram2d\": [{\"colorbar\": {\"outlinewidth\": 0, \"ticks\": \"\"}, \"colorscale\": [[0.0, \"#0d0887\"], [0.1111111111111111, \"#46039f\"], [0.2222222222222222, \"#7201a8\"], [0.3333333333333333, \"#9c179e\"], [0.4444444444444444, \"#bd3786\"], [0.5555555555555556, \"#d8576b\"], [0.6666666666666666, \"#ed7953\"], [0.7777777777777778, \"#fb9f3a\"], [0.8888888888888888, \"#fdca26\"], [1.0, \"#f0f921\"]], \"type\": \"histogram2d\"}], \"histogram2dcontour\": [{\"colorbar\": {\"outlinewidth\": 0, \"ticks\": \"\"}, \"colorscale\": [[0.0, \"#0d0887\"], [0.1111111111111111, \"#46039f\"], [0.2222222222222222, \"#7201a8\"], [0.3333333333333333, \"#9c179e\"], [0.4444444444444444, \"#bd3786\"], [0.5555555555555556, \"#d8576b\"], [0.6666666666666666, \"#ed7953\"], [0.7777777777777778, \"#fb9f3a\"], [0.8888888888888888, \"#fdca26\"], [1.0, \"#f0f921\"]], \"type\": \"histogram2dcontour\"}], \"mesh3d\": [{\"colorbar\": {\"outlinewidth\": 0, \"ticks\": \"\"}, \"type\": \"mesh3d\"}], \"parcoords\": [{\"line\": {\"colorbar\": {\"outlinewidth\": 0, \"ticks\": \"\"}}, \"type\": \"parcoords\"}], \"pie\": [{\"automargin\": true, \"type\": \"pie\"}], \"scatter\": [{\"marker\": {\"colorbar\": {\"outlinewidth\": 0, \"ticks\": \"\"}}, \"type\": \"scatter\"}], \"scatter3d\": [{\"line\": {\"colorbar\": {\"outlinewidth\": 0, \"ticks\": \"\"}}, \"marker\": {\"colorbar\": {\"outlinewidth\": 0, \"ticks\": \"\"}}, \"type\": \"scatter3d\"}], \"scattercarpet\": [{\"marker\": {\"colorbar\": {\"outlinewidth\": 0, \"ticks\": \"\"}}, \"type\": \"scattercarpet\"}], \"scattergeo\": [{\"marker\": {\"colorbar\": {\"outlinewidth\": 0, \"ticks\": \"\"}}, \"type\": \"scattergeo\"}], \"scattergl\": [{\"marker\": {\"colorbar\": {\"outlinewidth\": 0, \"ticks\": \"\"}}, \"type\": \"scattergl\"}], \"scattermapbox\": [{\"marker\": {\"colorbar\": {\"outlinewidth\": 0, \"ticks\": \"\"}}, \"type\": \"scattermapbox\"}], \"scatterpolar\": [{\"marker\": {\"colorbar\": {\"outlinewidth\": 0, \"ticks\": \"\"}}, \"type\": \"scatterpolar\"}], \"scatterpolargl\": [{\"marker\": {\"colorbar\": {\"outlinewidth\": 0, \"ticks\": \"\"}}, \"type\": \"scatterpolargl\"}], \"scatterternary\": [{\"marker\": {\"colorbar\": {\"outlinewidth\": 0, \"ticks\": \"\"}}, \"type\": \"scatterternary\"}], \"surface\": [{\"colorbar\": {\"outlinewidth\": 0, \"ticks\": \"\"}, \"colorscale\": [[0.0, \"#0d0887\"], [0.1111111111111111, \"#46039f\"], [0.2222222222222222, \"#7201a8\"], [0.3333333333333333, \"#9c179e\"], [0.4444444444444444, \"#bd3786\"], [0.5555555555555556, \"#d8576b\"], [0.6666666666666666, \"#ed7953\"], [0.7777777777777778, \"#fb9f3a\"], [0.8888888888888888, \"#fdca26\"], [1.0, \"#f0f921\"]], \"type\": \"surface\"}], \"table\": [{\"cells\": {\"fill\": {\"color\": \"#EBF0F8\"}, \"line\": {\"color\": \"white\"}}, \"header\": {\"fill\": {\"color\": \"#C8D4E3\"}, \"line\": {\"color\": \"white\"}}, \"type\": \"table\"}]}, \"layout\": {\"annotationdefaults\": {\"arrowcolor\": \"#2a3f5f\", \"arrowhead\": 0, \"arrowwidth\": 1}, \"coloraxis\": {\"colorbar\": {\"outlinewidth\": 0, \"ticks\": \"\"}}, \"colorscale\": {\"diverging\": [[0, \"#8e0152\"], [0.1, \"#c51b7d\"], [0.2, \"#de77ae\"], [0.3, \"#f1b6da\"], [0.4, \"#fde0ef\"], [0.5, \"#f7f7f7\"], [0.6, \"#e6f5d0\"], [0.7, \"#b8e186\"], [0.8, \"#7fbc41\"], [0.9, \"#4d9221\"], [1, \"#276419\"]], \"sequential\": [[0.0, \"#0d0887\"], [0.1111111111111111, \"#46039f\"], [0.2222222222222222, \"#7201a8\"], [0.3333333333333333, \"#9c179e\"], [0.4444444444444444, \"#bd3786\"], [0.5555555555555556, \"#d8576b\"], [0.6666666666666666, \"#ed7953\"], [0.7777777777777778, \"#fb9f3a\"], [0.8888888888888888, \"#fdca26\"], [1.0, \"#f0f921\"]], \"sequentialminus\": [[0.0, \"#0d0887\"], [0.1111111111111111, \"#46039f\"], [0.2222222222222222, \"#7201a8\"], [0.3333333333333333, \"#9c179e\"], [0.4444444444444444, \"#bd3786\"], [0.5555555555555556, \"#d8576b\"], [0.6666666666666666, \"#ed7953\"], [0.7777777777777778, \"#fb9f3a\"], [0.8888888888888888, \"#fdca26\"], [1.0, \"#f0f921\"]]}, \"colorway\": [\"#636efa\", \"#EF553B\", \"#00cc96\", \"#ab63fa\", \"#FFA15A\", \"#19d3f3\", \"#FF6692\", \"#B6E880\", \"#FF97FF\", \"#FECB52\"], \"font\": {\"color\": \"#2a3f5f\"}, \"geo\": {\"bgcolor\": \"white\", \"lakecolor\": \"white\", \"landcolor\": \"#E5ECF6\", \"showlakes\": true, \"showland\": true, \"subunitcolor\": \"white\"}, \"hoverlabel\": {\"align\": \"left\"}, \"hovermode\": \"closest\", \"mapbox\": {\"style\": \"light\"}, \"paper_bgcolor\": \"white\", \"plot_bgcolor\": \"#E5ECF6\", \"polar\": {\"angularaxis\": {\"gridcolor\": \"white\", \"linecolor\": \"white\", \"ticks\": \"\"}, \"bgcolor\": \"#E5ECF6\", \"radialaxis\": {\"gridcolor\": \"white\", \"linecolor\": \"white\", \"ticks\": \"\"}}, \"scene\": {\"xaxis\": {\"backgroundcolor\": \"#E5ECF6\", \"gridcolor\": \"white\", \"gridwidth\": 2, \"linecolor\": \"white\", \"showbackground\": true, \"ticks\": \"\", \"zerolinecolor\": \"white\"}, \"yaxis\": {\"backgroundcolor\": \"#E5ECF6\", \"gridcolor\": \"white\", \"gridwidth\": 2, \"linecolor\": \"white\", \"showbackground\": true, \"ticks\": \"\", \"zerolinecolor\": \"white\"}, \"zaxis\": {\"backgroundcolor\": \"#E5ECF6\", \"gridcolor\": \"white\", \"gridwidth\": 2, \"linecolor\": \"white\", \"showbackground\": true, \"ticks\": \"\", \"zerolinecolor\": \"white\"}}, \"shapedefaults\": {\"line\": {\"color\": \"#2a3f5f\"}}, \"ternary\": {\"aaxis\": {\"gridcolor\": \"white\", \"linecolor\": \"white\", \"ticks\": \"\"}, \"baxis\": {\"gridcolor\": \"white\", \"linecolor\": \"white\", \"ticks\": \"\"}, \"bgcolor\": \"#E5ECF6\", \"caxis\": {\"gridcolor\": \"white\", \"linecolor\": \"white\", \"ticks\": \"\"}}, \"title\": {\"x\": 0.05}, \"xaxis\": {\"automargin\": true, \"gridcolor\": \"white\", \"linecolor\": \"white\", \"ticks\": \"\", \"title\": {\"standoff\": 15}, \"zerolinecolor\": \"white\", \"zerolinewidth\": 2}, \"yaxis\": {\"automargin\": true, \"gridcolor\": \"white\", \"linecolor\": \"white\", \"ticks\": \"\", \"title\": {\"standoff\": 15}, \"zerolinecolor\": \"white\", \"zerolinewidth\": 2}}}, \"xaxis\": {\"anchor\": \"y\", \"domain\": [0.0, 1.0], \"title\": {\"text\": \"Temp (C)\"}}, \"yaxis\": {\"anchor\": \"x\", \"domain\": [0.0, 1.0], \"title\": {\"text\": \"Stn Press (kPa)\"}}},\n",
              "                        {\"responsive\": true}\n",
              "                    ).then(function(){\n",
              "                            \n",
              "var gd = document.getElementById('df25b498-97ac-4479-9e25-52a861a6f1bd');\n",
              "var x = new MutationObserver(function (mutations, observer) {{\n",
              "        var display = window.getComputedStyle(gd).display;\n",
              "        if (!display || display === 'none') {{\n",
              "            console.log([gd, 'removed!']);\n",
              "            Plotly.purge(gd);\n",
              "            observer.disconnect();\n",
              "        }}\n",
              "}});\n",
              "\n",
              "// Listen for the removal of the full notebook cells\n",
              "var notebookContainer = gd.closest('#notebook-container');\n",
              "if (notebookContainer) {{\n",
              "    x.observe(notebookContainer, {childList: true});\n",
              "}}\n",
              "\n",
              "// Listen for the clearing of the current output cell\n",
              "var outputEl = gd.closest('.output');\n",
              "if (outputEl) {{\n",
              "    x.observe(outputEl, {childList: true});\n",
              "}}\n",
              "\n",
              "                        })\n",
              "                };\n",
              "                \n",
              "            </script>\n",
              "        </div>\n",
              "</body>\n",
              "</html>"
            ]
          },
          "metadata": {
            "tags": []
          }
        }
      ]
    },
    {
      "cell_type": "markdown",
      "metadata": {
        "id": "iAHRt9eTf9si"
      },
      "source": [
        "<img src=\"https://github.com/commit-live-students/GLabs_DSMP_Solutions/blob/master/01_Python_Data_Science_Toolkit/06_Data_Visualization_with_Matplotlib/Exercise/images/icon/Technical-Stuff.png?raw=1\" alt=\"Concept-Alert\" style=\"width: 100px;float:left; margin-right:15px\"/>\n",
        "<br /> \n",
        "\n",
        "# Plot Customizations\n",
        "***\n",
        "\n",
        "Matplotlib being a low level library, provides a lot of ways to customize your plots."
      ]
    },
    {
      "cell_type": "markdown",
      "metadata": {
        "id": "LGcu3O4af9sk"
      },
      "source": [
        "Some examples include:\n",
        "- Configuring the line (color, width, ticks, etc)\n",
        "- Configuring the axes (setting limits, layout, etc.)\n",
        "- Figure and Sub Plots: Multiple plots on one canvas\n",
        "- Configuring the figure size\n",
        "- Adding legends, etc."
      ]
    },
    {
      "cell_type": "markdown",
      "metadata": {
        "id": "Ckffcl9Kf9sl"
      },
      "source": [
        "<img src=\"https://github.com/commit-live-students/GLabs_DSMP_Solutions/blob/master/01_Python_Data_Science_Toolkit/06_Data_Visualization_with_Matplotlib/Exercise/images/icon/ppt-icons.png?raw=1\" alt=\"Concept-Alert\" style=\"width: 100px;float:left; margin-right:15px\"/>\n",
        "<br /> \n",
        "\n",
        "##  Home Work \n",
        "***\n",
        "### Instructions\n",
        "* Create a figure with four subplots, and plot `y = x ** 2` on the first and last plots\n",
        "* Make the color red in the first subplot, and a green dashed line in the last"
      ]
    },
    {
      "cell_type": "code",
      "metadata": {
        "id": "AELZ_6Kqf9sn",
        "colab": {
          "base_uri": "https://localhost:8080/",
          "height": 269
        },
        "outputId": "e3abef37-3c0e-4580-e28e-09e6dd46d1eb"
      },
      "source": [],
      "execution_count": null,
      "outputs": [
        {
          "output_type": "display_data",
          "data": {
            "image/png": "[encoded data removed]",
            "text/plain": [
              "<Figure size 432x288 with 4 Axes>"
            ]
          },
          "metadata": {
            "tags": [],
            "needs_background": "light"
          }
        }
      ]
    },
    {
      "cell_type": "code",
      "metadata": {
        "id": "Uj75nM5bDi12"
      },
      "source": [],
      "execution_count": null,
      "outputs": []
    },
    {
      "cell_type": "code",
      "metadata": {
        "id": "HW2PrX2yDjQh"
      },
      "source": [],
      "execution_count": null,
      "outputs": []
    },
    {
      "cell_type": "markdown",
      "metadata": {
        "id": "x3wcbTZqf9su"
      },
      "source": [
        "# Further Reading\n",
        "***\n",
        "\n",
        "- Matplotlib documentation: https://matplotlib.org/\n",
        "- Seaborn documentation: https://seaborn.pydata.org/"
      ]
    },
    {
      "cell_type": "markdown",
      "metadata": {
        "id": "MRj6h7uff9sv"
      },
      "source": [
        "# Thank You\n",
        "***\n",
        "\n"
      ]
    },
    {
      "cell_type": "code",
      "metadata": {
        "id": "I6ybgdusE0za"
      },
      "source": [],
      "execution_count": null,
      "outputs": []
    }
  ]
}